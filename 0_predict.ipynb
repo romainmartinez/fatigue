{
 "cells": [
  {
   "cell_type": "markdown",
   "metadata": {
    "toc": true
   },
   "source": [
    "<h1>Table of Contents<span class=\"tocSkip\"></span></h1>\n",
    "<div class=\"toc\"><ul class=\"toc-item\"><li><span><a href=\"#Todos\" data-toc-modified-id=\"Todos-1\">Todos</a></span></li><li><span><a href=\"#1.-Setup\" data-toc-modified-id=\"1.-Setup-2\">1. Setup</a></span></li><li><span><a href=\"#2.-Get-data\" data-toc-modified-id=\"2.-Get-data-3\">2. Get data</a></span><ul class=\"toc-item\"><li><span><a href=\"#2.A.-Create-feature-matrix\" data-toc-modified-id=\"2.A.-Create-feature-matrix-3.1\">2.A. Create feature matrix</a></span></li><li><span><a href=\"#2.B.-Create-label-vector\" data-toc-modified-id=\"2.B.-Create-label-vector-3.2\">2.B. Create label vector</a></span></li><li><span><a href=\"#2.C.-Create-report\" data-toc-modified-id=\"2.C.-Create-report-3.3\">2.C. Create report</a></span></li><li><span><a href=\"#2.D.-Split-data-&amp;-shuffle\" data-toc-modified-id=\"2.D.-Split-data-&amp;-shuffle-3.4\">2.D. Split data &amp; shuffle</a></span></li></ul></li><li><span><a href=\"#2.-Pipeline\" data-toc-modified-id=\"2.-Pipeline-4\">2. Pipeline</a></span><ul class=\"toc-item\"><li><span><a href=\"#2.A.-Metrics-wrap-up\" data-toc-modified-id=\"2.A.-Metrics-wrap-up-4.1\">2.A. Metrics wrap up</a></span><ul class=\"toc-item\"><li><span><a href=\"#2.A.1.-Confusion-matrix-metrics\" data-toc-modified-id=\"2.A.1.-Confusion-matrix-metrics-4.1.1\">2.A.1. Confusion matrix metrics</a></span><ul class=\"toc-item\"><li><span><a href=\"#True-negative-(TN)\" data-toc-modified-id=\"True-negative-(TN)-4.1.1.1\">True negative (TN)</a></span></li><li><span><a href=\"#False-negative-(FN)\" data-toc-modified-id=\"False-negative-(FN)-4.1.1.2\">False negative (FN)</a></span></li><li><span><a href=\"#True-positive-(TP)\" data-toc-modified-id=\"True-positive-(TP)-4.1.1.3\">True positive (TP)</a></span></li><li><span><a href=\"#False-positive-(FP)\" data-toc-modified-id=\"False-positive-(FP)-4.1.1.4\">False positive (FP)</a></span></li></ul></li><li><span><a href=\"#2.A.2.-Metrics\" data-toc-modified-id=\"2.A.2.-Metrics-4.1.2\">2.A.2. Metrics</a></span><ul class=\"toc-item\"><li><span><a href=\"#Precision\" data-toc-modified-id=\"Precision-4.1.2.1\">Precision</a></span></li><li><span><a href=\"#Recall-or-True-Positive-Rate-(TPR)\" data-toc-modified-id=\"Recall-or-True-Positive-Rate-(TPR)-4.1.2.2\">Recall or True Positive Rate (TPR)</a></span></li><li><span><a href=\"#False-Positive-Rate-(FPR)\" data-toc-modified-id=\"False-Positive-Rate-(FPR)-4.1.2.3\">False Positive Rate (FPR)</a></span></li><li><span><a href=\"#Receiver-Operating-Characteristic-curve-(ROC)\" data-toc-modified-id=\"Receiver-Operating-Characteristic-curve-(ROC)-4.1.2.4\">Receiver Operating Characteristic curve (ROC)</a></span></li><li><span><a href=\"#In-our-case\" data-toc-modified-id=\"In-our-case-4.1.2.5\">In our case</a></span></li></ul></li></ul></li><li><span><a href=\"#2.B.-Pipeline-creation\" data-toc-modified-id=\"2.B.-Pipeline-creation-4.2\">2.B. Pipeline creation</a></span></li></ul></li><li><span><a href=\"#4.-Optimization\" data-toc-modified-id=\"4.-Optimization-5\">4. Optimization</a></span><ul class=\"toc-item\"><li><span><a href=\"#4.A.-Gradient-boosting\" data-toc-modified-id=\"4.A.-Gradient-boosting-5.1\">4.A. Gradient boosting</a></span></li><li><span><a href=\"#4.B.-XGBoost\" data-toc-modified-id=\"4.B.-XGBoost-5.2\">4.B. XGBoost</a></span></li></ul></li><li><span><a href=\"#5.-Evaluation\" data-toc-modified-id=\"5.-Evaluation-6\">5. Evaluation</a></span><ul class=\"toc-item\"><li><span><a href=\"#5.A.-Learning-curves\" data-toc-modified-id=\"5.A.-Learning-curves-6.1\">5.A. Learning curves</a></span></li><li><span><a href=\"#5.B-Confusion-matrix\" data-toc-modified-id=\"5.B-Confusion-matrix-6.2\">5.B Confusion matrix</a></span></li><li><span><a href=\"#5.C-Precision-recall-vs-threshold\" data-toc-modified-id=\"5.C-Precision-recall-vs-threshold-6.3\">5.C Precision-recall vs threshold</a></span></li><li><span><a href=\"#import-matplotlib.pyplot-as-plt\" data-toc-modified-id=\"import-matplotlib.pyplot-as-plt-6.4\">import matplotlib.pyplot as plt</a></span></li><li><span><a href=\"#5.D.-ROC-curves\" data-toc-modified-id=\"5.D.-ROC-curves-6.5\">5.D. ROC curves</a></span></li><li><span><a href=\"#5.C.-Classification-scalar-metrics\" data-toc-modified-id=\"5.C.-Classification-scalar-metrics-6.6\">5.C. Classification scalar metrics</a></span></li><li><span><a href=\"#5.D-Feature-importances\" data-toc-modified-id=\"5.D-Feature-importances-6.7\">5.D Feature importances</a></span></li></ul></li><li><span><a href=\"#6.-Summary\" data-toc-modified-id=\"6.-Summary-7\">6. Summary</a></span></li></ul></div>"
   ]
  },
  {
   "cell_type": "markdown",
   "metadata": {},
   "source": [
    "# Project Fatigue\n",
    "- GitHub [link](https://github.com/romainmartinez/fatigue)"
   ]
  },
  {
   "cell_type": "markdown",
   "metadata": {},
   "source": [
    "## Todos\n",
    "- keras/tensorflow: [link](https://medium.com/@williamkoehrsen/deep-neural-network-classifier-32c12ff46b6c)\n",
    "- model optimization\n",
    "- viz xgboost\n",
    "- add sex in pipeline\n",
    "- report html\n",
    "- feature importance\n",
    "- learning curves"
   ]
  },
  {
   "cell_type": "markdown",
   "metadata": {},
   "source": [
    "## 1. Setup"
   ]
  },
  {
   "cell_type": "code",
   "execution_count": 1,
   "metadata": {
    "run_control": {
     "marked": false
    }
   },
   "outputs": [
    {
     "data": {
      "text/html": [
       "<script>requirejs.config({paths: { 'plotly': ['https://cdn.plot.ly/plotly-latest.min']},});if(!window.Plotly) {{require(['plotly'],function(plotly) {window.Plotly=plotly;});}}</script>"
      ],
      "text/vnd.plotly.v1+html": [
       "<script>requirejs.config({paths: { 'plotly': ['https://cdn.plot.ly/plotly-latest.min']},});if(!window.Plotly) {{require(['plotly'],function(plotly) {window.Plotly=plotly;});}}</script>"
      ]
     },
     "metadata": {},
     "output_type": "display_data"
    }
   ],
   "source": [
    "# Common imports\n",
    "import scipy.io as sio\n",
    "import numpy as np\n",
    "import warnings\n",
    "import os\n",
    "\n",
    "# Figures\n",
    "OFFLINE = True\n",
    "if OFFLINE:\n",
    "    import plotly.offline as py\n",
    "    py.init_notebook_mode(connected=True)\n",
    "else:\n",
    "    import plotly.plotly as py\n",
    "import plotly.graph_objs as go\n",
    "import plotly.figure_factory as ff\n",
    "base_layout = go.Layout(\n",
    "    hovermode='closest',\n",
    "    font=dict(size=14))\n",
    "\n",
    "# import matplotlib.pyplot as plt\n",
    "# import seaborn as sns\n",
    "# plt.rcParams['axes.labelsize'] = 14\n",
    "# plt.rcParams['xtick.labelsize'] = 12\n",
    "# plt.rcParams['ytick.labelsize'] = 12\n",
    "# sns.set_context(\"notebook\", font_scale=1.1)\n",
    "# sns.set_style(\"ticks\")\n",
    "# plt.rcParams['pdf.fonttype'] = 42\n",
    "# plt.rcParams['ps.fonttype'] = 42\n",
    "\n",
    "# to make this notebook's output stable across runs\n",
    "RANDOM_SEED = 42\n",
    "np.random.seed(RANDOM_SEED)"
   ]
  },
  {
   "cell_type": "markdown",
   "metadata": {},
   "source": [
    "## 2. Get data"
   ]
  },
  {
   "cell_type": "code",
   "execution_count": 2,
   "metadata": {
    "run_control": {
     "marked": false
    }
   },
   "outputs": [],
   "source": [
    "DATA_PATH = os.path.join('.', 'data/')\n",
    "DATA_FILE = 'DatabaseRPT.mat'\n",
    "mat = sio.loadmat(os.path.join(DATA_PATH, DATA_FILE))['DataBaseRPT'][0, 0]"
   ]
  },
  {
   "cell_type": "markdown",
   "metadata": {},
   "source": [
    "- label\n",
    "    - `Y` (1, 162): 1 = prefatigue, 2 = fatigue\n",
    "\n",
    "- used features\n",
    "    - `AllX` (24, 162): 24 (6 DoF x 4 variables) x 162 (81 participants x 2 time points).\n",
    "    - `CAssignAll` (1, 24): AllX column assignment\n",
    "\n",
    "    - `Sex` (1, 162)\n",
    "    - `Endurance` (1, 162)\n",
    "\n",
    "- not used\n",
    "    - `BestX` (7, 162): 7 (variables with SRM>0.8) x 162 (81 participants x 2 time points) matrix. Contains data only for the most responsive variables (SRM>0.8).\n",
    "    - `CAssignBest` (1, 7): BestX column assignment.\n",
    "    - `Age` (1, 162): too much NaN.\n",
    "    - `Height` (1, 162): too much NaN.\n",
    "    - `Weight` (1, 162) Too much NaN.\n",
    "    - `SubjectKey` (1, 162): useless.\n",
    "    - `SID` (1, 162): useless."
   ]
  },
  {
   "cell_type": "markdown",
   "metadata": {},
   "source": [
    "### 2.A. Create feature matrix"
   ]
  },
  {
   "cell_type": "code",
   "execution_count": 3,
   "metadata": {
    "run_control": {
     "marked": false
    }
   },
   "outputs": [],
   "source": [
    "col_names = [i[0] for i in mat['CAssignAll'].flatten()]\n",
    "# find variable with SRM > .8\n",
    "srm_names = np.array([i[0] for i in mat['CAssignBest'].flatten()])\n",
    "srm_idx = np.in1d(col_names, srm_names)\n",
    "\n",
    "# add `AllX`\n",
    "X = mat['AllX'].T\n",
    "\n",
    "# add `Sex`\n",
    "X = np.c_[X, mat['Sex'].T]\n",
    "col_names.append('Sex')\n",
    "\n",
    "col_names = np.array(col_names)"
   ]
  },
  {
   "cell_type": "markdown",
   "metadata": {},
   "source": [
    "### 2.B. Create label vector"
   ]
  },
  {
   "cell_type": "code",
   "execution_count": 4,
   "metadata": {
    "run_control": {
     "marked": false
    }
   },
   "outputs": [],
   "source": [
    "from sklearn.preprocessing import LabelBinarizer\n",
    "y = mat['Y'].T\n",
    "y = LabelBinarizer().fit_transform(y)"
   ]
  },
  {
   "cell_type": "markdown",
   "metadata": {},
   "source": [
    "### 2.C. Create report"
   ]
  },
  {
   "cell_type": "code",
   "execution_count": 5,
   "metadata": {
    "run_control": {
     "marked": false
    }
   },
   "outputs": [],
   "source": [
    "import os.path\n",
    "import pandas as pd\n",
    "\n",
    "# create dataframe\n",
    "df = pd.DataFrame(X, columns=col_names)\n",
    "df['fatigue (label)'] = y\n",
    "\n",
    "# generate pandas report\n",
    "REPORT_FILENAME = './pandas_report.html'\n",
    "if not os.path.isfile(REPORT_FILENAME):\n",
    "    import pandas_profiling\n",
    "    report = pandas_profiling.ProfileReport(df)\n",
    "    report.to_file('./pandas_report.html')"
   ]
  },
  {
   "cell_type": "markdown",
   "metadata": {},
   "source": [
    "### 2.D. Split data & shuffle"
   ]
  },
  {
   "cell_type": "code",
   "execution_count": 6,
   "metadata": {
    "run_control": {
     "marked": false
    }
   },
   "outputs": [],
   "source": [
    "# split data & shuffle\n",
    "from sklearn.model_selection import train_test_split\n",
    "\n",
    "X_train, X_test, y_train, y_test = train_test_split(\n",
    "    X, y, test_size=0.2, random_state=RANDOM_SEED)"
   ]
  },
  {
   "cell_type": "code",
   "execution_count": 7,
   "metadata": {
    "run_control": {
     "marked": false
    }
   },
   "outputs": [
    {
     "data": {
      "text/html": [
       "<div>\n",
       "<style scoped>\n",
       "    .dataframe tbody tr th:only-of-type {\n",
       "        vertical-align: middle;\n",
       "    }\n",
       "\n",
       "    .dataframe tbody tr th {\n",
       "        vertical-align: top;\n",
       "    }\n",
       "\n",
       "    .dataframe thead th {\n",
       "        text-align: right;\n",
       "    }\n",
       "</style>\n",
       "<table border=\"1\" class=\"dataframe\">\n",
       "  <thead>\n",
       "    <tr style=\"text-align: right;\">\n",
       "      <th></th>\n",
       "      <th>AveElbFlexMean</th>\n",
       "      <th>ROMElbFlexMean</th>\n",
       "      <th>AveElbFlexSD</th>\n",
       "      <th>ROMElbFlexSD</th>\n",
       "      <th>AveShPlaneMean</th>\n",
       "      <th>ROMShPlaneMean</th>\n",
       "      <th>AveShPlaneSD</th>\n",
       "      <th>ROMShPlaneSD</th>\n",
       "      <th>AveShEleMean</th>\n",
       "      <th>ROMShEleMean</th>\n",
       "      <th>...</th>\n",
       "      <th>AveTrYMean</th>\n",
       "      <th>ROMTrYMean</th>\n",
       "      <th>AveTrYSD</th>\n",
       "      <th>ROMTrYSD</th>\n",
       "      <th>AveTrZMean</th>\n",
       "      <th>ROMTrZMean</th>\n",
       "      <th>AveTrZSD</th>\n",
       "      <th>ROMTrZSD</th>\n",
       "      <th>Sex</th>\n",
       "      <th>fatigue (label)</th>\n",
       "    </tr>\n",
       "  </thead>\n",
       "  <tbody>\n",
       "    <tr>\n",
       "      <th>0</th>\n",
       "      <td>105.983144</td>\n",
       "      <td>63.339618</td>\n",
       "      <td>2.219401</td>\n",
       "      <td>1.794134</td>\n",
       "      <td>23.518597</td>\n",
       "      <td>13.624799</td>\n",
       "      <td>1.338393</td>\n",
       "      <td>2.357813</td>\n",
       "      <td>80.274017</td>\n",
       "      <td>2.942674</td>\n",
       "      <td>...</td>\n",
       "      <td>16.382423</td>\n",
       "      <td>13.629558</td>\n",
       "      <td>1.112671</td>\n",
       "      <td>1.977798</td>\n",
       "      <td>-0.550047</td>\n",
       "      <td>2.671822</td>\n",
       "      <td>0.228494</td>\n",
       "      <td>0.711787</td>\n",
       "      <td>2.0</td>\n",
       "      <td>0</td>\n",
       "    </tr>\n",
       "    <tr>\n",
       "      <th>1</th>\n",
       "      <td>106.166216</td>\n",
       "      <td>61.875226</td>\n",
       "      <td>2.239310</td>\n",
       "      <td>2.548458</td>\n",
       "      <td>22.851141</td>\n",
       "      <td>11.726534</td>\n",
       "      <td>1.182490</td>\n",
       "      <td>1.401127</td>\n",
       "      <td>77.897777</td>\n",
       "      <td>4.062635</td>\n",
       "      <td>...</td>\n",
       "      <td>16.041630</td>\n",
       "      <td>15.078508</td>\n",
       "      <td>0.910697</td>\n",
       "      <td>1.003788</td>\n",
       "      <td>-0.208865</td>\n",
       "      <td>1.242553</td>\n",
       "      <td>0.541000</td>\n",
       "      <td>0.496108</td>\n",
       "      <td>2.0</td>\n",
       "      <td>1</td>\n",
       "    </tr>\n",
       "    <tr>\n",
       "      <th>2</th>\n",
       "      <td>100.914284</td>\n",
       "      <td>60.930029</td>\n",
       "      <td>1.482458</td>\n",
       "      <td>1.167593</td>\n",
       "      <td>27.289316</td>\n",
       "      <td>12.291697</td>\n",
       "      <td>1.223189</td>\n",
       "      <td>2.452705</td>\n",
       "      <td>83.932823</td>\n",
       "      <td>2.886935</td>\n",
       "      <td>...</td>\n",
       "      <td>15.039772</td>\n",
       "      <td>14.311074</td>\n",
       "      <td>0.979720</td>\n",
       "      <td>2.070705</td>\n",
       "      <td>0.096174</td>\n",
       "      <td>0.934767</td>\n",
       "      <td>0.488540</td>\n",
       "      <td>0.317386</td>\n",
       "      <td>2.0</td>\n",
       "      <td>0</td>\n",
       "    </tr>\n",
       "    <tr>\n",
       "      <th>3</th>\n",
       "      <td>105.066549</td>\n",
       "      <td>59.524098</td>\n",
       "      <td>2.364182</td>\n",
       "      <td>1.849991</td>\n",
       "      <td>23.083816</td>\n",
       "      <td>7.519415</td>\n",
       "      <td>1.510000</td>\n",
       "      <td>3.503819</td>\n",
       "      <td>78.701025</td>\n",
       "      <td>2.997990</td>\n",
       "      <td>...</td>\n",
       "      <td>16.070120</td>\n",
       "      <td>16.178023</td>\n",
       "      <td>1.418294</td>\n",
       "      <td>3.521951</td>\n",
       "      <td>-0.544067</td>\n",
       "      <td>1.885480</td>\n",
       "      <td>0.610577</td>\n",
       "      <td>0.851287</td>\n",
       "      <td>2.0</td>\n",
       "      <td>1</td>\n",
       "    </tr>\n",
       "    <tr>\n",
       "      <th>4</th>\n",
       "      <td>93.259333</td>\n",
       "      <td>81.531138</td>\n",
       "      <td>2.610755</td>\n",
       "      <td>3.632922</td>\n",
       "      <td>42.387152</td>\n",
       "      <td>27.789377</td>\n",
       "      <td>1.605530</td>\n",
       "      <td>2.027628</td>\n",
       "      <td>71.280986</td>\n",
       "      <td>8.000008</td>\n",
       "      <td>...</td>\n",
       "      <td>8.908385</td>\n",
       "      <td>8.815273</td>\n",
       "      <td>0.709582</td>\n",
       "      <td>1.250228</td>\n",
       "      <td>-0.123442</td>\n",
       "      <td>1.065910</td>\n",
       "      <td>0.415764</td>\n",
       "      <td>0.404298</td>\n",
       "      <td>2.0</td>\n",
       "      <td>0</td>\n",
       "    </tr>\n",
       "  </tbody>\n",
       "</table>\n",
       "<p>5 rows × 26 columns</p>\n",
       "</div>"
      ],
      "text/plain": [
       "   AveElbFlexMean  ROMElbFlexMean  AveElbFlexSD  ROMElbFlexSD  AveShPlaneMean  \\\n",
       "0      105.983144       63.339618      2.219401      1.794134       23.518597   \n",
       "1      106.166216       61.875226      2.239310      2.548458       22.851141   \n",
       "2      100.914284       60.930029      1.482458      1.167593       27.289316   \n",
       "3      105.066549       59.524098      2.364182      1.849991       23.083816   \n",
       "4       93.259333       81.531138      2.610755      3.632922       42.387152   \n",
       "\n",
       "   ROMShPlaneMean  AveShPlaneSD  ROMShPlaneSD  AveShEleMean  ROMShEleMean  \\\n",
       "0       13.624799      1.338393      2.357813     80.274017      2.942674   \n",
       "1       11.726534      1.182490      1.401127     77.897777      4.062635   \n",
       "2       12.291697      1.223189      2.452705     83.932823      2.886935   \n",
       "3        7.519415      1.510000      3.503819     78.701025      2.997990   \n",
       "4       27.789377      1.605530      2.027628     71.280986      8.000008   \n",
       "\n",
       "        ...         AveTrYMean  ROMTrYMean  AveTrYSD  ROMTrYSD  AveTrZMean  \\\n",
       "0       ...          16.382423   13.629558  1.112671  1.977798   -0.550047   \n",
       "1       ...          16.041630   15.078508  0.910697  1.003788   -0.208865   \n",
       "2       ...          15.039772   14.311074  0.979720  2.070705    0.096174   \n",
       "3       ...          16.070120   16.178023  1.418294  3.521951   -0.544067   \n",
       "4       ...           8.908385    8.815273  0.709582  1.250228   -0.123442   \n",
       "\n",
       "   ROMTrZMean  AveTrZSD  ROMTrZSD  Sex  fatigue (label)  \n",
       "0    2.671822  0.228494  0.711787  2.0                0  \n",
       "1    1.242553  0.541000  0.496108  2.0                1  \n",
       "2    0.934767  0.488540  0.317386  2.0                0  \n",
       "3    1.885480  0.610577  0.851287  2.0                1  \n",
       "4    1.065910  0.415764  0.404298  2.0                0  \n",
       "\n",
       "[5 rows x 26 columns]"
      ]
     },
     "execution_count": 7,
     "metadata": {},
     "output_type": "execute_result"
    }
   ],
   "source": [
    "df.head()"
   ]
  },
  {
   "cell_type": "markdown",
   "metadata": {},
   "source": [
    "## 2. Pipeline"
   ]
  },
  {
   "cell_type": "markdown",
   "metadata": {},
   "source": [
    "### 2.A. Metrics wrap up\n",
    "\n",
    "#### 2.A.1. Confusion matrix metrics\n",
    "\n",
    "| Predicted | Real: 1 | Real: 0 |\n",
    "|-----------|---------|---------|\n",
    "|    1      |  TP     |    FP   |\n",
    "|    0      |  FN     |    TN   |\n",
    "\n",
    "##### True negative (TN)\n",
    "We *correctly* predict that the class is *negative*.\n",
    "\n",
    "##### False negative (FN)\n",
    "We *incorrectly* predict that the class is *negative*.\n",
    "\n",
    "##### True positive (TP)\n",
    "We *correctly* predict that the class is *positive*.\n",
    "\n",
    "##### False positive (FP)\n",
    "We *incorrectly* predict that the class is *positive*.\n",
    "\n",
    "#### 2.A.2. Metrics\n",
    "\n",
    "##### Precision\n",
    "$$\\frac{TP}{\\text{n}^o \\text{predicted positives}} = \\frac{TP}{TP + FP}$$\n",
    "\n",
    "- high precision = less _false positive_\n",
    "- _example_: getting $0.8$ precision means that when it claims to detect a label, it is right $80$% of the time\n",
    "\n",
    "##### Recall or True Positive Rate (TPR)\n",
    "$$\\frac{TP}{\\text{n}^o \\text{actual positives}} = \\frac{TP}{TP + FN}$$\n",
    "\n",
    "- high recall = less _false negative_\n",
    "- _example_: getting $0.8$ recall means that it detect $80$% of the label\n",
    "\n",
    "##### False Positive Rate (FPR)\n",
    "$$\\frac{FP}{\\text{n}^o \\text{actual negatives}} = \\frac{FP}{FP + TN}$$\n",
    "\n",
    "- high FPR = more _negative data points missclassified_\n",
    "- proportion of negative data points that are mistakenly considered as positive, with respect to all negative data points\n",
    "\n",
    "##### Receiver Operating Characteristic curve (ROC)\n",
    "Compute _TPR_ and _FPR_ for many different threshold and plot FPR vs. TPR\n",
    "\n",
    "##### In our case\n",
    "We want to optimize our algorithm for the area Under the ROC curve ([wiki](https://en.wikipedia.org/wiki/Receiver_operating_characteristic#Area_under_the_curve), [stackexchange](https://stats.stackexchange.com/a/132832))."
   ]
  },
  {
   "cell_type": "markdown",
   "metadata": {},
   "source": [
    "### 2.B. Pipeline creation"
   ]
  },
  {
   "cell_type": "code",
   "execution_count": 8,
   "metadata": {
    "run_control": {
     "marked": false
    }
   },
   "outputs": [],
   "source": [
    "def get_categorical_cols(X):\n",
    "    return X[:, col_names == 'Sex']\n",
    "\n",
    "\n",
    "def get_numerical_cols(X):\n",
    "    return X[:, col_names != 'Sex']\n",
    "\n",
    "\n",
    "def get_high_srm_cols(X, srm_idx=srm_idx):\n",
    "    return X[:, srm_idx]"
   ]
  },
  {
   "cell_type": "code",
   "execution_count": 9,
   "metadata": {
    "run_control": {
     "marked": false
    }
   },
   "outputs": [],
   "source": [
    "from sklearn.pipeline import Pipeline, FeatureUnion\n",
    "from sklearn.preprocessing import FunctionTransformer\n",
    "\n",
    "# categorical\n",
    "from sklearn.preprocessing import OneHotEncoder\n",
    "\n",
    "# numerical\n",
    "from sklearn.preprocessing import StandardScaler\n",
    "from sklearn.decomposition import PCA\n",
    "from sklearn.preprocessing import PolynomialFeatures\n",
    "\n",
    "pipeline_categorical = Pipeline([\n",
    "    ('selector', FunctionTransformer(get_categorical_cols, validate=False)),\n",
    "    ('encoder', OneHotEncoder(sparse=False))\n",
    "])\n",
    "\n",
    "pipeline_numerical = Pipeline([\n",
    "    ('selector', FunctionTransformer(get_numerical_cols, validate=False)),\n",
    "    ('selecthighsrm', FunctionTransformer(get_high_srm_cols, validate=False)),\n",
    "    ('scale', StandardScaler()),\n",
    "    ('polyfeatures', PolynomialFeatures(degree=2))\n",
    "])\n",
    "\n",
    "pipeline_preprocessing = FeatureUnion([\n",
    "    ('categorical', pipeline_categorical),\n",
    "    ('numerical', pipeline_numerical)\n",
    "])"
   ]
  },
  {
   "cell_type": "code",
   "execution_count": 10,
   "metadata": {
    "run_control": {
     "marked": false
    }
   },
   "outputs": [],
   "source": [
    "from sklearn.model_selection import GridSearchCV\n",
    "import pprint\n",
    "\n",
    "\n",
    "class GridSearchWrapper:\n",
    "    def __init__(self, base_pipeline, model, param_grid, scoring):\n",
    "        self.base_pipeline = base_pipeline\n",
    "        self.model = model\n",
    "        self.param_grid = param_grid\n",
    "        self.scoring = scoring\n",
    "    \n",
    "    def fit(self, X, y):\n",
    "        pipeline = Pipeline([\n",
    "            ('preprocessing', self.base_pipeline),\n",
    "            ('pca', PCA(n_components=0.99, svd_solver='full')),\n",
    "            ('classifier', self.model)\n",
    "        ])\n",
    "        \n",
    "        self.grid_search = GridSearchCV(pipeline,\n",
    "                                        self.param_grid,\n",
    "                                        scoring=self.scoring,\n",
    "                                        cv=5,\n",
    "                                        n_jobs=-1,\n",
    "                                        verbose=1)\n",
    "        self.grid_search.fit(X, y)\n",
    "    \n",
    "    def print_scores(self):\n",
    "        print(f'best score ({self.scoring}): {self.grid_search.best_score_:.3f}')\n",
    "        print('\\nbest params:')\n",
    "        pprint.pprint(self.grid_search.best_params_)"
   ]
  },
  {
   "cell_type": "code",
   "execution_count": 11,
   "metadata": {
    "run_control": {
     "marked": false
    }
   },
   "outputs": [],
   "source": [
    "param_grid = {\n",
    "    'preprocessing__numerical__selecthighsrm': [None, FunctionTransformer(get_high_srm_cols, validate=False)],\n",
    "    'preprocessing__numerical__polyfeatures': [None, PolynomialFeatures(degree=1), PolynomialFeatures(degree=2),\n",
    "                                               PolynomialFeatures(degree=3)],\n",
    "    'preprocessing__numerical__scale': [None, StandardScaler()],\n",
    "    'pca': [None, PCA(n_components=0.99, svd_solver='full')]\n",
    "}\n",
    "\n",
    "scoring = 'roc_auc'\n",
    "model = {}"
   ]
  },
  {
   "cell_type": "markdown",
   "metadata": {},
   "source": [
    "## 4. Optimization"
   ]
  },
  {
   "cell_type": "markdown",
   "metadata": {},
   "source": [
    "### 4.A. Gradient boosting"
   ]
  },
  {
   "cell_type": "code",
   "execution_count": 12,
   "metadata": {
    "run_control": {
     "marked": false
    }
   },
   "outputs": [],
   "source": [
    "# from sklearn.ensemble import GradientBoostingClassifier\n",
    "\n",
    "# model_param = {\n",
    "#     'learning_rate': 0.001,\n",
    "#     'max_depth': 1,\n",
    "#     'max_features': 0.75,\n",
    "#     'min_samples_leaf': 7,\n",
    "#     'min_samples_split': 16,\n",
    "#     'n_estimators': 100,\n",
    "#     'subsample': 0.3,\n",
    "#     'random_state': RANDOM_SEED\n",
    "# }\n",
    "\n",
    "# wrapper = GridSearchWrapper(\n",
    "#     base_pipeline=pipeline_preprocessing,\n",
    "#     model=GradientBoostingClassifier(**model_param),\n",
    "#     param_grid=param_grid,\n",
    "#     scoring=scoring)\n",
    "\n",
    "# wrapper.fit(X_train, y_train.ravel())"
   ]
  },
  {
   "cell_type": "code",
   "execution_count": 13,
   "metadata": {
    "run_control": {
     "marked": false
    }
   },
   "outputs": [],
   "source": [
    "# wrapper.print_scores()\n",
    "# model['gradboost'] = wrapper.grid_search.best_estimator_"
   ]
  },
  {
   "cell_type": "markdown",
   "metadata": {},
   "source": [
    "### 4.B. XGBoost"
   ]
  },
  {
   "cell_type": "markdown",
   "metadata": {},
   "source": [
    "https://jessesw.com/XG-Boost/"
   ]
  },
  {
   "cell_type": "code",
   "execution_count": 14,
   "metadata": {
    "run_control": {
     "marked": false
    }
   },
   "outputs": [
    {
     "name": "stdout",
     "output_type": "stream",
     "text": [
      "Fitting 5 folds for each of 32 candidates, totalling 160 fits\n"
     ]
    },
    {
     "name": "stderr",
     "output_type": "stream",
     "text": [
      "[Parallel(n_jobs=-1)]: Done 160 out of 160 | elapsed:    4.8s finished\n"
     ]
    }
   ],
   "source": [
    "from xgboost import XGBClassifier\n",
    "\n",
    "model_param = {\n",
    "    'learning_rate': 0.001,\n",
    "    'max_depth': 1,\n",
    "    'max_features': 0.75,\n",
    "    'min_samples_leaf': 7,\n",
    "    'min_samples_split': 16,\n",
    "    'n_estimators': 100,\n",
    "    'subsample': 0.3,\n",
    "    'random_state': RANDOM_SEED\n",
    "}\n",
    "\n",
    "warnings.simplefilter('ignore')\n",
    "wrapper = GridSearchWrapper(\n",
    "    base_pipeline=pipeline_preprocessing,\n",
    "    model=XGBClassifier(**model_param),\n",
    "    param_grid=param_grid,\n",
    "    scoring=scoring)\n",
    "\n",
    "wrapper.fit(X_train, y_train.ravel())\n",
    "warnings.simplefilter('default')"
   ]
  },
  {
   "cell_type": "code",
   "execution_count": 15,
   "metadata": {
    "run_control": {
     "marked": false
    }
   },
   "outputs": [
    {
     "name": "stdout",
     "output_type": "stream",
     "text": [
      "best score (roc_auc): 0.902\n",
      "\n",
      "best params:\n",
      "{'pca': PCA(copy=True, iterated_power='auto', n_components=0.99, random_state=None,\n",
      "  svd_solver='full', tol=0.0, whiten=False),\n",
      " 'preprocessing__numerical__polyfeatures': None,\n",
      " 'preprocessing__numerical__scale': None,\n",
      " 'preprocessing__numerical__selecthighsrm': FunctionTransformer(accept_sparse=False,\n",
      "          func=<function get_high_srm_cols at 0x7fa839423c80>,\n",
      "          inv_kw_args=None, inverse_func=None, kw_args=None,\n",
      "          pass_y='deprecated', validate=False)}\n"
     ]
    }
   ],
   "source": [
    "wrapper.print_scores()\n",
    "model['xgboost'] = wrapper.grid_search.best_estimator_"
   ]
  },
  {
   "cell_type": "markdown",
   "metadata": {},
   "source": [
    "## 5. Evaluation"
   ]
  },
  {
   "cell_type": "code",
   "execution_count": 16,
   "metadata": {},
   "outputs": [
    {
     "name": "stderr",
     "output_type": "stream",
     "text": [
      "/home/romain/.local/share/virtualenvs/fatigue-WgHAVgza/lib/python3.6/site-packages/sklearn/preprocessing/label.py:151: DeprecationWarning:\n",
      "\n",
      "The truth value of an empty array is ambiguous. Returning False, but in future this will result in an error. Use `array.size > 0` to check that an array is not empty.\n",
      "\n"
     ]
    }
   ],
   "source": [
    "final_model = model['xgboost']\n",
    "y_pred = final_model.predict(X_test)"
   ]
  },
  {
   "cell_type": "code",
   "execution_count": 17,
   "metadata": {
    "run_control": {
     "marked": false
    }
   },
   "outputs": [],
   "source": [
    "from sklearn.metrics import precision_recall_curve, roc_curve, classification_report, roc_auc_score\n",
    "from sklearn.metrics import confusion_matrix\n",
    "\n",
    "class Evaluate:\n",
    "    def __init__(self, model):\n",
    "        self.model = model\n",
    "        \n",
    "    def classification_report(self):\n",
    "        y_scores = self.grid_search.predict(X)\n",
    "        report = classification_report(y, y_scores)\n",
    "        print(report)\n",
    "        \n",
    "        self.confusion_matrix(X, y)\n",
    "        self.precision_recall_vs_threshold(X, y)\n",
    "        self.roc_curve(X, y)\n",
    "        \n",
    "    def confusion_matrix(self, X, y, percentage=True):   \n",
    "        y_pred = self.grid_search.best_estimator_.predict(X)\n",
    "        cm = confusion_matrix(y, y_pred)\n",
    "        if percentage:\n",
    "            cm = cm / cm.sum(axis=1)[:, np.newaxis] * 100\n",
    "            \n",
    "        plt.figure(figsize=(8, 4))\n",
    "        sns.heatmap(cm, annot=True, cmap='RdYlGn')\n",
    "        plt.title('Confusion matrix')\n",
    "        plt.xlabel('Predicted')\n",
    "        plt.ylabel('True')\n",
    "    \n",
    "    def precision_recall_vs_threshold(self, X, y):\n",
    "        y_scores = self.grid_search.predict_proba(X)[:, 1]\n",
    "        precision, recall, thresholds = precision_recall_curve(y, y_scores)\n",
    "        plt.figure(figsize=(8, 8))\n",
    "        plt.title(\"Precision and Recall Scores as a function of the decision threshold\")\n",
    "        plt.plot(thresholds, precision[:-1], \"b--\", label=\"Precision\")\n",
    "        plt.plot(thresholds, recall[:-1], \"g-\", label=\"Recall\")\n",
    "        plt.ylabel(\"Score\")\n",
    "        plt.xlabel(\"Decision Threshold\")\n",
    "        plt.legend(loc='best')\n",
    "        \n",
    "    def roc_curve(self, X, y):\n",
    "        y_scores = self.grid_search.predict_proba(X)[:, 1]\n",
    "        fpr, tpr, auc_thresholds = roc_curve(y, y_scores)\n",
    "        roc_auc = roc_auc_score(y, y_scores)\n",
    "        plt.figure(figsize=(8,8))\n",
    "        plt.title(f'ROC Curve (roc_auc = {roc_auc:.3f})')\n",
    "        plt.plot(fpr, tpr, linewidth=2)\n",
    "        plt.plot([0, 1], [0, 1], 'k--')\n",
    "        plt.axis([-0.005, 1, 0, 1.005])\n",
    "        plt.xticks(np.arange(0,1, 0.05), rotation=90)\n",
    "        plt.xlabel(\"False Positive Rate\")\n",
    "        plt.ylabel(\"True Positive Rate (Recall)\")\n",
    "        \n",
    "    def decision_threshold(self, X, y, t=0.5):\n",
    "        y_scores = self.grid_search.predict_proba(X)[:, 1]\n",
    "        y_scores_adj = [1 if y >= t else 0 for y in y_scores]\n",
    "\n",
    "        cm = confusion_matrix(y, y_scores_adj)\n",
    "        sns.heatmap(cm, annot=True)\n",
    "        plt.show()\n",
    "\n",
    "        precision, recall, thresholds = precision_recall_curve(y, y_scores)\n",
    "        plt.figure(figsize=(8,8))\n",
    "        plt.title(\"Precision and Recall curve (^=current threshold)\")\n",
    "        plt.step(recall, precision, color='b', alpha=0.2,\n",
    "                 where='post')\n",
    "        plt.fill_between(recall, precision, step='post', alpha=0.2,\n",
    "                         color='b')\n",
    "        plt.ylim([0.5, 1.01]);\n",
    "        plt.xlim([0.5, 1.01]);\n",
    "        plt.xlabel('Recall');\n",
    "        plt.ylabel('Precision');\n",
    "\n",
    "        # plot the current threshold on the line\n",
    "        close_default_clf = np.argmin(np.abs(thresholds - t))\n",
    "        plt.plot(recall[close_default_clf], precision[close_default_clf], '^', c='k',\n",
    "                markersize=15)    "
   ]
  },
  {
   "cell_type": "markdown",
   "metadata": {},
   "source": [
    "### 5.A. Learning curves"
   ]
  },
  {
   "cell_type": "code",
   "execution_count": 18,
   "metadata": {},
   "outputs": [],
   "source": [
    "from sklearn.model_selection import learning_curve\n",
    "\n",
    "\n",
    "def plot_learning_curve(\n",
    "        estimator,\n",
    "        X,\n",
    "        y,\n",
    "        scoring='roc_auc',\n",
    "        cv=None,\n",
    "        n_jobs=1,\n",
    "        train_sizes=np.linspace(.1, 1.0, 5),\n",
    "):\n",
    "    warnings.simplefilter('ignore')  # ignore scikit-learn warnings\n",
    "    train_sizes, train_scores, test_scores = learning_curve(\n",
    "        estimator,\n",
    "        X,\n",
    "        y,\n",
    "        scoring=scoring,\n",
    "        cv=cv,\n",
    "        n_jobs=n_jobs,\n",
    "        train_sizes=train_sizes)\n",
    "    warnings.simplefilter('default')\n",
    "\n",
    "    train_scores_mean = np.mean(train_scores, axis=1)\n",
    "    train_scores_std = np.std(train_scores, axis=1)\n",
    "\n",
    "    test_scores_mean = np.mean(test_scores, axis=1)\n",
    "    test_scores_std = np.std(test_scores, axis=1)\n",
    "\n",
    "    trace = []\n",
    "\n",
    "    # training mean\n",
    "    trace.append(\n",
    "        go.Scatter(\n",
    "            x=train_sizes,\n",
    "            y=train_scores_mean,\n",
    "            marker=dict(color='red'),\n",
    "            name='Training score'))\n",
    "\n",
    "    # training std\n",
    "    trace.append(\n",
    "        go.Scatter(\n",
    "            x=train_sizes,\n",
    "            y=train_scores_mean + train_scores_std,\n",
    "            mode='lines',\n",
    "            line=dict(color='red', width=1),\n",
    "            showlegend=False))\n",
    "\n",
    "    trace.append(\n",
    "        go.Scatter(\n",
    "            x=train_sizes,\n",
    "            y=train_scores_mean - train_scores_std,\n",
    "            mode='lines',\n",
    "            line=dict(color='red', width=1),\n",
    "            fill='tonexty',\n",
    "            showlegend=False))\n",
    "\n",
    "    # test mean\n",
    "    trace.append(\n",
    "        go.Scatter(\n",
    "            x=train_sizes,\n",
    "            y=test_scores_mean,\n",
    "            marker=dict(color='green'),\n",
    "            name='Cross-validation score'))\n",
    "\n",
    "    # test std\n",
    "    trace.append(\n",
    "        go.Scatter(\n",
    "            x=train_sizes,\n",
    "            y=test_scores_mean + test_scores_std,\n",
    "            mode='lines',\n",
    "            line=dict(color='green', width=1),\n",
    "            showlegend=False))\n",
    "\n",
    "    trace.append(\n",
    "        go.Scatter(\n",
    "            x=train_sizes,\n",
    "            y=test_scores_mean - test_scores_std,\n",
    "            mode='lines',\n",
    "            line=dict(color='green', width=1),\n",
    "            fill='tonexty',\n",
    "            showlegend=False))\n",
    "\n",
    "    data = [itrace for itrace in trace]\n",
    "    layout = base_layout\n",
    "    layout.update(\n",
    "        dict(\n",
    "            title='Learning curves',\n",
    "            xaxis=dict(title='Training examples'),\n",
    "            yaxis=dict(title='Score (ROC AUC)')))\n",
    "    fig = dict(data=data, layout=layout)\n",
    "    return fig"
   ]
  },
  {
   "cell_type": "code",
   "execution_count": 19,
   "metadata": {},
   "outputs": [
    {
     "data": {
      "application/vnd.plotly.v1+json": {
       "data": [
        {
         "marker": {
          "color": "red"
         },
         "name": "Training score",
         "type": "scatter",
         "x": [
          12,
          25,
          38,
          51,
          64,
          76,
          89,
          102,
          115,
          128
         ],
         "y": [
          0.5,
          0.9653846153846155,
          0.9318559556786703,
          0.8938461538461538,
          0.90009765625,
          0.903393351800554,
          0.8940909090909092,
          0.8914648212226066,
          0.8803387779794314,
          0.8840087890625
         ]
        },
        {
         "line": {
          "color": "red",
          "width": 1
         },
         "mode": "lines",
         "showlegend": false,
         "type": "scatter",
         "x": [
          12,
          25,
          38,
          51,
          64,
          76,
          89,
          102,
          115,
          128
         ],
         "y": [
          0.5,
          0.9730769230769232,
          0.9480650845854047,
          0.9042805076663465,
          0.9046739744194766,
          0.9158163329620449,
          0.9102435265351808,
          0.9096686982021593,
          0.893282109251365,
          0.9026082993248075
         ]
        },
        {
         "fill": "tonexty",
         "line": {
          "color": "red",
          "width": 1
         },
         "mode": "lines",
         "showlegend": false,
         "type": "scatter",
         "x": [
          12,
          25,
          38,
          51,
          64,
          76,
          89,
          102,
          115,
          128
         ],
         "y": [
          0.5,
          0.9576923076923078,
          0.9156468267719359,
          0.8834118000259612,
          0.8955213380805235,
          0.8909703706390631,
          0.8779382916466375,
          0.8732609442430539,
          0.8673954467074978,
          0.8654092788001926
         ]
        },
        {
         "marker": {
          "color": "green"
         },
         "name": "Cross-validation score",
         "type": "scatter",
         "x": [
          12,
          25,
          38,
          51,
          64,
          76,
          89,
          102,
          115,
          128
         ],
         "y": [
          0.5,
          0.8196069420415224,
          0.8951881487889274,
          0.8866606293252595,
          0.8711248378027682,
          0.8755676903114187,
          0.8721520869377162,
          0.8577205882352942,
          0.8669725886678201,
          0.8621404628027681
         ]
        },
        {
         "line": {
          "color": "green",
          "width": 1
         },
         "mode": "lines",
         "showlegend": false,
         "type": "scatter",
         "x": [
          12,
          25,
          38,
          51,
          64,
          76,
          89,
          102,
          115,
          128
         ],
         "y": [
          0.5,
          0.8779745826743643,
          0.9463740033880232,
          0.930997253607889,
          0.9293512641108662,
          0.9540486844911491,
          0.9365449769197228,
          0.9322103317860738,
          0.9119957516027064,
          0.92002476228409
         ]
        },
        {
         "fill": "tonexty",
         "line": {
          "color": "green",
          "width": 1
         },
         "mode": "lines",
         "showlegend": false,
         "type": "scatter",
         "x": [
          12,
          25,
          38,
          51,
          64,
          76,
          89,
          102,
          115,
          128
         ],
         "y": [
          0.5,
          0.7612393014086805,
          0.8440022941898315,
          0.8423240050426299,
          0.8128984114946701,
          0.7970866961316883,
          0.8077591969557095,
          0.7832308446845145,
          0.8219494257329338,
          0.8042561633214462
         ]
        }
       ],
       "layout": {
        "font": {
         "size": 14
        },
        "hovermode": "closest",
        "title": "Learning curves",
        "xaxis": {
         "title": "Training examples"
        },
        "yaxis": {
         "title": "Score (ROC AUC)"
        }
       }
      },
      "text/html": [
       "<div id=\"a6cc4054-be11-40cd-a06c-0f8b91dcecae\" style=\"height: 525px; width: 100%;\" class=\"plotly-graph-div\"></div><script type=\"text/javascript\">require([\"plotly\"], function(Plotly) { window.PLOTLYENV=window.PLOTLYENV || {};window.PLOTLYENV.BASE_URL=\"https://plot.ly\";Plotly.newPlot(\"a6cc4054-be11-40cd-a06c-0f8b91dcecae\", [{\"type\": \"scatter\", \"x\": [12, 25, 38, 51, 64, 76, 89, 102, 115, 128], \"y\": [0.5, 0.9653846153846155, 0.9318559556786703, 0.8938461538461538, 0.90009765625, 0.903393351800554, 0.8940909090909092, 0.8914648212226066, 0.8803387779794314, 0.8840087890625], \"marker\": {\"color\": \"red\"}, \"name\": \"Training score\"}, {\"type\": \"scatter\", \"x\": [12, 25, 38, 51, 64, 76, 89, 102, 115, 128], \"y\": [0.5, 0.9730769230769232, 0.9480650845854047, 0.9042805076663465, 0.9046739744194766, 0.9158163329620449, 0.9102435265351808, 0.9096686982021593, 0.893282109251365, 0.9026082993248075], \"mode\": \"lines\", \"line\": {\"color\": \"red\", \"width\": 1}, \"showlegend\": false}, {\"type\": \"scatter\", \"x\": [12, 25, 38, 51, 64, 76, 89, 102, 115, 128], \"y\": [0.5, 0.9576923076923078, 0.9156468267719359, 0.8834118000259612, 0.8955213380805235, 0.8909703706390631, 0.8779382916466375, 0.8732609442430539, 0.8673954467074978, 0.8654092788001926], \"mode\": \"lines\", \"line\": {\"color\": \"red\", \"width\": 1}, \"fill\": \"tonexty\", \"showlegend\": false}, {\"type\": \"scatter\", \"x\": [12, 25, 38, 51, 64, 76, 89, 102, 115, 128], \"y\": [0.5, 0.8196069420415224, 0.8951881487889274, 0.8866606293252595, 0.8711248378027682, 0.8755676903114187, 0.8721520869377162, 0.8577205882352942, 0.8669725886678201, 0.8621404628027681], \"marker\": {\"color\": \"green\"}, \"name\": \"Cross-validation score\"}, {\"type\": \"scatter\", \"x\": [12, 25, 38, 51, 64, 76, 89, 102, 115, 128], \"y\": [0.5, 0.8779745826743643, 0.9463740033880232, 0.930997253607889, 0.9293512641108662, 0.9540486844911491, 0.9365449769197228, 0.9322103317860738, 0.9119957516027064, 0.92002476228409], \"mode\": \"lines\", \"line\": {\"color\": \"green\", \"width\": 1}, \"showlegend\": false}, {\"type\": \"scatter\", \"x\": [12, 25, 38, 51, 64, 76, 89, 102, 115, 128], \"y\": [0.5, 0.7612393014086805, 0.8440022941898315, 0.8423240050426299, 0.8128984114946701, 0.7970866961316883, 0.8077591969557095, 0.7832308446845145, 0.8219494257329338, 0.8042561633214462], \"mode\": \"lines\", \"line\": {\"color\": \"green\", \"width\": 1}, \"fill\": \"tonexty\", \"showlegend\": false}], {\"hovermode\": \"closest\", \"font\": {\"size\": 14}, \"title\": \"Learning curves\", \"xaxis\": {\"title\": \"Training examples\"}, \"yaxis\": {\"title\": \"Score (ROC AUC)\"}}, {\"showLink\": true, \"linkText\": \"Export to plot.ly\"})});</script>"
      ],
      "text/vnd.plotly.v1+html": [
       "<div id=\"a6cc4054-be11-40cd-a06c-0f8b91dcecae\" style=\"height: 525px; width: 100%;\" class=\"plotly-graph-div\"></div><script type=\"text/javascript\">require([\"plotly\"], function(Plotly) { window.PLOTLYENV=window.PLOTLYENV || {};window.PLOTLYENV.BASE_URL=\"https://plot.ly\";Plotly.newPlot(\"a6cc4054-be11-40cd-a06c-0f8b91dcecae\", [{\"type\": \"scatter\", \"x\": [12, 25, 38, 51, 64, 76, 89, 102, 115, 128], \"y\": [0.5, 0.9653846153846155, 0.9318559556786703, 0.8938461538461538, 0.90009765625, 0.903393351800554, 0.8940909090909092, 0.8914648212226066, 0.8803387779794314, 0.8840087890625], \"marker\": {\"color\": \"red\"}, \"name\": \"Training score\"}, {\"type\": \"scatter\", \"x\": [12, 25, 38, 51, 64, 76, 89, 102, 115, 128], \"y\": [0.5, 0.9730769230769232, 0.9480650845854047, 0.9042805076663465, 0.9046739744194766, 0.9158163329620449, 0.9102435265351808, 0.9096686982021593, 0.893282109251365, 0.9026082993248075], \"mode\": \"lines\", \"line\": {\"color\": \"red\", \"width\": 1}, \"showlegend\": false}, {\"type\": \"scatter\", \"x\": [12, 25, 38, 51, 64, 76, 89, 102, 115, 128], \"y\": [0.5, 0.9576923076923078, 0.9156468267719359, 0.8834118000259612, 0.8955213380805235, 0.8909703706390631, 0.8779382916466375, 0.8732609442430539, 0.8673954467074978, 0.8654092788001926], \"mode\": \"lines\", \"line\": {\"color\": \"red\", \"width\": 1}, \"fill\": \"tonexty\", \"showlegend\": false}, {\"type\": \"scatter\", \"x\": [12, 25, 38, 51, 64, 76, 89, 102, 115, 128], \"y\": [0.5, 0.8196069420415224, 0.8951881487889274, 0.8866606293252595, 0.8711248378027682, 0.8755676903114187, 0.8721520869377162, 0.8577205882352942, 0.8669725886678201, 0.8621404628027681], \"marker\": {\"color\": \"green\"}, \"name\": \"Cross-validation score\"}, {\"type\": \"scatter\", \"x\": [12, 25, 38, 51, 64, 76, 89, 102, 115, 128], \"y\": [0.5, 0.8779745826743643, 0.9463740033880232, 0.930997253607889, 0.9293512641108662, 0.9540486844911491, 0.9365449769197228, 0.9322103317860738, 0.9119957516027064, 0.92002476228409], \"mode\": \"lines\", \"line\": {\"color\": \"green\", \"width\": 1}, \"showlegend\": false}, {\"type\": \"scatter\", \"x\": [12, 25, 38, 51, 64, 76, 89, 102, 115, 128], \"y\": [0.5, 0.7612393014086805, 0.8440022941898315, 0.8423240050426299, 0.8128984114946701, 0.7970866961316883, 0.8077591969557095, 0.7832308446845145, 0.8219494257329338, 0.8042561633214462], \"mode\": \"lines\", \"line\": {\"color\": \"green\", \"width\": 1}, \"fill\": \"tonexty\", \"showlegend\": false}], {\"hovermode\": \"closest\", \"font\": {\"size\": 14}, \"title\": \"Learning curves\", \"xaxis\": {\"title\": \"Training examples\"}, \"yaxis\": {\"title\": \"Score (ROC AUC)\"}}, {\"showLink\": true, \"linkText\": \"Export to plot.ly\"})});</script>"
      ]
     },
     "metadata": {},
     "output_type": "display_data"
    }
   ],
   "source": [
    "l = plot_learning_curve(\n",
    "    estimator=final_model,\n",
    "    X=X,\n",
    "    y=y.ravel(),\n",
    "    scoring=scoring,\n",
    "    cv=5,\n",
    "    train_sizes=np.linspace(.1, 1.0, 10))\n",
    "py.iplot(l, filename='fatigue/learning_curve')"
   ]
  },
  {
   "cell_type": "markdown",
   "metadata": {},
   "source": [
    "### 5.B Confusion matrix"
   ]
  },
  {
   "cell_type": "code",
   "execution_count": 20,
   "metadata": {},
   "outputs": [],
   "source": [
    "from sklearn.metrics import confusion_matrix\n",
    "\n",
    "\n",
    "def plot_confusion_matrix(y_test, y_pred, in_percentage=True):\n",
    "    cm = confusion_matrix(y_test, y_pred)\n",
    "    if in_percentage:\n",
    "        cm = cm.astype('float') / cm.sum(axis=1)[:, np.newaxis] * 100\n",
    "\n",
    "    colorscale = [[0, '#2d3436'], [1, '#dfe6e9']]\n",
    "\n",
    "    fig = ff.create_annotated_heatmap(\n",
    "        z=cm.astype(int),\n",
    "        x=['True', 'False'],\n",
    "        y=['True', 'False'],\n",
    "        showscale=True,\n",
    "        zmin=0,\n",
    "        zmax=100,\n",
    "        colorscale=colorscale,\n",
    "        colorbar=dict(title='Percentage', titleside='right'))\n",
    "\n",
    "    # we must alter fig directly instead of creating a layout dict\n",
    "    #     fig['layout'] = base_layout\n",
    "    fig['layout'].update(base_layout)\n",
    "    fig['layout'].update(\n",
    "        dict(\n",
    "            title='confusion matrix',\n",
    "            xaxis=dict(title='Predicted values', side='bottom'),\n",
    "            yaxis=dict(title='True values', autorange='reversed')))\n",
    "\n",
    "    return fig"
   ]
  },
  {
   "cell_type": "code",
   "execution_count": 21,
   "metadata": {},
   "outputs": [
    {
     "data": {
      "application/vnd.plotly.v1+json": {
       "data": [
        {
         "colorbar": {
          "title": "Percentage",
          "titleside": "right"
         },
         "colorscale": [
          [
           0,
           "#2d3436"
          ],
          [
           1,
           "#dfe6e9"
          ]
         ],
         "showscale": true,
         "type": "heatmap",
         "x": [
          "True",
          "False"
         ],
         "y": [
          "True",
          "False"
         ],
         "z": [
          [
           70,
           29
          ],
          [
           31,
           68
          ]
         ],
         "zmax": 100,
         "zmin": 0
        }
       ],
       "layout": {
        "annotations": [
         {
          "font": {
           "color": "#000000"
          },
          "showarrow": false,
          "text": "70",
          "x": "True",
          "xref": "x1",
          "y": "True",
          "yref": "y1"
         },
         {
          "font": {
           "color": "#FFFFFF"
          },
          "showarrow": false,
          "text": "29",
          "x": "False",
          "xref": "x1",
          "y": "True",
          "yref": "y1"
         },
         {
          "font": {
           "color": "#FFFFFF"
          },
          "showarrow": false,
          "text": "31",
          "x": "True",
          "xref": "x1",
          "y": "False",
          "yref": "y1"
         },
         {
          "font": {
           "color": "#000000"
          },
          "showarrow": false,
          "text": "68",
          "x": "False",
          "xref": "x1",
          "y": "False",
          "yref": "y1"
         }
        ],
        "font": {
         "size": 14
        },
        "hovermode": "closest",
        "title": "confusion matrix",
        "xaxis": {
         "dtick": 1,
         "gridcolor": "rgb(0, 0, 0)",
         "side": "bottom",
         "ticks": "",
         "title": "Predicted values"
        },
        "yaxis": {
         "autorange": "reversed",
         "dtick": 1,
         "ticks": "",
         "ticksuffix": "  ",
         "title": "True values"
        }
       }
      },
      "text/html": [
       "<div id=\"8a21e279-c006-49e6-8794-c5cf3b82259e\" style=\"height: 525px; width: 100%;\" class=\"plotly-graph-div\"></div><script type=\"text/javascript\">require([\"plotly\"], function(Plotly) { window.PLOTLYENV=window.PLOTLYENV || {};window.PLOTLYENV.BASE_URL=\"https://plot.ly\";Plotly.newPlot(\"8a21e279-c006-49e6-8794-c5cf3b82259e\", [{\"type\": \"heatmap\", \"z\": [[70, 29], [31, 68]], \"x\": [\"True\", \"False\"], \"y\": [\"True\", \"False\"], \"colorscale\": [[0, \"#2d3436\"], [1, \"#dfe6e9\"]], \"showscale\": true, \"zmin\": 0, \"zmax\": 100, \"colorbar\": {\"title\": \"Percentage\", \"titleside\": \"right\"}}], {\"annotations\": [{\"text\": \"70\", \"x\": \"True\", \"y\": \"True\", \"xref\": \"x1\", \"yref\": \"y1\", \"font\": {\"color\": \"#000000\"}, \"showarrow\": false}, {\"text\": \"29\", \"x\": \"False\", \"y\": \"True\", \"xref\": \"x1\", \"yref\": \"y1\", \"font\": {\"color\": \"#FFFFFF\"}, \"showarrow\": false}, {\"text\": \"31\", \"x\": \"True\", \"y\": \"False\", \"xref\": \"x1\", \"yref\": \"y1\", \"font\": {\"color\": \"#FFFFFF\"}, \"showarrow\": false}, {\"text\": \"68\", \"x\": \"False\", \"y\": \"False\", \"xref\": \"x1\", \"yref\": \"y1\", \"font\": {\"color\": \"#000000\"}, \"showarrow\": false}], \"xaxis\": {\"ticks\": \"\", \"dtick\": 1, \"side\": \"bottom\", \"gridcolor\": \"rgb(0, 0, 0)\", \"title\": \"Predicted values\"}, \"yaxis\": {\"ticks\": \"\", \"dtick\": 1, \"ticksuffix\": \"  \", \"title\": \"True values\", \"autorange\": \"reversed\"}, \"hovermode\": \"closest\", \"font\": {\"size\": 14}, \"title\": \"confusion matrix\"}, {\"showLink\": true, \"linkText\": \"Export to plot.ly\"})});</script>"
      ],
      "text/vnd.plotly.v1+html": [
       "<div id=\"8a21e279-c006-49e6-8794-c5cf3b82259e\" style=\"height: 525px; width: 100%;\" class=\"plotly-graph-div\"></div><script type=\"text/javascript\">require([\"plotly\"], function(Plotly) { window.PLOTLYENV=window.PLOTLYENV || {};window.PLOTLYENV.BASE_URL=\"https://plot.ly\";Plotly.newPlot(\"8a21e279-c006-49e6-8794-c5cf3b82259e\", [{\"type\": \"heatmap\", \"z\": [[70, 29], [31, 68]], \"x\": [\"True\", \"False\"], \"y\": [\"True\", \"False\"], \"colorscale\": [[0, \"#2d3436\"], [1, \"#dfe6e9\"]], \"showscale\": true, \"zmin\": 0, \"zmax\": 100, \"colorbar\": {\"title\": \"Percentage\", \"titleside\": \"right\"}}], {\"annotations\": [{\"text\": \"70\", \"x\": \"True\", \"y\": \"True\", \"xref\": \"x1\", \"yref\": \"y1\", \"font\": {\"color\": \"#000000\"}, \"showarrow\": false}, {\"text\": \"29\", \"x\": \"False\", \"y\": \"True\", \"xref\": \"x1\", \"yref\": \"y1\", \"font\": {\"color\": \"#FFFFFF\"}, \"showarrow\": false}, {\"text\": \"31\", \"x\": \"True\", \"y\": \"False\", \"xref\": \"x1\", \"yref\": \"y1\", \"font\": {\"color\": \"#FFFFFF\"}, \"showarrow\": false}, {\"text\": \"68\", \"x\": \"False\", \"y\": \"False\", \"xref\": \"x1\", \"yref\": \"y1\", \"font\": {\"color\": \"#000000\"}, \"showarrow\": false}], \"xaxis\": {\"ticks\": \"\", \"dtick\": 1, \"side\": \"bottom\", \"gridcolor\": \"rgb(0, 0, 0)\", \"title\": \"Predicted values\"}, \"yaxis\": {\"ticks\": \"\", \"dtick\": 1, \"ticksuffix\": \"  \", \"title\": \"True values\", \"autorange\": \"reversed\"}, \"hovermode\": \"closest\", \"font\": {\"size\": 14}, \"title\": \"confusion matrix\"}, {\"showLink\": true, \"linkText\": \"Export to plot.ly\"})});</script>"
      ]
     },
     "metadata": {},
     "output_type": "display_data"
    }
   ],
   "source": [
    "m = plot_confusion_matrix(y_test=y_test, y_pred=y_pred)\n",
    "py.iplot(m, filename='fatigue/confusion_matrix')"
   ]
  },
  {
   "cell_type": "markdown",
   "metadata": {},
   "source": [
    "### 5.C Precision-recall vs threshold"
   ]
  },
  {
   "cell_type": "code",
   "execution_count": 22,
   "metadata": {},
   "outputs": [],
   "source": [
    "def precision_recall_vs_threshold(estimator, X, y):\n",
    "    y_scores = estimator.predict_proba(X)[:, 1]\n",
    "    precision, recall, thresholds = precision_recall_curve(y, y_scores)\n",
    "\n",
    "    trace_precision = go.Scatter(\n",
    "        x=thresholds,\n",
    "        y=precision[:-1],\n",
    "        mode='markers+lines',\n",
    "        marker=dict(color='blue'),\n",
    "        name='Precision')\n",
    "\n",
    "    trace_recall = go.Scatter(\n",
    "        x=thresholds,\n",
    "        y=recall[:-1],\n",
    "        mode='markers+lines',\n",
    "        marker=dict(color='green'),\n",
    "        name='Recall')\n",
    "\n",
    "    data = [trace_precision, trace_recall]\n",
    "    \n",
    "    layout = base_layout\n",
    "    layout.update(\n",
    "        dict(\n",
    "            title='Precision and recall scores as a function of the decision threshold',\n",
    "            xaxis=dict(title='Decision threshold'),\n",
    "            yaxis=dict(title='Score')))\n",
    "    fig = dict(data=data, layout=layout)\n",
    "    return fig"
   ]
  },
  {
   "cell_type": "code",
   "execution_count": 23,
   "metadata": {},
   "outputs": [
    {
     "data": {
      "application/vnd.plotly.v1+json": {
       "data": [
        {
         "marker": {
          "color": "blue"
         },
         "mode": "markers+lines",
         "name": "Precision",
         "type": "scatter",
         "x": [
          0.4730331301689148,
          0.4736453592777252,
          0.4741712510585785,
          0.4765183925628662,
          0.48617273569107056,
          0.4895400106906891,
          0.4990231394767761,
          0.5041764974594116,
          0.5131884813308716,
          0.5156211853027344,
          0.5202266573905945,
          0.5303126573562622,
          0.5309484601020813
         ],
         "y": [
          0.48484848484848486,
          0.5,
          0.5,
          0.6,
          0.631578947368421,
          0.6111111111111112,
          0.6470588235294118,
          0.6875,
          0.6666666666666666,
          0.7692307692307693,
          0.8181818181818182,
          0.9,
          0.8888888888888888
         ]
        },
        {
         "marker": {
          "color": "green"
         },
         "mode": "markers+lines",
         "name": "Recall",
         "type": "scatter",
         "x": [
          0.4730331301689148,
          0.4736453592777252,
          0.4741712510585785,
          0.4765183925628662,
          0.48617273569107056,
          0.4895400106906891,
          0.4990231394767761,
          0.5041764974594116,
          0.5131884813308716,
          0.5156211853027344,
          0.5202266573905945,
          0.5303126573562622,
          0.5309484601020813
         ],
         "y": [
          1,
          0.9375,
          0.875,
          0.75,
          0.75,
          0.6875,
          0.6875,
          0.6875,
          0.625,
          0.625,
          0.5625,
          0.5625,
          0.5
         ]
        }
       ],
       "layout": {
        "font": {
         "size": 14
        },
        "hovermode": "closest",
        "title": "Precision and recall scores as a function of the decision threshold",
        "xaxis": {
         "title": "Decision threshold"
        },
        "yaxis": {
         "title": "Score"
        }
       }
      },
      "text/html": [
       "<div id=\"2a2e373b-672a-4e9c-b70c-d3344d088436\" style=\"height: 525px; width: 100%;\" class=\"plotly-graph-div\"></div><script type=\"text/javascript\">require([\"plotly\"], function(Plotly) { window.PLOTLYENV=window.PLOTLYENV || {};window.PLOTLYENV.BASE_URL=\"https://plot.ly\";Plotly.newPlot(\"2a2e373b-672a-4e9c-b70c-d3344d088436\", [{\"type\": \"scatter\", \"x\": [0.4730331301689148, 0.4736453592777252, 0.4741712510585785, 0.4765183925628662, 0.48617273569107056, 0.4895400106906891, 0.4990231394767761, 0.5041764974594116, 0.5131884813308716, 0.5156211853027344, 0.5202266573905945, 0.5303126573562622, 0.5309484601020813], \"y\": [0.48484848484848486, 0.5, 0.5, 0.6, 0.631578947368421, 0.6111111111111112, 0.6470588235294118, 0.6875, 0.6666666666666666, 0.7692307692307693, 0.8181818181818182, 0.9, 0.8888888888888888], \"mode\": \"markers+lines\", \"marker\": {\"color\": \"blue\"}, \"name\": \"Precision\"}, {\"type\": \"scatter\", \"x\": [0.4730331301689148, 0.4736453592777252, 0.4741712510585785, 0.4765183925628662, 0.48617273569107056, 0.4895400106906891, 0.4990231394767761, 0.5041764974594116, 0.5131884813308716, 0.5156211853027344, 0.5202266573905945, 0.5303126573562622, 0.5309484601020813], \"y\": [1.0, 0.9375, 0.875, 0.75, 0.75, 0.6875, 0.6875, 0.6875, 0.625, 0.625, 0.5625, 0.5625, 0.5], \"mode\": \"markers+lines\", \"marker\": {\"color\": \"green\"}, \"name\": \"Recall\"}], {\"hovermode\": \"closest\", \"font\": {\"size\": 14}, \"title\": \"Precision and recall scores as a function of the decision threshold\", \"xaxis\": {\"title\": \"Decision threshold\"}, \"yaxis\": {\"title\": \"Score\"}}, {\"showLink\": true, \"linkText\": \"Export to plot.ly\"})});</script>"
      ],
      "text/vnd.plotly.v1+html": [
       "<div id=\"2a2e373b-672a-4e9c-b70c-d3344d088436\" style=\"height: 525px; width: 100%;\" class=\"plotly-graph-div\"></div><script type=\"text/javascript\">require([\"plotly\"], function(Plotly) { window.PLOTLYENV=window.PLOTLYENV || {};window.PLOTLYENV.BASE_URL=\"https://plot.ly\";Plotly.newPlot(\"2a2e373b-672a-4e9c-b70c-d3344d088436\", [{\"type\": \"scatter\", \"x\": [0.4730331301689148, 0.4736453592777252, 0.4741712510585785, 0.4765183925628662, 0.48617273569107056, 0.4895400106906891, 0.4990231394767761, 0.5041764974594116, 0.5131884813308716, 0.5156211853027344, 0.5202266573905945, 0.5303126573562622, 0.5309484601020813], \"y\": [0.48484848484848486, 0.5, 0.5, 0.6, 0.631578947368421, 0.6111111111111112, 0.6470588235294118, 0.6875, 0.6666666666666666, 0.7692307692307693, 0.8181818181818182, 0.9, 0.8888888888888888], \"mode\": \"markers+lines\", \"marker\": {\"color\": \"blue\"}, \"name\": \"Precision\"}, {\"type\": \"scatter\", \"x\": [0.4730331301689148, 0.4736453592777252, 0.4741712510585785, 0.4765183925628662, 0.48617273569107056, 0.4895400106906891, 0.4990231394767761, 0.5041764974594116, 0.5131884813308716, 0.5156211853027344, 0.5202266573905945, 0.5303126573562622, 0.5309484601020813], \"y\": [1.0, 0.9375, 0.875, 0.75, 0.75, 0.6875, 0.6875, 0.6875, 0.625, 0.625, 0.5625, 0.5625, 0.5], \"mode\": \"markers+lines\", \"marker\": {\"color\": \"green\"}, \"name\": \"Recall\"}], {\"hovermode\": \"closest\", \"font\": {\"size\": 14}, \"title\": \"Precision and recall scores as a function of the decision threshold\", \"xaxis\": {\"title\": \"Decision threshold\"}, \"yaxis\": {\"title\": \"Score\"}}, {\"showLink\": true, \"linkText\": \"Export to plot.ly\"})});</script>"
      ]
     },
     "metadata": {},
     "output_type": "display_data"
    }
   ],
   "source": [
    "t = precision_recall_vs_threshold(estimator=final_model, X=X_test, y=y_test)\n",
    "py.iplot(t, filename='fatigue/precision_recall_vs_threshold')"
   ]
  },
  {
   "cell_type": "markdown",
   "metadata": {},
   "source": [
    "### 5.D. ROC curves"
   ]
  },
  {
   "cell_type": "markdown",
   "metadata": {},
   "source": [
    "### 5.C. Classification scalar metrics"
   ]
  },
  {
   "cell_type": "code",
   "execution_count": null,
   "metadata": {},
   "outputs": [],
   "source": [
    "scklearn report"
   ]
  },
  {
   "cell_type": "markdown",
   "metadata": {},
   "source": [
    "### 5.D Feature importances"
   ]
  },
  {
   "cell_type": "markdown",
   "metadata": {},
   "source": [
    "https://plot.ly/scikit-learn/plot-forest-importances/"
   ]
  },
  {
   "cell_type": "markdown",
   "metadata": {},
   "source": [
    "## 6. Summary"
   ]
  }
 ],
 "metadata": {
  "kernelspec": {
   "display_name": "fatigue",
   "language": "python",
   "name": "fatigue"
  },
  "language_info": {
   "codemirror_mode": {
    "name": "ipython",
    "version": 3
   },
   "file_extension": ".py",
   "mimetype": "text/x-python",
   "name": "python",
   "nbconvert_exporter": "python",
   "pygments_lexer": "ipython3",
   "version": "3.6.4"
  },
  "toc": {
   "nav_menu": {},
   "number_sections": false,
   "sideBar": true,
   "skip_h1_title": true,
   "title_cell": "Table of Contents",
   "title_sidebar": "Contents",
   "toc_cell": true,
   "toc_position": {
    "height": "calc(100% - 180px)",
    "left": "10px",
    "top": "150px",
    "width": "384px"
   },
   "toc_section_display": true,
   "toc_window_display": true
  }
 },
 "nbformat": 4,
 "nbformat_minor": 2
}
