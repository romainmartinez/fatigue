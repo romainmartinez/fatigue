{
 "cells": [
  {
   "cell_type": "markdown",
   "metadata": {
    "toc": true
   },
   "source": [
    "<h1>Table of Contents<span class=\"tocSkip\"></span></h1>\n",
    "<div class=\"toc\"><ul class=\"toc-item\"><li><span><a href=\"#Todos\" data-toc-modified-id=\"Todos-1\">Todos</a></span></li><li><span><a href=\"#1.-Setup\" data-toc-modified-id=\"1.-Setup-2\">1. Setup</a></span></li><li><span><a href=\"#2.-Get-data\" data-toc-modified-id=\"2.-Get-data-3\">2. Get data</a></span><ul class=\"toc-item\"><li><span><a href=\"#2.a.-Create-feature-matrix\" data-toc-modified-id=\"2.a.-Create-feature-matrix-3.1\">2.a. Create feature matrix</a></span></li><li><span><a href=\"#2.b.-Create-label-vector\" data-toc-modified-id=\"2.b.-Create-label-vector-3.2\">2.b. Create label vector</a></span></li><li><span><a href=\"#2.c.-Create-report\" data-toc-modified-id=\"2.c.-Create-report-3.3\">2.c. Create report</a></span></li><li><span><a href=\"#2.d.-Split-data-&amp;-shuffle\" data-toc-modified-id=\"2.d.-Split-data-&amp;-shuffle-3.4\">2.d. Split data &amp; shuffle</a></span></li></ul></li><li><span><a href=\"#2.-Pipeline\" data-toc-modified-id=\"2.-Pipeline-4\">2. Pipeline</a></span><ul class=\"toc-item\"><li><span><a href=\"#2.a.-Metrics-wrap-up\" data-toc-modified-id=\"2.a.-Metrics-wrap-up-4.1\">2.a. Metrics wrap up</a></span><ul class=\"toc-item\"><li><span><a href=\"#2.a.1.-Confusion-matrix-metrics\" data-toc-modified-id=\"2.a.1.-Confusion-matrix-metrics-4.1.1\">2.a.1. Confusion matrix metrics</a></span><ul class=\"toc-item\"><li><span><a href=\"#True-negative-(TN)\" data-toc-modified-id=\"True-negative-(TN)-4.1.1.1\">True negative (TN)</a></span></li><li><span><a href=\"#False-negative-(FN)\" data-toc-modified-id=\"False-negative-(FN)-4.1.1.2\">False negative (FN)</a></span></li><li><span><a href=\"#True-positive-(TP)\" data-toc-modified-id=\"True-positive-(TP)-4.1.1.3\">True positive (TP)</a></span></li><li><span><a href=\"#False-positive-(FP)\" data-toc-modified-id=\"False-positive-(FP)-4.1.1.4\">False positive (FP)</a></span></li></ul></li><li><span><a href=\"#2.a.2.-Metrics\" data-toc-modified-id=\"2.a.2.-Metrics-4.1.2\">2.a.2. Metrics</a></span><ul class=\"toc-item\"><li><span><a href=\"#Precision\" data-toc-modified-id=\"Precision-4.1.2.1\">Precision</a></span></li><li><span><a href=\"#Recall-or-True-Positive-Rate-(TPR)\" data-toc-modified-id=\"Recall-or-True-Positive-Rate-(TPR)-4.1.2.2\">Recall or True Positive Rate (TPR)</a></span></li><li><span><a href=\"#False-Positive-Rate-(FPR)\" data-toc-modified-id=\"False-Positive-Rate-(FPR)-4.1.2.3\">False Positive Rate (FPR)</a></span></li><li><span><a href=\"#Receiver-Operating-Characteristic-curve-(ROC)\" data-toc-modified-id=\"Receiver-Operating-Characteristic-curve-(ROC)-4.1.2.4\">Receiver Operating Characteristic curve (ROC)</a></span></li><li><span><a href=\"#In-our-case\" data-toc-modified-id=\"In-our-case-4.1.2.5\">In our case</a></span></li></ul></li></ul></li><li><span><a href=\"#2.b.-Pipeline-creation\" data-toc-modified-id=\"2.b.-Pipeline-creation-4.2\">2.b. Pipeline creation</a></span></li></ul></li><li><span><a href=\"#4.-Optimization\" data-toc-modified-id=\"4.-Optimization-5\">4. Optimization</a></span><ul class=\"toc-item\"><li><span><a href=\"#4.a.-Gradient-boosting\" data-toc-modified-id=\"4.a.-Gradient-boosting-5.1\">4.a. Gradient boosting</a></span></li><li><span><a href=\"#4.b.-XGBoost\" data-toc-modified-id=\"4.b.-XGBoost-5.2\">4.b. XGBoost</a></span></li></ul></li><li><span><a href=\"#5.-Diagnostic\" data-toc-modified-id=\"5.-Diagnostic-6\">5. Diagnostic</a></span><ul class=\"toc-item\"><li><span><a href=\"#5.a.-Feature-importances\" data-toc-modified-id=\"5.a.-Feature-importances-6.1\">5.a. Feature importances</a></span></li><li><span><a href=\"#5.b.-Learning-curves\" data-toc-modified-id=\"5.b.-Learning-curves-6.2\">5.b. Learning curves</a></span></li><li><span><a href=\"#5.c.-ROC-curves\" data-toc-modified-id=\"5.c.-ROC-curves-6.3\">5.c. ROC curves</a></span></li><li><span><a href=\"#5.d.-Precision-recall-vs-threshold\" data-toc-modified-id=\"5.d.-Precision-recall-vs-threshold-6.4\">5.d. Precision-recall vs threshold</a></span></li></ul></li><li><span><a href=\"#6.-Evaluation\" data-toc-modified-id=\"6.-Evaluation-7\">6. Evaluation</a></span><ul class=\"toc-item\"><li><span><a href=\"#6.a.-Confusion-matrix\" data-toc-modified-id=\"6.a.-Confusion-matrix-7.1\">6.a. Confusion matrix</a></span></li><li><span><a href=\"#6.b.-Classification-scalar-metrics\" data-toc-modified-id=\"6.b.-Classification-scalar-metrics-7.2\">6.b. Classification scalar metrics</a></span></li></ul></li><li><span><a href=\"#7.-Summary\" data-toc-modified-id=\"7.-Summary-8\">7. Summary</a></span></li></ul></div>"
   ]
  },
  {
   "cell_type": "markdown",
   "metadata": {},
   "source": [
    "# Project Fatigue\n",
    "- GitHub [link](https://github.com/romainmartinez/fatigue)"
   ]
  },
  {
   "cell_type": "markdown",
   "metadata": {},
   "source": [
    "## Todos\n",
    "- keras/tensorflow: [link](https://medium.com/@williamkoehrsen/deep-neural-network-classifier-32c12ff46b6c)\n",
    "- model optimization\n",
    "- viz xgboost\n",
    "- add sex in pipeline\n",
    "- report html\n",
    "- feature importance\n",
    "- learning curves"
   ]
  },
  {
   "cell_type": "markdown",
   "metadata": {},
   "source": [
    "## 1. Setup"
   ]
  },
  {
   "cell_type": "code",
   "execution_count": 1,
   "metadata": {
    "run_control": {
     "marked": false
    }
   },
   "outputs": [
    {
     "data": {
      "text/html": [
       "<script>requirejs.config({paths: { 'plotly': ['https://cdn.plot.ly/plotly-latest.min']},});if(!window.Plotly) {{require(['plotly'],function(plotly) {window.Plotly=plotly;});}}</script>"
      ],
      "text/vnd.plotly.v1+html": [
       "<script>requirejs.config({paths: { 'plotly': ['https://cdn.plot.ly/plotly-latest.min']},});if(!window.Plotly) {{require(['plotly'],function(plotly) {window.Plotly=plotly;});}}</script>"
      ]
     },
     "metadata": {},
     "output_type": "display_data"
    }
   ],
   "source": [
    "# Common imports\n",
    "import scipy.io as sio\n",
    "import numpy as np\n",
    "import warnings\n",
    "import os\n",
    "\n",
    "# Figures\n",
    "OFFLINE = True\n",
    "if OFFLINE:\n",
    "    import plotly.offline as py\n",
    "    py.init_notebook_mode(connected=True)\n",
    "else:\n",
    "    import plotly.plotly as py\n",
    "import plotly.graph_objs as go\n",
    "import plotly.figure_factory as ff\n",
    "base_layout = go.Layout(hovermode='closest', font=dict(size=14))\n",
    "\n",
    "# import matplotlib.pyplot as plt\n",
    "# import seaborn as sns\n",
    "# plt.rcParams['axes.labelsize'] = 14\n",
    "# plt.rcParams['xtick.labelsize'] = 12\n",
    "# plt.rcParams['ytick.labelsize'] = 12\n",
    "# sns.set_context(\"notebook\", font_scale=1.1)\n",
    "# sns.set_style(\"ticks\")\n",
    "# plt.rcParams['pdf.fonttype'] = 42\n",
    "# plt.rcParams['ps.fonttype'] = 42\n",
    "\n",
    "# to make this notebook's output stable across runs\n",
    "RANDOM_SEED = 42\n",
    "np.random.seed(RANDOM_SEED)"
   ]
  },
  {
   "cell_type": "markdown",
   "metadata": {},
   "source": [
    "## 2. Get data"
   ]
  },
  {
   "cell_type": "code",
   "execution_count": 2,
   "metadata": {
    "run_control": {
     "marked": false
    }
   },
   "outputs": [],
   "source": [
    "DATA_PATH = os.path.join('.', 'data/')\n",
    "DATA_FILE = 'DatabaseRPT.mat'\n",
    "mat = sio.loadmat(os.path.join(DATA_PATH, DATA_FILE))['DataBaseRPT'][0, 0]"
   ]
  },
  {
   "cell_type": "markdown",
   "metadata": {},
   "source": [
    "- label\n",
    "    - `Y` (1, 162): 1 = prefatigue, 2 = fatigue\n",
    "\n",
    "- used features\n",
    "    - `AllX` (24, 162): 24 (6 DoF x 4 variables) x 162 (81 participants x 2 time points).\n",
    "    - `CAssignAll` (1, 24): AllX column assignment\n",
    "\n",
    "    - `Sex` (1, 162)\n",
    "    - `Endurance` (1, 162)\n",
    "\n",
    "- not used\n",
    "    - `BestX` (7, 162): 7 (variables with SRM>0.8) x 162 (81 participants x 2 time points) matrix. Contains data only for the most responsive variables (SRM>0.8).\n",
    "    - `CAssignBest` (1, 7): BestX column assignment.\n",
    "    - `Age` (1, 162): too much NaN.\n",
    "    - `Height` (1, 162): too much NaN.\n",
    "    - `Weight` (1, 162) Too much NaN.\n",
    "    - `SubjectKey` (1, 162): useless.\n",
    "    - `SID` (1, 162): useless."
   ]
  },
  {
   "cell_type": "markdown",
   "metadata": {},
   "source": [
    "### 2.a. Create feature matrix"
   ]
  },
  {
   "cell_type": "code",
   "execution_count": 3,
   "metadata": {
    "run_control": {
     "marked": false
    }
   },
   "outputs": [],
   "source": [
    "col_names = [i[0] for i in mat['CAssignAll'].flatten()]\n",
    "# find variable with SRM > .8\n",
    "srm_names = np.array([i[0] for i in mat['CAssignBest'].flatten()])\n",
    "srm_idx = np.in1d(col_names, srm_names)\n",
    "\n",
    "# add `AllX`\n",
    "X = mat['AllX'].T\n",
    "\n",
    "# add `Sex`\n",
    "X = np.c_[X, mat['Sex'].T]\n",
    "col_names.append('Sex')\n",
    "\n",
    "col_names = np.array(col_names)"
   ]
  },
  {
   "cell_type": "markdown",
   "metadata": {},
   "source": [
    "### 2.b. Create label vector"
   ]
  },
  {
   "cell_type": "code",
   "execution_count": 4,
   "metadata": {
    "run_control": {
     "marked": false
    }
   },
   "outputs": [],
   "source": [
    "from sklearn.preprocessing import LabelBinarizer\n",
    "y = mat['Y'].T\n",
    "y = LabelBinarizer().fit_transform(y)"
   ]
  },
  {
   "cell_type": "markdown",
   "metadata": {},
   "source": [
    "### 2.c. Create report"
   ]
  },
  {
   "cell_type": "code",
   "execution_count": 5,
   "metadata": {
    "run_control": {
     "marked": false
    }
   },
   "outputs": [],
   "source": [
    "import os.path\n",
    "import pandas as pd\n",
    "\n",
    "# create dataframe\n",
    "df = pd.DataFrame(X, columns=col_names)\n",
    "df['fatigue (label)'] = y\n",
    "\n",
    "# generate pandas report\n",
    "REPORT_FILENAME = './pandas_report.html'\n",
    "if not os.path.isfile(REPORT_FILENAME):\n",
    "    import pandas_profiling\n",
    "    report = pandas_profiling.ProfileReport(df)\n",
    "    report.to_file('./pandas_report.html')"
   ]
  },
  {
   "cell_type": "markdown",
   "metadata": {},
   "source": [
    "### 2.d. Split data & shuffle"
   ]
  },
  {
   "cell_type": "code",
   "execution_count": 6,
   "metadata": {
    "run_control": {
     "marked": false
    }
   },
   "outputs": [],
   "source": [
    "# split data & shuffle\n",
    "from sklearn.model_selection import train_test_split\n",
    "\n",
    "X_train, X_test, y_train, y_test = train_test_split(\n",
    "    X, y, test_size=0.2, random_state=RANDOM_SEED)"
   ]
  },
  {
   "cell_type": "code",
   "execution_count": 7,
   "metadata": {
    "run_control": {
     "marked": false
    }
   },
   "outputs": [
    {
     "data": {
      "text/html": [
       "<div>\n",
       "<style scoped>\n",
       "    .dataframe tbody tr th:only-of-type {\n",
       "        vertical-align: middle;\n",
       "    }\n",
       "\n",
       "    .dataframe tbody tr th {\n",
       "        vertical-align: top;\n",
       "    }\n",
       "\n",
       "    .dataframe thead th {\n",
       "        text-align: right;\n",
       "    }\n",
       "</style>\n",
       "<table border=\"1\" class=\"dataframe\">\n",
       "  <thead>\n",
       "    <tr style=\"text-align: right;\">\n",
       "      <th></th>\n",
       "      <th>AveElbFlexMean</th>\n",
       "      <th>ROMElbFlexMean</th>\n",
       "      <th>AveElbFlexSD</th>\n",
       "      <th>ROMElbFlexSD</th>\n",
       "      <th>AveShPlaneMean</th>\n",
       "      <th>ROMShPlaneMean</th>\n",
       "      <th>AveShPlaneSD</th>\n",
       "      <th>ROMShPlaneSD</th>\n",
       "      <th>AveShEleMean</th>\n",
       "      <th>ROMShEleMean</th>\n",
       "      <th>...</th>\n",
       "      <th>AveTrYMean</th>\n",
       "      <th>ROMTrYMean</th>\n",
       "      <th>AveTrYSD</th>\n",
       "      <th>ROMTrYSD</th>\n",
       "      <th>AveTrZMean</th>\n",
       "      <th>ROMTrZMean</th>\n",
       "      <th>AveTrZSD</th>\n",
       "      <th>ROMTrZSD</th>\n",
       "      <th>Sex</th>\n",
       "      <th>fatigue (label)</th>\n",
       "    </tr>\n",
       "  </thead>\n",
       "  <tbody>\n",
       "    <tr>\n",
       "      <th>0</th>\n",
       "      <td>105.983144</td>\n",
       "      <td>63.339618</td>\n",
       "      <td>2.219401</td>\n",
       "      <td>1.794134</td>\n",
       "      <td>23.518597</td>\n",
       "      <td>13.624799</td>\n",
       "      <td>1.338393</td>\n",
       "      <td>2.357813</td>\n",
       "      <td>80.274017</td>\n",
       "      <td>2.942674</td>\n",
       "      <td>...</td>\n",
       "      <td>16.382423</td>\n",
       "      <td>13.629558</td>\n",
       "      <td>1.112671</td>\n",
       "      <td>1.977798</td>\n",
       "      <td>-0.550047</td>\n",
       "      <td>2.671822</td>\n",
       "      <td>0.228494</td>\n",
       "      <td>0.711787</td>\n",
       "      <td>2.0</td>\n",
       "      <td>0</td>\n",
       "    </tr>\n",
       "    <tr>\n",
       "      <th>1</th>\n",
       "      <td>106.166216</td>\n",
       "      <td>61.875226</td>\n",
       "      <td>2.239310</td>\n",
       "      <td>2.548458</td>\n",
       "      <td>22.851141</td>\n",
       "      <td>11.726534</td>\n",
       "      <td>1.182490</td>\n",
       "      <td>1.401127</td>\n",
       "      <td>77.897777</td>\n",
       "      <td>4.062635</td>\n",
       "      <td>...</td>\n",
       "      <td>16.041630</td>\n",
       "      <td>15.078508</td>\n",
       "      <td>0.910697</td>\n",
       "      <td>1.003788</td>\n",
       "      <td>-0.208865</td>\n",
       "      <td>1.242553</td>\n",
       "      <td>0.541000</td>\n",
       "      <td>0.496108</td>\n",
       "      <td>2.0</td>\n",
       "      <td>1</td>\n",
       "    </tr>\n",
       "    <tr>\n",
       "      <th>2</th>\n",
       "      <td>100.914284</td>\n",
       "      <td>60.930029</td>\n",
       "      <td>1.482458</td>\n",
       "      <td>1.167593</td>\n",
       "      <td>27.289316</td>\n",
       "      <td>12.291697</td>\n",
       "      <td>1.223189</td>\n",
       "      <td>2.452705</td>\n",
       "      <td>83.932823</td>\n",
       "      <td>2.886935</td>\n",
       "      <td>...</td>\n",
       "      <td>15.039772</td>\n",
       "      <td>14.311074</td>\n",
       "      <td>0.979720</td>\n",
       "      <td>2.070705</td>\n",
       "      <td>0.096174</td>\n",
       "      <td>0.934767</td>\n",
       "      <td>0.488540</td>\n",
       "      <td>0.317386</td>\n",
       "      <td>2.0</td>\n",
       "      <td>0</td>\n",
       "    </tr>\n",
       "    <tr>\n",
       "      <th>3</th>\n",
       "      <td>105.066549</td>\n",
       "      <td>59.524098</td>\n",
       "      <td>2.364182</td>\n",
       "      <td>1.849991</td>\n",
       "      <td>23.083816</td>\n",
       "      <td>7.519415</td>\n",
       "      <td>1.510000</td>\n",
       "      <td>3.503819</td>\n",
       "      <td>78.701025</td>\n",
       "      <td>2.997990</td>\n",
       "      <td>...</td>\n",
       "      <td>16.070120</td>\n",
       "      <td>16.178023</td>\n",
       "      <td>1.418294</td>\n",
       "      <td>3.521951</td>\n",
       "      <td>-0.544067</td>\n",
       "      <td>1.885480</td>\n",
       "      <td>0.610577</td>\n",
       "      <td>0.851287</td>\n",
       "      <td>2.0</td>\n",
       "      <td>1</td>\n",
       "    </tr>\n",
       "    <tr>\n",
       "      <th>4</th>\n",
       "      <td>93.259333</td>\n",
       "      <td>81.531138</td>\n",
       "      <td>2.610755</td>\n",
       "      <td>3.632922</td>\n",
       "      <td>42.387152</td>\n",
       "      <td>27.789377</td>\n",
       "      <td>1.605530</td>\n",
       "      <td>2.027628</td>\n",
       "      <td>71.280986</td>\n",
       "      <td>8.000008</td>\n",
       "      <td>...</td>\n",
       "      <td>8.908385</td>\n",
       "      <td>8.815273</td>\n",
       "      <td>0.709582</td>\n",
       "      <td>1.250228</td>\n",
       "      <td>-0.123442</td>\n",
       "      <td>1.065910</td>\n",
       "      <td>0.415764</td>\n",
       "      <td>0.404298</td>\n",
       "      <td>2.0</td>\n",
       "      <td>0</td>\n",
       "    </tr>\n",
       "  </tbody>\n",
       "</table>\n",
       "<p>5 rows × 26 columns</p>\n",
       "</div>"
      ],
      "text/plain": [
       "   AveElbFlexMean  ROMElbFlexMean  AveElbFlexSD  ROMElbFlexSD  AveShPlaneMean  \\\n",
       "0      105.983144       63.339618      2.219401      1.794134       23.518597   \n",
       "1      106.166216       61.875226      2.239310      2.548458       22.851141   \n",
       "2      100.914284       60.930029      1.482458      1.167593       27.289316   \n",
       "3      105.066549       59.524098      2.364182      1.849991       23.083816   \n",
       "4       93.259333       81.531138      2.610755      3.632922       42.387152   \n",
       "\n",
       "   ROMShPlaneMean  AveShPlaneSD  ROMShPlaneSD  AveShEleMean  ROMShEleMean  \\\n",
       "0       13.624799      1.338393      2.357813     80.274017      2.942674   \n",
       "1       11.726534      1.182490      1.401127     77.897777      4.062635   \n",
       "2       12.291697      1.223189      2.452705     83.932823      2.886935   \n",
       "3        7.519415      1.510000      3.503819     78.701025      2.997990   \n",
       "4       27.789377      1.605530      2.027628     71.280986      8.000008   \n",
       "\n",
       "        ...         AveTrYMean  ROMTrYMean  AveTrYSD  ROMTrYSD  AveTrZMean  \\\n",
       "0       ...          16.382423   13.629558  1.112671  1.977798   -0.550047   \n",
       "1       ...          16.041630   15.078508  0.910697  1.003788   -0.208865   \n",
       "2       ...          15.039772   14.311074  0.979720  2.070705    0.096174   \n",
       "3       ...          16.070120   16.178023  1.418294  3.521951   -0.544067   \n",
       "4       ...           8.908385    8.815273  0.709582  1.250228   -0.123442   \n",
       "\n",
       "   ROMTrZMean  AveTrZSD  ROMTrZSD  Sex  fatigue (label)  \n",
       "0    2.671822  0.228494  0.711787  2.0                0  \n",
       "1    1.242553  0.541000  0.496108  2.0                1  \n",
       "2    0.934767  0.488540  0.317386  2.0                0  \n",
       "3    1.885480  0.610577  0.851287  2.0                1  \n",
       "4    1.065910  0.415764  0.404298  2.0                0  \n",
       "\n",
       "[5 rows x 26 columns]"
      ]
     },
     "execution_count": 7,
     "metadata": {},
     "output_type": "execute_result"
    }
   ],
   "source": [
    "df.head()"
   ]
  },
  {
   "cell_type": "markdown",
   "metadata": {},
   "source": [
    "## 2. Pipeline"
   ]
  },
  {
   "cell_type": "markdown",
   "metadata": {},
   "source": [
    "### 2.a. Metrics wrap up\n",
    "\n",
    "#### 2.a.1. Confusion matrix metrics\n",
    "\n",
    "| Predicted | Real: 1 | Real: 0 |\n",
    "|-----------|---------|---------|\n",
    "|    1      |  TP     |    FP   |\n",
    "|    0      |  FN     |    TN   |\n",
    "\n",
    "##### True negative (TN)\n",
    "We *correctly* predict that the class is *negative*.\n",
    "\n",
    "##### False negative (FN)\n",
    "We *incorrectly* predict that the class is *negative*.\n",
    "\n",
    "##### True positive (TP)\n",
    "We *correctly* predict that the class is *positive*.\n",
    "\n",
    "##### False positive (FP)\n",
    "We *incorrectly* predict that the class is *positive*.\n",
    "\n",
    "#### 2.a.2. Metrics\n",
    "\n",
    "##### Precision\n",
    "$$\\frac{TP}{\\text{n}^o \\text{predicted positives}} = \\frac{TP}{TP + FP}$$\n",
    "\n",
    "- high precision = less _false positive_\n",
    "- _example_: getting $0.8$ precision means that when it claims to detect a label, it is right $80$% of the time\n",
    "\n",
    "##### Recall or True Positive Rate (TPR)\n",
    "$$\\frac{TP}{\\text{n}^o \\text{actual positives}} = \\frac{TP}{TP + FN}$$\n",
    "\n",
    "- high recall = less _false negative_\n",
    "- _example_: getting $0.8$ recall means that it detect $80$% of the label\n",
    "\n",
    "##### False Positive Rate (FPR)\n",
    "$$\\frac{FP}{\\text{n}^o \\text{actual negatives}} = \\frac{FP}{FP + TN}$$\n",
    "\n",
    "- high FPR = more _negative data points missclassified_\n",
    "- proportion of negative data points that are mistakenly considered as positive, with respect to all negative data points\n",
    "\n",
    "##### Receiver Operating Characteristic curve (ROC)\n",
    "Compute _TPR_ and _FPR_ for many different threshold and plot FPR vs. TPR\n",
    "\n",
    "##### In our case\n",
    "We want to optimize our algorithm for the area Under the ROC curve ([wiki](https://en.wikipedia.org/wiki/Receiver_operating_characteristic#Area_under_the_curve), [stackexchange](https://stats.stackexchange.com/a/132832))."
   ]
  },
  {
   "cell_type": "markdown",
   "metadata": {},
   "source": [
    "### 2.b. Pipeline creation"
   ]
  },
  {
   "cell_type": "code",
   "execution_count": 8,
   "metadata": {
    "run_control": {
     "marked": false
    }
   },
   "outputs": [],
   "source": [
    "def get_categorical_cols(X):\n",
    "    return X[:, col_names == 'Sex']\n",
    "\n",
    "\n",
    "def get_numerical_cols(X):\n",
    "    return X[:, col_names != 'Sex']\n",
    "\n",
    "\n",
    "def get_high_srm_cols(X, srm_idx=srm_idx):\n",
    "    return X[:, srm_idx]"
   ]
  },
  {
   "cell_type": "code",
   "execution_count": 9,
   "metadata": {
    "run_control": {
     "marked": false
    }
   },
   "outputs": [],
   "source": [
    "from sklearn.pipeline import Pipeline, FeatureUnion\n",
    "from sklearn.preprocessing import FunctionTransformer\n",
    "\n",
    "# categorical\n",
    "from sklearn.preprocessing import OneHotEncoder\n",
    "\n",
    "# numerical\n",
    "from sklearn.preprocessing import StandardScaler\n",
    "from sklearn.decomposition import PCA\n",
    "from sklearn.preprocessing import PolynomialFeatures\n",
    "\n",
    "pipeline_categorical = Pipeline([\n",
    "    ('selector', FunctionTransformer(get_categorical_cols, validate=False)),\n",
    "    ('encoder', OneHotEncoder(sparse=False))\n",
    "])\n",
    "\n",
    "pipeline_numerical = Pipeline([\n",
    "    ('selector', FunctionTransformer(get_numerical_cols, validate=False)),\n",
    "    ('selecthighsrm', FunctionTransformer(get_high_srm_cols, validate=False)),\n",
    "    ('scale', StandardScaler()),\n",
    "    ('polyfeatures', PolynomialFeatures(degree=2))\n",
    "])\n",
    "\n",
    "pipeline_preprocessing = FeatureUnion([\n",
    "    ('categorical', pipeline_categorical),\n",
    "    ('numerical', pipeline_numerical)\n",
    "])"
   ]
  },
  {
   "cell_type": "code",
   "execution_count": 10,
   "metadata": {
    "run_control": {
     "marked": false
    }
   },
   "outputs": [],
   "source": [
    "from sklearn.model_selection import GridSearchCV\n",
    "import pprint\n",
    "\n",
    "\n",
    "class GridSearchWrapper:\n",
    "    def __init__(self, base_pipeline, model, param_grid, scoring):\n",
    "        self.base_pipeline = base_pipeline\n",
    "        self.model = model\n",
    "        self.param_grid = param_grid\n",
    "        self.scoring = scoring\n",
    "    \n",
    "    def fit(self, X, y):\n",
    "        pipeline = Pipeline([\n",
    "            ('preprocessing', self.base_pipeline),\n",
    "            ('pca', PCA(n_components=0.99, svd_solver='full')),\n",
    "            ('classifier', self.model)\n",
    "        ])\n",
    "        \n",
    "        self.grid_search = GridSearchCV(pipeline,\n",
    "                                        self.param_grid,\n",
    "                                        scoring=self.scoring,\n",
    "                                        cv=5,\n",
    "                                        n_jobs=-1,\n",
    "                                        verbose=1)\n",
    "        self.grid_search.fit(X, y)\n",
    "    \n",
    "    def print_scores(self):\n",
    "        print(f'best score ({self.scoring}): {self.grid_search.best_score_:.3f}')\n",
    "        print('\\nbest params:')\n",
    "        pprint.pprint(self.grid_search.best_params_)"
   ]
  },
  {
   "cell_type": "code",
   "execution_count": 11,
   "metadata": {
    "run_control": {
     "marked": false
    }
   },
   "outputs": [],
   "source": [
    "# wide\n",
    "# param_grid = {\n",
    "#     'preprocessing__numerical__selecthighsrm': [None, FunctionTransformer(get_high_srm_cols, validate=False)],\n",
    "#     'preprocessing__numerical__polyfeatures': [None, PolynomialFeatures(degree=1), PolynomialFeatures(degree=2),\n",
    "#                                                PolynomialFeatures(degree=3)],\n",
    "#     'preprocessing__numerical__scale': [None, StandardScaler()],\n",
    "#     'pca': [None, PCA(n_components=0.99, svd_solver='full')]\n",
    "# }\n",
    "\n",
    "# selected\n",
    "param_grid = {\n",
    "    'preprocessing__numerical__selecthighsrm': [None, FunctionTransformer(get_high_srm_cols, validate=False)],\n",
    "    'preprocessing__numerical__polyfeatures': [None],\n",
    "    'preprocessing__numerical__scale': [None, StandardScaler()],\n",
    "    'pca': [None]\n",
    "}\n",
    "\n",
    "scoring = 'roc_auc'\n",
    "model = {}"
   ]
  },
  {
   "cell_type": "markdown",
   "metadata": {},
   "source": [
    "## 4. Optimization"
   ]
  },
  {
   "cell_type": "markdown",
   "metadata": {},
   "source": [
    "### 4.a. Gradient boosting"
   ]
  },
  {
   "cell_type": "code",
   "execution_count": 36,
   "metadata": {
    "run_control": {
     "marked": false
    }
   },
   "outputs": [],
   "source": [
    "# from sklearn.ensemble import GradientBoostingClassifier\n",
    "\n",
    "# model_param = {\n",
    "#     'learning_rate': 0.001,\n",
    "#     'max_depth': 1,\n",
    "#     'max_features': 0.75,\n",
    "#     'min_samples_leaf': 7,\n",
    "#     'min_samples_split': 16,\n",
    "#     'n_estimators': 100,\n",
    "#     'subsample': 0.3,\n",
    "#     'random_state': RANDOM_SEED\n",
    "# }\n",
    "\n",
    "# wrapper = GridSearchWrapper(\n",
    "#     base_pipeline=pipeline_preprocessing,\n",
    "#     model=GradientBoostingClassifier(**model_param),\n",
    "#     param_grid=param_grid,\n",
    "#     scoring=scoring)\n",
    "\n",
    "# wrapper.fit(X_train, y_train.ravel())"
   ]
  },
  {
   "cell_type": "code",
   "execution_count": 37,
   "metadata": {
    "run_control": {
     "marked": false
    }
   },
   "outputs": [],
   "source": [
    "# wrapper.print_scores()\n",
    "# model['gradboost'] = wrapper.grid_search.best_estimator_"
   ]
  },
  {
   "cell_type": "markdown",
   "metadata": {},
   "source": [
    "### 4.b. XGBoost"
   ]
  },
  {
   "cell_type": "markdown",
   "metadata": {},
   "source": [
    "https://jessesw.com/XG-Boost/"
   ]
  },
  {
   "cell_type": "code",
   "execution_count": 14,
   "metadata": {
    "run_control": {
     "marked": false
    }
   },
   "outputs": [
    {
     "name": "stdout",
     "output_type": "stream",
     "text": [
      "Fitting 5 folds for each of 4 candidates, totalling 20 fits\n"
     ]
    },
    {
     "name": "stderr",
     "output_type": "stream",
     "text": [
      "[Parallel(n_jobs=-1)]: Done  20 out of  20 | elapsed:    0.2s finished\n"
     ]
    }
   ],
   "source": [
    "from xgboost import XGBClassifier\n",
    "\n",
    "model_param = {\n",
    "    'learning_rate': 0.001,\n",
    "    'max_depth': 1,\n",
    "    'max_features': 0.75,\n",
    "    'min_samples_leaf': 7,\n",
    "    'min_samples_split': 16,\n",
    "    'n_estimators': 100,\n",
    "    'subsample': 0.3,\n",
    "    'random_state': RANDOM_SEED\n",
    "}\n",
    "\n",
    "warnings.simplefilter('ignore')\n",
    "wrapper = GridSearchWrapper(\n",
    "    base_pipeline=pipeline_preprocessing,\n",
    "    model=XGBClassifier(**model_param),\n",
    "    param_grid=param_grid,\n",
    "    scoring=scoring)\n",
    "\n",
    "wrapper.fit(X_train, y_train.ravel())\n",
    "warnings.simplefilter('default')"
   ]
  },
  {
   "cell_type": "code",
   "execution_count": 15,
   "metadata": {
    "run_control": {
     "marked": false
    }
   },
   "outputs": [
    {
     "name": "stdout",
     "output_type": "stream",
     "text": [
      "best score (roc_auc): 0.900\n",
      "\n",
      "best params:\n",
      "{'pca': None,\n",
      " 'preprocessing__numerical__polyfeatures': None,\n",
      " 'preprocessing__numerical__scale': None,\n",
      " 'preprocessing__numerical__selecthighsrm': None}\n"
     ]
    }
   ],
   "source": [
    "wrapper.print_scores()\n",
    "model['xgboost'] = wrapper.grid_search.best_estimator_"
   ]
  },
  {
   "cell_type": "markdown",
   "metadata": {},
   "source": [
    "## 5. Diagnostic"
   ]
  },
  {
   "cell_type": "code",
   "execution_count": 41,
   "metadata": {},
   "outputs": [],
   "source": [
    "from sklearn.model_selection import cross_val_predict\n",
    "\n",
    "final_model = model['xgboost']\n",
    "y_scores = cross_val_predict(\n",
    "    final_model, X_train, y_train.ravel(), cv=5, method='predict_proba')"
   ]
  },
  {
   "cell_type": "markdown",
   "metadata": {},
   "source": [
    "### 5.a. Feature importances"
   ]
  },
  {
   "cell_type": "markdown",
   "metadata": {},
   "source": [
    "https://plot.ly/scikit-learn/plot-forest-importances/"
   ]
  },
  {
   "cell_type": "markdown",
   "metadata": {},
   "source": [
    "### 5.b. Learning curves"
   ]
  },
  {
   "cell_type": "code",
   "execution_count": 18,
   "metadata": {},
   "outputs": [],
   "source": [
    "from sklearn.model_selection import learning_curve\n",
    "\n",
    "\n",
    "def plot_learning_curve(\n",
    "        estimator,\n",
    "        X,\n",
    "        y,\n",
    "        scoring='roc_auc',\n",
    "        cv=None,\n",
    "        n_jobs=1,\n",
    "        train_sizes=np.linspace(.1, 1.0, 5),\n",
    "):\n",
    "    warnings.simplefilter('ignore')  # ignore scikit-learn warnings\n",
    "    train_sizes, train_scores, test_scores = learning_curve(\n",
    "        estimator,\n",
    "        X,\n",
    "        y,\n",
    "        scoring=scoring,\n",
    "        cv=cv,\n",
    "        n_jobs=n_jobs,\n",
    "        train_sizes=train_sizes)\n",
    "    warnings.simplefilter('default')\n",
    "\n",
    "    train_scores_mean = np.mean(train_scores, axis=1)\n",
    "    train_scores_std = np.std(train_scores, axis=1)\n",
    "\n",
    "    test_scores_mean = np.mean(test_scores, axis=1)\n",
    "    test_scores_std = np.std(test_scores, axis=1)\n",
    "\n",
    "    trace = []\n",
    "\n",
    "    # training mean\n",
    "    trace.append(\n",
    "        go.Scatter(\n",
    "            x=train_sizes,\n",
    "            y=train_scores_mean,\n",
    "            marker=dict(color='red'),\n",
    "            name='Training score'))\n",
    "\n",
    "    # training std\n",
    "    trace.append(\n",
    "        go.Scatter(\n",
    "            x=train_sizes,\n",
    "            y=train_scores_mean + train_scores_std,\n",
    "            mode='lines',\n",
    "            line=dict(color='red', width=1),\n",
    "            showlegend=False))\n",
    "\n",
    "    trace.append(\n",
    "        go.Scatter(\n",
    "            x=train_sizes,\n",
    "            y=train_scores_mean - train_scores_std,\n",
    "            mode='lines',\n",
    "            line=dict(color='red', width=1),\n",
    "            fill='tonexty',\n",
    "            showlegend=False))\n",
    "\n",
    "    # test mean\n",
    "    trace.append(\n",
    "        go.Scatter(\n",
    "            x=train_sizes,\n",
    "            y=test_scores_mean,\n",
    "            marker=dict(color='green'),\n",
    "            name='Cross-validation score'))\n",
    "\n",
    "    # test std\n",
    "    trace.append(\n",
    "        go.Scatter(\n",
    "            x=train_sizes,\n",
    "            y=test_scores_mean + test_scores_std,\n",
    "            mode='lines',\n",
    "            line=dict(color='green', width=1),\n",
    "            showlegend=False))\n",
    "\n",
    "    trace.append(\n",
    "        go.Scatter(\n",
    "            x=train_sizes,\n",
    "            y=test_scores_mean - test_scores_std,\n",
    "            mode='lines',\n",
    "            line=dict(color='green', width=1),\n",
    "            fill='tonexty',\n",
    "            showlegend=False))\n",
    "\n",
    "    data = [itrace for itrace in trace]\n",
    "    layout = base_layout.copy()\n",
    "    layout.update(\n",
    "        dict(\n",
    "            title='Learning curves',\n",
    "            xaxis=dict(\n",
    "                title='Training examples', showline=True, linewidth=1.5),\n",
    "            yaxis=dict(title='Score (ROC AUC)', showline=True, linewidth=1.5)))\n",
    "    fig = dict(data=data, layout=layout)\n",
    "    return fig"
   ]
  },
  {
   "cell_type": "code",
   "execution_count": 19,
   "metadata": {},
   "outputs": [
    {
     "data": {
      "application/vnd.plotly.v1+json": {
       "data": [
        {
         "marker": {
          "color": "red"
         },
         "name": "Training score",
         "type": "scatter",
         "x": [
          10,
          20,
          30,
          41,
          51,
          61,
          72,
          82,
          92,
          103
         ],
         "y": [
          0.5,
          0.9362689393939394,
          0.9632337858220211,
          0.9692549019607842,
          0.9573920770587436,
          0.9493562351626869,
          0.9419942144709946,
          0.9448809523809523,
          0.9293560606060606,
          0.9203619909502263
         ]
        },
        {
         "line": {
          "color": "red",
          "width": 1
         },
         "mode": "lines",
         "showlegend": false,
         "type": "scatter",
         "x": [
          10,
          20,
          30,
          41,
          51,
          61,
          72,
          82,
          92,
          103
         ],
         "y": [
          0.5,
          0.9603219696969697,
          0.9926778741307286,
          0.9894273229038717,
          0.9753416748594543,
          0.9591073280567741,
          0.9554445143253912,
          0.9580979190759538,
          0.9393885777561735,
          0.9301873532808184
         ]
        },
        {
         "fill": "tonexty",
         "line": {
          "color": "red",
          "width": 1
         },
         "mode": "lines",
         "showlegend": false,
         "type": "scatter",
         "x": [
          10,
          20,
          30,
          41,
          51,
          61,
          72,
          82,
          92,
          103
         ],
         "y": [
          0.5,
          0.9122159090909091,
          0.9337896975133136,
          0.9490824810176968,
          0.9394424792580329,
          0.9396051422685996,
          0.928543914616598,
          0.9316639856859508,
          0.9193235434559477,
          0.9105366286196342
         ]
        },
        {
         "marker": {
          "color": "green"
         },
         "name": "Cross-validation score",
         "type": "scatter",
         "x": [
          10,
          20,
          30,
          41,
          51,
          61,
          72,
          82,
          92,
          103
         ],
         "y": [
          0.5,
          0.7716469428007889,
          0.8788954635108481,
          0.8571005917159763,
          0.876232741617357,
          0.8938856015779093,
          0.8873767258382642,
          0.8929980276134122,
          0.8900394477317555,
          0.9024654832347141
         ]
        },
        {
         "line": {
          "color": "green",
          "width": 1
         },
         "mode": "lines",
         "showlegend": false,
         "type": "scatter",
         "x": [
          10,
          20,
          30,
          41,
          51,
          61,
          72,
          82,
          92,
          103
         ],
         "y": [
          0.5,
          0.8409666511208009,
          0.9287558984120708,
          0.9244081214641382,
          0.9197259902785009,
          0.927297620793467,
          0.9344932393243901,
          0.9311753011051026,
          0.9291230730828982,
          0.941953135618943
         ]
        },
        {
         "fill": "tonexty",
         "line": {
          "color": "green",
          "width": 1
         },
         "mode": "lines",
         "showlegend": false,
         "type": "scatter",
         "x": [
          10,
          20,
          30,
          41,
          51,
          61,
          72,
          82,
          92,
          103
         ],
         "y": [
          0.5,
          0.7023272344807769,
          0.8290350286096254,
          0.7897930619678144,
          0.8327394929562131,
          0.8604735823623516,
          0.8402602123521383,
          0.8548207541217218,
          0.8509558223806127,
          0.8629778308504852
         ]
        }
       ],
       "layout": {
        "font": {
         "size": 14
        },
        "hovermode": "closest",
        "title": "Learning curves",
        "xaxis": {
         "linewidth": 1.5,
         "showline": true,
         "title": "Training examples"
        },
        "yaxis": {
         "linewidth": 1.5,
         "showline": true,
         "title": "Score (ROC AUC)"
        }
       }
      },
      "text/html": [
       "<div id=\"2a18e5e4-94c3-486e-8fb6-3cc613e8947a\" style=\"height: 525px; width: 100%;\" class=\"plotly-graph-div\"></div><script type=\"text/javascript\">require([\"plotly\"], function(Plotly) { window.PLOTLYENV=window.PLOTLYENV || {};window.PLOTLYENV.BASE_URL=\"https://plot.ly\";Plotly.newPlot(\"2a18e5e4-94c3-486e-8fb6-3cc613e8947a\", [{\"type\": \"scatter\", \"x\": [10, 20, 30, 41, 51, 61, 72, 82, 92, 103], \"y\": [0.5, 0.9362689393939394, 0.9632337858220211, 0.9692549019607842, 0.9573920770587436, 0.9493562351626869, 0.9419942144709946, 0.9448809523809523, 0.9293560606060606, 0.9203619909502263], \"marker\": {\"color\": \"red\"}, \"name\": \"Training score\"}, {\"type\": \"scatter\", \"x\": [10, 20, 30, 41, 51, 61, 72, 82, 92, 103], \"y\": [0.5, 0.9603219696969697, 0.9926778741307286, 0.9894273229038717, 0.9753416748594543, 0.9591073280567741, 0.9554445143253912, 0.9580979190759538, 0.9393885777561735, 0.9301873532808184], \"mode\": \"lines\", \"line\": {\"color\": \"red\", \"width\": 1}, \"showlegend\": false}, {\"type\": \"scatter\", \"x\": [10, 20, 30, 41, 51, 61, 72, 82, 92, 103], \"y\": [0.5, 0.9122159090909091, 0.9337896975133136, 0.9490824810176968, 0.9394424792580329, 0.9396051422685996, 0.928543914616598, 0.9316639856859508, 0.9193235434559477, 0.9105366286196342], \"mode\": \"lines\", \"line\": {\"color\": \"red\", \"width\": 1}, \"fill\": \"tonexty\", \"showlegend\": false}, {\"type\": \"scatter\", \"x\": [10, 20, 30, 41, 51, 61, 72, 82, 92, 103], \"y\": [0.5, 0.7716469428007889, 0.8788954635108481, 0.8571005917159763, 0.876232741617357, 0.8938856015779093, 0.8873767258382642, 0.8929980276134122, 0.8900394477317555, 0.9024654832347141], \"marker\": {\"color\": \"green\"}, \"name\": \"Cross-validation score\"}, {\"type\": \"scatter\", \"x\": [10, 20, 30, 41, 51, 61, 72, 82, 92, 103], \"y\": [0.5, 0.8409666511208009, 0.9287558984120708, 0.9244081214641382, 0.9197259902785009, 0.927297620793467, 0.9344932393243901, 0.9311753011051026, 0.9291230730828982, 0.941953135618943], \"mode\": \"lines\", \"line\": {\"color\": \"green\", \"width\": 1}, \"showlegend\": false}, {\"type\": \"scatter\", \"x\": [10, 20, 30, 41, 51, 61, 72, 82, 92, 103], \"y\": [0.5, 0.7023272344807769, 0.8290350286096254, 0.7897930619678144, 0.8327394929562131, 0.8604735823623516, 0.8402602123521383, 0.8548207541217218, 0.8509558223806127, 0.8629778308504852], \"mode\": \"lines\", \"line\": {\"color\": \"green\", \"width\": 1}, \"fill\": \"tonexty\", \"showlegend\": false}], {\"hovermode\": \"closest\", \"font\": {\"size\": 14}, \"title\": \"Learning curves\", \"xaxis\": {\"title\": \"Training examples\", \"showline\": true, \"linewidth\": 1.5}, \"yaxis\": {\"title\": \"Score (ROC AUC)\", \"showline\": true, \"linewidth\": 1.5}}, {\"showLink\": true, \"linkText\": \"Export to plot.ly\"})});</script>"
      ],
      "text/vnd.plotly.v1+html": [
       "<div id=\"2a18e5e4-94c3-486e-8fb6-3cc613e8947a\" style=\"height: 525px; width: 100%;\" class=\"plotly-graph-div\"></div><script type=\"text/javascript\">require([\"plotly\"], function(Plotly) { window.PLOTLYENV=window.PLOTLYENV || {};window.PLOTLYENV.BASE_URL=\"https://plot.ly\";Plotly.newPlot(\"2a18e5e4-94c3-486e-8fb6-3cc613e8947a\", [{\"type\": \"scatter\", \"x\": [10, 20, 30, 41, 51, 61, 72, 82, 92, 103], \"y\": [0.5, 0.9362689393939394, 0.9632337858220211, 0.9692549019607842, 0.9573920770587436, 0.9493562351626869, 0.9419942144709946, 0.9448809523809523, 0.9293560606060606, 0.9203619909502263], \"marker\": {\"color\": \"red\"}, \"name\": \"Training score\"}, {\"type\": \"scatter\", \"x\": [10, 20, 30, 41, 51, 61, 72, 82, 92, 103], \"y\": [0.5, 0.9603219696969697, 0.9926778741307286, 0.9894273229038717, 0.9753416748594543, 0.9591073280567741, 0.9554445143253912, 0.9580979190759538, 0.9393885777561735, 0.9301873532808184], \"mode\": \"lines\", \"line\": {\"color\": \"red\", \"width\": 1}, \"showlegend\": false}, {\"type\": \"scatter\", \"x\": [10, 20, 30, 41, 51, 61, 72, 82, 92, 103], \"y\": [0.5, 0.9122159090909091, 0.9337896975133136, 0.9490824810176968, 0.9394424792580329, 0.9396051422685996, 0.928543914616598, 0.9316639856859508, 0.9193235434559477, 0.9105366286196342], \"mode\": \"lines\", \"line\": {\"color\": \"red\", \"width\": 1}, \"fill\": \"tonexty\", \"showlegend\": false}, {\"type\": \"scatter\", \"x\": [10, 20, 30, 41, 51, 61, 72, 82, 92, 103], \"y\": [0.5, 0.7716469428007889, 0.8788954635108481, 0.8571005917159763, 0.876232741617357, 0.8938856015779093, 0.8873767258382642, 0.8929980276134122, 0.8900394477317555, 0.9024654832347141], \"marker\": {\"color\": \"green\"}, \"name\": \"Cross-validation score\"}, {\"type\": \"scatter\", \"x\": [10, 20, 30, 41, 51, 61, 72, 82, 92, 103], \"y\": [0.5, 0.8409666511208009, 0.9287558984120708, 0.9244081214641382, 0.9197259902785009, 0.927297620793467, 0.9344932393243901, 0.9311753011051026, 0.9291230730828982, 0.941953135618943], \"mode\": \"lines\", \"line\": {\"color\": \"green\", \"width\": 1}, \"showlegend\": false}, {\"type\": \"scatter\", \"x\": [10, 20, 30, 41, 51, 61, 72, 82, 92, 103], \"y\": [0.5, 0.7023272344807769, 0.8290350286096254, 0.7897930619678144, 0.8327394929562131, 0.8604735823623516, 0.8402602123521383, 0.8548207541217218, 0.8509558223806127, 0.8629778308504852], \"mode\": \"lines\", \"line\": {\"color\": \"green\", \"width\": 1}, \"fill\": \"tonexty\", \"showlegend\": false}], {\"hovermode\": \"closest\", \"font\": {\"size\": 14}, \"title\": \"Learning curves\", \"xaxis\": {\"title\": \"Training examples\", \"showline\": true, \"linewidth\": 1.5}, \"yaxis\": {\"title\": \"Score (ROC AUC)\", \"showline\": true, \"linewidth\": 1.5}}, {\"showLink\": true, \"linkText\": \"Export to plot.ly\"})});</script>"
      ]
     },
     "metadata": {},
     "output_type": "display_data"
    }
   ],
   "source": [
    "l = plot_learning_curve(\n",
    "    estimator=final_model,\n",
    "    X=X_train,\n",
    "    y=y_train.ravel(),\n",
    "    scoring=scoring,\n",
    "    cv=5,\n",
    "    train_sizes=np.linspace(.1, 1.0, 10))\n",
    "py.iplot(l, filename='fatigue/learning_curve')"
   ]
  },
  {
   "cell_type": "markdown",
   "metadata": {},
   "source": [
    "### 5.c. ROC curves"
   ]
  },
  {
   "cell_type": "code",
   "execution_count": 29,
   "metadata": {},
   "outputs": [],
   "source": [
    "from sklearn.metrics import roc_curve, roc_auc_score\n",
    "\n",
    "\n",
    "def plot_roc_curve(estimator, X, y):\n",
    "    y_scores = estimator.predict_proba(X)[:, 1]\n",
    "    fpr, tpr, auc_thresholds = roc_curve(y, y_scores)\n",
    "    roc_auc = roc_auc_score(y, y_scores)\n",
    "\n",
    "    trace_roc = go.Scatter(\n",
    "        x=fpr,\n",
    "        y=tpr,\n",
    "        mode='lines',\n",
    "        line=dict(color='blue'),\n",
    "        name=f'ROC curve (AUC = {roc_auc:.2f})',\n",
    "        fill='tozeroy')\n",
    "\n",
    "    trace_random = go.Scatter(\n",
    "        x=[0, 1],\n",
    "        y=[0, 1],\n",
    "        mode='lines',\n",
    "        line=dict(color='black', dash='dash'),\n",
    "        name='Random')\n",
    "\n",
    "    data = [trace_roc, trace_random]\n",
    "\n",
    "    layout = base_layout\n",
    "    layout.update(\n",
    "        dict(\n",
    "            title=\n",
    "            f'Receiver operating characteristic curve (roc auc = {roc_auc:.2f})',\n",
    "            xaxis=dict(\n",
    "                title='False positive rate', showline=True, linewidth=1.5),\n",
    "            yaxis=dict(\n",
    "                title='True positive rate',\n",
    "                showline=True,\n",
    "                linewidth=1.5,\n",
    "                zeroline=False)))\n",
    "    fig = dict(data=data, layout=layout)\n",
    "    return fig"
   ]
  },
  {
   "cell_type": "code",
   "execution_count": 30,
   "metadata": {},
   "outputs": [
    {
     "data": {
      "application/vnd.plotly.v1+json": {
       "data": [
        {
         "fill": "tozeroy",
         "line": {
          "color": "blue"
         },
         "mode": "lines",
         "name": "ROC curve (AUC = 0.92)",
         "type": "scatter",
         "x": [
          0,
          0,
          0.015625,
          0.015625,
          0.03125,
          0.03125,
          0.046875,
          0.046875,
          0.0625,
          0.0625,
          0.09375,
          0.09375,
          0.140625,
          0.140625,
          0.21875,
          0.21875,
          0.234375,
          0.234375,
          0.28125,
          0.28125,
          0.296875,
          0.296875,
          0.3125,
          0.3125,
          0.359375,
          0.359375,
          0.390625,
          0.390625,
          0.453125,
          0.453125,
          0.484375,
          0.484375,
          0.828125,
          0.828125,
          0.96875,
          1
         ],
         "y": [
          0.07692307692307693,
          0.46153846153846156,
          0.46153846153846156,
          0.5384615384615384,
          0.5384615384615384,
          0.6461538461538462,
          0.6461538461538462,
          0.6615384615384615,
          0.6615384615384615,
          0.7230769230769231,
          0.7230769230769231,
          0.8307692307692308,
          0.8307692307692308,
          0.8461538461538461,
          0.8461538461538461,
          0.8615384615384616,
          0.8615384615384616,
          0.8769230769230769,
          0.8769230769230769,
          0.8923076923076924,
          0.8923076923076924,
          0.9076923076923077,
          0.9076923076923077,
          0.9230769230769231,
          0.9230769230769231,
          0.9384615384615385,
          0.9384615384615385,
          0.9538461538461539,
          0.9538461538461539,
          0.9692307692307692,
          0.9692307692307692,
          0.9846153846153847,
          0.9846153846153847,
          1,
          1,
          1
         ]
        },
        {
         "line": {
          "color": "black",
          "dash": "dash"
         },
         "mode": "lines",
         "name": "Random",
         "type": "scatter",
         "x": [
          0,
          1
         ],
         "y": [
          0,
          1
         ]
        }
       ],
       "layout": {
        "font": {
         "size": 14
        },
        "hovermode": "closest",
        "title": "Receiver operating characteristic curve (roc auc = 0.92)",
        "xaxis": {
         "linewidth": 1.5,
         "showline": true,
         "title": "False positive rate"
        },
        "yaxis": {
         "linewidth": 1.5,
         "showline": true,
         "title": "True positive rate",
         "zeroline": false
        }
       }
      },
      "text/html": [
       "<div id=\"129d9b23-92e7-4620-9c8d-f3a961b282ea\" style=\"height: 525px; width: 100%;\" class=\"plotly-graph-div\"></div><script type=\"text/javascript\">require([\"plotly\"], function(Plotly) { window.PLOTLYENV=window.PLOTLYENV || {};window.PLOTLYENV.BASE_URL=\"https://plot.ly\";Plotly.newPlot(\"129d9b23-92e7-4620-9c8d-f3a961b282ea\", [{\"type\": \"scatter\", \"x\": [0.0, 0.0, 0.015625, 0.015625, 0.03125, 0.03125, 0.046875, 0.046875, 0.0625, 0.0625, 0.09375, 0.09375, 0.140625, 0.140625, 0.21875, 0.21875, 0.234375, 0.234375, 0.28125, 0.28125, 0.296875, 0.296875, 0.3125, 0.3125, 0.359375, 0.359375, 0.390625, 0.390625, 0.453125, 0.453125, 0.484375, 0.484375, 0.828125, 0.828125, 0.96875, 1.0], \"y\": [0.07692307692307693, 0.46153846153846156, 0.46153846153846156, 0.5384615384615384, 0.5384615384615384, 0.6461538461538462, 0.6461538461538462, 0.6615384615384615, 0.6615384615384615, 0.7230769230769231, 0.7230769230769231, 0.8307692307692308, 0.8307692307692308, 0.8461538461538461, 0.8461538461538461, 0.8615384615384616, 0.8615384615384616, 0.8769230769230769, 0.8769230769230769, 0.8923076923076924, 0.8923076923076924, 0.9076923076923077, 0.9076923076923077, 0.9230769230769231, 0.9230769230769231, 0.9384615384615385, 0.9384615384615385, 0.9538461538461539, 0.9538461538461539, 0.9692307692307692, 0.9692307692307692, 0.9846153846153847, 0.9846153846153847, 1.0, 1.0, 1.0], \"mode\": \"lines\", \"line\": {\"color\": \"blue\"}, \"name\": \"ROC curve (AUC = 0.92)\", \"fill\": \"tozeroy\"}, {\"type\": \"scatter\", \"x\": [0, 1], \"y\": [0, 1], \"mode\": \"lines\", \"line\": {\"color\": \"black\", \"dash\": \"dash\"}, \"name\": \"Random\"}], {\"hovermode\": \"closest\", \"font\": {\"size\": 14}, \"title\": \"Receiver operating characteristic curve (roc auc = 0.92)\", \"xaxis\": {\"title\": \"False positive rate\", \"showline\": true, \"linewidth\": 1.5}, \"yaxis\": {\"title\": \"True positive rate\", \"showline\": true, \"linewidth\": 1.5, \"zeroline\": false}}, {\"showLink\": true, \"linkText\": \"Export to plot.ly\"})});</script>"
      ],
      "text/vnd.plotly.v1+html": [
       "<div id=\"129d9b23-92e7-4620-9c8d-f3a961b282ea\" style=\"height: 525px; width: 100%;\" class=\"plotly-graph-div\"></div><script type=\"text/javascript\">require([\"plotly\"], function(Plotly) { window.PLOTLYENV=window.PLOTLYENV || {};window.PLOTLYENV.BASE_URL=\"https://plot.ly\";Plotly.newPlot(\"129d9b23-92e7-4620-9c8d-f3a961b282ea\", [{\"type\": \"scatter\", \"x\": [0.0, 0.0, 0.015625, 0.015625, 0.03125, 0.03125, 0.046875, 0.046875, 0.0625, 0.0625, 0.09375, 0.09375, 0.140625, 0.140625, 0.21875, 0.21875, 0.234375, 0.234375, 0.28125, 0.28125, 0.296875, 0.296875, 0.3125, 0.3125, 0.359375, 0.359375, 0.390625, 0.390625, 0.453125, 0.453125, 0.484375, 0.484375, 0.828125, 0.828125, 0.96875, 1.0], \"y\": [0.07692307692307693, 0.46153846153846156, 0.46153846153846156, 0.5384615384615384, 0.5384615384615384, 0.6461538461538462, 0.6461538461538462, 0.6615384615384615, 0.6615384615384615, 0.7230769230769231, 0.7230769230769231, 0.8307692307692308, 0.8307692307692308, 0.8461538461538461, 0.8461538461538461, 0.8615384615384616, 0.8615384615384616, 0.8769230769230769, 0.8769230769230769, 0.8923076923076924, 0.8923076923076924, 0.9076923076923077, 0.9076923076923077, 0.9230769230769231, 0.9230769230769231, 0.9384615384615385, 0.9384615384615385, 0.9538461538461539, 0.9538461538461539, 0.9692307692307692, 0.9692307692307692, 0.9846153846153847, 0.9846153846153847, 1.0, 1.0, 1.0], \"mode\": \"lines\", \"line\": {\"color\": \"blue\"}, \"name\": \"ROC curve (AUC = 0.92)\", \"fill\": \"tozeroy\"}, {\"type\": \"scatter\", \"x\": [0, 1], \"y\": [0, 1], \"mode\": \"lines\", \"line\": {\"color\": \"black\", \"dash\": \"dash\"}, \"name\": \"Random\"}], {\"hovermode\": \"closest\", \"font\": {\"size\": 14}, \"title\": \"Receiver operating characteristic curve (roc auc = 0.92)\", \"xaxis\": {\"title\": \"False positive rate\", \"showline\": true, \"linewidth\": 1.5}, \"yaxis\": {\"title\": \"True positive rate\", \"showline\": true, \"linewidth\": 1.5, \"zeroline\": false}}, {\"showLink\": true, \"linkText\": \"Export to plot.ly\"})});</script>"
      ]
     },
     "metadata": {},
     "output_type": "display_data"
    }
   ],
   "source": [
    "r = plot_roc_curve(estimator=final_model, X=X_train, y=y_train)\n",
    "\n",
    "py.iplot(r, filename='fatigue/roc_curve')"
   ]
  },
  {
   "cell_type": "markdown",
   "metadata": {},
   "source": [
    "### 5.d. Precision-recall vs threshold"
   ]
  },
  {
   "cell_type": "code",
   "execution_count": 27,
   "metadata": {},
   "outputs": [],
   "source": [
    "from sklearn.metrics import precision_recall_curve\n",
    "\n",
    "def precision_recall_vs_threshold(estimator, X, y):\n",
    "    y_scores = estimator.predict_proba(X)[:, 1]\n",
    "    precision, recall, thresholds = precision_recall_curve(y, y_scores)\n",
    "\n",
    "    trace_precision = go.Scatter(\n",
    "        x=thresholds,\n",
    "        y=precision[:-1],\n",
    "        mode='lines',\n",
    "        line=dict(color='blue'),\n",
    "        name='Precision')\n",
    "\n",
    "    trace_recall = go.Scatter(\n",
    "        x=thresholds,\n",
    "        y=recall[:-1],\n",
    "        mode='lines',\n",
    "        line=dict(color='green'),\n",
    "        name='Recall')\n",
    "\n",
    "    data = [trace_precision, trace_recall]\n",
    "    \n",
    "    layout = base_layout\n",
    "    layout.update(\n",
    "        dict(\n",
    "            title='Precision and recall scores as a function of the decision threshold',\n",
    "            xaxis=dict(title='Decision threshold', showline=True, linewidth=1.5),\n",
    "            yaxis=dict(title='Score', showline=True, linewidth=1.5)))\n",
    "    fig = dict(data=data, layout=layout)\n",
    "    return fig"
   ]
  },
  {
   "cell_type": "code",
   "execution_count": 28,
   "metadata": {},
   "outputs": [
    {
     "data": {
      "application/vnd.plotly.v1+json": {
       "data": [
        {
         "line": {
          "color": "blue"
         },
         "mode": "lines",
         "name": "Precision",
         "type": "scatter",
         "x": [
          0.4760878086090088,
          0.47648105025291443,
          0.47653457522392273,
          0.4765551686286926,
          0.4776710569858551,
          0.47767341136932373,
          0.4776998460292816,
          0.47786346077919006,
          0.47795727849006653,
          0.4782901108264923,
          0.4792841672897339,
          0.4793018102645874,
          0.4793323874473572,
          0.47934290766716003,
          0.4802379310131073,
          0.4804210960865021,
          0.4805094003677368,
          0.480827659368515,
          0.48090991377830505,
          0.4809698164463043,
          0.4810579717159271,
          0.48112452030181885,
          0.48112496733665466,
          0.4811422824859619,
          0.4815102815628052,
          0.4816034734249115,
          0.4817700982093811,
          0.48210933804512024,
          0.48223045468330383,
          0.4824163019657135,
          0.48260581493377686,
          0.4828210473060608,
          0.48285067081451416,
          0.48324429988861084,
          0.48417678475379944,
          0.4842482805252075,
          0.4843153953552246,
          0.4846290946006775,
          0.4849410951137543,
          0.48515740036964417,
          0.4861067533493042,
          0.48621347546577454,
          0.48623186349868774,
          0.48627525568008423,
          0.48636797070503235,
          0.4864825904369354,
          0.48791876435279846,
          0.4891999065876007,
          0.48957517743110657,
          0.48964008688926697,
          0.49195581674575806,
          0.4923301637172699,
          0.4928356111049652,
          0.4929141402244568,
          0.4930027723312378,
          0.49440762400627136,
          0.4944913685321808,
          0.4958304464817047,
          0.49724331498146057,
          0.4975493848323822,
          0.49759441614151,
          0.49829334020614624,
          0.5005199909210205,
          0.5010039806365967,
          0.5019253492355347,
          0.5047011375427246,
          0.5054526329040527,
          0.508543848991394,
          0.5095160603523254,
          0.5102518796920776,
          0.5103482007980347,
          0.5144937038421631,
          0.5158275365829468,
          0.5169190764427185,
          0.5178015232086182,
          0.5180083513259888,
          0.5185132622718811,
          0.518585205078125,
          0.5186382532119751,
          0.518659770488739,
          0.519138753414154,
          0.5194073915481567,
          0.5199233293533325,
          0.5202854871749878,
          0.5206748843193054,
          0.5207244157791138,
          0.521237313747406,
          0.5218697786331177,
          0.5218921303749084,
          0.5219264626502991,
          0.5222090482711792,
          0.5222709774971008,
          0.5231818556785583,
          0.5234288573265076,
          0.5241414904594421,
          0.5241988897323608,
          0.5249260067939758,
          0.5250416398048401,
          0.525393009185791,
          0.5254876017570496,
          0.5258548259735107,
          0.5260988473892212,
          0.5261307954788208,
          0.5265294313430786,
          0.5266443490982056,
          0.527150571346283,
          0.5275854468345642,
          0.5286915898323059,
          0.5294057130813599,
          0.5294142961502075,
          0.5298303961753845,
          0.529885470867157,
          0.5304132103919983,
          0.5311062932014465
         ],
         "y": [
          0.5508474576271186,
          0.5470085470085471,
          0.5517241379310345,
          0.5565217391304348,
          0.5614035087719298,
          0.5663716814159292,
          0.5714285714285714,
          0.5765765765765766,
          0.5818181818181818,
          0.5871559633027523,
          0.5925925925925926,
          0.5981308411214953,
          0.6037735849056604,
          0.6095238095238096,
          0.6153846153846154,
          0.6213592233009708,
          0.6274509803921569,
          0.6336633663366337,
          0.64,
          0.6464646464646465,
          0.6530612244897959,
          0.6597938144329897,
          0.6666666666666666,
          0.6736842105263158,
          0.6702127659574468,
          0.6774193548387096,
          0.6847826086956522,
          0.6813186813186813,
          0.6888888888888889,
          0.6966292134831461,
          0.7045454545454546,
          0.7126436781609196,
          0.7093023255813954,
          0.7176470588235294,
          0.7261904761904762,
          0.7228915662650602,
          0.7317073170731707,
          0.7407407407407407,
          0.75,
          0.7468354430379747,
          0.7564102564102564,
          0.7532467532467533,
          0.7631578947368421,
          0.76,
          0.7702702702702703,
          0.7808219178082192,
          0.7916666666666666,
          0.7887323943661971,
          0.8,
          0.7971014492753623,
          0.8088235294117647,
          0.8208955223880597,
          0.8333333333333334,
          0.8461538461538461,
          0.859375,
          0.8571428571428571,
          0.8709677419354839,
          0.8852459016393442,
          0.9,
          0.8983050847457628,
          0.896551724137931,
          0.8947368421052632,
          0.8928571428571429,
          0.8909090909090909,
          0.8888888888888888,
          0.8867924528301887,
          0.9038461538461539,
          0.9215686274509803,
          0.92,
          0.9183673469387755,
          0.9166666666666666,
          0.9148936170212766,
          0.9347826086956522,
          0.9333333333333333,
          0.9545454545454546,
          0.9534883720930233,
          0.9523809523809523,
          0.9512195121951219,
          0.95,
          0.9487179487179487,
          0.9473684210526315,
          0.9459459459459459,
          0.9722222222222222,
          0.9714285714285714,
          0.9705882352941176,
          0.9696969696969697,
          0.96875,
          0.967741935483871,
          1,
          1,
          1,
          1,
          1,
          1,
          1,
          1,
          1,
          1,
          1,
          1,
          1,
          1,
          1,
          1,
          1,
          1,
          1,
          1,
          1,
          1,
          1,
          1,
          1,
          1
         ]
        },
        {
         "line": {
          "color": "green"
         },
         "mode": "lines",
         "name": "Recall",
         "type": "scatter",
         "x": [
          0.4760878086090088,
          0.47648105025291443,
          0.47653457522392273,
          0.4765551686286926,
          0.4776710569858551,
          0.47767341136932373,
          0.4776998460292816,
          0.47786346077919006,
          0.47795727849006653,
          0.4782901108264923,
          0.4792841672897339,
          0.4793018102645874,
          0.4793323874473572,
          0.47934290766716003,
          0.4802379310131073,
          0.4804210960865021,
          0.4805094003677368,
          0.480827659368515,
          0.48090991377830505,
          0.4809698164463043,
          0.4810579717159271,
          0.48112452030181885,
          0.48112496733665466,
          0.4811422824859619,
          0.4815102815628052,
          0.4816034734249115,
          0.4817700982093811,
          0.48210933804512024,
          0.48223045468330383,
          0.4824163019657135,
          0.48260581493377686,
          0.4828210473060608,
          0.48285067081451416,
          0.48324429988861084,
          0.48417678475379944,
          0.4842482805252075,
          0.4843153953552246,
          0.4846290946006775,
          0.4849410951137543,
          0.48515740036964417,
          0.4861067533493042,
          0.48621347546577454,
          0.48623186349868774,
          0.48627525568008423,
          0.48636797070503235,
          0.4864825904369354,
          0.48791876435279846,
          0.4891999065876007,
          0.48957517743110657,
          0.48964008688926697,
          0.49195581674575806,
          0.4923301637172699,
          0.4928356111049652,
          0.4929141402244568,
          0.4930027723312378,
          0.49440762400627136,
          0.4944913685321808,
          0.4958304464817047,
          0.49724331498146057,
          0.4975493848323822,
          0.49759441614151,
          0.49829334020614624,
          0.5005199909210205,
          0.5010039806365967,
          0.5019253492355347,
          0.5047011375427246,
          0.5054526329040527,
          0.508543848991394,
          0.5095160603523254,
          0.5102518796920776,
          0.5103482007980347,
          0.5144937038421631,
          0.5158275365829468,
          0.5169190764427185,
          0.5178015232086182,
          0.5180083513259888,
          0.5185132622718811,
          0.518585205078125,
          0.5186382532119751,
          0.518659770488739,
          0.519138753414154,
          0.5194073915481567,
          0.5199233293533325,
          0.5202854871749878,
          0.5206748843193054,
          0.5207244157791138,
          0.521237313747406,
          0.5218697786331177,
          0.5218921303749084,
          0.5219264626502991,
          0.5222090482711792,
          0.5222709774971008,
          0.5231818556785583,
          0.5234288573265076,
          0.5241414904594421,
          0.5241988897323608,
          0.5249260067939758,
          0.5250416398048401,
          0.525393009185791,
          0.5254876017570496,
          0.5258548259735107,
          0.5260988473892212,
          0.5261307954788208,
          0.5265294313430786,
          0.5266443490982056,
          0.527150571346283,
          0.5275854468345642,
          0.5286915898323059,
          0.5294057130813599,
          0.5294142961502075,
          0.5298303961753845,
          0.529885470867157,
          0.5304132103919983,
          0.5311062932014465
         ],
         "y": [
          1,
          0.9846153846153847,
          0.9846153846153847,
          0.9846153846153847,
          0.9846153846153847,
          0.9846153846153847,
          0.9846153846153847,
          0.9846153846153847,
          0.9846153846153847,
          0.9846153846153847,
          0.9846153846153847,
          0.9846153846153847,
          0.9846153846153847,
          0.9846153846153847,
          0.9846153846153847,
          0.9846153846153847,
          0.9846153846153847,
          0.9846153846153847,
          0.9846153846153847,
          0.9846153846153847,
          0.9846153846153847,
          0.9846153846153847,
          0.9846153846153847,
          0.9846153846153847,
          0.9692307692307692,
          0.9692307692307692,
          0.9692307692307692,
          0.9538461538461539,
          0.9538461538461539,
          0.9538461538461539,
          0.9538461538461539,
          0.9538461538461539,
          0.9384615384615385,
          0.9384615384615385,
          0.9384615384615385,
          0.9230769230769231,
          0.9230769230769231,
          0.9230769230769231,
          0.9230769230769231,
          0.9076923076923077,
          0.9076923076923077,
          0.8923076923076924,
          0.8923076923076924,
          0.8769230769230769,
          0.8769230769230769,
          0.8769230769230769,
          0.8769230769230769,
          0.8615384615384616,
          0.8615384615384616,
          0.8461538461538461,
          0.8461538461538461,
          0.8461538461538461,
          0.8461538461538461,
          0.8461538461538461,
          0.8461538461538461,
          0.8307692307692308,
          0.8307692307692308,
          0.8307692307692308,
          0.8307692307692308,
          0.8153846153846154,
          0.8,
          0.7846153846153846,
          0.7692307692307693,
          0.7538461538461538,
          0.7384615384615385,
          0.7230769230769231,
          0.7230769230769231,
          0.7230769230769231,
          0.7076923076923077,
          0.6923076923076923,
          0.676923076923077,
          0.6615384615384615,
          0.6615384615384615,
          0.6461538461538462,
          0.6461538461538462,
          0.6307692307692307,
          0.6153846153846154,
          0.6,
          0.5846153846153846,
          0.5692307692307692,
          0.5538461538461539,
          0.5384615384615384,
          0.5384615384615384,
          0.5230769230769231,
          0.5076923076923077,
          0.49230769230769234,
          0.47692307692307695,
          0.46153846153846156,
          0.46153846153846156,
          0.4461538461538462,
          0.4307692307692308,
          0.4153846153846154,
          0.4,
          0.38461538461538464,
          0.36923076923076925,
          0.35384615384615387,
          0.3384615384615385,
          0.3230769230769231,
          0.3076923076923077,
          0.2923076923076923,
          0.27692307692307694,
          0.26153846153846155,
          0.24615384615384617,
          0.23076923076923078,
          0.2153846153846154,
          0.2,
          0.18461538461538463,
          0.16923076923076924,
          0.15384615384615385,
          0.13846153846153847,
          0.12307692307692308,
          0.1076923076923077,
          0.09230769230769231,
          0.07692307692307693
         ]
        }
       ],
       "layout": {
        "font": {
         "size": 14
        },
        "hovermode": "closest",
        "title": "Precision and recall scores as a function of the decision threshold",
        "xaxis": {
         "linewidth": 1.5,
         "showline": true,
         "title": "Decision threshold"
        },
        "yaxis": {
         "linewidth": 1.5,
         "showline": true,
         "title": "Score"
        }
       }
      },
      "text/html": [
       "<div id=\"189234aa-fbbc-443a-bf62-6266871e0893\" style=\"height: 525px; width: 100%;\" class=\"plotly-graph-div\"></div><script type=\"text/javascript\">require([\"plotly\"], function(Plotly) { window.PLOTLYENV=window.PLOTLYENV || {};window.PLOTLYENV.BASE_URL=\"https://plot.ly\";Plotly.newPlot(\"189234aa-fbbc-443a-bf62-6266871e0893\", [{\"type\": \"scatter\", \"x\": [0.4760878086090088, 0.47648105025291443, 0.47653457522392273, 0.4765551686286926, 0.4776710569858551, 0.47767341136932373, 0.4776998460292816, 0.47786346077919006, 0.47795727849006653, 0.4782901108264923, 0.4792841672897339, 0.4793018102645874, 0.4793323874473572, 0.47934290766716003, 0.4802379310131073, 0.4804210960865021, 0.4805094003677368, 0.480827659368515, 0.48090991377830505, 0.4809698164463043, 0.4810579717159271, 0.48112452030181885, 0.48112496733665466, 0.4811422824859619, 0.4815102815628052, 0.4816034734249115, 0.4817700982093811, 0.48210933804512024, 0.48223045468330383, 0.4824163019657135, 0.48260581493377686, 0.4828210473060608, 0.48285067081451416, 0.48324429988861084, 0.48417678475379944, 0.4842482805252075, 0.4843153953552246, 0.4846290946006775, 0.4849410951137543, 0.48515740036964417, 0.4861067533493042, 0.48621347546577454, 0.48623186349868774, 0.48627525568008423, 0.48636797070503235, 0.4864825904369354, 0.48791876435279846, 0.4891999065876007, 0.48957517743110657, 0.48964008688926697, 0.49195581674575806, 0.4923301637172699, 0.4928356111049652, 0.4929141402244568, 0.4930027723312378, 0.49440762400627136, 0.4944913685321808, 0.4958304464817047, 0.49724331498146057, 0.4975493848323822, 0.49759441614151, 0.49829334020614624, 0.5005199909210205, 0.5010039806365967, 0.5019253492355347, 0.5047011375427246, 0.5054526329040527, 0.508543848991394, 0.5095160603523254, 0.5102518796920776, 0.5103482007980347, 0.5144937038421631, 0.5158275365829468, 0.5169190764427185, 0.5178015232086182, 0.5180083513259888, 0.5185132622718811, 0.518585205078125, 0.5186382532119751, 0.518659770488739, 0.519138753414154, 0.5194073915481567, 0.5199233293533325, 0.5202854871749878, 0.5206748843193054, 0.5207244157791138, 0.521237313747406, 0.5218697786331177, 0.5218921303749084, 0.5219264626502991, 0.5222090482711792, 0.5222709774971008, 0.5231818556785583, 0.5234288573265076, 0.5241414904594421, 0.5241988897323608, 0.5249260067939758, 0.5250416398048401, 0.525393009185791, 0.5254876017570496, 0.5258548259735107, 0.5260988473892212, 0.5261307954788208, 0.5265294313430786, 0.5266443490982056, 0.527150571346283, 0.5275854468345642, 0.5286915898323059, 0.5294057130813599, 0.5294142961502075, 0.5298303961753845, 0.529885470867157, 0.5304132103919983, 0.5311062932014465], \"y\": [0.5508474576271186, 0.5470085470085471, 0.5517241379310345, 0.5565217391304348, 0.5614035087719298, 0.5663716814159292, 0.5714285714285714, 0.5765765765765766, 0.5818181818181818, 0.5871559633027523, 0.5925925925925926, 0.5981308411214953, 0.6037735849056604, 0.6095238095238096, 0.6153846153846154, 0.6213592233009708, 0.6274509803921569, 0.6336633663366337, 0.64, 0.6464646464646465, 0.6530612244897959, 0.6597938144329897, 0.6666666666666666, 0.6736842105263158, 0.6702127659574468, 0.6774193548387096, 0.6847826086956522, 0.6813186813186813, 0.6888888888888889, 0.6966292134831461, 0.7045454545454546, 0.7126436781609196, 0.7093023255813954, 0.7176470588235294, 0.7261904761904762, 0.7228915662650602, 0.7317073170731707, 0.7407407407407407, 0.75, 0.7468354430379747, 0.7564102564102564, 0.7532467532467533, 0.7631578947368421, 0.76, 0.7702702702702703, 0.7808219178082192, 0.7916666666666666, 0.7887323943661971, 0.8, 0.7971014492753623, 0.8088235294117647, 0.8208955223880597, 0.8333333333333334, 0.8461538461538461, 0.859375, 0.8571428571428571, 0.8709677419354839, 0.8852459016393442, 0.9, 0.8983050847457628, 0.896551724137931, 0.8947368421052632, 0.8928571428571429, 0.8909090909090909, 0.8888888888888888, 0.8867924528301887, 0.9038461538461539, 0.9215686274509803, 0.92, 0.9183673469387755, 0.9166666666666666, 0.9148936170212766, 0.9347826086956522, 0.9333333333333333, 0.9545454545454546, 0.9534883720930233, 0.9523809523809523, 0.9512195121951219, 0.95, 0.9487179487179487, 0.9473684210526315, 0.9459459459459459, 0.9722222222222222, 0.9714285714285714, 0.9705882352941176, 0.9696969696969697, 0.96875, 0.967741935483871, 1.0, 1.0, 1.0, 1.0, 1.0, 1.0, 1.0, 1.0, 1.0, 1.0, 1.0, 1.0, 1.0, 1.0, 1.0, 1.0, 1.0, 1.0, 1.0, 1.0, 1.0, 1.0, 1.0, 1.0, 1.0, 1.0], \"mode\": \"lines\", \"line\": {\"color\": \"blue\"}, \"name\": \"Precision\"}, {\"type\": \"scatter\", \"x\": [0.4760878086090088, 0.47648105025291443, 0.47653457522392273, 0.4765551686286926, 0.4776710569858551, 0.47767341136932373, 0.4776998460292816, 0.47786346077919006, 0.47795727849006653, 0.4782901108264923, 0.4792841672897339, 0.4793018102645874, 0.4793323874473572, 0.47934290766716003, 0.4802379310131073, 0.4804210960865021, 0.4805094003677368, 0.480827659368515, 0.48090991377830505, 0.4809698164463043, 0.4810579717159271, 0.48112452030181885, 0.48112496733665466, 0.4811422824859619, 0.4815102815628052, 0.4816034734249115, 0.4817700982093811, 0.48210933804512024, 0.48223045468330383, 0.4824163019657135, 0.48260581493377686, 0.4828210473060608, 0.48285067081451416, 0.48324429988861084, 0.48417678475379944, 0.4842482805252075, 0.4843153953552246, 0.4846290946006775, 0.4849410951137543, 0.48515740036964417, 0.4861067533493042, 0.48621347546577454, 0.48623186349868774, 0.48627525568008423, 0.48636797070503235, 0.4864825904369354, 0.48791876435279846, 0.4891999065876007, 0.48957517743110657, 0.48964008688926697, 0.49195581674575806, 0.4923301637172699, 0.4928356111049652, 0.4929141402244568, 0.4930027723312378, 0.49440762400627136, 0.4944913685321808, 0.4958304464817047, 0.49724331498146057, 0.4975493848323822, 0.49759441614151, 0.49829334020614624, 0.5005199909210205, 0.5010039806365967, 0.5019253492355347, 0.5047011375427246, 0.5054526329040527, 0.508543848991394, 0.5095160603523254, 0.5102518796920776, 0.5103482007980347, 0.5144937038421631, 0.5158275365829468, 0.5169190764427185, 0.5178015232086182, 0.5180083513259888, 0.5185132622718811, 0.518585205078125, 0.5186382532119751, 0.518659770488739, 0.519138753414154, 0.5194073915481567, 0.5199233293533325, 0.5202854871749878, 0.5206748843193054, 0.5207244157791138, 0.521237313747406, 0.5218697786331177, 0.5218921303749084, 0.5219264626502991, 0.5222090482711792, 0.5222709774971008, 0.5231818556785583, 0.5234288573265076, 0.5241414904594421, 0.5241988897323608, 0.5249260067939758, 0.5250416398048401, 0.525393009185791, 0.5254876017570496, 0.5258548259735107, 0.5260988473892212, 0.5261307954788208, 0.5265294313430786, 0.5266443490982056, 0.527150571346283, 0.5275854468345642, 0.5286915898323059, 0.5294057130813599, 0.5294142961502075, 0.5298303961753845, 0.529885470867157, 0.5304132103919983, 0.5311062932014465], \"y\": [1.0, 0.9846153846153847, 0.9846153846153847, 0.9846153846153847, 0.9846153846153847, 0.9846153846153847, 0.9846153846153847, 0.9846153846153847, 0.9846153846153847, 0.9846153846153847, 0.9846153846153847, 0.9846153846153847, 0.9846153846153847, 0.9846153846153847, 0.9846153846153847, 0.9846153846153847, 0.9846153846153847, 0.9846153846153847, 0.9846153846153847, 0.9846153846153847, 0.9846153846153847, 0.9846153846153847, 0.9846153846153847, 0.9846153846153847, 0.9692307692307692, 0.9692307692307692, 0.9692307692307692, 0.9538461538461539, 0.9538461538461539, 0.9538461538461539, 0.9538461538461539, 0.9538461538461539, 0.9384615384615385, 0.9384615384615385, 0.9384615384615385, 0.9230769230769231, 0.9230769230769231, 0.9230769230769231, 0.9230769230769231, 0.9076923076923077, 0.9076923076923077, 0.8923076923076924, 0.8923076923076924, 0.8769230769230769, 0.8769230769230769, 0.8769230769230769, 0.8769230769230769, 0.8615384615384616, 0.8615384615384616, 0.8461538461538461, 0.8461538461538461, 0.8461538461538461, 0.8461538461538461, 0.8461538461538461, 0.8461538461538461, 0.8307692307692308, 0.8307692307692308, 0.8307692307692308, 0.8307692307692308, 0.8153846153846154, 0.8, 0.7846153846153846, 0.7692307692307693, 0.7538461538461538, 0.7384615384615385, 0.7230769230769231, 0.7230769230769231, 0.7230769230769231, 0.7076923076923077, 0.6923076923076923, 0.676923076923077, 0.6615384615384615, 0.6615384615384615, 0.6461538461538462, 0.6461538461538462, 0.6307692307692307, 0.6153846153846154, 0.6, 0.5846153846153846, 0.5692307692307692, 0.5538461538461539, 0.5384615384615384, 0.5384615384615384, 0.5230769230769231, 0.5076923076923077, 0.49230769230769234, 0.47692307692307695, 0.46153846153846156, 0.46153846153846156, 0.4461538461538462, 0.4307692307692308, 0.4153846153846154, 0.4, 0.38461538461538464, 0.36923076923076925, 0.35384615384615387, 0.3384615384615385, 0.3230769230769231, 0.3076923076923077, 0.2923076923076923, 0.27692307692307694, 0.26153846153846155, 0.24615384615384617, 0.23076923076923078, 0.2153846153846154, 0.2, 0.18461538461538463, 0.16923076923076924, 0.15384615384615385, 0.13846153846153847, 0.12307692307692308, 0.1076923076923077, 0.09230769230769231, 0.07692307692307693], \"mode\": \"lines\", \"line\": {\"color\": \"green\"}, \"name\": \"Recall\"}], {\"hovermode\": \"closest\", \"font\": {\"size\": 14}, \"title\": \"Precision and recall scores as a function of the decision threshold\", \"xaxis\": {\"title\": \"Decision threshold\", \"showline\": true, \"linewidth\": 1.5}, \"yaxis\": {\"title\": \"Score\", \"showline\": true, \"linewidth\": 1.5}}, {\"showLink\": true, \"linkText\": \"Export to plot.ly\"})});</script>"
      ],
      "text/vnd.plotly.v1+html": [
       "<div id=\"189234aa-fbbc-443a-bf62-6266871e0893\" style=\"height: 525px; width: 100%;\" class=\"plotly-graph-div\"></div><script type=\"text/javascript\">require([\"plotly\"], function(Plotly) { window.PLOTLYENV=window.PLOTLYENV || {};window.PLOTLYENV.BASE_URL=\"https://plot.ly\";Plotly.newPlot(\"189234aa-fbbc-443a-bf62-6266871e0893\", [{\"type\": \"scatter\", \"x\": [0.4760878086090088, 0.47648105025291443, 0.47653457522392273, 0.4765551686286926, 0.4776710569858551, 0.47767341136932373, 0.4776998460292816, 0.47786346077919006, 0.47795727849006653, 0.4782901108264923, 0.4792841672897339, 0.4793018102645874, 0.4793323874473572, 0.47934290766716003, 0.4802379310131073, 0.4804210960865021, 0.4805094003677368, 0.480827659368515, 0.48090991377830505, 0.4809698164463043, 0.4810579717159271, 0.48112452030181885, 0.48112496733665466, 0.4811422824859619, 0.4815102815628052, 0.4816034734249115, 0.4817700982093811, 0.48210933804512024, 0.48223045468330383, 0.4824163019657135, 0.48260581493377686, 0.4828210473060608, 0.48285067081451416, 0.48324429988861084, 0.48417678475379944, 0.4842482805252075, 0.4843153953552246, 0.4846290946006775, 0.4849410951137543, 0.48515740036964417, 0.4861067533493042, 0.48621347546577454, 0.48623186349868774, 0.48627525568008423, 0.48636797070503235, 0.4864825904369354, 0.48791876435279846, 0.4891999065876007, 0.48957517743110657, 0.48964008688926697, 0.49195581674575806, 0.4923301637172699, 0.4928356111049652, 0.4929141402244568, 0.4930027723312378, 0.49440762400627136, 0.4944913685321808, 0.4958304464817047, 0.49724331498146057, 0.4975493848323822, 0.49759441614151, 0.49829334020614624, 0.5005199909210205, 0.5010039806365967, 0.5019253492355347, 0.5047011375427246, 0.5054526329040527, 0.508543848991394, 0.5095160603523254, 0.5102518796920776, 0.5103482007980347, 0.5144937038421631, 0.5158275365829468, 0.5169190764427185, 0.5178015232086182, 0.5180083513259888, 0.5185132622718811, 0.518585205078125, 0.5186382532119751, 0.518659770488739, 0.519138753414154, 0.5194073915481567, 0.5199233293533325, 0.5202854871749878, 0.5206748843193054, 0.5207244157791138, 0.521237313747406, 0.5218697786331177, 0.5218921303749084, 0.5219264626502991, 0.5222090482711792, 0.5222709774971008, 0.5231818556785583, 0.5234288573265076, 0.5241414904594421, 0.5241988897323608, 0.5249260067939758, 0.5250416398048401, 0.525393009185791, 0.5254876017570496, 0.5258548259735107, 0.5260988473892212, 0.5261307954788208, 0.5265294313430786, 0.5266443490982056, 0.527150571346283, 0.5275854468345642, 0.5286915898323059, 0.5294057130813599, 0.5294142961502075, 0.5298303961753845, 0.529885470867157, 0.5304132103919983, 0.5311062932014465], \"y\": [0.5508474576271186, 0.5470085470085471, 0.5517241379310345, 0.5565217391304348, 0.5614035087719298, 0.5663716814159292, 0.5714285714285714, 0.5765765765765766, 0.5818181818181818, 0.5871559633027523, 0.5925925925925926, 0.5981308411214953, 0.6037735849056604, 0.6095238095238096, 0.6153846153846154, 0.6213592233009708, 0.6274509803921569, 0.6336633663366337, 0.64, 0.6464646464646465, 0.6530612244897959, 0.6597938144329897, 0.6666666666666666, 0.6736842105263158, 0.6702127659574468, 0.6774193548387096, 0.6847826086956522, 0.6813186813186813, 0.6888888888888889, 0.6966292134831461, 0.7045454545454546, 0.7126436781609196, 0.7093023255813954, 0.7176470588235294, 0.7261904761904762, 0.7228915662650602, 0.7317073170731707, 0.7407407407407407, 0.75, 0.7468354430379747, 0.7564102564102564, 0.7532467532467533, 0.7631578947368421, 0.76, 0.7702702702702703, 0.7808219178082192, 0.7916666666666666, 0.7887323943661971, 0.8, 0.7971014492753623, 0.8088235294117647, 0.8208955223880597, 0.8333333333333334, 0.8461538461538461, 0.859375, 0.8571428571428571, 0.8709677419354839, 0.8852459016393442, 0.9, 0.8983050847457628, 0.896551724137931, 0.8947368421052632, 0.8928571428571429, 0.8909090909090909, 0.8888888888888888, 0.8867924528301887, 0.9038461538461539, 0.9215686274509803, 0.92, 0.9183673469387755, 0.9166666666666666, 0.9148936170212766, 0.9347826086956522, 0.9333333333333333, 0.9545454545454546, 0.9534883720930233, 0.9523809523809523, 0.9512195121951219, 0.95, 0.9487179487179487, 0.9473684210526315, 0.9459459459459459, 0.9722222222222222, 0.9714285714285714, 0.9705882352941176, 0.9696969696969697, 0.96875, 0.967741935483871, 1.0, 1.0, 1.0, 1.0, 1.0, 1.0, 1.0, 1.0, 1.0, 1.0, 1.0, 1.0, 1.0, 1.0, 1.0, 1.0, 1.0, 1.0, 1.0, 1.0, 1.0, 1.0, 1.0, 1.0, 1.0, 1.0], \"mode\": \"lines\", \"line\": {\"color\": \"blue\"}, \"name\": \"Precision\"}, {\"type\": \"scatter\", \"x\": [0.4760878086090088, 0.47648105025291443, 0.47653457522392273, 0.4765551686286926, 0.4776710569858551, 0.47767341136932373, 0.4776998460292816, 0.47786346077919006, 0.47795727849006653, 0.4782901108264923, 0.4792841672897339, 0.4793018102645874, 0.4793323874473572, 0.47934290766716003, 0.4802379310131073, 0.4804210960865021, 0.4805094003677368, 0.480827659368515, 0.48090991377830505, 0.4809698164463043, 0.4810579717159271, 0.48112452030181885, 0.48112496733665466, 0.4811422824859619, 0.4815102815628052, 0.4816034734249115, 0.4817700982093811, 0.48210933804512024, 0.48223045468330383, 0.4824163019657135, 0.48260581493377686, 0.4828210473060608, 0.48285067081451416, 0.48324429988861084, 0.48417678475379944, 0.4842482805252075, 0.4843153953552246, 0.4846290946006775, 0.4849410951137543, 0.48515740036964417, 0.4861067533493042, 0.48621347546577454, 0.48623186349868774, 0.48627525568008423, 0.48636797070503235, 0.4864825904369354, 0.48791876435279846, 0.4891999065876007, 0.48957517743110657, 0.48964008688926697, 0.49195581674575806, 0.4923301637172699, 0.4928356111049652, 0.4929141402244568, 0.4930027723312378, 0.49440762400627136, 0.4944913685321808, 0.4958304464817047, 0.49724331498146057, 0.4975493848323822, 0.49759441614151, 0.49829334020614624, 0.5005199909210205, 0.5010039806365967, 0.5019253492355347, 0.5047011375427246, 0.5054526329040527, 0.508543848991394, 0.5095160603523254, 0.5102518796920776, 0.5103482007980347, 0.5144937038421631, 0.5158275365829468, 0.5169190764427185, 0.5178015232086182, 0.5180083513259888, 0.5185132622718811, 0.518585205078125, 0.5186382532119751, 0.518659770488739, 0.519138753414154, 0.5194073915481567, 0.5199233293533325, 0.5202854871749878, 0.5206748843193054, 0.5207244157791138, 0.521237313747406, 0.5218697786331177, 0.5218921303749084, 0.5219264626502991, 0.5222090482711792, 0.5222709774971008, 0.5231818556785583, 0.5234288573265076, 0.5241414904594421, 0.5241988897323608, 0.5249260067939758, 0.5250416398048401, 0.525393009185791, 0.5254876017570496, 0.5258548259735107, 0.5260988473892212, 0.5261307954788208, 0.5265294313430786, 0.5266443490982056, 0.527150571346283, 0.5275854468345642, 0.5286915898323059, 0.5294057130813599, 0.5294142961502075, 0.5298303961753845, 0.529885470867157, 0.5304132103919983, 0.5311062932014465], \"y\": [1.0, 0.9846153846153847, 0.9846153846153847, 0.9846153846153847, 0.9846153846153847, 0.9846153846153847, 0.9846153846153847, 0.9846153846153847, 0.9846153846153847, 0.9846153846153847, 0.9846153846153847, 0.9846153846153847, 0.9846153846153847, 0.9846153846153847, 0.9846153846153847, 0.9846153846153847, 0.9846153846153847, 0.9846153846153847, 0.9846153846153847, 0.9846153846153847, 0.9846153846153847, 0.9846153846153847, 0.9846153846153847, 0.9846153846153847, 0.9692307692307692, 0.9692307692307692, 0.9692307692307692, 0.9538461538461539, 0.9538461538461539, 0.9538461538461539, 0.9538461538461539, 0.9538461538461539, 0.9384615384615385, 0.9384615384615385, 0.9384615384615385, 0.9230769230769231, 0.9230769230769231, 0.9230769230769231, 0.9230769230769231, 0.9076923076923077, 0.9076923076923077, 0.8923076923076924, 0.8923076923076924, 0.8769230769230769, 0.8769230769230769, 0.8769230769230769, 0.8769230769230769, 0.8615384615384616, 0.8615384615384616, 0.8461538461538461, 0.8461538461538461, 0.8461538461538461, 0.8461538461538461, 0.8461538461538461, 0.8461538461538461, 0.8307692307692308, 0.8307692307692308, 0.8307692307692308, 0.8307692307692308, 0.8153846153846154, 0.8, 0.7846153846153846, 0.7692307692307693, 0.7538461538461538, 0.7384615384615385, 0.7230769230769231, 0.7230769230769231, 0.7230769230769231, 0.7076923076923077, 0.6923076923076923, 0.676923076923077, 0.6615384615384615, 0.6615384615384615, 0.6461538461538462, 0.6461538461538462, 0.6307692307692307, 0.6153846153846154, 0.6, 0.5846153846153846, 0.5692307692307692, 0.5538461538461539, 0.5384615384615384, 0.5384615384615384, 0.5230769230769231, 0.5076923076923077, 0.49230769230769234, 0.47692307692307695, 0.46153846153846156, 0.46153846153846156, 0.4461538461538462, 0.4307692307692308, 0.4153846153846154, 0.4, 0.38461538461538464, 0.36923076923076925, 0.35384615384615387, 0.3384615384615385, 0.3230769230769231, 0.3076923076923077, 0.2923076923076923, 0.27692307692307694, 0.26153846153846155, 0.24615384615384617, 0.23076923076923078, 0.2153846153846154, 0.2, 0.18461538461538463, 0.16923076923076924, 0.15384615384615385, 0.13846153846153847, 0.12307692307692308, 0.1076923076923077, 0.09230769230769231, 0.07692307692307693], \"mode\": \"lines\", \"line\": {\"color\": \"green\"}, \"name\": \"Recall\"}], {\"hovermode\": \"closest\", \"font\": {\"size\": 14}, \"title\": \"Precision and recall scores as a function of the decision threshold\", \"xaxis\": {\"title\": \"Decision threshold\", \"showline\": true, \"linewidth\": 1.5}, \"yaxis\": {\"title\": \"Score\", \"showline\": true, \"linewidth\": 1.5}}, {\"showLink\": true, \"linkText\": \"Export to plot.ly\"})});</script>"
      ]
     },
     "metadata": {},
     "output_type": "display_data"
    }
   ],
   "source": [
    "t = precision_recall_vs_threshold(estimator=final_model, X=X_train, y=y_train)\n",
    "\n",
    "py.iplot(t, filename='fatigue/precision_recall_vs_threshold')"
   ]
  },
  {
   "cell_type": "markdown",
   "metadata": {},
   "source": [
    "## 6. Evaluation"
   ]
  },
  {
   "cell_type": "code",
   "execution_count": 16,
   "metadata": {},
   "outputs": [
    {
     "name": "stderr",
     "output_type": "stream",
     "text": [
      "/home/romain/.local/share/virtualenvs/fatigue-WgHAVgza/lib/python3.6/site-packages/sklearn/preprocessing/label.py:151: DeprecationWarning:\n",
      "\n",
      "The truth value of an empty array is ambiguous. Returning False, but in future this will result in an error. Use `array.size > 0` to check that an array is not empty.\n",
      "\n"
     ]
    }
   ],
   "source": [
    "y_pred = final_model.predict(X_test)"
   ]
  },
  {
   "cell_type": "markdown",
   "metadata": {},
   "source": [
    "### 6.a. Confusion matrix"
   ]
  },
  {
   "cell_type": "code",
   "execution_count": 20,
   "metadata": {},
   "outputs": [],
   "source": [
    "from sklearn.metrics import confusion_matrix\n",
    "\n",
    "\n",
    "def plot_confusion_matrix(y_test, y_pred, in_percentage=True):\n",
    "    cm = confusion_matrix(y_test, y_pred)\n",
    "    if in_percentage:\n",
    "        cm = cm.astype('float') / cm.sum(axis=1)[:, np.newaxis] * 100\n",
    "\n",
    "    colorscale = [[0, '#2d3436'], [1, '#dfe6e9']]\n",
    "\n",
    "    fig = ff.create_annotated_heatmap(\n",
    "        z=cm.astype(int),\n",
    "        x=['True', 'False'],\n",
    "        y=['True', 'False'],\n",
    "        showscale=True,\n",
    "        zmin=0,\n",
    "        zmax=100,\n",
    "        colorscale=colorscale,\n",
    "        colorbar=dict(title='Percentage', titleside='right'))\n",
    "\n",
    "    # we must alter fig directly instead of creating a layout dict\n",
    "    #     fig['layout'] = base_layout\n",
    "    fig['layout'].update(base_layout)\n",
    "    fig['layout'].update(\n",
    "        dict(\n",
    "            title='confusion matrix',\n",
    "            xaxis=dict(title='Predicted values', side='bottom'),\n",
    "            yaxis=dict(title='True values', autorange='reversed')))\n",
    "\n",
    "    return fig"
   ]
  },
  {
   "cell_type": "code",
   "execution_count": 21,
   "metadata": {},
   "outputs": [
    {
     "data": {
      "application/vnd.plotly.v1+json": {
       "data": [
        {
         "colorbar": {
          "title": "Percentage",
          "titleside": "right"
         },
         "colorscale": [
          [
           0,
           "#2d3436"
          ],
          [
           1,
           "#dfe6e9"
          ]
         ],
         "showscale": true,
         "type": "heatmap",
         "x": [
          "True",
          "False"
         ],
         "y": [
          "True",
          "False"
         ],
         "z": [
          [
           76,
           23
          ],
          [
           37,
           62
          ]
         ],
         "zmax": 100,
         "zmin": 0
        }
       ],
       "layout": {
        "annotations": [
         {
          "font": {
           "color": "#000000"
          },
          "showarrow": false,
          "text": "76",
          "x": "True",
          "xref": "x1",
          "y": "True",
          "yref": "y1"
         },
         {
          "font": {
           "color": "#FFFFFF"
          },
          "showarrow": false,
          "text": "23",
          "x": "False",
          "xref": "x1",
          "y": "True",
          "yref": "y1"
         },
         {
          "font": {
           "color": "#FFFFFF"
          },
          "showarrow": false,
          "text": "37",
          "x": "True",
          "xref": "x1",
          "y": "False",
          "yref": "y1"
         },
         {
          "font": {
           "color": "#000000"
          },
          "showarrow": false,
          "text": "62",
          "x": "False",
          "xref": "x1",
          "y": "False",
          "yref": "y1"
         }
        ],
        "font": {
         "size": 14
        },
        "hovermode": "closest",
        "title": "confusion matrix",
        "xaxis": {
         "dtick": 1,
         "gridcolor": "rgb(0, 0, 0)",
         "side": "bottom",
         "ticks": "",
         "title": "Predicted values"
        },
        "yaxis": {
         "autorange": "reversed",
         "dtick": 1,
         "ticks": "",
         "ticksuffix": "  ",
         "title": "True values"
        }
       }
      },
      "text/html": [
       "<div id=\"98083092-982f-4f51-9e6e-f03d9892e79d\" style=\"height: 525px; width: 100%;\" class=\"plotly-graph-div\"></div><script type=\"text/javascript\">require([\"plotly\"], function(Plotly) { window.PLOTLYENV=window.PLOTLYENV || {};window.PLOTLYENV.BASE_URL=\"https://plot.ly\";Plotly.newPlot(\"98083092-982f-4f51-9e6e-f03d9892e79d\", [{\"type\": \"heatmap\", \"z\": [[76, 23], [37, 62]], \"x\": [\"True\", \"False\"], \"y\": [\"True\", \"False\"], \"colorscale\": [[0, \"#2d3436\"], [1, \"#dfe6e9\"]], \"showscale\": true, \"zmin\": 0, \"zmax\": 100, \"colorbar\": {\"title\": \"Percentage\", \"titleside\": \"right\"}}], {\"annotations\": [{\"text\": \"76\", \"x\": \"True\", \"y\": \"True\", \"xref\": \"x1\", \"yref\": \"y1\", \"font\": {\"color\": \"#000000\"}, \"showarrow\": false}, {\"text\": \"23\", \"x\": \"False\", \"y\": \"True\", \"xref\": \"x1\", \"yref\": \"y1\", \"font\": {\"color\": \"#FFFFFF\"}, \"showarrow\": false}, {\"text\": \"37\", \"x\": \"True\", \"y\": \"False\", \"xref\": \"x1\", \"yref\": \"y1\", \"font\": {\"color\": \"#FFFFFF\"}, \"showarrow\": false}, {\"text\": \"62\", \"x\": \"False\", \"y\": \"False\", \"xref\": \"x1\", \"yref\": \"y1\", \"font\": {\"color\": \"#000000\"}, \"showarrow\": false}], \"xaxis\": {\"ticks\": \"\", \"dtick\": 1, \"side\": \"bottom\", \"gridcolor\": \"rgb(0, 0, 0)\", \"title\": \"Predicted values\"}, \"yaxis\": {\"ticks\": \"\", \"dtick\": 1, \"ticksuffix\": \"  \", \"title\": \"True values\", \"autorange\": \"reversed\"}, \"hovermode\": \"closest\", \"font\": {\"size\": 14}, \"title\": \"confusion matrix\"}, {\"showLink\": true, \"linkText\": \"Export to plot.ly\"})});</script>"
      ],
      "text/vnd.plotly.v1+html": [
       "<div id=\"98083092-982f-4f51-9e6e-f03d9892e79d\" style=\"height: 525px; width: 100%;\" class=\"plotly-graph-div\"></div><script type=\"text/javascript\">require([\"plotly\"], function(Plotly) { window.PLOTLYENV=window.PLOTLYENV || {};window.PLOTLYENV.BASE_URL=\"https://plot.ly\";Plotly.newPlot(\"98083092-982f-4f51-9e6e-f03d9892e79d\", [{\"type\": \"heatmap\", \"z\": [[76, 23], [37, 62]], \"x\": [\"True\", \"False\"], \"y\": [\"True\", \"False\"], \"colorscale\": [[0, \"#2d3436\"], [1, \"#dfe6e9\"]], \"showscale\": true, \"zmin\": 0, \"zmax\": 100, \"colorbar\": {\"title\": \"Percentage\", \"titleside\": \"right\"}}], {\"annotations\": [{\"text\": \"76\", \"x\": \"True\", \"y\": \"True\", \"xref\": \"x1\", \"yref\": \"y1\", \"font\": {\"color\": \"#000000\"}, \"showarrow\": false}, {\"text\": \"23\", \"x\": \"False\", \"y\": \"True\", \"xref\": \"x1\", \"yref\": \"y1\", \"font\": {\"color\": \"#FFFFFF\"}, \"showarrow\": false}, {\"text\": \"37\", \"x\": \"True\", \"y\": \"False\", \"xref\": \"x1\", \"yref\": \"y1\", \"font\": {\"color\": \"#FFFFFF\"}, \"showarrow\": false}, {\"text\": \"62\", \"x\": \"False\", \"y\": \"False\", \"xref\": \"x1\", \"yref\": \"y1\", \"font\": {\"color\": \"#000000\"}, \"showarrow\": false}], \"xaxis\": {\"ticks\": \"\", \"dtick\": 1, \"side\": \"bottom\", \"gridcolor\": \"rgb(0, 0, 0)\", \"title\": \"Predicted values\"}, \"yaxis\": {\"ticks\": \"\", \"dtick\": 1, \"ticksuffix\": \"  \", \"title\": \"True values\", \"autorange\": \"reversed\"}, \"hovermode\": \"closest\", \"font\": {\"size\": 14}, \"title\": \"confusion matrix\"}, {\"showLink\": true, \"linkText\": \"Export to plot.ly\"})});</script>"
      ]
     },
     "metadata": {},
     "output_type": "display_data"
    }
   ],
   "source": [
    "m = plot_confusion_matrix(y_test=y_test, y_pred=y_pred)\n",
    "py.iplot(m, filename='fatigue/confusion_matrix')"
   ]
  },
  {
   "cell_type": "markdown",
   "metadata": {},
   "source": [
    "### 6.b. Classification scalar metrics"
   ]
  },
  {
   "cell_type": "code",
   "execution_count": 34,
   "metadata": {},
   "outputs": [],
   "source": [
    "from sklearn.metrics import precision_score, recall_score, f1_score\n",
    "\n",
    "\n",
    "def table_classification_report(estimator, X, y):\n",
    "    precision = precision_score(y, y_pred)\n",
    "    recall = recall_score(y, y_pred)\n",
    "    f1 = f1_score(y, y_pred)\n",
    "    roc_auc = roc_auc_score(y, y_pred)\n",
    "    \n",
    "    data_matrix = [['Metric', 'Value'],\n",
    "                   ['Precision', f'{precision:.2f}'],\n",
    "                   ['Recall', f'{recall:.2f}'],\n",
    "                   ['F1 score', f'{f1:.2f}'],\n",
    "                   ['ROC AUC', f'{roc_auc:.2f}']]\n",
    "\n",
    "    table = ff.create_table(data_matrix)\n",
    "    table['layout'].update(font=dict(size=14))\n",
    "    return table"
   ]
  },
  {
   "cell_type": "code",
   "execution_count": 35,
   "metadata": {},
   "outputs": [
    {
     "data": {
      "application/vnd.plotly.v1+json": {
       "data": [
        {
         "colorscale": [
          [
           0,
           "#00083e"
          ],
          [
           0.5,
           "#ededee"
          ],
          [
           1,
           "#ffffff"
          ]
         ],
         "hoverinfo": "none",
         "opacity": 0.75,
         "showscale": false,
         "type": "heatmap",
         "z": [
          [
           0,
           0
          ],
          [
           0.5,
           0.5
          ],
          [
           1,
           1
          ],
          [
           0.5,
           0.5
          ],
          [
           1,
           1
          ]
         ]
        }
       ],
       "layout": {
        "annotations": [
         {
          "align": "left",
          "font": {
           "color": "#ffffff"
          },
          "showarrow": false,
          "text": "<b>Metric</b>",
          "x": -0.45,
          "xanchor": "left",
          "xref": "x1",
          "y": 0,
          "yref": "y1"
         },
         {
          "align": "left",
          "font": {
           "color": "#ffffff"
          },
          "showarrow": false,
          "text": "<b>Value</b>",
          "x": 0.55,
          "xanchor": "left",
          "xref": "x1",
          "y": 0,
          "yref": "y1"
         },
         {
          "align": "left",
          "font": {
           "color": "#000000"
          },
          "showarrow": false,
          "text": "Precision",
          "x": -0.45,
          "xanchor": "left",
          "xref": "x1",
          "y": 1,
          "yref": "y1"
         },
         {
          "align": "left",
          "font": {
           "color": "#000000"
          },
          "showarrow": false,
          "text": "0.71",
          "x": 0.55,
          "xanchor": "left",
          "xref": "x1",
          "y": 1,
          "yref": "y1"
         },
         {
          "align": "left",
          "font": {
           "color": "#000000"
          },
          "showarrow": false,
          "text": "Recall",
          "x": -0.45,
          "xanchor": "left",
          "xref": "x1",
          "y": 2,
          "yref": "y1"
         },
         {
          "align": "left",
          "font": {
           "color": "#000000"
          },
          "showarrow": false,
          "text": "0.62",
          "x": 0.55,
          "xanchor": "left",
          "xref": "x1",
          "y": 2,
          "yref": "y1"
         },
         {
          "align": "left",
          "font": {
           "color": "#000000"
          },
          "showarrow": false,
          "text": "F1 score",
          "x": -0.45,
          "xanchor": "left",
          "xref": "x1",
          "y": 3,
          "yref": "y1"
         },
         {
          "align": "left",
          "font": {
           "color": "#000000"
          },
          "showarrow": false,
          "text": "0.67",
          "x": 0.55,
          "xanchor": "left",
          "xref": "x1",
          "y": 3,
          "yref": "y1"
         },
         {
          "align": "left",
          "font": {
           "color": "#000000"
          },
          "showarrow": false,
          "text": "ROC AUC",
          "x": -0.45,
          "xanchor": "left",
          "xref": "x1",
          "y": 4,
          "yref": "y1"
         },
         {
          "align": "left",
          "font": {
           "color": "#000000"
          },
          "showarrow": false,
          "text": "0.69",
          "x": 0.55,
          "xanchor": "left",
          "xref": "x1",
          "y": 4,
          "yref": "y1"
         }
        ],
        "font": {
         "size": 14
        },
        "height": 200,
        "margin": {
         "b": 0,
         "l": 0,
         "r": 0,
         "t": 0
        },
        "xaxis": {
         "dtick": 1,
         "gridwidth": 2,
         "showticklabels": false,
         "tick0": -0.5,
         "ticks": "",
         "zeroline": false
        },
        "yaxis": {
         "autorange": "reversed",
         "dtick": 1,
         "gridwidth": 2,
         "showticklabels": false,
         "tick0": 0.5,
         "ticks": "",
         "zeroline": false
        }
       }
      },
      "text/html": [
       "<div id=\"793201ee-ab70-4232-97a2-7853bb744723\" style=\"height: 200px; width: 100%;\" class=\"plotly-graph-div\"></div><script type=\"text/javascript\">require([\"plotly\"], function(Plotly) { window.PLOTLYENV=window.PLOTLYENV || {};window.PLOTLYENV.BASE_URL=\"https://plot.ly\";Plotly.newPlot(\"793201ee-ab70-4232-97a2-7853bb744723\", [{\"type\": \"heatmap\", \"z\": [[0, 0], [0.5, 0.5], [1, 1], [0.5, 0.5], [1, 1]], \"opacity\": 0.75, \"colorscale\": [[0, \"#00083e\"], [0.5, \"#ededee\"], [1, \"#ffffff\"]], \"showscale\": false, \"hoverinfo\": \"none\"}], {\"annotations\": [{\"text\": \"<b>Metric</b>\", \"x\": -0.45, \"y\": 0, \"xref\": \"x1\", \"yref\": \"y1\", \"align\": \"left\", \"xanchor\": \"left\", \"font\": {\"color\": \"#ffffff\"}, \"showarrow\": false}, {\"text\": \"<b>Value</b>\", \"x\": 0.55, \"y\": 0, \"xref\": \"x1\", \"yref\": \"y1\", \"align\": \"left\", \"xanchor\": \"left\", \"font\": {\"color\": \"#ffffff\"}, \"showarrow\": false}, {\"text\": \"Precision\", \"x\": -0.45, \"y\": 1, \"xref\": \"x1\", \"yref\": \"y1\", \"align\": \"left\", \"xanchor\": \"left\", \"font\": {\"color\": \"#000000\"}, \"showarrow\": false}, {\"text\": \"0.71\", \"x\": 0.55, \"y\": 1, \"xref\": \"x1\", \"yref\": \"y1\", \"align\": \"left\", \"xanchor\": \"left\", \"font\": {\"color\": \"#000000\"}, \"showarrow\": false}, {\"text\": \"Recall\", \"x\": -0.45, \"y\": 2, \"xref\": \"x1\", \"yref\": \"y1\", \"align\": \"left\", \"xanchor\": \"left\", \"font\": {\"color\": \"#000000\"}, \"showarrow\": false}, {\"text\": \"0.62\", \"x\": 0.55, \"y\": 2, \"xref\": \"x1\", \"yref\": \"y1\", \"align\": \"left\", \"xanchor\": \"left\", \"font\": {\"color\": \"#000000\"}, \"showarrow\": false}, {\"text\": \"F1 score\", \"x\": -0.45, \"y\": 3, \"xref\": \"x1\", \"yref\": \"y1\", \"align\": \"left\", \"xanchor\": \"left\", \"font\": {\"color\": \"#000000\"}, \"showarrow\": false}, {\"text\": \"0.67\", \"x\": 0.55, \"y\": 3, \"xref\": \"x1\", \"yref\": \"y1\", \"align\": \"left\", \"xanchor\": \"left\", \"font\": {\"color\": \"#000000\"}, \"showarrow\": false}, {\"text\": \"ROC AUC\", \"x\": -0.45, \"y\": 4, \"xref\": \"x1\", \"yref\": \"y1\", \"align\": \"left\", \"xanchor\": \"left\", \"font\": {\"color\": \"#000000\"}, \"showarrow\": false}, {\"text\": \"0.69\", \"x\": 0.55, \"y\": 4, \"xref\": \"x1\", \"yref\": \"y1\", \"align\": \"left\", \"xanchor\": \"left\", \"font\": {\"color\": \"#000000\"}, \"showarrow\": false}], \"height\": 200, \"margin\": {\"t\": 0, \"b\": 0, \"r\": 0, \"l\": 0}, \"yaxis\": {\"autorange\": \"reversed\", \"zeroline\": false, \"gridwidth\": 2, \"ticks\": \"\", \"dtick\": 1, \"tick0\": 0.5, \"showticklabels\": false}, \"xaxis\": {\"zeroline\": false, \"gridwidth\": 2, \"ticks\": \"\", \"dtick\": 1, \"tick0\": -0.5, \"showticklabels\": false}, \"font\": {\"size\": 14}}, {\"showLink\": true, \"linkText\": \"Export to plot.ly\"})});</script>"
      ],
      "text/vnd.plotly.v1+html": [
       "<div id=\"793201ee-ab70-4232-97a2-7853bb744723\" style=\"height: 200px; width: 100%;\" class=\"plotly-graph-div\"></div><script type=\"text/javascript\">require([\"plotly\"], function(Plotly) { window.PLOTLYENV=window.PLOTLYENV || {};window.PLOTLYENV.BASE_URL=\"https://plot.ly\";Plotly.newPlot(\"793201ee-ab70-4232-97a2-7853bb744723\", [{\"type\": \"heatmap\", \"z\": [[0, 0], [0.5, 0.5], [1, 1], [0.5, 0.5], [1, 1]], \"opacity\": 0.75, \"colorscale\": [[0, \"#00083e\"], [0.5, \"#ededee\"], [1, \"#ffffff\"]], \"showscale\": false, \"hoverinfo\": \"none\"}], {\"annotations\": [{\"text\": \"<b>Metric</b>\", \"x\": -0.45, \"y\": 0, \"xref\": \"x1\", \"yref\": \"y1\", \"align\": \"left\", \"xanchor\": \"left\", \"font\": {\"color\": \"#ffffff\"}, \"showarrow\": false}, {\"text\": \"<b>Value</b>\", \"x\": 0.55, \"y\": 0, \"xref\": \"x1\", \"yref\": \"y1\", \"align\": \"left\", \"xanchor\": \"left\", \"font\": {\"color\": \"#ffffff\"}, \"showarrow\": false}, {\"text\": \"Precision\", \"x\": -0.45, \"y\": 1, \"xref\": \"x1\", \"yref\": \"y1\", \"align\": \"left\", \"xanchor\": \"left\", \"font\": {\"color\": \"#000000\"}, \"showarrow\": false}, {\"text\": \"0.71\", \"x\": 0.55, \"y\": 1, \"xref\": \"x1\", \"yref\": \"y1\", \"align\": \"left\", \"xanchor\": \"left\", \"font\": {\"color\": \"#000000\"}, \"showarrow\": false}, {\"text\": \"Recall\", \"x\": -0.45, \"y\": 2, \"xref\": \"x1\", \"yref\": \"y1\", \"align\": \"left\", \"xanchor\": \"left\", \"font\": {\"color\": \"#000000\"}, \"showarrow\": false}, {\"text\": \"0.62\", \"x\": 0.55, \"y\": 2, \"xref\": \"x1\", \"yref\": \"y1\", \"align\": \"left\", \"xanchor\": \"left\", \"font\": {\"color\": \"#000000\"}, \"showarrow\": false}, {\"text\": \"F1 score\", \"x\": -0.45, \"y\": 3, \"xref\": \"x1\", \"yref\": \"y1\", \"align\": \"left\", \"xanchor\": \"left\", \"font\": {\"color\": \"#000000\"}, \"showarrow\": false}, {\"text\": \"0.67\", \"x\": 0.55, \"y\": 3, \"xref\": \"x1\", \"yref\": \"y1\", \"align\": \"left\", \"xanchor\": \"left\", \"font\": {\"color\": \"#000000\"}, \"showarrow\": false}, {\"text\": \"ROC AUC\", \"x\": -0.45, \"y\": 4, \"xref\": \"x1\", \"yref\": \"y1\", \"align\": \"left\", \"xanchor\": \"left\", \"font\": {\"color\": \"#000000\"}, \"showarrow\": false}, {\"text\": \"0.69\", \"x\": 0.55, \"y\": 4, \"xref\": \"x1\", \"yref\": \"y1\", \"align\": \"left\", \"xanchor\": \"left\", \"font\": {\"color\": \"#000000\"}, \"showarrow\": false}], \"height\": 200, \"margin\": {\"t\": 0, \"b\": 0, \"r\": 0, \"l\": 0}, \"yaxis\": {\"autorange\": \"reversed\", \"zeroline\": false, \"gridwidth\": 2, \"ticks\": \"\", \"dtick\": 1, \"tick0\": 0.5, \"showticklabels\": false}, \"xaxis\": {\"zeroline\": false, \"gridwidth\": 2, \"ticks\": \"\", \"dtick\": 1, \"tick0\": -0.5, \"showticklabels\": false}, \"font\": {\"size\": 14}}, {\"showLink\": true, \"linkText\": \"Export to plot.ly\"})});</script>"
      ]
     },
     "metadata": {},
     "output_type": "display_data"
    }
   ],
   "source": [
    "table = table_classification_report(estimator=final_model, X=X_test, y=y_test)\n",
    "\n",
    "py.iplot(table, filename='fatigue/clf_report')"
   ]
  },
  {
   "cell_type": "markdown",
   "metadata": {},
   "source": [
    "## 7. Summary"
   ]
  },
  {
   "cell_type": "code",
   "execution_count": null,
   "metadata": {},
   "outputs": [],
   "source": []
  }
 ],
 "metadata": {
  "kernelspec": {
   "display_name": "fatigue",
   "language": "python",
   "name": "fatigue"
  },
  "language_info": {
   "codemirror_mode": {
    "name": "ipython",
    "version": 3
   },
   "file_extension": ".py",
   "mimetype": "text/x-python",
   "name": "python",
   "nbconvert_exporter": "python",
   "pygments_lexer": "ipython3",
   "version": "3.6.4"
  },
  "toc": {
   "nav_menu": {},
   "number_sections": false,
   "sideBar": true,
   "skip_h1_title": true,
   "title_cell": "Table of Contents",
   "title_sidebar": "Contents",
   "toc_cell": true,
   "toc_position": {
    "height": "calc(100% - 180px)",
    "left": "10px",
    "top": "150px",
    "width": "384px"
   },
   "toc_section_display": true,
   "toc_window_display": true
  }
 },
 "nbformat": 4,
 "nbformat_minor": 2
}
