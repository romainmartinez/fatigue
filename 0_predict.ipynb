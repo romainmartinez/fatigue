{
 "cells": [
  {
   "cell_type": "markdown",
   "metadata": {
    "toc": true
   },
   "source": [
    "<h1>Table of Contents<span class=\"tocSkip\"></span></h1>\n",
    "<div class=\"toc\"><ul class=\"toc-item\"><li><span><a href=\"#Todos\" data-toc-modified-id=\"Todos-1\">Todos</a></span></li><li><span><a href=\"#1.-Setup\" data-toc-modified-id=\"1.-Setup-2\">1. Setup</a></span></li><li><span><a href=\"#2.-Get-data\" data-toc-modified-id=\"2.-Get-data-3\">2. Get data</a></span><ul class=\"toc-item\"><li><span><a href=\"#2.a.-Create-feature-matrix\" data-toc-modified-id=\"2.a.-Create-feature-matrix-3.1\">2.a. Create feature matrix</a></span></li><li><span><a href=\"#2.b.-Create-label-vector\" data-toc-modified-id=\"2.b.-Create-label-vector-3.2\">2.b. Create label vector</a></span></li><li><span><a href=\"#2.c.-Create-report\" data-toc-modified-id=\"2.c.-Create-report-3.3\">2.c. Create report</a></span></li><li><span><a href=\"#2.d.-Split-data-&amp;-shuffle\" data-toc-modified-id=\"2.d.-Split-data-&amp;-shuffle-3.4\">2.d. Split data &amp; shuffle</a></span></li></ul></li><li><span><a href=\"#2.-Pipeline\" data-toc-modified-id=\"2.-Pipeline-4\">2. Pipeline</a></span><ul class=\"toc-item\"><li><span><a href=\"#2.a.-Metrics-wrap-up\" data-toc-modified-id=\"2.a.-Metrics-wrap-up-4.1\">2.a. Metrics wrap up</a></span><ul class=\"toc-item\"><li><span><a href=\"#2.a.1.-Confusion-matrix-metrics\" data-toc-modified-id=\"2.a.1.-Confusion-matrix-metrics-4.1.1\">2.a.1. Confusion matrix metrics</a></span><ul class=\"toc-item\"><li><span><a href=\"#True-negative-(TN)\" data-toc-modified-id=\"True-negative-(TN)-4.1.1.1\">True negative (TN)</a></span></li><li><span><a href=\"#False-negative-(FN)\" data-toc-modified-id=\"False-negative-(FN)-4.1.1.2\">False negative (FN)</a></span></li><li><span><a href=\"#True-positive-(TP)\" data-toc-modified-id=\"True-positive-(TP)-4.1.1.3\">True positive (TP)</a></span></li><li><span><a href=\"#False-positive-(FP)\" data-toc-modified-id=\"False-positive-(FP)-4.1.1.4\">False positive (FP)</a></span></li></ul></li><li><span><a href=\"#2.a.2.-Metrics\" data-toc-modified-id=\"2.a.2.-Metrics-4.1.2\">2.a.2. Metrics</a></span><ul class=\"toc-item\"><li><span><a href=\"#Precision\" data-toc-modified-id=\"Precision-4.1.2.1\">Precision</a></span></li><li><span><a href=\"#Recall-or-True-Positive-Rate-(TPR)\" data-toc-modified-id=\"Recall-or-True-Positive-Rate-(TPR)-4.1.2.2\">Recall or True Positive Rate (TPR)</a></span></li><li><span><a href=\"#False-Positive-Rate-(FPR)\" data-toc-modified-id=\"False-Positive-Rate-(FPR)-4.1.2.3\">False Positive Rate (FPR)</a></span></li><li><span><a href=\"#Receiver-Operating-Characteristic-curve-(ROC)\" data-toc-modified-id=\"Receiver-Operating-Characteristic-curve-(ROC)-4.1.2.4\">Receiver Operating Characteristic curve (ROC)</a></span></li><li><span><a href=\"#In-our-case\" data-toc-modified-id=\"In-our-case-4.1.2.5\">In our case</a></span></li></ul></li></ul></li><li><span><a href=\"#2.b.-Pipeline-creation\" data-toc-modified-id=\"2.b.-Pipeline-creation-4.2\">2.b. Pipeline creation</a></span></li></ul></li><li><span><a href=\"#4.-Optimization\" data-toc-modified-id=\"4.-Optimization-5\">4. Optimization</a></span><ul class=\"toc-item\"><li><span><a href=\"#4.a.-Gradient-boosting\" data-toc-modified-id=\"4.a.-Gradient-boosting-5.1\">4.a. Gradient boosting</a></span></li><li><span><a href=\"#4.b.-XGBoost\" data-toc-modified-id=\"4.b.-XGBoost-5.2\">4.b. XGBoost</a></span></li></ul></li><li><span><a href=\"#5.-Diagnostic\" data-toc-modified-id=\"5.-Diagnostic-6\">5. Diagnostic</a></span><ul class=\"toc-item\"><li><span><a href=\"#5.a.-Feature-importances\" data-toc-modified-id=\"5.a.-Feature-importances-6.1\">5.a. Feature importances</a></span></li><li><span><a href=\"#5.b.-Learning-curves\" data-toc-modified-id=\"5.b.-Learning-curves-6.2\">5.b. Learning curves</a></span></li><li><span><a href=\"#5.c.-ROC-curves\" data-toc-modified-id=\"5.c.-ROC-curves-6.3\">5.c. ROC curves</a></span></li><li><span><a href=\"#5.d.-Precision-recall-vs-threshold\" data-toc-modified-id=\"5.d.-Precision-recall-vs-threshold-6.4\">5.d. Precision-recall vs threshold</a></span></li><li><span><a href=\"#5.e.-Confusion-matrix\" data-toc-modified-id=\"5.e.-Confusion-matrix-6.5\">5.e. Confusion matrix</a></span></li></ul></li><li><span><a href=\"#6.-Evaluation\" data-toc-modified-id=\"6.-Evaluation-7\">6. Evaluation</a></span><ul class=\"toc-item\"><li><span><a href=\"#6.a.-Confusion-matrix\" data-toc-modified-id=\"6.a.-Confusion-matrix-7.1\">6.a. Confusion matrix</a></span></li><li><span><a href=\"#6.b.-Classification-scalar-metrics\" data-toc-modified-id=\"6.b.-Classification-scalar-metrics-7.2\">6.b. Classification scalar metrics</a></span></li></ul></li><li><span><a href=\"#7.-Summary\" data-toc-modified-id=\"7.-Summary-8\">7. Summary</a></span></li></ul></div>"
   ]
  },
  {
   "cell_type": "markdown",
   "metadata": {},
   "source": [
    "# Project Fatigue\n",
    "- GitHub [link](https://github.com/romainmartinez/fatigue)"
   ]
  },
  {
   "cell_type": "markdown",
   "metadata": {},
   "source": [
    "## Todos\n",
    "- keras/tensorflow: [link](https://medium.com/@williamkoehrsen/deep-neural-network-classifier-32c12ff46b6c)\n",
    "- model optimization\n",
    "- report html"
   ]
  },
  {
   "cell_type": "markdown",
   "metadata": {},
   "source": [
    "## 1. Setup"
   ]
  },
  {
   "cell_type": "code",
   "execution_count": 1,
   "metadata": {
    "run_control": {
     "marked": false
    }
   },
   "outputs": [
    {
     "data": {
      "text/html": [
       "<script>requirejs.config({paths: { 'plotly': ['https://cdn.plot.ly/plotly-latest.min']},});if(!window.Plotly) {{require(['plotly'],function(plotly) {window.Plotly=plotly;});}}</script>"
      ],
      "text/vnd.plotly.v1+html": [
       "<script>requirejs.config({paths: { 'plotly': ['https://cdn.plot.ly/plotly-latest.min']},});if(!window.Plotly) {{require(['plotly'],function(plotly) {window.Plotly=plotly;});}}</script>"
      ]
     },
     "metadata": {},
     "output_type": "display_data"
    }
   ],
   "source": [
    "# Common imports\n",
    "import scipy.io as sio\n",
    "import numpy as np\n",
    "import warnings\n",
    "import os\n",
    "\n",
    "# Figures\n",
    "OFFLINE = True\n",
    "if OFFLINE:\n",
    "    import plotly.offline as py\n",
    "    py.init_notebook_mode(connected=True)\n",
    "else:\n",
    "    import plotly.plotly as py\n",
    "import plotly.graph_objs as go\n",
    "import plotly.figure_factory as ff\n",
    "base_layout = go.Layout(hovermode='closest', font=dict(size=14))\n",
    "\n",
    "# to make this notebook's output stable across runs\n",
    "RANDOM_SEED = 42\n",
    "np.random.seed(RANDOM_SEED)"
   ]
  },
  {
   "cell_type": "markdown",
   "metadata": {},
   "source": [
    "## 2. Get data"
   ]
  },
  {
   "cell_type": "code",
   "execution_count": 2,
   "metadata": {
    "run_control": {
     "marked": false
    }
   },
   "outputs": [],
   "source": [
    "DATA_PATH = os.path.join('.', 'data/')\n",
    "DATA_FILE = 'DatabaseRPT.mat'\n",
    "mat = sio.loadmat(os.path.join(DATA_PATH, DATA_FILE))['DataBaseRPT'][0, 0]"
   ]
  },
  {
   "cell_type": "markdown",
   "metadata": {},
   "source": [
    "- label\n",
    "    - `Y` (1, 162): 1 = prefatigue, 2 = fatigue\n",
    "\n",
    "- used features\n",
    "    - `AllX` (24, 162): 24 (6 DoF x 4 variables) x 162 (81 participants x 2 time points).\n",
    "    - `CAssignAll` (1, 24): AllX column assignment\n",
    "\n",
    "    - `Sex` (1, 162)\n",
    "    - `Endurance` (1, 162)\n",
    "\n",
    "- not used\n",
    "    - `BestX` (7, 162): 7 (variables with SRM>0.8) x 162 (81 participants x 2 time points) matrix. Contains data only for the most responsive variables (SRM>0.8).\n",
    "    - `CAssignBest` (1, 7): BestX column assignment.\n",
    "    - `Age` (1, 162): too much NaN.\n",
    "    - `Height` (1, 162): too much NaN.\n",
    "    - `Weight` (1, 162) Too much NaN.\n",
    "    - `SubjectKey` (1, 162): useless.\n",
    "    - `SID` (1, 162): useless."
   ]
  },
  {
   "cell_type": "markdown",
   "metadata": {},
   "source": [
    "### 2.a. Create feature matrix"
   ]
  },
  {
   "cell_type": "code",
   "execution_count": 3,
   "metadata": {
    "run_control": {
     "marked": false
    }
   },
   "outputs": [],
   "source": [
    "col_names = [i[0] for i in mat['CAssignAll'].flatten()]\n",
    "# find variable with SRM > .8\n",
    "srm_names = np.array([i[0] for i in mat['CAssignBest'].flatten()])\n",
    "srm_idx = np.in1d(col_names, srm_names)\n",
    "\n",
    "# add `AllX`\n",
    "X = mat['AllX'].T\n",
    "\n",
    "# add `Sex`\n",
    "X = np.c_[X, mat['Sex'].T]\n",
    "col_names.append('Sex')\n",
    "\n",
    "col_names = np.array(col_names)"
   ]
  },
  {
   "cell_type": "markdown",
   "metadata": {},
   "source": [
    "### 2.b. Create label vector"
   ]
  },
  {
   "cell_type": "code",
   "execution_count": 4,
   "metadata": {
    "run_control": {
     "marked": false
    }
   },
   "outputs": [],
   "source": [
    "from sklearn.preprocessing import LabelBinarizer\n",
    "y = mat['Y'].T\n",
    "y = LabelBinarizer().fit_transform(y)"
   ]
  },
  {
   "cell_type": "markdown",
   "metadata": {},
   "source": [
    "### 2.c. Create report"
   ]
  },
  {
   "cell_type": "code",
   "execution_count": 5,
   "metadata": {
    "run_control": {
     "marked": false
    }
   },
   "outputs": [],
   "source": [
    "import os.path\n",
    "import pandas as pd\n",
    "\n",
    "# create dataframe\n",
    "df = pd.DataFrame(X, columns=col_names)\n",
    "df['fatigue (label)'] = y\n",
    "\n",
    "# generate pandas report\n",
    "REPORT_FILENAME = './pandas_report.html'\n",
    "if not os.path.isfile(REPORT_FILENAME):\n",
    "    import pandas_profiling\n",
    "    report = pandas_profiling.ProfileReport(df)\n",
    "    report.to_file('./pandas_report.html')"
   ]
  },
  {
   "cell_type": "markdown",
   "metadata": {},
   "source": [
    "### 2.d. Split data & shuffle"
   ]
  },
  {
   "cell_type": "code",
   "execution_count": 6,
   "metadata": {
    "run_control": {
     "marked": false
    }
   },
   "outputs": [],
   "source": [
    "# split data & shuffle\n",
    "from sklearn.model_selection import train_test_split\n",
    "\n",
    "X_train, X_test, y_train, y_test = train_test_split(\n",
    "    X, y, test_size=0.2, random_state=RANDOM_SEED)"
   ]
  },
  {
   "cell_type": "code",
   "execution_count": 7,
   "metadata": {
    "run_control": {
     "marked": false
    }
   },
   "outputs": [
    {
     "data": {
      "text/html": [
       "<div>\n",
       "<style scoped>\n",
       "    .dataframe tbody tr th:only-of-type {\n",
       "        vertical-align: middle;\n",
       "    }\n",
       "\n",
       "    .dataframe tbody tr th {\n",
       "        vertical-align: top;\n",
       "    }\n",
       "\n",
       "    .dataframe thead th {\n",
       "        text-align: right;\n",
       "    }\n",
       "</style>\n",
       "<table border=\"1\" class=\"dataframe\">\n",
       "  <thead>\n",
       "    <tr style=\"text-align: right;\">\n",
       "      <th></th>\n",
       "      <th>AveElbFlexMean</th>\n",
       "      <th>ROMElbFlexMean</th>\n",
       "      <th>AveElbFlexSD</th>\n",
       "      <th>ROMElbFlexSD</th>\n",
       "      <th>AveShPlaneMean</th>\n",
       "      <th>ROMShPlaneMean</th>\n",
       "      <th>AveShPlaneSD</th>\n",
       "      <th>ROMShPlaneSD</th>\n",
       "      <th>AveShEleMean</th>\n",
       "      <th>ROMShEleMean</th>\n",
       "      <th>...</th>\n",
       "      <th>AveTrYMean</th>\n",
       "      <th>ROMTrYMean</th>\n",
       "      <th>AveTrYSD</th>\n",
       "      <th>ROMTrYSD</th>\n",
       "      <th>AveTrZMean</th>\n",
       "      <th>ROMTrZMean</th>\n",
       "      <th>AveTrZSD</th>\n",
       "      <th>ROMTrZSD</th>\n",
       "      <th>Sex</th>\n",
       "      <th>fatigue (label)</th>\n",
       "    </tr>\n",
       "  </thead>\n",
       "  <tbody>\n",
       "    <tr>\n",
       "      <th>0</th>\n",
       "      <td>105.983144</td>\n",
       "      <td>63.339618</td>\n",
       "      <td>2.219401</td>\n",
       "      <td>1.794134</td>\n",
       "      <td>23.518597</td>\n",
       "      <td>13.624799</td>\n",
       "      <td>1.338393</td>\n",
       "      <td>2.357813</td>\n",
       "      <td>80.274017</td>\n",
       "      <td>2.942674</td>\n",
       "      <td>...</td>\n",
       "      <td>16.382423</td>\n",
       "      <td>13.629558</td>\n",
       "      <td>1.112671</td>\n",
       "      <td>1.977798</td>\n",
       "      <td>-0.550047</td>\n",
       "      <td>2.671822</td>\n",
       "      <td>0.228494</td>\n",
       "      <td>0.711787</td>\n",
       "      <td>2.0</td>\n",
       "      <td>0</td>\n",
       "    </tr>\n",
       "    <tr>\n",
       "      <th>1</th>\n",
       "      <td>106.166216</td>\n",
       "      <td>61.875226</td>\n",
       "      <td>2.239310</td>\n",
       "      <td>2.548458</td>\n",
       "      <td>22.851141</td>\n",
       "      <td>11.726534</td>\n",
       "      <td>1.182490</td>\n",
       "      <td>1.401127</td>\n",
       "      <td>77.897777</td>\n",
       "      <td>4.062635</td>\n",
       "      <td>...</td>\n",
       "      <td>16.041630</td>\n",
       "      <td>15.078508</td>\n",
       "      <td>0.910697</td>\n",
       "      <td>1.003788</td>\n",
       "      <td>-0.208865</td>\n",
       "      <td>1.242553</td>\n",
       "      <td>0.541000</td>\n",
       "      <td>0.496108</td>\n",
       "      <td>2.0</td>\n",
       "      <td>1</td>\n",
       "    </tr>\n",
       "    <tr>\n",
       "      <th>2</th>\n",
       "      <td>100.914284</td>\n",
       "      <td>60.930029</td>\n",
       "      <td>1.482458</td>\n",
       "      <td>1.167593</td>\n",
       "      <td>27.289316</td>\n",
       "      <td>12.291697</td>\n",
       "      <td>1.223189</td>\n",
       "      <td>2.452705</td>\n",
       "      <td>83.932823</td>\n",
       "      <td>2.886935</td>\n",
       "      <td>...</td>\n",
       "      <td>15.039772</td>\n",
       "      <td>14.311074</td>\n",
       "      <td>0.979720</td>\n",
       "      <td>2.070705</td>\n",
       "      <td>0.096174</td>\n",
       "      <td>0.934767</td>\n",
       "      <td>0.488540</td>\n",
       "      <td>0.317386</td>\n",
       "      <td>2.0</td>\n",
       "      <td>0</td>\n",
       "    </tr>\n",
       "    <tr>\n",
       "      <th>3</th>\n",
       "      <td>105.066549</td>\n",
       "      <td>59.524098</td>\n",
       "      <td>2.364182</td>\n",
       "      <td>1.849991</td>\n",
       "      <td>23.083816</td>\n",
       "      <td>7.519415</td>\n",
       "      <td>1.510000</td>\n",
       "      <td>3.503819</td>\n",
       "      <td>78.701025</td>\n",
       "      <td>2.997990</td>\n",
       "      <td>...</td>\n",
       "      <td>16.070120</td>\n",
       "      <td>16.178023</td>\n",
       "      <td>1.418294</td>\n",
       "      <td>3.521951</td>\n",
       "      <td>-0.544067</td>\n",
       "      <td>1.885480</td>\n",
       "      <td>0.610577</td>\n",
       "      <td>0.851287</td>\n",
       "      <td>2.0</td>\n",
       "      <td>1</td>\n",
       "    </tr>\n",
       "    <tr>\n",
       "      <th>4</th>\n",
       "      <td>93.259333</td>\n",
       "      <td>81.531138</td>\n",
       "      <td>2.610755</td>\n",
       "      <td>3.632922</td>\n",
       "      <td>42.387152</td>\n",
       "      <td>27.789377</td>\n",
       "      <td>1.605530</td>\n",
       "      <td>2.027628</td>\n",
       "      <td>71.280986</td>\n",
       "      <td>8.000008</td>\n",
       "      <td>...</td>\n",
       "      <td>8.908385</td>\n",
       "      <td>8.815273</td>\n",
       "      <td>0.709582</td>\n",
       "      <td>1.250228</td>\n",
       "      <td>-0.123442</td>\n",
       "      <td>1.065910</td>\n",
       "      <td>0.415764</td>\n",
       "      <td>0.404298</td>\n",
       "      <td>2.0</td>\n",
       "      <td>0</td>\n",
       "    </tr>\n",
       "  </tbody>\n",
       "</table>\n",
       "<p>5 rows × 26 columns</p>\n",
       "</div>"
      ],
      "text/plain": [
       "   AveElbFlexMean  ROMElbFlexMean  AveElbFlexSD  ROMElbFlexSD  AveShPlaneMean  \\\n",
       "0      105.983144       63.339618      2.219401      1.794134       23.518597   \n",
       "1      106.166216       61.875226      2.239310      2.548458       22.851141   \n",
       "2      100.914284       60.930029      1.482458      1.167593       27.289316   \n",
       "3      105.066549       59.524098      2.364182      1.849991       23.083816   \n",
       "4       93.259333       81.531138      2.610755      3.632922       42.387152   \n",
       "\n",
       "   ROMShPlaneMean  AveShPlaneSD  ROMShPlaneSD  AveShEleMean  ROMShEleMean  \\\n",
       "0       13.624799      1.338393      2.357813     80.274017      2.942674   \n",
       "1       11.726534      1.182490      1.401127     77.897777      4.062635   \n",
       "2       12.291697      1.223189      2.452705     83.932823      2.886935   \n",
       "3        7.519415      1.510000      3.503819     78.701025      2.997990   \n",
       "4       27.789377      1.605530      2.027628     71.280986      8.000008   \n",
       "\n",
       "        ...         AveTrYMean  ROMTrYMean  AveTrYSD  ROMTrYSD  AveTrZMean  \\\n",
       "0       ...          16.382423   13.629558  1.112671  1.977798   -0.550047   \n",
       "1       ...          16.041630   15.078508  0.910697  1.003788   -0.208865   \n",
       "2       ...          15.039772   14.311074  0.979720  2.070705    0.096174   \n",
       "3       ...          16.070120   16.178023  1.418294  3.521951   -0.544067   \n",
       "4       ...           8.908385    8.815273  0.709582  1.250228   -0.123442   \n",
       "\n",
       "   ROMTrZMean  AveTrZSD  ROMTrZSD  Sex  fatigue (label)  \n",
       "0    2.671822  0.228494  0.711787  2.0                0  \n",
       "1    1.242553  0.541000  0.496108  2.0                1  \n",
       "2    0.934767  0.488540  0.317386  2.0                0  \n",
       "3    1.885480  0.610577  0.851287  2.0                1  \n",
       "4    1.065910  0.415764  0.404298  2.0                0  \n",
       "\n",
       "[5 rows x 26 columns]"
      ]
     },
     "execution_count": 7,
     "metadata": {},
     "output_type": "execute_result"
    }
   ],
   "source": [
    "df.head()"
   ]
  },
  {
   "cell_type": "markdown",
   "metadata": {},
   "source": [
    "## 2. Pipeline"
   ]
  },
  {
   "cell_type": "markdown",
   "metadata": {},
   "source": [
    "### 2.a. Metrics wrap up\n",
    "\n",
    "#### 2.a.1. Confusion matrix metrics\n",
    "\n",
    "| Predicted | Real: 1 | Real: 0 |\n",
    "|-----------|---------|---------|\n",
    "|    1      |  TP     |    FP   |\n",
    "|    0      |  FN     |    TN   |\n",
    "\n",
    "##### True negative (TN)\n",
    "We *correctly* predict that the class is *negative*.\n",
    "\n",
    "##### False negative (FN)\n",
    "We *incorrectly* predict that the class is *negative*.\n",
    "\n",
    "##### True positive (TP)\n",
    "We *correctly* predict that the class is *positive*.\n",
    "\n",
    "##### False positive (FP)\n",
    "We *incorrectly* predict that the class is *positive*.\n",
    "\n",
    "#### 2.a.2. Metrics\n",
    "\n",
    "##### Precision\n",
    "$$\\frac{TP}{\\text{n}^o \\text{predicted positives}} = \\frac{TP}{TP + FP}$$\n",
    "\n",
    "- high precision = less _false positive_\n",
    "- _example_: getting $0.8$ precision means that when it claims to detect a label, it is right $80$% of the time\n",
    "\n",
    "##### Recall or True Positive Rate (TPR)\n",
    "$$\\frac{TP}{\\text{n}^o \\text{actual positives}} = \\frac{TP}{TP + FN}$$\n",
    "\n",
    "- high recall = less _false negative_\n",
    "- _example_: getting $0.8$ recall means that it detect $80$% of the label\n",
    "\n",
    "##### False Positive Rate (FPR)\n",
    "$$\\frac{FP}{\\text{n}^o \\text{actual negatives}} = \\frac{FP}{FP + TN}$$\n",
    "\n",
    "- high FPR = more _negative data points missclassified_\n",
    "- proportion of negative data points that are mistakenly considered as positive, with respect to all negative data points\n",
    "\n",
    "##### Receiver Operating Characteristic curve (ROC)\n",
    "Compute _TPR_ and _FPR_ for many different threshold and plot FPR vs. TPR\n",
    "\n",
    "##### In our case\n",
    "We want to optimize our algorithm for the area Under the ROC curve ([wiki](https://en.wikipedia.org/wiki/Receiver_operating_characteristic#Area_under_the_curve), [stackexchange](https://stats.stackexchange.com/a/132832))."
   ]
  },
  {
   "cell_type": "markdown",
   "metadata": {},
   "source": [
    "### 2.b. Pipeline creation"
   ]
  },
  {
   "cell_type": "code",
   "execution_count": 8,
   "metadata": {
    "run_control": {
     "marked": false
    }
   },
   "outputs": [],
   "source": [
    "def get_categorical_cols(X):\n",
    "    return X[:, col_names == 'Sex']\n",
    "\n",
    "\n",
    "def get_numerical_cols(X):\n",
    "    return X[:, col_names != 'Sex']\n",
    "\n",
    "\n",
    "def get_high_srm_cols(X, srm_idx=srm_idx):\n",
    "    return X[:, srm_idx]"
   ]
  },
  {
   "cell_type": "code",
   "execution_count": 9,
   "metadata": {
    "run_control": {
     "marked": false
    }
   },
   "outputs": [],
   "source": [
    "from sklearn.pipeline import Pipeline, FeatureUnion\n",
    "from sklearn.preprocessing import FunctionTransformer\n",
    "\n",
    "# categorical\n",
    "from sklearn.preprocessing import OneHotEncoder\n",
    "\n",
    "# numerical\n",
    "from sklearn.preprocessing import StandardScaler\n",
    "from sklearn.decomposition import PCA\n",
    "from sklearn.preprocessing import PolynomialFeatures\n",
    "\n",
    "pipeline_categorical = Pipeline([\n",
    "    ('selector', FunctionTransformer(get_categorical_cols, validate=False)),\n",
    "    ('encoder', OneHotEncoder(sparse=False))\n",
    "])\n",
    "\n",
    "pipeline_numerical = Pipeline([\n",
    "    ('selector', FunctionTransformer(get_numerical_cols, validate=False)),\n",
    "    ('selecthighsrm', FunctionTransformer(get_high_srm_cols, validate=False)),\n",
    "    ('scale', StandardScaler()),\n",
    "    ('polyfeatures', PolynomialFeatures(degree=2))\n",
    "])\n",
    "\n",
    "pipeline_preprocessing = FeatureUnion([\n",
    "    ('categorical', pipeline_categorical),\n",
    "    ('numerical', pipeline_numerical)\n",
    "])"
   ]
  },
  {
   "cell_type": "code",
   "execution_count": 10,
   "metadata": {
    "run_control": {
     "marked": false
    }
   },
   "outputs": [],
   "source": [
    "from sklearn.model_selection import GridSearchCV\n",
    "import pprint\n",
    "\n",
    "\n",
    "class GridSearchWrapper:\n",
    "    def __init__(self, base_pipeline, model, param_grid, scoring):\n",
    "        self.base_pipeline = base_pipeline\n",
    "        self.model = model\n",
    "        self.param_grid = param_grid\n",
    "        self.scoring = scoring\n",
    "    \n",
    "    def fit(self, X, y):\n",
    "        pipeline = Pipeline([\n",
    "            ('preprocessing', self.base_pipeline),\n",
    "            ('pca', PCA(n_components=0.99, svd_solver='full')),\n",
    "            ('classifier', self.model)\n",
    "        ])\n",
    "        \n",
    "        self.grid_search = GridSearchCV(pipeline,\n",
    "                                        self.param_grid,\n",
    "                                        scoring=self.scoring,\n",
    "                                        cv=5,\n",
    "                                        n_jobs=-1,\n",
    "                                        verbose=1)\n",
    "        self.grid_search.fit(X, y)\n",
    "    \n",
    "    def print_scores(self):\n",
    "        print(f'best score ({self.scoring}): {self.grid_search.best_score_:.3f}')\n",
    "        print('\\nbest params:')\n",
    "        pprint.pprint(self.grid_search.best_params_)"
   ]
  },
  {
   "cell_type": "code",
   "execution_count": 11,
   "metadata": {
    "run_control": {
     "marked": false
    }
   },
   "outputs": [],
   "source": [
    "# wide\n",
    "# param_grid = {\n",
    "#     'preprocessing__numerical__selecthighsrm': [None, FunctionTransformer(get_high_srm_cols, validate=False)],\n",
    "#     'preprocessing__numerical__polyfeatures': [None, PolynomialFeatures(degree=1), PolynomialFeatures(degree=2),\n",
    "#                                                PolynomialFeatures(degree=3)],\n",
    "#     'preprocessing__numerical__scale': [None, StandardScaler()],\n",
    "#     'pca': [None, PCA(n_components=0.99, svd_solver='full')]\n",
    "# }\n",
    "\n",
    "# selected\n",
    "param_grid = {\n",
    "    'preprocessing__numerical__selecthighsrm': [None, FunctionTransformer(get_high_srm_cols, validate=False)],\n",
    "    'preprocessing__numerical__polyfeatures': [None],\n",
    "    'preprocessing__numerical__scale': [None, StandardScaler()],\n",
    "    'pca': [None]\n",
    "}\n",
    "\n",
    "scoring = 'roc_auc'\n",
    "model = {}"
   ]
  },
  {
   "cell_type": "markdown",
   "metadata": {},
   "source": [
    "## 4. Optimization"
   ]
  },
  {
   "cell_type": "markdown",
   "metadata": {},
   "source": [
    "### 4.a. Gradient boosting"
   ]
  },
  {
   "cell_type": "code",
   "execution_count": 12,
   "metadata": {
    "run_control": {
     "marked": false
    }
   },
   "outputs": [
    {
     "name": "stdout",
     "output_type": "stream",
     "text": [
      "Fitting 5 folds for each of 4 candidates, totalling 20 fits\n"
     ]
    },
    {
     "name": "stderr",
     "output_type": "stream",
     "text": [
      "[Parallel(n_jobs=-1)]: Done  20 out of  20 | elapsed:    0.3s finished\n"
     ]
    }
   ],
   "source": [
    "from sklearn.ensemble import GradientBoostingClassifier\n",
    "\n",
    "model_param = {\n",
    "    'learning_rate': 0.001,\n",
    "    'max_depth': 1,\n",
    "    'max_features': 0.75,\n",
    "    'min_samples_leaf': 7,\n",
    "    'min_samples_split': 16,\n",
    "    'n_estimators': 100,\n",
    "    'subsample': 0.3,\n",
    "    'random_state': RANDOM_SEED\n",
    "}\n",
    "\n",
    "wrapper = GridSearchWrapper(\n",
    "    base_pipeline=pipeline_preprocessing,\n",
    "    model=GradientBoostingClassifier(**model_param),\n",
    "    param_grid=param_grid,\n",
    "    scoring=scoring)\n",
    "\n",
    "wrapper.fit(X_train, y_train.ravel())"
   ]
  },
  {
   "cell_type": "code",
   "execution_count": 13,
   "metadata": {
    "run_control": {
     "marked": false
    }
   },
   "outputs": [
    {
     "name": "stdout",
     "output_type": "stream",
     "text": [
      "best score (roc_auc): 0.907\n",
      "\n",
      "best params:\n",
      "{'pca': None,\n",
      " 'preprocessing__numerical__polyfeatures': None,\n",
      " 'preprocessing__numerical__scale': None,\n",
      " 'preprocessing__numerical__selecthighsrm': None}\n"
     ]
    }
   ],
   "source": [
    "wrapper.print_scores()\n",
    "model['gradboost'] = wrapper.grid_search.best_estimator_"
   ]
  },
  {
   "cell_type": "markdown",
   "metadata": {},
   "source": [
    "### 4.b. XGBoost"
   ]
  },
  {
   "cell_type": "markdown",
   "metadata": {},
   "source": [
    "https://jessesw.com/XG-Boost/"
   ]
  },
  {
   "cell_type": "code",
   "execution_count": 14,
   "metadata": {
    "run_control": {
     "marked": false
    }
   },
   "outputs": [
    {
     "name": "stdout",
     "output_type": "stream",
     "text": [
      "Fitting 5 folds for each of 4 candidates, totalling 20 fits\n"
     ]
    },
    {
     "name": "stderr",
     "output_type": "stream",
     "text": [
      "[Parallel(n_jobs=-1)]: Done  20 out of  20 | elapsed:    0.2s finished\n"
     ]
    }
   ],
   "source": [
    "from xgboost import XGBClassifier\n",
    "\n",
    "model_param = {\n",
    "    'learning_rate': 0.001,\n",
    "    'max_depth': 1,\n",
    "    'max_features': 0.75,\n",
    "    'min_samples_leaf': 7,\n",
    "    'min_samples_split': 16,\n",
    "    'n_estimators': 100,\n",
    "    'subsample': 0.3,\n",
    "    'random_state': RANDOM_SEED\n",
    "}\n",
    "\n",
    "warnings.simplefilter('ignore')\n",
    "wrapper = GridSearchWrapper(\n",
    "    base_pipeline=pipeline_preprocessing,\n",
    "    model=XGBClassifier(**model_param),\n",
    "    param_grid=param_grid,\n",
    "    scoring=scoring)\n",
    "\n",
    "wrapper.fit(X_train, y_train.ravel())\n",
    "warnings.simplefilter('default')"
   ]
  },
  {
   "cell_type": "code",
   "execution_count": 15,
   "metadata": {
    "run_control": {
     "marked": false
    }
   },
   "outputs": [
    {
     "name": "stdout",
     "output_type": "stream",
     "text": [
      "best score (roc_auc): 0.900\n",
      "\n",
      "best params:\n",
      "{'pca': None,\n",
      " 'preprocessing__numerical__polyfeatures': None,\n",
      " 'preprocessing__numerical__scale': None,\n",
      " 'preprocessing__numerical__selecthighsrm': None}\n"
     ]
    }
   ],
   "source": [
    "wrapper.print_scores()\n",
    "model['xgboost'] = wrapper.grid_search.best_estimator_"
   ]
  },
  {
   "cell_type": "markdown",
   "metadata": {},
   "source": [
    "## 5. Diagnostic"
   ]
  },
  {
   "cell_type": "code",
   "execution_count": 16,
   "metadata": {},
   "outputs": [],
   "source": [
    "from sklearn.model_selection import cross_val_predict\n",
    "\n",
    "final_model = model['xgboost']\n",
    "\n",
    "warnings.simplefilter('ignore')\n",
    "cv_predict_proba = cross_val_predict(\n",
    "    final_model, X_train, y_train.ravel(), cv=5, method='predict_proba')\n",
    "\n",
    "cv_predict = cross_val_predict(\n",
    "    final_model, X_train, y_train.ravel(), cv=5, method='predict')\n",
    "warnings.simplefilter('default')"
   ]
  },
  {
   "cell_type": "markdown",
   "metadata": {},
   "source": [
    "### 5.a. Feature importances"
   ]
  },
  {
   "cell_type": "code",
   "execution_count": 17,
   "metadata": {},
   "outputs": [],
   "source": [
    "def plot_feature_importances(importances, col_names):\n",
    "    # sort feature\n",
    "    indices = np.argsort(importances)\n",
    "\n",
    "    trace = go.Bar(\n",
    "        x=importances[indices],\n",
    "        y=col_names[indices],\n",
    "        marker=dict(color='red'),\n",
    "        orientation='h',\n",
    "        opacity=0.5)\n",
    "\n",
    "    layout = base_layout.copy()\n",
    "    layout.update(\n",
    "        dict(\n",
    "            title='Feature importances',\n",
    "            xaxis=dict(\n",
    "                title='Feature importances (%)', showline=True, linewidth=1.5),\n",
    "            yaxis=dict(showline=True, linewidth=1.5)))\n",
    "\n",
    "    # adjust y axis\n",
    "    layout['yaxis'].update(nticks=importances.shape[0])\n",
    "    layout.update(margin=go.Margin(t=80, b=80, l=150, r=80, pad=0))\n",
    "\n",
    "    fig = dict(data=[trace], layout=layout)\n",
    "    return fig"
   ]
  },
  {
   "cell_type": "code",
   "execution_count": 18,
   "metadata": {},
   "outputs": [
    {
     "data": {
      "application/vnd.plotly.v1+json": {
       "data": [
        {
         "marker": {
          "color": "red"
         },
         "opacity": 0.5,
         "orientation": "h",
         "type": "bar",
         "x": [
          0,
          0,
          0,
          0,
          0,
          0,
          0,
          0,
          0,
          0,
          0,
          1,
          1,
          1,
          1,
          1,
          1,
          1,
          2,
          2,
          3,
          3,
          5,
          6,
          6,
          66
         ],
         "y": [
          "AveElbFlexMean",
          "ROMTrZSD",
          "AveTrYSD",
          "ROMShPlaneSD",
          "AveShPlaneSD",
          "AveTrXMean",
          "AveShPlaneMean",
          "ROMElbFlexMean",
          "AveElbFlexSD",
          "Sex_1",
          "ROMElbFlexSD",
          "ROMShEleSD",
          "AveTrXSD",
          "ROMShPlaneMean",
          "AveTrYMean",
          "ROMTrYMean",
          "AveShEleMean",
          "AveTrZSD",
          "ROMTrZMean",
          "ROMShEleMean",
          "ROMTrXMean",
          "AveTrZMean",
          "ROMTrXSD",
          "Sex",
          "ROMTrYSD",
          "AveShEleSD"
         ]
        }
       ],
       "layout": {
        "font": {
         "size": 14
        },
        "hovermode": "closest",
        "margin": {
         "b": 80,
         "l": 150,
         "pad": 0,
         "r": 80,
         "t": 80
        },
        "title": "Feature importances",
        "xaxis": {
         "linewidth": 1.5,
         "showline": true,
         "title": "Feature importances (%)"
        },
        "yaxis": {
         "linewidth": 1.5,
         "nticks": 26,
         "showline": true
        }
       }
      },
      "text/html": [
       "<div id=\"a1ff6212-b0c9-418c-82fd-16ab066015a2\" style=\"height: 525px; width: 100%;\" class=\"plotly-graph-div\"></div><script type=\"text/javascript\">require([\"plotly\"], function(Plotly) { window.PLOTLYENV=window.PLOTLYENV || {};window.PLOTLYENV.BASE_URL=\"https://plot.ly\";Plotly.newPlot(\"a1ff6212-b0c9-418c-82fd-16ab066015a2\", [{\"type\": \"bar\", \"x\": [0.0, 0.0, 0.0, 0.0, 0.0, 0.0, 0.0, 0.0, 0.0, 0.0, 0.0, 1.0, 1.0, 1.0, 1.0, 1.0, 1.0, 1.0, 2.0, 2.0, 3.0, 3.0, 5.0, 6.0, 6.0, 66.0], \"y\": [\"AveElbFlexMean\", \"ROMTrZSD\", \"AveTrYSD\", \"ROMShPlaneSD\", \"AveShPlaneSD\", \"AveTrXMean\", \"AveShPlaneMean\", \"ROMElbFlexMean\", \"AveElbFlexSD\", \"Sex_1\", \"ROMElbFlexSD\", \"ROMShEleSD\", \"AveTrXSD\", \"ROMShPlaneMean\", \"AveTrYMean\", \"ROMTrYMean\", \"AveShEleMean\", \"AveTrZSD\", \"ROMTrZMean\", \"ROMShEleMean\", \"ROMTrXMean\", \"AveTrZMean\", \"ROMTrXSD\", \"Sex\", \"ROMTrYSD\", \"AveShEleSD\"], \"marker\": {\"color\": \"red\"}, \"orientation\": \"h\", \"opacity\": 0.5}], {\"hovermode\": \"closest\", \"font\": {\"size\": 14}, \"title\": \"Feature importances\", \"xaxis\": {\"title\": \"Feature importances (%)\", \"showline\": true, \"linewidth\": 1.5}, \"yaxis\": {\"showline\": true, \"linewidth\": 1.5, \"nticks\": 26}, \"margin\": {\"t\": 80, \"b\": 80, \"l\": 150, \"r\": 80, \"pad\": 0}}, {\"showLink\": true, \"linkText\": \"Export to plot.ly\"})});</script>"
      ],
      "text/vnd.plotly.v1+html": [
       "<div id=\"a1ff6212-b0c9-418c-82fd-16ab066015a2\" style=\"height: 525px; width: 100%;\" class=\"plotly-graph-div\"></div><script type=\"text/javascript\">require([\"plotly\"], function(Plotly) { window.PLOTLYENV=window.PLOTLYENV || {};window.PLOTLYENV.BASE_URL=\"https://plot.ly\";Plotly.newPlot(\"a1ff6212-b0c9-418c-82fd-16ab066015a2\", [{\"type\": \"bar\", \"x\": [0.0, 0.0, 0.0, 0.0, 0.0, 0.0, 0.0, 0.0, 0.0, 0.0, 0.0, 1.0, 1.0, 1.0, 1.0, 1.0, 1.0, 1.0, 2.0, 2.0, 3.0, 3.0, 5.0, 6.0, 6.0, 66.0], \"y\": [\"AveElbFlexMean\", \"ROMTrZSD\", \"AveTrYSD\", \"ROMShPlaneSD\", \"AveShPlaneSD\", \"AveTrXMean\", \"AveShPlaneMean\", \"ROMElbFlexMean\", \"AveElbFlexSD\", \"Sex_1\", \"ROMElbFlexSD\", \"ROMShEleSD\", \"AveTrXSD\", \"ROMShPlaneMean\", \"AveTrYMean\", \"ROMTrYMean\", \"AveShEleMean\", \"AveTrZSD\", \"ROMTrZMean\", \"ROMShEleMean\", \"ROMTrXMean\", \"AveTrZMean\", \"ROMTrXSD\", \"Sex\", \"ROMTrYSD\", \"AveShEleSD\"], \"marker\": {\"color\": \"red\"}, \"orientation\": \"h\", \"opacity\": 0.5}], {\"hovermode\": \"closest\", \"font\": {\"size\": 14}, \"title\": \"Feature importances\", \"xaxis\": {\"title\": \"Feature importances (%)\", \"showline\": true, \"linewidth\": 1.5}, \"yaxis\": {\"showline\": true, \"linewidth\": 1.5, \"nticks\": 26}, \"margin\": {\"t\": 80, \"b\": 80, \"l\": 150, \"r\": 80, \"pad\": 0}}, {\"showLink\": true, \"linkText\": \"Export to plot.ly\"})});</script>"
      ]
     },
     "metadata": {},
     "output_type": "display_data"
    }
   ],
   "source": [
    "# update col_names given one hot encoding\n",
    "if col_names.shape[0] == 25:\n",
    "    feature_names = col_names.copy()\n",
    "    feature_names[-1] = 'Sex_0'\n",
    "    feature_names = np.append(col_names, 'Sex_1')\n",
    "\n",
    "importances = final_model.named_steps['classifier'].feature_importances_ * 100\n",
    "\n",
    "f = plot_feature_importances(importances, feature_names)\n",
    "py.iplot(f, filename='fatigue/feature_importances')"
   ]
  },
  {
   "cell_type": "markdown",
   "metadata": {},
   "source": [
    "### 5.b. Learning curves"
   ]
  },
  {
   "cell_type": "code",
   "execution_count": 19,
   "metadata": {},
   "outputs": [],
   "source": [
    "from sklearn.model_selection import learning_curve\n",
    "\n",
    "\n",
    "def plot_learning_curve(\n",
    "        estimator,\n",
    "        X,\n",
    "        y,\n",
    "        scoring='roc_auc',\n",
    "        cv=None,\n",
    "        n_jobs=1,\n",
    "        train_sizes=np.linspace(.1, 1.0, 5),\n",
    "):\n",
    "    warnings.simplefilter('ignore')  # ignore scikit-learn warnings\n",
    "    train_sizes, train_scores, test_scores = learning_curve(\n",
    "        estimator,\n",
    "        X,\n",
    "        y,\n",
    "        scoring=scoring,\n",
    "        cv=cv,\n",
    "        n_jobs=n_jobs,\n",
    "        train_sizes=train_sizes)\n",
    "    warnings.simplefilter('default')\n",
    "\n",
    "    train_scores_mean = np.mean(train_scores, axis=1)\n",
    "    train_scores_std = np.std(train_scores, axis=1)\n",
    "\n",
    "    test_scores_mean = np.mean(test_scores, axis=1)\n",
    "    test_scores_std = np.std(test_scores, axis=1)\n",
    "\n",
    "    trace = []\n",
    "\n",
    "    # training mean\n",
    "    trace.append(\n",
    "        go.Scatter(\n",
    "            x=train_sizes,\n",
    "            y=train_scores_mean,\n",
    "            marker=dict(color='red'),\n",
    "            name='Training score'))\n",
    "\n",
    "    # training std\n",
    "    trace.append(\n",
    "        go.Scatter(\n",
    "            x=train_sizes,\n",
    "            y=train_scores_mean + train_scores_std,\n",
    "            mode='lines',\n",
    "            line=dict(color='red', width=1),\n",
    "            showlegend=False))\n",
    "\n",
    "    trace.append(\n",
    "        go.Scatter(\n",
    "            x=train_sizes,\n",
    "            y=train_scores_mean - train_scores_std,\n",
    "            mode='lines',\n",
    "            line=dict(color='red', width=1),\n",
    "            fill='tonexty',\n",
    "            showlegend=False))\n",
    "\n",
    "    # test mean\n",
    "    trace.append(\n",
    "        go.Scatter(\n",
    "            x=train_sizes,\n",
    "            y=test_scores_mean,\n",
    "            marker=dict(color='green'),\n",
    "            name='Cross-validation score'))\n",
    "\n",
    "    # test std\n",
    "    trace.append(\n",
    "        go.Scatter(\n",
    "            x=train_sizes,\n",
    "            y=test_scores_mean + test_scores_std,\n",
    "            mode='lines',\n",
    "            line=dict(color='green', width=1),\n",
    "            showlegend=False))\n",
    "\n",
    "    trace.append(\n",
    "        go.Scatter(\n",
    "            x=train_sizes,\n",
    "            y=test_scores_mean - test_scores_std,\n",
    "            mode='lines',\n",
    "            line=dict(color='green', width=1),\n",
    "            fill='tonexty',\n",
    "            showlegend=False))\n",
    "\n",
    "    data = [itrace for itrace in trace]\n",
    "    layout = base_layout.copy()\n",
    "    layout.update(\n",
    "        dict(\n",
    "            title='Learning curves',\n",
    "            xaxis=dict(\n",
    "                title='Training examples', showline=True, linewidth=1.5),\n",
    "            yaxis=dict(title='Score (ROC AUC)', showline=True, linewidth=1.5)))\n",
    "    fig = dict(data=data, layout=layout)\n",
    "    return fig"
   ]
  },
  {
   "cell_type": "code",
   "execution_count": 20,
   "metadata": {},
   "outputs": [
    {
     "data": {
      "application/vnd.plotly.v1+json": {
       "data": [
        {
         "marker": {
          "color": "red"
         },
         "name": "Training score",
         "type": "scatter",
         "x": [
          10,
          20,
          30,
          41,
          51,
          61,
          72,
          82,
          92,
          103
         ],
         "y": [
          0.5,
          0.9362689393939394,
          0.9632337858220211,
          0.9692549019607842,
          0.9573920770587436,
          0.9493562351626869,
          0.9419942144709946,
          0.9448809523809523,
          0.9293560606060606,
          0.9203619909502263
         ]
        },
        {
         "line": {
          "color": "red",
          "width": 1
         },
         "mode": "lines",
         "showlegend": false,
         "type": "scatter",
         "x": [
          10,
          20,
          30,
          41,
          51,
          61,
          72,
          82,
          92,
          103
         ],
         "y": [
          0.5,
          0.9603219696969697,
          0.9926778741307286,
          0.9894273229038717,
          0.9753416748594543,
          0.9591073280567741,
          0.9554445143253912,
          0.9580979190759538,
          0.9393885777561735,
          0.9301873532808184
         ]
        },
        {
         "fill": "tonexty",
         "line": {
          "color": "red",
          "width": 1
         },
         "mode": "lines",
         "showlegend": false,
         "type": "scatter",
         "x": [
          10,
          20,
          30,
          41,
          51,
          61,
          72,
          82,
          92,
          103
         ],
         "y": [
          0.5,
          0.9122159090909091,
          0.9337896975133136,
          0.9490824810176968,
          0.9394424792580329,
          0.9396051422685996,
          0.928543914616598,
          0.9316639856859508,
          0.9193235434559477,
          0.9105366286196342
         ]
        },
        {
         "marker": {
          "color": "green"
         },
         "name": "Cross-validation score",
         "type": "scatter",
         "x": [
          10,
          20,
          30,
          41,
          51,
          61,
          72,
          82,
          92,
          103
         ],
         "y": [
          0.5,
          0.7716469428007889,
          0.8788954635108481,
          0.8571005917159763,
          0.876232741617357,
          0.8938856015779093,
          0.8873767258382642,
          0.8929980276134122,
          0.8900394477317555,
          0.9024654832347141
         ]
        },
        {
         "line": {
          "color": "green",
          "width": 1
         },
         "mode": "lines",
         "showlegend": false,
         "type": "scatter",
         "x": [
          10,
          20,
          30,
          41,
          51,
          61,
          72,
          82,
          92,
          103
         ],
         "y": [
          0.5,
          0.8409666511208009,
          0.9287558984120708,
          0.9244081214641382,
          0.9197259902785009,
          0.927297620793467,
          0.9344932393243901,
          0.9311753011051026,
          0.9291230730828982,
          0.941953135618943
         ]
        },
        {
         "fill": "tonexty",
         "line": {
          "color": "green",
          "width": 1
         },
         "mode": "lines",
         "showlegend": false,
         "type": "scatter",
         "x": [
          10,
          20,
          30,
          41,
          51,
          61,
          72,
          82,
          92,
          103
         ],
         "y": [
          0.5,
          0.7023272344807769,
          0.8290350286096254,
          0.7897930619678144,
          0.8327394929562131,
          0.8604735823623516,
          0.8402602123521383,
          0.8548207541217218,
          0.8509558223806127,
          0.8629778308504852
         ]
        }
       ],
       "layout": {
        "font": {
         "size": 14
        },
        "hovermode": "closest",
        "title": "Learning curves",
        "xaxis": {
         "linewidth": 1.5,
         "showline": true,
         "title": "Training examples"
        },
        "yaxis": {
         "linewidth": 1.5,
         "showline": true,
         "title": "Score (ROC AUC)"
        }
       }
      },
      "text/html": [
       "<div id=\"8bc7de44-fa2a-402c-8217-bd5f272a2561\" style=\"height: 525px; width: 100%;\" class=\"plotly-graph-div\"></div><script type=\"text/javascript\">require([\"plotly\"], function(Plotly) { window.PLOTLYENV=window.PLOTLYENV || {};window.PLOTLYENV.BASE_URL=\"https://plot.ly\";Plotly.newPlot(\"8bc7de44-fa2a-402c-8217-bd5f272a2561\", [{\"type\": \"scatter\", \"x\": [10, 20, 30, 41, 51, 61, 72, 82, 92, 103], \"y\": [0.5, 0.9362689393939394, 0.9632337858220211, 0.9692549019607842, 0.9573920770587436, 0.9493562351626869, 0.9419942144709946, 0.9448809523809523, 0.9293560606060606, 0.9203619909502263], \"marker\": {\"color\": \"red\"}, \"name\": \"Training score\"}, {\"type\": \"scatter\", \"x\": [10, 20, 30, 41, 51, 61, 72, 82, 92, 103], \"y\": [0.5, 0.9603219696969697, 0.9926778741307286, 0.9894273229038717, 0.9753416748594543, 0.9591073280567741, 0.9554445143253912, 0.9580979190759538, 0.9393885777561735, 0.9301873532808184], \"mode\": \"lines\", \"line\": {\"color\": \"red\", \"width\": 1}, \"showlegend\": false}, {\"type\": \"scatter\", \"x\": [10, 20, 30, 41, 51, 61, 72, 82, 92, 103], \"y\": [0.5, 0.9122159090909091, 0.9337896975133136, 0.9490824810176968, 0.9394424792580329, 0.9396051422685996, 0.928543914616598, 0.9316639856859508, 0.9193235434559477, 0.9105366286196342], \"mode\": \"lines\", \"line\": {\"color\": \"red\", \"width\": 1}, \"fill\": \"tonexty\", \"showlegend\": false}, {\"type\": \"scatter\", \"x\": [10, 20, 30, 41, 51, 61, 72, 82, 92, 103], \"y\": [0.5, 0.7716469428007889, 0.8788954635108481, 0.8571005917159763, 0.876232741617357, 0.8938856015779093, 0.8873767258382642, 0.8929980276134122, 0.8900394477317555, 0.9024654832347141], \"marker\": {\"color\": \"green\"}, \"name\": \"Cross-validation score\"}, {\"type\": \"scatter\", \"x\": [10, 20, 30, 41, 51, 61, 72, 82, 92, 103], \"y\": [0.5, 0.8409666511208009, 0.9287558984120708, 0.9244081214641382, 0.9197259902785009, 0.927297620793467, 0.9344932393243901, 0.9311753011051026, 0.9291230730828982, 0.941953135618943], \"mode\": \"lines\", \"line\": {\"color\": \"green\", \"width\": 1}, \"showlegend\": false}, {\"type\": \"scatter\", \"x\": [10, 20, 30, 41, 51, 61, 72, 82, 92, 103], \"y\": [0.5, 0.7023272344807769, 0.8290350286096254, 0.7897930619678144, 0.8327394929562131, 0.8604735823623516, 0.8402602123521383, 0.8548207541217218, 0.8509558223806127, 0.8629778308504852], \"mode\": \"lines\", \"line\": {\"color\": \"green\", \"width\": 1}, \"fill\": \"tonexty\", \"showlegend\": false}], {\"hovermode\": \"closest\", \"font\": {\"size\": 14}, \"title\": \"Learning curves\", \"xaxis\": {\"title\": \"Training examples\", \"showline\": true, \"linewidth\": 1.5}, \"yaxis\": {\"title\": \"Score (ROC AUC)\", \"showline\": true, \"linewidth\": 1.5}}, {\"showLink\": true, \"linkText\": \"Export to plot.ly\"})});</script>"
      ],
      "text/vnd.plotly.v1+html": [
       "<div id=\"8bc7de44-fa2a-402c-8217-bd5f272a2561\" style=\"height: 525px; width: 100%;\" class=\"plotly-graph-div\"></div><script type=\"text/javascript\">require([\"plotly\"], function(Plotly) { window.PLOTLYENV=window.PLOTLYENV || {};window.PLOTLYENV.BASE_URL=\"https://plot.ly\";Plotly.newPlot(\"8bc7de44-fa2a-402c-8217-bd5f272a2561\", [{\"type\": \"scatter\", \"x\": [10, 20, 30, 41, 51, 61, 72, 82, 92, 103], \"y\": [0.5, 0.9362689393939394, 0.9632337858220211, 0.9692549019607842, 0.9573920770587436, 0.9493562351626869, 0.9419942144709946, 0.9448809523809523, 0.9293560606060606, 0.9203619909502263], \"marker\": {\"color\": \"red\"}, \"name\": \"Training score\"}, {\"type\": \"scatter\", \"x\": [10, 20, 30, 41, 51, 61, 72, 82, 92, 103], \"y\": [0.5, 0.9603219696969697, 0.9926778741307286, 0.9894273229038717, 0.9753416748594543, 0.9591073280567741, 0.9554445143253912, 0.9580979190759538, 0.9393885777561735, 0.9301873532808184], \"mode\": \"lines\", \"line\": {\"color\": \"red\", \"width\": 1}, \"showlegend\": false}, {\"type\": \"scatter\", \"x\": [10, 20, 30, 41, 51, 61, 72, 82, 92, 103], \"y\": [0.5, 0.9122159090909091, 0.9337896975133136, 0.9490824810176968, 0.9394424792580329, 0.9396051422685996, 0.928543914616598, 0.9316639856859508, 0.9193235434559477, 0.9105366286196342], \"mode\": \"lines\", \"line\": {\"color\": \"red\", \"width\": 1}, \"fill\": \"tonexty\", \"showlegend\": false}, {\"type\": \"scatter\", \"x\": [10, 20, 30, 41, 51, 61, 72, 82, 92, 103], \"y\": [0.5, 0.7716469428007889, 0.8788954635108481, 0.8571005917159763, 0.876232741617357, 0.8938856015779093, 0.8873767258382642, 0.8929980276134122, 0.8900394477317555, 0.9024654832347141], \"marker\": {\"color\": \"green\"}, \"name\": \"Cross-validation score\"}, {\"type\": \"scatter\", \"x\": [10, 20, 30, 41, 51, 61, 72, 82, 92, 103], \"y\": [0.5, 0.8409666511208009, 0.9287558984120708, 0.9244081214641382, 0.9197259902785009, 0.927297620793467, 0.9344932393243901, 0.9311753011051026, 0.9291230730828982, 0.941953135618943], \"mode\": \"lines\", \"line\": {\"color\": \"green\", \"width\": 1}, \"showlegend\": false}, {\"type\": \"scatter\", \"x\": [10, 20, 30, 41, 51, 61, 72, 82, 92, 103], \"y\": [0.5, 0.7023272344807769, 0.8290350286096254, 0.7897930619678144, 0.8327394929562131, 0.8604735823623516, 0.8402602123521383, 0.8548207541217218, 0.8509558223806127, 0.8629778308504852], \"mode\": \"lines\", \"line\": {\"color\": \"green\", \"width\": 1}, \"fill\": \"tonexty\", \"showlegend\": false}], {\"hovermode\": \"closest\", \"font\": {\"size\": 14}, \"title\": \"Learning curves\", \"xaxis\": {\"title\": \"Training examples\", \"showline\": true, \"linewidth\": 1.5}, \"yaxis\": {\"title\": \"Score (ROC AUC)\", \"showline\": true, \"linewidth\": 1.5}}, {\"showLink\": true, \"linkText\": \"Export to plot.ly\"})});</script>"
      ]
     },
     "metadata": {},
     "output_type": "display_data"
    }
   ],
   "source": [
    "l = plot_learning_curve(\n",
    "    estimator=final_model,\n",
    "    X=X_train,\n",
    "    y=y_train.ravel(),\n",
    "    scoring=scoring,\n",
    "    cv=5,\n",
    "    train_sizes=np.linspace(.1, 1.0, 10))\n",
    "py.iplot(l, filename='fatigue/learning_curve')"
   ]
  },
  {
   "cell_type": "markdown",
   "metadata": {},
   "source": [
    "### 5.c. ROC curves"
   ]
  },
  {
   "cell_type": "code",
   "execution_count": 21,
   "metadata": {},
   "outputs": [],
   "source": [
    "from sklearn.metrics import roc_curve, roc_auc_score\n",
    "\n",
    "\n",
    "def plot_roc_curve(y_true, y_pred):\n",
    "    fpr, tpr, auc_thresholds = roc_curve(y_true, y_pred)\n",
    "    roc_auc = roc_auc_score(y_true, y_pred)\n",
    "\n",
    "    trace_roc = go.Scatter(\n",
    "        x=fpr,\n",
    "        y=tpr,\n",
    "        mode='lines',\n",
    "        line=dict(color='gray'),\n",
    "        name=f'ROC curve (AUC = {roc_auc:.2f})',\n",
    "        fill='tozeroy')\n",
    "\n",
    "    trace_random = go.Scatter(\n",
    "        x=[0, 1],\n",
    "        y=[0, 1],\n",
    "        mode='lines',\n",
    "        line=dict(color='black', dash='dash'),\n",
    "        name='Random')\n",
    "\n",
    "    layout = base_layout.copy()\n",
    "    layout.update(\n",
    "        dict(\n",
    "            title=\n",
    "            f'Receiver operating characteristic curve (roc auc = {roc_auc:.2f})',\n",
    "            xaxis=dict(\n",
    "                title='False positive rate', showline=True, linewidth=1.5),\n",
    "            yaxis=dict(\n",
    "                title='True positive rate',\n",
    "                showline=True,\n",
    "                linewidth=1.5,\n",
    "                zeroline=False)))\n",
    "    fig = dict(data=[trace_roc, trace_random], layout=layout)\n",
    "    return fig"
   ]
  },
  {
   "cell_type": "code",
   "execution_count": 22,
   "metadata": {},
   "outputs": [
    {
     "data": {
      "application/vnd.plotly.v1+json": {
       "data": [
        {
         "fill": "tozeroy",
         "line": {
          "color": "gray"
         },
         "mode": "lines",
         "name": "ROC curve (AUC = 0.87)",
         "type": "scatter",
         "x": [
          0,
          0,
          0,
          0,
          0,
          0.03125,
          0.03125,
          0.046875,
          0.046875,
          0.046875,
          0.046875,
          0.09375,
          0.09375,
          0.125,
          0.125,
          0.140625,
          0.140625,
          0.203125,
          0.203125,
          0.25,
          0.25,
          0.359375,
          0.359375,
          0.453125,
          0.453125,
          0.59375,
          0.59375,
          0.640625,
          0.640625,
          0.6875,
          0.6875,
          0.796875,
          0.796875,
          0.828125,
          0.828125,
          0.9375,
          0.96875,
          1
         ],
         "y": [
          0.015384615384615385,
          0.046153846153846156,
          0.07692307692307693,
          0.15384615384615385,
          0.3076923076923077,
          0.3076923076923077,
          0.4307692307692308,
          0.4307692307692308,
          0.5538461538461539,
          0.5846153846153846,
          0.6615384615384615,
          0.6615384615384615,
          0.7076923076923077,
          0.7076923076923077,
          0.7538461538461538,
          0.7538461538461538,
          0.8307692307692308,
          0.8307692307692308,
          0.8461538461538461,
          0.8461538461538461,
          0.8615384615384616,
          0.8615384615384616,
          0.8769230769230769,
          0.8769230769230769,
          0.9076923076923077,
          0.9076923076923077,
          0.9230769230769231,
          0.9230769230769231,
          0.9384615384615385,
          0.9384615384615385,
          0.9692307692307692,
          0.9692307692307692,
          0.9846153846153847,
          0.9846153846153847,
          1,
          1,
          1,
          1
         ]
        },
        {
         "line": {
          "color": "black",
          "dash": "dash"
         },
         "mode": "lines",
         "name": "Random",
         "type": "scatter",
         "x": [
          0,
          1
         ],
         "y": [
          0,
          1
         ]
        }
       ],
       "layout": {
        "font": {
         "size": 14
        },
        "hovermode": "closest",
        "title": "Receiver operating characteristic curve (roc auc = 0.87)",
        "xaxis": {
         "linewidth": 1.5,
         "showline": true,
         "title": "False positive rate"
        },
        "yaxis": {
         "linewidth": 1.5,
         "showline": true,
         "title": "True positive rate",
         "zeroline": false
        }
       }
      },
      "text/html": [
       "<div id=\"7a8fa2dd-982e-4f7a-85db-04d464bd0f1f\" style=\"height: 525px; width: 100%;\" class=\"plotly-graph-div\"></div><script type=\"text/javascript\">require([\"plotly\"], function(Plotly) { window.PLOTLYENV=window.PLOTLYENV || {};window.PLOTLYENV.BASE_URL=\"https://plot.ly\";Plotly.newPlot(\"7a8fa2dd-982e-4f7a-85db-04d464bd0f1f\", [{\"type\": \"scatter\", \"x\": [0.0, 0.0, 0.0, 0.0, 0.0, 0.03125, 0.03125, 0.046875, 0.046875, 0.046875, 0.046875, 0.09375, 0.09375, 0.125, 0.125, 0.140625, 0.140625, 0.203125, 0.203125, 0.25, 0.25, 0.359375, 0.359375, 0.453125, 0.453125, 0.59375, 0.59375, 0.640625, 0.640625, 0.6875, 0.6875, 0.796875, 0.796875, 0.828125, 0.828125, 0.9375, 0.96875, 1.0], \"y\": [0.015384615384615385, 0.046153846153846156, 0.07692307692307693, 0.15384615384615385, 0.3076923076923077, 0.3076923076923077, 0.4307692307692308, 0.4307692307692308, 0.5538461538461539, 0.5846153846153846, 0.6615384615384615, 0.6615384615384615, 0.7076923076923077, 0.7076923076923077, 0.7538461538461538, 0.7538461538461538, 0.8307692307692308, 0.8307692307692308, 0.8461538461538461, 0.8461538461538461, 0.8615384615384616, 0.8615384615384616, 0.8769230769230769, 0.8769230769230769, 0.9076923076923077, 0.9076923076923077, 0.9230769230769231, 0.9230769230769231, 0.9384615384615385, 0.9384615384615385, 0.9692307692307692, 0.9692307692307692, 0.9846153846153847, 0.9846153846153847, 1.0, 1.0, 1.0, 1.0], \"mode\": \"lines\", \"line\": {\"color\": \"gray\"}, \"name\": \"ROC curve (AUC = 0.87)\", \"fill\": \"tozeroy\"}, {\"type\": \"scatter\", \"x\": [0, 1], \"y\": [0, 1], \"mode\": \"lines\", \"line\": {\"color\": \"black\", \"dash\": \"dash\"}, \"name\": \"Random\"}], {\"hovermode\": \"closest\", \"font\": {\"size\": 14}, \"title\": \"Receiver operating characteristic curve (roc auc = 0.87)\", \"xaxis\": {\"title\": \"False positive rate\", \"showline\": true, \"linewidth\": 1.5}, \"yaxis\": {\"title\": \"True positive rate\", \"showline\": true, \"linewidth\": 1.5, \"zeroline\": false}}, {\"showLink\": true, \"linkText\": \"Export to plot.ly\"})});</script>"
      ],
      "text/vnd.plotly.v1+html": [
       "<div id=\"7a8fa2dd-982e-4f7a-85db-04d464bd0f1f\" style=\"height: 525px; width: 100%;\" class=\"plotly-graph-div\"></div><script type=\"text/javascript\">require([\"plotly\"], function(Plotly) { window.PLOTLYENV=window.PLOTLYENV || {};window.PLOTLYENV.BASE_URL=\"https://plot.ly\";Plotly.newPlot(\"7a8fa2dd-982e-4f7a-85db-04d464bd0f1f\", [{\"type\": \"scatter\", \"x\": [0.0, 0.0, 0.0, 0.0, 0.0, 0.03125, 0.03125, 0.046875, 0.046875, 0.046875, 0.046875, 0.09375, 0.09375, 0.125, 0.125, 0.140625, 0.140625, 0.203125, 0.203125, 0.25, 0.25, 0.359375, 0.359375, 0.453125, 0.453125, 0.59375, 0.59375, 0.640625, 0.640625, 0.6875, 0.6875, 0.796875, 0.796875, 0.828125, 0.828125, 0.9375, 0.96875, 1.0], \"y\": [0.015384615384615385, 0.046153846153846156, 0.07692307692307693, 0.15384615384615385, 0.3076923076923077, 0.3076923076923077, 0.4307692307692308, 0.4307692307692308, 0.5538461538461539, 0.5846153846153846, 0.6615384615384615, 0.6615384615384615, 0.7076923076923077, 0.7076923076923077, 0.7538461538461538, 0.7538461538461538, 0.8307692307692308, 0.8307692307692308, 0.8461538461538461, 0.8461538461538461, 0.8615384615384616, 0.8615384615384616, 0.8769230769230769, 0.8769230769230769, 0.9076923076923077, 0.9076923076923077, 0.9230769230769231, 0.9230769230769231, 0.9384615384615385, 0.9384615384615385, 0.9692307692307692, 0.9692307692307692, 0.9846153846153847, 0.9846153846153847, 1.0, 1.0, 1.0, 1.0], \"mode\": \"lines\", \"line\": {\"color\": \"gray\"}, \"name\": \"ROC curve (AUC = 0.87)\", \"fill\": \"tozeroy\"}, {\"type\": \"scatter\", \"x\": [0, 1], \"y\": [0, 1], \"mode\": \"lines\", \"line\": {\"color\": \"black\", \"dash\": \"dash\"}, \"name\": \"Random\"}], {\"hovermode\": \"closest\", \"font\": {\"size\": 14}, \"title\": \"Receiver operating characteristic curve (roc auc = 0.87)\", \"xaxis\": {\"title\": \"False positive rate\", \"showline\": true, \"linewidth\": 1.5}, \"yaxis\": {\"title\": \"True positive rate\", \"showline\": true, \"linewidth\": 1.5, \"zeroline\": false}}, {\"showLink\": true, \"linkText\": \"Export to plot.ly\"})});</script>"
      ]
     },
     "metadata": {},
     "output_type": "display_data"
    }
   ],
   "source": [
    "r = plot_roc_curve(y_train, cv_predict_proba[:, 1])\n",
    "py.iplot(r, filename='fatigue/roc_curve')"
   ]
  },
  {
   "cell_type": "markdown",
   "metadata": {},
   "source": [
    "### 5.d. Precision-recall vs threshold"
   ]
  },
  {
   "cell_type": "code",
   "execution_count": 23,
   "metadata": {},
   "outputs": [],
   "source": [
    "from sklearn.metrics import precision_recall_curve\n",
    "\n",
    "\n",
    "def precision_recall_vs_threshold(y_true, y_pred):\n",
    "    precision, recall, thresholds = precision_recall_curve(y_true, y_pred)\n",
    "\n",
    "    trace_precision = go.Scatter(\n",
    "        x=thresholds,\n",
    "        y=precision[:-1],\n",
    "        mode='lines',\n",
    "        line=dict(color='blue'),\n",
    "        name='Precision')\n",
    "\n",
    "    trace_recall = go.Scatter(\n",
    "        x=thresholds,\n",
    "        y=recall[:-1],\n",
    "        mode='lines',\n",
    "        line=dict(color='green'),\n",
    "        name='Recall')\n",
    "\n",
    "    layout = base_layout.copy()\n",
    "    layout.update(\n",
    "        dict(\n",
    "            title=\n",
    "            'Precision and recall scores as a function of the decision threshold',\n",
    "            xaxis=dict(\n",
    "                title='Decision threshold', showline=True, linewidth=1.5),\n",
    "            yaxis=dict(title='Score', showline=True, linewidth=1.5)))\n",
    "    fig = dict(data=[trace_precision, trace_recall], layout=layout)\n",
    "    return fig"
   ]
  },
  {
   "cell_type": "code",
   "execution_count": 24,
   "metadata": {},
   "outputs": [
    {
     "data": {
      "application/vnd.plotly.v1+json": {
       "data": [
        {
         "line": {
          "color": "blue"
         },
         "mode": "lines",
         "name": "Precision",
         "type": "scatter",
         "x": [
          0.476603627204895,
          0.47674617171287537,
          0.4776867926120758,
          0.47780880331993103,
          0.477916419506073,
          0.47816699743270874,
          0.47831958532333374,
          0.4783492982387543,
          0.47857728600502014,
          0.4785793125629425,
          0.47958192229270935,
          0.47974029183387756,
          0.4804425835609436,
          0.48047542572021484,
          0.48103657364845276,
          0.4817313551902771,
          0.48187902569770813,
          0.4820849597454071,
          0.48232677578926086,
          0.4829237759113312,
          0.4830457866191864,
          0.4831456243991852,
          0.4831552505493164,
          0.48344749212265015,
          0.4835672974586487,
          0.48416823148727417,
          0.4842197895050049,
          0.48436662554740906,
          0.4844629168510437,
          0.48521509766578674,
          0.4853932559490204,
          0.48579782247543335,
          0.48612087965011597,
          0.48614606261253357,
          0.4861919581890106,
          0.4865371584892273,
          0.48777318000793457,
          0.48798054456710815,
          0.4883691668510437,
          0.4884594976902008,
          0.4886040687561035,
          0.4892168343067169,
          0.489841490983963,
          0.4899195432662964,
          0.4900076687335968,
          0.4901495575904846,
          0.49191293120384216,
          0.49194854497909546,
          0.49249693751335144,
          0.4939412474632263,
          0.4945801794528961,
          0.49557027220726013,
          0.49786052107810974,
          0.4978914260864258,
          0.49844464659690857,
          0.49856075644493103,
          0.4995330274105072,
          0.49966275691986084,
          0.5008001327514648,
          0.501236617565155,
          0.5014345645904541,
          0.5018693804740906,
          0.5025667548179626,
          0.5033132433891296,
          0.5042574405670166,
          0.5064382553100586,
          0.5067328810691833,
          0.5076373815536499,
          0.5076860785484314,
          0.5083077549934387,
          0.5100629329681396,
          0.5104122161865234,
          0.5111896991729736,
          0.5123985409736633,
          0.5127944350242615,
          0.5132861137390137,
          0.513853132724762,
          0.5140198469161987,
          0.5146814584732056,
          0.5150808691978455,
          0.5151654481887817,
          0.5152703523635864,
          0.5156912207603455,
          0.5160201191902161,
          0.5165823698043823,
          0.5169015526771545,
          0.517460823059082,
          0.5182675719261169,
          0.518580436706543,
          0.5186435580253601,
          0.5188080072402954,
          0.5188419818878174,
          0.5204915404319763,
          0.5217050909996033,
          0.5222991704940796,
          0.5237119793891907,
          0.5237669348716736,
          0.5243722796440125,
          0.5249890685081482,
          0.5263386964797974,
          0.527413010597229,
          0.5275309681892395,
          0.5275856256484985,
          0.5276777148246765,
          0.5277753472328186,
          0.5280471444129944,
          0.5286383032798767,
          0.5296338796615601,
          0.5298632979393005,
          0.5303372144699097,
          0.5303512215614319,
          0.5303991436958313
         ],
         "y": [
          0.5508474576271186,
          0.5470085470085471,
          0.5517241379310345,
          0.5565217391304348,
          0.5526315789473685,
          0.5575221238938053,
          0.5625,
          0.5675675675675675,
          0.5727272727272728,
          0.5779816513761468,
          0.5833333333333334,
          0.5887850467289719,
          0.5849056603773585,
          0.580952380952381,
          0.5865384615384616,
          0.5922330097087378,
          0.5980392156862745,
          0.594059405940594,
          0.6,
          0.6060606060606061,
          0.6122448979591837,
          0.6082474226804123,
          0.6145833333333334,
          0.6210526315789474,
          0.6276595744680851,
          0.6344086021505376,
          0.6413043478260869,
          0.6483516483516484,
          0.6555555555555556,
          0.6629213483146067,
          0.6704545454545454,
          0.6666666666666666,
          0.6627906976744186,
          0.6705882352941176,
          0.6785714285714286,
          0.6867469879518072,
          0.6951219512195121,
          0.7037037037037037,
          0.7125,
          0.7088607594936709,
          0.717948717948718,
          0.7272727272727273,
          0.7368421052631579,
          0.7466666666666667,
          0.7567567567567568,
          0.7671232876712328,
          0.7777777777777778,
          0.7746478873239436,
          0.7857142857142857,
          0.7971014492753623,
          0.8088235294117647,
          0.8059701492537313,
          0.8181818181818182,
          0.8307692307692308,
          0.84375,
          0.8571428571428571,
          0.8548387096774194,
          0.8524590163934426,
          0.85,
          0.847457627118644,
          0.8448275862068966,
          0.8596491228070176,
          0.8571428571428571,
          0.8545454545454545,
          0.8518518518518519,
          0.8679245283018868,
          0.8846153846153846,
          0.8823529411764706,
          0.88,
          0.8775510204081632,
          0.8958333333333334,
          0.9148936170212766,
          0.9347826086956522,
          0.9333333333333333,
          0.9318181818181818,
          0.9302325581395349,
          0.9285714285714286,
          0.926829268292683,
          0.9230769230769231,
          0.9210526315789473,
          0.918918918918919,
          0.9166666666666666,
          0.9142857142857143,
          0.9117647058823529,
          0.9090909090909091,
          0.90625,
          0.9032258064516129,
          0.9333333333333333,
          0.9310344827586207,
          0.9285714285714286,
          0.9259259259259259,
          0.9230769230769231,
          0.92,
          0.9166666666666666,
          0.9130434782608695,
          0.9090909090909091,
          0.9523809523809523,
          1,
          1,
          1,
          1,
          1,
          1,
          1,
          1,
          1,
          1,
          1,
          1,
          1,
          1,
          1
         ]
        },
        {
         "line": {
          "color": "green"
         },
         "mode": "lines",
         "name": "Recall",
         "type": "scatter",
         "x": [
          0.476603627204895,
          0.47674617171287537,
          0.4776867926120758,
          0.47780880331993103,
          0.477916419506073,
          0.47816699743270874,
          0.47831958532333374,
          0.4783492982387543,
          0.47857728600502014,
          0.4785793125629425,
          0.47958192229270935,
          0.47974029183387756,
          0.4804425835609436,
          0.48047542572021484,
          0.48103657364845276,
          0.4817313551902771,
          0.48187902569770813,
          0.4820849597454071,
          0.48232677578926086,
          0.4829237759113312,
          0.4830457866191864,
          0.4831456243991852,
          0.4831552505493164,
          0.48344749212265015,
          0.4835672974586487,
          0.48416823148727417,
          0.4842197895050049,
          0.48436662554740906,
          0.4844629168510437,
          0.48521509766578674,
          0.4853932559490204,
          0.48579782247543335,
          0.48612087965011597,
          0.48614606261253357,
          0.4861919581890106,
          0.4865371584892273,
          0.48777318000793457,
          0.48798054456710815,
          0.4883691668510437,
          0.4884594976902008,
          0.4886040687561035,
          0.4892168343067169,
          0.489841490983963,
          0.4899195432662964,
          0.4900076687335968,
          0.4901495575904846,
          0.49191293120384216,
          0.49194854497909546,
          0.49249693751335144,
          0.4939412474632263,
          0.4945801794528961,
          0.49557027220726013,
          0.49786052107810974,
          0.4978914260864258,
          0.49844464659690857,
          0.49856075644493103,
          0.4995330274105072,
          0.49966275691986084,
          0.5008001327514648,
          0.501236617565155,
          0.5014345645904541,
          0.5018693804740906,
          0.5025667548179626,
          0.5033132433891296,
          0.5042574405670166,
          0.5064382553100586,
          0.5067328810691833,
          0.5076373815536499,
          0.5076860785484314,
          0.5083077549934387,
          0.5100629329681396,
          0.5104122161865234,
          0.5111896991729736,
          0.5123985409736633,
          0.5127944350242615,
          0.5132861137390137,
          0.513853132724762,
          0.5140198469161987,
          0.5146814584732056,
          0.5150808691978455,
          0.5151654481887817,
          0.5152703523635864,
          0.5156912207603455,
          0.5160201191902161,
          0.5165823698043823,
          0.5169015526771545,
          0.517460823059082,
          0.5182675719261169,
          0.518580436706543,
          0.5186435580253601,
          0.5188080072402954,
          0.5188419818878174,
          0.5204915404319763,
          0.5217050909996033,
          0.5222991704940796,
          0.5237119793891907,
          0.5237669348716736,
          0.5243722796440125,
          0.5249890685081482,
          0.5263386964797974,
          0.527413010597229,
          0.5275309681892395,
          0.5275856256484985,
          0.5276777148246765,
          0.5277753472328186,
          0.5280471444129944,
          0.5286383032798767,
          0.5296338796615601,
          0.5298632979393005,
          0.5303372144699097,
          0.5303512215614319,
          0.5303991436958313
         ],
         "y": [
          1,
          0.9846153846153847,
          0.9846153846153847,
          0.9846153846153847,
          0.9692307692307692,
          0.9692307692307692,
          0.9692307692307692,
          0.9692307692307692,
          0.9692307692307692,
          0.9692307692307692,
          0.9692307692307692,
          0.9692307692307692,
          0.9538461538461539,
          0.9384615384615385,
          0.9384615384615385,
          0.9384615384615385,
          0.9384615384615385,
          0.9230769230769231,
          0.9230769230769231,
          0.9230769230769231,
          0.9230769230769231,
          0.9076923076923077,
          0.9076923076923077,
          0.9076923076923077,
          0.9076923076923077,
          0.9076923076923077,
          0.9076923076923077,
          0.9076923076923077,
          0.9076923076923077,
          0.9076923076923077,
          0.9076923076923077,
          0.8923076923076924,
          0.8769230769230769,
          0.8769230769230769,
          0.8769230769230769,
          0.8769230769230769,
          0.8769230769230769,
          0.8769230769230769,
          0.8769230769230769,
          0.8615384615384616,
          0.8615384615384616,
          0.8615384615384616,
          0.8615384615384616,
          0.8615384615384616,
          0.8615384615384616,
          0.8615384615384616,
          0.8615384615384616,
          0.8461538461538461,
          0.8461538461538461,
          0.8461538461538461,
          0.8461538461538461,
          0.8307692307692308,
          0.8307692307692308,
          0.8307692307692308,
          0.8307692307692308,
          0.8307692307692308,
          0.8153846153846154,
          0.8,
          0.7846153846153846,
          0.7692307692307693,
          0.7538461538461538,
          0.7538461538461538,
          0.7384615384615385,
          0.7230769230769231,
          0.7076923076923077,
          0.7076923076923077,
          0.7076923076923077,
          0.6923076923076923,
          0.676923076923077,
          0.6615384615384615,
          0.6615384615384615,
          0.6615384615384615,
          0.6615384615384615,
          0.6461538461538462,
          0.6307692307692307,
          0.6153846153846154,
          0.6,
          0.5846153846153846,
          0.5538461538461539,
          0.5384615384615384,
          0.5230769230769231,
          0.5076923076923077,
          0.49230769230769234,
          0.47692307692307695,
          0.46153846153846156,
          0.4461538461538462,
          0.4307692307692308,
          0.4307692307692308,
          0.4153846153846154,
          0.4,
          0.38461538461538464,
          0.36923076923076925,
          0.35384615384615387,
          0.3384615384615385,
          0.3230769230769231,
          0.3076923076923077,
          0.3076923076923077,
          0.3076923076923077,
          0.2923076923076923,
          0.27692307692307694,
          0.26153846153846155,
          0.24615384615384617,
          0.23076923076923078,
          0.2153846153846154,
          0.2,
          0.18461538461538463,
          0.16923076923076924,
          0.15384615384615385,
          0.07692307692307693,
          0.046153846153846156,
          0.03076923076923077,
          0.015384615384615385
         ]
        }
       ],
       "layout": {
        "font": {
         "size": 14
        },
        "hovermode": "closest",
        "title": "Precision and recall scores as a function of the decision threshold",
        "xaxis": {
         "linewidth": 1.5,
         "showline": true,
         "title": "Decision threshold"
        },
        "yaxis": {
         "linewidth": 1.5,
         "showline": true,
         "title": "Score"
        }
       }
      },
      "text/html": [
       "<div id=\"7135ff7d-63a4-4c4e-9f22-8eda20699383\" style=\"height: 525px; width: 100%;\" class=\"plotly-graph-div\"></div><script type=\"text/javascript\">require([\"plotly\"], function(Plotly) { window.PLOTLYENV=window.PLOTLYENV || {};window.PLOTLYENV.BASE_URL=\"https://plot.ly\";Plotly.newPlot(\"7135ff7d-63a4-4c4e-9f22-8eda20699383\", [{\"type\": \"scatter\", \"x\": [0.476603627204895, 0.47674617171287537, 0.4776867926120758, 0.47780880331993103, 0.477916419506073, 0.47816699743270874, 0.47831958532333374, 0.4783492982387543, 0.47857728600502014, 0.4785793125629425, 0.47958192229270935, 0.47974029183387756, 0.4804425835609436, 0.48047542572021484, 0.48103657364845276, 0.4817313551902771, 0.48187902569770813, 0.4820849597454071, 0.48232677578926086, 0.4829237759113312, 0.4830457866191864, 0.4831456243991852, 0.4831552505493164, 0.48344749212265015, 0.4835672974586487, 0.48416823148727417, 0.4842197895050049, 0.48436662554740906, 0.4844629168510437, 0.48521509766578674, 0.4853932559490204, 0.48579782247543335, 0.48612087965011597, 0.48614606261253357, 0.4861919581890106, 0.4865371584892273, 0.48777318000793457, 0.48798054456710815, 0.4883691668510437, 0.4884594976902008, 0.4886040687561035, 0.4892168343067169, 0.489841490983963, 0.4899195432662964, 0.4900076687335968, 0.4901495575904846, 0.49191293120384216, 0.49194854497909546, 0.49249693751335144, 0.4939412474632263, 0.4945801794528961, 0.49557027220726013, 0.49786052107810974, 0.4978914260864258, 0.49844464659690857, 0.49856075644493103, 0.4995330274105072, 0.49966275691986084, 0.5008001327514648, 0.501236617565155, 0.5014345645904541, 0.5018693804740906, 0.5025667548179626, 0.5033132433891296, 0.5042574405670166, 0.5064382553100586, 0.5067328810691833, 0.5076373815536499, 0.5076860785484314, 0.5083077549934387, 0.5100629329681396, 0.5104122161865234, 0.5111896991729736, 0.5123985409736633, 0.5127944350242615, 0.5132861137390137, 0.513853132724762, 0.5140198469161987, 0.5146814584732056, 0.5150808691978455, 0.5151654481887817, 0.5152703523635864, 0.5156912207603455, 0.5160201191902161, 0.5165823698043823, 0.5169015526771545, 0.517460823059082, 0.5182675719261169, 0.518580436706543, 0.5186435580253601, 0.5188080072402954, 0.5188419818878174, 0.5204915404319763, 0.5217050909996033, 0.5222991704940796, 0.5237119793891907, 0.5237669348716736, 0.5243722796440125, 0.5249890685081482, 0.5263386964797974, 0.527413010597229, 0.5275309681892395, 0.5275856256484985, 0.5276777148246765, 0.5277753472328186, 0.5280471444129944, 0.5286383032798767, 0.5296338796615601, 0.5298632979393005, 0.5303372144699097, 0.5303512215614319, 0.5303991436958313], \"y\": [0.5508474576271186, 0.5470085470085471, 0.5517241379310345, 0.5565217391304348, 0.5526315789473685, 0.5575221238938053, 0.5625, 0.5675675675675675, 0.5727272727272728, 0.5779816513761468, 0.5833333333333334, 0.5887850467289719, 0.5849056603773585, 0.580952380952381, 0.5865384615384616, 0.5922330097087378, 0.5980392156862745, 0.594059405940594, 0.6, 0.6060606060606061, 0.6122448979591837, 0.6082474226804123, 0.6145833333333334, 0.6210526315789474, 0.6276595744680851, 0.6344086021505376, 0.6413043478260869, 0.6483516483516484, 0.6555555555555556, 0.6629213483146067, 0.6704545454545454, 0.6666666666666666, 0.6627906976744186, 0.6705882352941176, 0.6785714285714286, 0.6867469879518072, 0.6951219512195121, 0.7037037037037037, 0.7125, 0.7088607594936709, 0.717948717948718, 0.7272727272727273, 0.7368421052631579, 0.7466666666666667, 0.7567567567567568, 0.7671232876712328, 0.7777777777777778, 0.7746478873239436, 0.7857142857142857, 0.7971014492753623, 0.8088235294117647, 0.8059701492537313, 0.8181818181818182, 0.8307692307692308, 0.84375, 0.8571428571428571, 0.8548387096774194, 0.8524590163934426, 0.85, 0.847457627118644, 0.8448275862068966, 0.8596491228070176, 0.8571428571428571, 0.8545454545454545, 0.8518518518518519, 0.8679245283018868, 0.8846153846153846, 0.8823529411764706, 0.88, 0.8775510204081632, 0.8958333333333334, 0.9148936170212766, 0.9347826086956522, 0.9333333333333333, 0.9318181818181818, 0.9302325581395349, 0.9285714285714286, 0.926829268292683, 0.9230769230769231, 0.9210526315789473, 0.918918918918919, 0.9166666666666666, 0.9142857142857143, 0.9117647058823529, 0.9090909090909091, 0.90625, 0.9032258064516129, 0.9333333333333333, 0.9310344827586207, 0.9285714285714286, 0.9259259259259259, 0.9230769230769231, 0.92, 0.9166666666666666, 0.9130434782608695, 0.9090909090909091, 0.9523809523809523, 1.0, 1.0, 1.0, 1.0, 1.0, 1.0, 1.0, 1.0, 1.0, 1.0, 1.0, 1.0, 1.0, 1.0, 1.0], \"mode\": \"lines\", \"line\": {\"color\": \"blue\"}, \"name\": \"Precision\"}, {\"type\": \"scatter\", \"x\": [0.476603627204895, 0.47674617171287537, 0.4776867926120758, 0.47780880331993103, 0.477916419506073, 0.47816699743270874, 0.47831958532333374, 0.4783492982387543, 0.47857728600502014, 0.4785793125629425, 0.47958192229270935, 0.47974029183387756, 0.4804425835609436, 0.48047542572021484, 0.48103657364845276, 0.4817313551902771, 0.48187902569770813, 0.4820849597454071, 0.48232677578926086, 0.4829237759113312, 0.4830457866191864, 0.4831456243991852, 0.4831552505493164, 0.48344749212265015, 0.4835672974586487, 0.48416823148727417, 0.4842197895050049, 0.48436662554740906, 0.4844629168510437, 0.48521509766578674, 0.4853932559490204, 0.48579782247543335, 0.48612087965011597, 0.48614606261253357, 0.4861919581890106, 0.4865371584892273, 0.48777318000793457, 0.48798054456710815, 0.4883691668510437, 0.4884594976902008, 0.4886040687561035, 0.4892168343067169, 0.489841490983963, 0.4899195432662964, 0.4900076687335968, 0.4901495575904846, 0.49191293120384216, 0.49194854497909546, 0.49249693751335144, 0.4939412474632263, 0.4945801794528961, 0.49557027220726013, 0.49786052107810974, 0.4978914260864258, 0.49844464659690857, 0.49856075644493103, 0.4995330274105072, 0.49966275691986084, 0.5008001327514648, 0.501236617565155, 0.5014345645904541, 0.5018693804740906, 0.5025667548179626, 0.5033132433891296, 0.5042574405670166, 0.5064382553100586, 0.5067328810691833, 0.5076373815536499, 0.5076860785484314, 0.5083077549934387, 0.5100629329681396, 0.5104122161865234, 0.5111896991729736, 0.5123985409736633, 0.5127944350242615, 0.5132861137390137, 0.513853132724762, 0.5140198469161987, 0.5146814584732056, 0.5150808691978455, 0.5151654481887817, 0.5152703523635864, 0.5156912207603455, 0.5160201191902161, 0.5165823698043823, 0.5169015526771545, 0.517460823059082, 0.5182675719261169, 0.518580436706543, 0.5186435580253601, 0.5188080072402954, 0.5188419818878174, 0.5204915404319763, 0.5217050909996033, 0.5222991704940796, 0.5237119793891907, 0.5237669348716736, 0.5243722796440125, 0.5249890685081482, 0.5263386964797974, 0.527413010597229, 0.5275309681892395, 0.5275856256484985, 0.5276777148246765, 0.5277753472328186, 0.5280471444129944, 0.5286383032798767, 0.5296338796615601, 0.5298632979393005, 0.5303372144699097, 0.5303512215614319, 0.5303991436958313], \"y\": [1.0, 0.9846153846153847, 0.9846153846153847, 0.9846153846153847, 0.9692307692307692, 0.9692307692307692, 0.9692307692307692, 0.9692307692307692, 0.9692307692307692, 0.9692307692307692, 0.9692307692307692, 0.9692307692307692, 0.9538461538461539, 0.9384615384615385, 0.9384615384615385, 0.9384615384615385, 0.9384615384615385, 0.9230769230769231, 0.9230769230769231, 0.9230769230769231, 0.9230769230769231, 0.9076923076923077, 0.9076923076923077, 0.9076923076923077, 0.9076923076923077, 0.9076923076923077, 0.9076923076923077, 0.9076923076923077, 0.9076923076923077, 0.9076923076923077, 0.9076923076923077, 0.8923076923076924, 0.8769230769230769, 0.8769230769230769, 0.8769230769230769, 0.8769230769230769, 0.8769230769230769, 0.8769230769230769, 0.8769230769230769, 0.8615384615384616, 0.8615384615384616, 0.8615384615384616, 0.8615384615384616, 0.8615384615384616, 0.8615384615384616, 0.8615384615384616, 0.8615384615384616, 0.8461538461538461, 0.8461538461538461, 0.8461538461538461, 0.8461538461538461, 0.8307692307692308, 0.8307692307692308, 0.8307692307692308, 0.8307692307692308, 0.8307692307692308, 0.8153846153846154, 0.8, 0.7846153846153846, 0.7692307692307693, 0.7538461538461538, 0.7538461538461538, 0.7384615384615385, 0.7230769230769231, 0.7076923076923077, 0.7076923076923077, 0.7076923076923077, 0.6923076923076923, 0.676923076923077, 0.6615384615384615, 0.6615384615384615, 0.6615384615384615, 0.6615384615384615, 0.6461538461538462, 0.6307692307692307, 0.6153846153846154, 0.6, 0.5846153846153846, 0.5538461538461539, 0.5384615384615384, 0.5230769230769231, 0.5076923076923077, 0.49230769230769234, 0.47692307692307695, 0.46153846153846156, 0.4461538461538462, 0.4307692307692308, 0.4307692307692308, 0.4153846153846154, 0.4, 0.38461538461538464, 0.36923076923076925, 0.35384615384615387, 0.3384615384615385, 0.3230769230769231, 0.3076923076923077, 0.3076923076923077, 0.3076923076923077, 0.2923076923076923, 0.27692307692307694, 0.26153846153846155, 0.24615384615384617, 0.23076923076923078, 0.2153846153846154, 0.2, 0.18461538461538463, 0.16923076923076924, 0.15384615384615385, 0.07692307692307693, 0.046153846153846156, 0.03076923076923077, 0.015384615384615385], \"mode\": \"lines\", \"line\": {\"color\": \"green\"}, \"name\": \"Recall\"}], {\"hovermode\": \"closest\", \"font\": {\"size\": 14}, \"title\": \"Precision and recall scores as a function of the decision threshold\", \"xaxis\": {\"title\": \"Decision threshold\", \"showline\": true, \"linewidth\": 1.5}, \"yaxis\": {\"title\": \"Score\", \"showline\": true, \"linewidth\": 1.5}}, {\"showLink\": true, \"linkText\": \"Export to plot.ly\"})});</script>"
      ],
      "text/vnd.plotly.v1+html": [
       "<div id=\"7135ff7d-63a4-4c4e-9f22-8eda20699383\" style=\"height: 525px; width: 100%;\" class=\"plotly-graph-div\"></div><script type=\"text/javascript\">require([\"plotly\"], function(Plotly) { window.PLOTLYENV=window.PLOTLYENV || {};window.PLOTLYENV.BASE_URL=\"https://plot.ly\";Plotly.newPlot(\"7135ff7d-63a4-4c4e-9f22-8eda20699383\", [{\"type\": \"scatter\", \"x\": [0.476603627204895, 0.47674617171287537, 0.4776867926120758, 0.47780880331993103, 0.477916419506073, 0.47816699743270874, 0.47831958532333374, 0.4783492982387543, 0.47857728600502014, 0.4785793125629425, 0.47958192229270935, 0.47974029183387756, 0.4804425835609436, 0.48047542572021484, 0.48103657364845276, 0.4817313551902771, 0.48187902569770813, 0.4820849597454071, 0.48232677578926086, 0.4829237759113312, 0.4830457866191864, 0.4831456243991852, 0.4831552505493164, 0.48344749212265015, 0.4835672974586487, 0.48416823148727417, 0.4842197895050049, 0.48436662554740906, 0.4844629168510437, 0.48521509766578674, 0.4853932559490204, 0.48579782247543335, 0.48612087965011597, 0.48614606261253357, 0.4861919581890106, 0.4865371584892273, 0.48777318000793457, 0.48798054456710815, 0.4883691668510437, 0.4884594976902008, 0.4886040687561035, 0.4892168343067169, 0.489841490983963, 0.4899195432662964, 0.4900076687335968, 0.4901495575904846, 0.49191293120384216, 0.49194854497909546, 0.49249693751335144, 0.4939412474632263, 0.4945801794528961, 0.49557027220726013, 0.49786052107810974, 0.4978914260864258, 0.49844464659690857, 0.49856075644493103, 0.4995330274105072, 0.49966275691986084, 0.5008001327514648, 0.501236617565155, 0.5014345645904541, 0.5018693804740906, 0.5025667548179626, 0.5033132433891296, 0.5042574405670166, 0.5064382553100586, 0.5067328810691833, 0.5076373815536499, 0.5076860785484314, 0.5083077549934387, 0.5100629329681396, 0.5104122161865234, 0.5111896991729736, 0.5123985409736633, 0.5127944350242615, 0.5132861137390137, 0.513853132724762, 0.5140198469161987, 0.5146814584732056, 0.5150808691978455, 0.5151654481887817, 0.5152703523635864, 0.5156912207603455, 0.5160201191902161, 0.5165823698043823, 0.5169015526771545, 0.517460823059082, 0.5182675719261169, 0.518580436706543, 0.5186435580253601, 0.5188080072402954, 0.5188419818878174, 0.5204915404319763, 0.5217050909996033, 0.5222991704940796, 0.5237119793891907, 0.5237669348716736, 0.5243722796440125, 0.5249890685081482, 0.5263386964797974, 0.527413010597229, 0.5275309681892395, 0.5275856256484985, 0.5276777148246765, 0.5277753472328186, 0.5280471444129944, 0.5286383032798767, 0.5296338796615601, 0.5298632979393005, 0.5303372144699097, 0.5303512215614319, 0.5303991436958313], \"y\": [0.5508474576271186, 0.5470085470085471, 0.5517241379310345, 0.5565217391304348, 0.5526315789473685, 0.5575221238938053, 0.5625, 0.5675675675675675, 0.5727272727272728, 0.5779816513761468, 0.5833333333333334, 0.5887850467289719, 0.5849056603773585, 0.580952380952381, 0.5865384615384616, 0.5922330097087378, 0.5980392156862745, 0.594059405940594, 0.6, 0.6060606060606061, 0.6122448979591837, 0.6082474226804123, 0.6145833333333334, 0.6210526315789474, 0.6276595744680851, 0.6344086021505376, 0.6413043478260869, 0.6483516483516484, 0.6555555555555556, 0.6629213483146067, 0.6704545454545454, 0.6666666666666666, 0.6627906976744186, 0.6705882352941176, 0.6785714285714286, 0.6867469879518072, 0.6951219512195121, 0.7037037037037037, 0.7125, 0.7088607594936709, 0.717948717948718, 0.7272727272727273, 0.7368421052631579, 0.7466666666666667, 0.7567567567567568, 0.7671232876712328, 0.7777777777777778, 0.7746478873239436, 0.7857142857142857, 0.7971014492753623, 0.8088235294117647, 0.8059701492537313, 0.8181818181818182, 0.8307692307692308, 0.84375, 0.8571428571428571, 0.8548387096774194, 0.8524590163934426, 0.85, 0.847457627118644, 0.8448275862068966, 0.8596491228070176, 0.8571428571428571, 0.8545454545454545, 0.8518518518518519, 0.8679245283018868, 0.8846153846153846, 0.8823529411764706, 0.88, 0.8775510204081632, 0.8958333333333334, 0.9148936170212766, 0.9347826086956522, 0.9333333333333333, 0.9318181818181818, 0.9302325581395349, 0.9285714285714286, 0.926829268292683, 0.9230769230769231, 0.9210526315789473, 0.918918918918919, 0.9166666666666666, 0.9142857142857143, 0.9117647058823529, 0.9090909090909091, 0.90625, 0.9032258064516129, 0.9333333333333333, 0.9310344827586207, 0.9285714285714286, 0.9259259259259259, 0.9230769230769231, 0.92, 0.9166666666666666, 0.9130434782608695, 0.9090909090909091, 0.9523809523809523, 1.0, 1.0, 1.0, 1.0, 1.0, 1.0, 1.0, 1.0, 1.0, 1.0, 1.0, 1.0, 1.0, 1.0, 1.0], \"mode\": \"lines\", \"line\": {\"color\": \"blue\"}, \"name\": \"Precision\"}, {\"type\": \"scatter\", \"x\": [0.476603627204895, 0.47674617171287537, 0.4776867926120758, 0.47780880331993103, 0.477916419506073, 0.47816699743270874, 0.47831958532333374, 0.4783492982387543, 0.47857728600502014, 0.4785793125629425, 0.47958192229270935, 0.47974029183387756, 0.4804425835609436, 0.48047542572021484, 0.48103657364845276, 0.4817313551902771, 0.48187902569770813, 0.4820849597454071, 0.48232677578926086, 0.4829237759113312, 0.4830457866191864, 0.4831456243991852, 0.4831552505493164, 0.48344749212265015, 0.4835672974586487, 0.48416823148727417, 0.4842197895050049, 0.48436662554740906, 0.4844629168510437, 0.48521509766578674, 0.4853932559490204, 0.48579782247543335, 0.48612087965011597, 0.48614606261253357, 0.4861919581890106, 0.4865371584892273, 0.48777318000793457, 0.48798054456710815, 0.4883691668510437, 0.4884594976902008, 0.4886040687561035, 0.4892168343067169, 0.489841490983963, 0.4899195432662964, 0.4900076687335968, 0.4901495575904846, 0.49191293120384216, 0.49194854497909546, 0.49249693751335144, 0.4939412474632263, 0.4945801794528961, 0.49557027220726013, 0.49786052107810974, 0.4978914260864258, 0.49844464659690857, 0.49856075644493103, 0.4995330274105072, 0.49966275691986084, 0.5008001327514648, 0.501236617565155, 0.5014345645904541, 0.5018693804740906, 0.5025667548179626, 0.5033132433891296, 0.5042574405670166, 0.5064382553100586, 0.5067328810691833, 0.5076373815536499, 0.5076860785484314, 0.5083077549934387, 0.5100629329681396, 0.5104122161865234, 0.5111896991729736, 0.5123985409736633, 0.5127944350242615, 0.5132861137390137, 0.513853132724762, 0.5140198469161987, 0.5146814584732056, 0.5150808691978455, 0.5151654481887817, 0.5152703523635864, 0.5156912207603455, 0.5160201191902161, 0.5165823698043823, 0.5169015526771545, 0.517460823059082, 0.5182675719261169, 0.518580436706543, 0.5186435580253601, 0.5188080072402954, 0.5188419818878174, 0.5204915404319763, 0.5217050909996033, 0.5222991704940796, 0.5237119793891907, 0.5237669348716736, 0.5243722796440125, 0.5249890685081482, 0.5263386964797974, 0.527413010597229, 0.5275309681892395, 0.5275856256484985, 0.5276777148246765, 0.5277753472328186, 0.5280471444129944, 0.5286383032798767, 0.5296338796615601, 0.5298632979393005, 0.5303372144699097, 0.5303512215614319, 0.5303991436958313], \"y\": [1.0, 0.9846153846153847, 0.9846153846153847, 0.9846153846153847, 0.9692307692307692, 0.9692307692307692, 0.9692307692307692, 0.9692307692307692, 0.9692307692307692, 0.9692307692307692, 0.9692307692307692, 0.9692307692307692, 0.9538461538461539, 0.9384615384615385, 0.9384615384615385, 0.9384615384615385, 0.9384615384615385, 0.9230769230769231, 0.9230769230769231, 0.9230769230769231, 0.9230769230769231, 0.9076923076923077, 0.9076923076923077, 0.9076923076923077, 0.9076923076923077, 0.9076923076923077, 0.9076923076923077, 0.9076923076923077, 0.9076923076923077, 0.9076923076923077, 0.9076923076923077, 0.8923076923076924, 0.8769230769230769, 0.8769230769230769, 0.8769230769230769, 0.8769230769230769, 0.8769230769230769, 0.8769230769230769, 0.8769230769230769, 0.8615384615384616, 0.8615384615384616, 0.8615384615384616, 0.8615384615384616, 0.8615384615384616, 0.8615384615384616, 0.8615384615384616, 0.8615384615384616, 0.8461538461538461, 0.8461538461538461, 0.8461538461538461, 0.8461538461538461, 0.8307692307692308, 0.8307692307692308, 0.8307692307692308, 0.8307692307692308, 0.8307692307692308, 0.8153846153846154, 0.8, 0.7846153846153846, 0.7692307692307693, 0.7538461538461538, 0.7538461538461538, 0.7384615384615385, 0.7230769230769231, 0.7076923076923077, 0.7076923076923077, 0.7076923076923077, 0.6923076923076923, 0.676923076923077, 0.6615384615384615, 0.6615384615384615, 0.6615384615384615, 0.6615384615384615, 0.6461538461538462, 0.6307692307692307, 0.6153846153846154, 0.6, 0.5846153846153846, 0.5538461538461539, 0.5384615384615384, 0.5230769230769231, 0.5076923076923077, 0.49230769230769234, 0.47692307692307695, 0.46153846153846156, 0.4461538461538462, 0.4307692307692308, 0.4307692307692308, 0.4153846153846154, 0.4, 0.38461538461538464, 0.36923076923076925, 0.35384615384615387, 0.3384615384615385, 0.3230769230769231, 0.3076923076923077, 0.3076923076923077, 0.3076923076923077, 0.2923076923076923, 0.27692307692307694, 0.26153846153846155, 0.24615384615384617, 0.23076923076923078, 0.2153846153846154, 0.2, 0.18461538461538463, 0.16923076923076924, 0.15384615384615385, 0.07692307692307693, 0.046153846153846156, 0.03076923076923077, 0.015384615384615385], \"mode\": \"lines\", \"line\": {\"color\": \"green\"}, \"name\": \"Recall\"}], {\"hovermode\": \"closest\", \"font\": {\"size\": 14}, \"title\": \"Precision and recall scores as a function of the decision threshold\", \"xaxis\": {\"title\": \"Decision threshold\", \"showline\": true, \"linewidth\": 1.5}, \"yaxis\": {\"title\": \"Score\", \"showline\": true, \"linewidth\": 1.5}}, {\"showLink\": true, \"linkText\": \"Export to plot.ly\"})});</script>"
      ]
     },
     "metadata": {},
     "output_type": "display_data"
    }
   ],
   "source": [
    "t = precision_recall_vs_threshold(\n",
    "    y_true=y_train, y_pred=cv_predict_proba[:, 1])\n",
    "py.iplot(t, filename='fatigue/precision_recall_vs_threshold')"
   ]
  },
  {
   "cell_type": "markdown",
   "metadata": {},
   "source": [
    "### 5.e. Confusion matrix"
   ]
  },
  {
   "cell_type": "code",
   "execution_count": 25,
   "metadata": {},
   "outputs": [],
   "source": [
    "from sklearn.metrics import confusion_matrix\n",
    "\n",
    "\n",
    "def plot_confusion_matrix(y_true, y_pred, in_percentage=True):\n",
    "    cm = confusion_matrix(y_true, y_pred)\n",
    "    if in_percentage:\n",
    "        cm = cm.astype('float') / cm.sum(axis=1)[:, np.newaxis] * 100\n",
    "\n",
    "    colorscale = [[0, '#2d3436'], [1, '#dfe6e9']]\n",
    "\n",
    "    fig = ff.create_annotated_heatmap(\n",
    "        z=cm.astype(int),\n",
    "        x=['True', 'False'],\n",
    "        y=['True', 'False'],\n",
    "        showscale=True,\n",
    "        zmin=0,\n",
    "        zmax=100,\n",
    "        colorscale=colorscale,\n",
    "        colorbar=dict(title='Percentage', titleside='right'))\n",
    "\n",
    "    fig['layout'].update(base_layout)\n",
    "    fig['layout'].update(\n",
    "        dict(\n",
    "            title='confusion matrix',\n",
    "            xaxis=dict(title='Predicted values', side='bottom'),\n",
    "            yaxis=dict(title='True values', autorange='reversed')))\n",
    "\n",
    "    return fig"
   ]
  },
  {
   "cell_type": "code",
   "execution_count": 26,
   "metadata": {},
   "outputs": [
    {
     "data": {
      "application/vnd.plotly.v1+json": {
       "data": [
        {
         "colorbar": {
          "title": "Percentage",
          "titleside": "right"
         },
         "colorscale": [
          [
           0,
           "#2d3436"
          ],
          [
           1,
           "#dfe6e9"
          ]
         ],
         "showscale": true,
         "type": "heatmap",
         "x": [
          "True",
          "False"
         ],
         "y": [
          "True",
          "False"
         ],
         "z": [
          [
           85,
           14
          ],
          [
           21,
           78
          ]
         ],
         "zmax": 100,
         "zmin": 0
        }
       ],
       "layout": {
        "annotations": [
         {
          "font": {
           "color": "#000000"
          },
          "showarrow": false,
          "text": "85",
          "x": "True",
          "xref": "x1",
          "y": "True",
          "yref": "y1"
         },
         {
          "font": {
           "color": "#FFFFFF"
          },
          "showarrow": false,
          "text": "14",
          "x": "False",
          "xref": "x1",
          "y": "True",
          "yref": "y1"
         },
         {
          "font": {
           "color": "#FFFFFF"
          },
          "showarrow": false,
          "text": "21",
          "x": "True",
          "xref": "x1",
          "y": "False",
          "yref": "y1"
         },
         {
          "font": {
           "color": "#000000"
          },
          "showarrow": false,
          "text": "78",
          "x": "False",
          "xref": "x1",
          "y": "False",
          "yref": "y1"
         }
        ],
        "font": {
         "size": 14
        },
        "hovermode": "closest",
        "title": "confusion matrix",
        "xaxis": {
         "dtick": 1,
         "gridcolor": "rgb(0, 0, 0)",
         "side": "bottom",
         "ticks": "",
         "title": "Predicted values"
        },
        "yaxis": {
         "autorange": "reversed",
         "dtick": 1,
         "ticks": "",
         "ticksuffix": "  ",
         "title": "True values"
        }
       }
      },
      "text/html": [
       "<div id=\"af5c2b6e-f739-4b11-b9d5-1c0531cd5839\" style=\"height: 525px; width: 100%;\" class=\"plotly-graph-div\"></div><script type=\"text/javascript\">require([\"plotly\"], function(Plotly) { window.PLOTLYENV=window.PLOTLYENV || {};window.PLOTLYENV.BASE_URL=\"https://plot.ly\";Plotly.newPlot(\"af5c2b6e-f739-4b11-b9d5-1c0531cd5839\", [{\"type\": \"heatmap\", \"z\": [[85, 14], [21, 78]], \"x\": [\"True\", \"False\"], \"y\": [\"True\", \"False\"], \"colorscale\": [[0, \"#2d3436\"], [1, \"#dfe6e9\"]], \"showscale\": true, \"zmin\": 0, \"zmax\": 100, \"colorbar\": {\"title\": \"Percentage\", \"titleside\": \"right\"}}], {\"annotations\": [{\"text\": \"85\", \"x\": \"True\", \"y\": \"True\", \"xref\": \"x1\", \"yref\": \"y1\", \"font\": {\"color\": \"#000000\"}, \"showarrow\": false}, {\"text\": \"14\", \"x\": \"False\", \"y\": \"True\", \"xref\": \"x1\", \"yref\": \"y1\", \"font\": {\"color\": \"#FFFFFF\"}, \"showarrow\": false}, {\"text\": \"21\", \"x\": \"True\", \"y\": \"False\", \"xref\": \"x1\", \"yref\": \"y1\", \"font\": {\"color\": \"#FFFFFF\"}, \"showarrow\": false}, {\"text\": \"78\", \"x\": \"False\", \"y\": \"False\", \"xref\": \"x1\", \"yref\": \"y1\", \"font\": {\"color\": \"#000000\"}, \"showarrow\": false}], \"xaxis\": {\"ticks\": \"\", \"dtick\": 1, \"side\": \"bottom\", \"gridcolor\": \"rgb(0, 0, 0)\", \"title\": \"Predicted values\"}, \"yaxis\": {\"ticks\": \"\", \"dtick\": 1, \"ticksuffix\": \"  \", \"title\": \"True values\", \"autorange\": \"reversed\"}, \"hovermode\": \"closest\", \"font\": {\"size\": 14}, \"title\": \"confusion matrix\"}, {\"showLink\": true, \"linkText\": \"Export to plot.ly\"})});</script>"
      ],
      "text/vnd.plotly.v1+html": [
       "<div id=\"af5c2b6e-f739-4b11-b9d5-1c0531cd5839\" style=\"height: 525px; width: 100%;\" class=\"plotly-graph-div\"></div><script type=\"text/javascript\">require([\"plotly\"], function(Plotly) { window.PLOTLYENV=window.PLOTLYENV || {};window.PLOTLYENV.BASE_URL=\"https://plot.ly\";Plotly.newPlot(\"af5c2b6e-f739-4b11-b9d5-1c0531cd5839\", [{\"type\": \"heatmap\", \"z\": [[85, 14], [21, 78]], \"x\": [\"True\", \"False\"], \"y\": [\"True\", \"False\"], \"colorscale\": [[0, \"#2d3436\"], [1, \"#dfe6e9\"]], \"showscale\": true, \"zmin\": 0, \"zmax\": 100, \"colorbar\": {\"title\": \"Percentage\", \"titleside\": \"right\"}}], {\"annotations\": [{\"text\": \"85\", \"x\": \"True\", \"y\": \"True\", \"xref\": \"x1\", \"yref\": \"y1\", \"font\": {\"color\": \"#000000\"}, \"showarrow\": false}, {\"text\": \"14\", \"x\": \"False\", \"y\": \"True\", \"xref\": \"x1\", \"yref\": \"y1\", \"font\": {\"color\": \"#FFFFFF\"}, \"showarrow\": false}, {\"text\": \"21\", \"x\": \"True\", \"y\": \"False\", \"xref\": \"x1\", \"yref\": \"y1\", \"font\": {\"color\": \"#FFFFFF\"}, \"showarrow\": false}, {\"text\": \"78\", \"x\": \"False\", \"y\": \"False\", \"xref\": \"x1\", \"yref\": \"y1\", \"font\": {\"color\": \"#000000\"}, \"showarrow\": false}], \"xaxis\": {\"ticks\": \"\", \"dtick\": 1, \"side\": \"bottom\", \"gridcolor\": \"rgb(0, 0, 0)\", \"title\": \"Predicted values\"}, \"yaxis\": {\"ticks\": \"\", \"dtick\": 1, \"ticksuffix\": \"  \", \"title\": \"True values\", \"autorange\": \"reversed\"}, \"hovermode\": \"closest\", \"font\": {\"size\": 14}, \"title\": \"confusion matrix\"}, {\"showLink\": true, \"linkText\": \"Export to plot.ly\"})});</script>"
      ]
     },
     "metadata": {},
     "output_type": "display_data"
    }
   ],
   "source": [
    "m = plot_confusion_matrix(y_true=y_train, y_pred=cv_predict)\n",
    "py.iplot(m, filename='fatigue/confusion_matrix_train')"
   ]
  },
  {
   "cell_type": "markdown",
   "metadata": {},
   "source": [
    "## 6. Evaluation"
   ]
  },
  {
   "cell_type": "code",
   "execution_count": 27,
   "metadata": {},
   "outputs": [],
   "source": [
    "warnings.simplefilter('ignore')\n",
    "y_pred = final_model.predict(X_test)\n",
    "warnings.simplefilter('default')"
   ]
  },
  {
   "cell_type": "markdown",
   "metadata": {},
   "source": [
    "### 6.a. Confusion matrix"
   ]
  },
  {
   "cell_type": "code",
   "execution_count": 28,
   "metadata": {},
   "outputs": [
    {
     "data": {
      "application/vnd.plotly.v1+json": {
       "data": [
        {
         "colorbar": {
          "title": "Percentage",
          "titleside": "right"
         },
         "colorscale": [
          [
           0,
           "#2d3436"
          ],
          [
           1,
           "#dfe6e9"
          ]
         ],
         "showscale": true,
         "type": "heatmap",
         "x": [
          "True",
          "False"
         ],
         "y": [
          "True",
          "False"
         ],
         "z": [
          [
           76,
           23
          ],
          [
           37,
           62
          ]
         ],
         "zmax": 100,
         "zmin": 0
        }
       ],
       "layout": {
        "annotations": [
         {
          "font": {
           "color": "#000000"
          },
          "showarrow": false,
          "text": "76",
          "x": "True",
          "xref": "x1",
          "y": "True",
          "yref": "y1"
         },
         {
          "font": {
           "color": "#FFFFFF"
          },
          "showarrow": false,
          "text": "23",
          "x": "False",
          "xref": "x1",
          "y": "True",
          "yref": "y1"
         },
         {
          "font": {
           "color": "#FFFFFF"
          },
          "showarrow": false,
          "text": "37",
          "x": "True",
          "xref": "x1",
          "y": "False",
          "yref": "y1"
         },
         {
          "font": {
           "color": "#000000"
          },
          "showarrow": false,
          "text": "62",
          "x": "False",
          "xref": "x1",
          "y": "False",
          "yref": "y1"
         }
        ],
        "font": {
         "size": 14
        },
        "hovermode": "closest",
        "title": "confusion matrix",
        "xaxis": {
         "dtick": 1,
         "gridcolor": "rgb(0, 0, 0)",
         "side": "bottom",
         "ticks": "",
         "title": "Predicted values"
        },
        "yaxis": {
         "autorange": "reversed",
         "dtick": 1,
         "ticks": "",
         "ticksuffix": "  ",
         "title": "True values"
        }
       }
      },
      "text/html": [
       "<div id=\"7b695aa3-97c8-4587-bce7-5c0c5bcdb3fd\" style=\"height: 525px; width: 100%;\" class=\"plotly-graph-div\"></div><script type=\"text/javascript\">require([\"plotly\"], function(Plotly) { window.PLOTLYENV=window.PLOTLYENV || {};window.PLOTLYENV.BASE_URL=\"https://plot.ly\";Plotly.newPlot(\"7b695aa3-97c8-4587-bce7-5c0c5bcdb3fd\", [{\"type\": \"heatmap\", \"z\": [[76, 23], [37, 62]], \"x\": [\"True\", \"False\"], \"y\": [\"True\", \"False\"], \"colorscale\": [[0, \"#2d3436\"], [1, \"#dfe6e9\"]], \"showscale\": true, \"zmin\": 0, \"zmax\": 100, \"colorbar\": {\"title\": \"Percentage\", \"titleside\": \"right\"}}], {\"annotations\": [{\"text\": \"76\", \"x\": \"True\", \"y\": \"True\", \"xref\": \"x1\", \"yref\": \"y1\", \"font\": {\"color\": \"#000000\"}, \"showarrow\": false}, {\"text\": \"23\", \"x\": \"False\", \"y\": \"True\", \"xref\": \"x1\", \"yref\": \"y1\", \"font\": {\"color\": \"#FFFFFF\"}, \"showarrow\": false}, {\"text\": \"37\", \"x\": \"True\", \"y\": \"False\", \"xref\": \"x1\", \"yref\": \"y1\", \"font\": {\"color\": \"#FFFFFF\"}, \"showarrow\": false}, {\"text\": \"62\", \"x\": \"False\", \"y\": \"False\", \"xref\": \"x1\", \"yref\": \"y1\", \"font\": {\"color\": \"#000000\"}, \"showarrow\": false}], \"xaxis\": {\"ticks\": \"\", \"dtick\": 1, \"side\": \"bottom\", \"gridcolor\": \"rgb(0, 0, 0)\", \"title\": \"Predicted values\"}, \"yaxis\": {\"ticks\": \"\", \"dtick\": 1, \"ticksuffix\": \"  \", \"title\": \"True values\", \"autorange\": \"reversed\"}, \"hovermode\": \"closest\", \"font\": {\"size\": 14}, \"title\": \"confusion matrix\"}, {\"showLink\": true, \"linkText\": \"Export to plot.ly\"})});</script>"
      ],
      "text/vnd.plotly.v1+html": [
       "<div id=\"7b695aa3-97c8-4587-bce7-5c0c5bcdb3fd\" style=\"height: 525px; width: 100%;\" class=\"plotly-graph-div\"></div><script type=\"text/javascript\">require([\"plotly\"], function(Plotly) { window.PLOTLYENV=window.PLOTLYENV || {};window.PLOTLYENV.BASE_URL=\"https://plot.ly\";Plotly.newPlot(\"7b695aa3-97c8-4587-bce7-5c0c5bcdb3fd\", [{\"type\": \"heatmap\", \"z\": [[76, 23], [37, 62]], \"x\": [\"True\", \"False\"], \"y\": [\"True\", \"False\"], \"colorscale\": [[0, \"#2d3436\"], [1, \"#dfe6e9\"]], \"showscale\": true, \"zmin\": 0, \"zmax\": 100, \"colorbar\": {\"title\": \"Percentage\", \"titleside\": \"right\"}}], {\"annotations\": [{\"text\": \"76\", \"x\": \"True\", \"y\": \"True\", \"xref\": \"x1\", \"yref\": \"y1\", \"font\": {\"color\": \"#000000\"}, \"showarrow\": false}, {\"text\": \"23\", \"x\": \"False\", \"y\": \"True\", \"xref\": \"x1\", \"yref\": \"y1\", \"font\": {\"color\": \"#FFFFFF\"}, \"showarrow\": false}, {\"text\": \"37\", \"x\": \"True\", \"y\": \"False\", \"xref\": \"x1\", \"yref\": \"y1\", \"font\": {\"color\": \"#FFFFFF\"}, \"showarrow\": false}, {\"text\": \"62\", \"x\": \"False\", \"y\": \"False\", \"xref\": \"x1\", \"yref\": \"y1\", \"font\": {\"color\": \"#000000\"}, \"showarrow\": false}], \"xaxis\": {\"ticks\": \"\", \"dtick\": 1, \"side\": \"bottom\", \"gridcolor\": \"rgb(0, 0, 0)\", \"title\": \"Predicted values\"}, \"yaxis\": {\"ticks\": \"\", \"dtick\": 1, \"ticksuffix\": \"  \", \"title\": \"True values\", \"autorange\": \"reversed\"}, \"hovermode\": \"closest\", \"font\": {\"size\": 14}, \"title\": \"confusion matrix\"}, {\"showLink\": true, \"linkText\": \"Export to plot.ly\"})});</script>"
      ]
     },
     "metadata": {},
     "output_type": "display_data"
    }
   ],
   "source": [
    "m = plot_confusion_matrix(y_true=y_test, y_pred=y_pred)\n",
    "py.iplot(m, filename='fatigue/confusion_matrix_test')"
   ]
  },
  {
   "cell_type": "markdown",
   "metadata": {},
   "source": [
    "### 6.b. Classification scalar metrics"
   ]
  },
  {
   "cell_type": "code",
   "execution_count": 29,
   "metadata": {},
   "outputs": [],
   "source": [
    "from sklearn.metrics import precision_score, recall_score, f1_score\n",
    "\n",
    "\n",
    "def table_classification_report(y_true, y_pred):\n",
    "    precision = precision_score(y_true, y_pred)\n",
    "    recall = recall_score(y_true, y_pred)\n",
    "    f1 = f1_score(y_true, y_pred)\n",
    "    roc_auc = roc_auc_score(y_true, y_pred)\n",
    "    \n",
    "    data_matrix = [['Metric', 'Value'],\n",
    "                   ['Precision', f'{precision:.2f}'],\n",
    "                   ['Recall', f'{recall:.2f}'],\n",
    "                   ['F1 score', f'{f1:.2f}'],\n",
    "                   ['ROC AUC', f'{roc_auc:.2f}']]\n",
    "\n",
    "    table = ff.create_table(data_matrix)\n",
    "    table['layout'].update(font=dict(size=14))\n",
    "    return table"
   ]
  },
  {
   "cell_type": "code",
   "execution_count": 30,
   "metadata": {},
   "outputs": [
    {
     "data": {
      "application/vnd.plotly.v1+json": {
       "data": [
        {
         "colorscale": [
          [
           0,
           "#00083e"
          ],
          [
           0.5,
           "#ededee"
          ],
          [
           1,
           "#ffffff"
          ]
         ],
         "hoverinfo": "none",
         "opacity": 0.75,
         "showscale": false,
         "type": "heatmap",
         "z": [
          [
           0,
           0
          ],
          [
           0.5,
           0.5
          ],
          [
           1,
           1
          ],
          [
           0.5,
           0.5
          ],
          [
           1,
           1
          ]
         ]
        }
       ],
       "layout": {
        "annotations": [
         {
          "align": "left",
          "font": {
           "color": "#ffffff"
          },
          "showarrow": false,
          "text": "<b>Metric</b>",
          "x": -0.45,
          "xanchor": "left",
          "xref": "x1",
          "y": 0,
          "yref": "y1"
         },
         {
          "align": "left",
          "font": {
           "color": "#ffffff"
          },
          "showarrow": false,
          "text": "<b>Value</b>",
          "x": 0.55,
          "xanchor": "left",
          "xref": "x1",
          "y": 0,
          "yref": "y1"
         },
         {
          "align": "left",
          "font": {
           "color": "#000000"
          },
          "showarrow": false,
          "text": "Precision",
          "x": -0.45,
          "xanchor": "left",
          "xref": "x1",
          "y": 1,
          "yref": "y1"
         },
         {
          "align": "left",
          "font": {
           "color": "#000000"
          },
          "showarrow": false,
          "text": "0.71",
          "x": 0.55,
          "xanchor": "left",
          "xref": "x1",
          "y": 1,
          "yref": "y1"
         },
         {
          "align": "left",
          "font": {
           "color": "#000000"
          },
          "showarrow": false,
          "text": "Recall",
          "x": -0.45,
          "xanchor": "left",
          "xref": "x1",
          "y": 2,
          "yref": "y1"
         },
         {
          "align": "left",
          "font": {
           "color": "#000000"
          },
          "showarrow": false,
          "text": "0.62",
          "x": 0.55,
          "xanchor": "left",
          "xref": "x1",
          "y": 2,
          "yref": "y1"
         },
         {
          "align": "left",
          "font": {
           "color": "#000000"
          },
          "showarrow": false,
          "text": "F1 score",
          "x": -0.45,
          "xanchor": "left",
          "xref": "x1",
          "y": 3,
          "yref": "y1"
         },
         {
          "align": "left",
          "font": {
           "color": "#000000"
          },
          "showarrow": false,
          "text": "0.67",
          "x": 0.55,
          "xanchor": "left",
          "xref": "x1",
          "y": 3,
          "yref": "y1"
         },
         {
          "align": "left",
          "font": {
           "color": "#000000"
          },
          "showarrow": false,
          "text": "ROC AUC",
          "x": -0.45,
          "xanchor": "left",
          "xref": "x1",
          "y": 4,
          "yref": "y1"
         },
         {
          "align": "left",
          "font": {
           "color": "#000000"
          },
          "showarrow": false,
          "text": "0.69",
          "x": 0.55,
          "xanchor": "left",
          "xref": "x1",
          "y": 4,
          "yref": "y1"
         }
        ],
        "font": {
         "size": 14
        },
        "height": 200,
        "margin": {
         "b": 0,
         "l": 0,
         "r": 0,
         "t": 0
        },
        "xaxis": {
         "dtick": 1,
         "gridwidth": 2,
         "showticklabels": false,
         "tick0": -0.5,
         "ticks": "",
         "zeroline": false
        },
        "yaxis": {
         "autorange": "reversed",
         "dtick": 1,
         "gridwidth": 2,
         "showticklabels": false,
         "tick0": 0.5,
         "ticks": "",
         "zeroline": false
        }
       }
      },
      "text/html": [
       "<div id=\"6acc1deb-e424-4d1c-9889-98ee3ee9e9e0\" style=\"height: 200px; width: 100%;\" class=\"plotly-graph-div\"></div><script type=\"text/javascript\">require([\"plotly\"], function(Plotly) { window.PLOTLYENV=window.PLOTLYENV || {};window.PLOTLYENV.BASE_URL=\"https://plot.ly\";Plotly.newPlot(\"6acc1deb-e424-4d1c-9889-98ee3ee9e9e0\", [{\"type\": \"heatmap\", \"z\": [[0, 0], [0.5, 0.5], [1, 1], [0.5, 0.5], [1, 1]], \"opacity\": 0.75, \"colorscale\": [[0, \"#00083e\"], [0.5, \"#ededee\"], [1, \"#ffffff\"]], \"showscale\": false, \"hoverinfo\": \"none\"}], {\"annotations\": [{\"text\": \"<b>Metric</b>\", \"x\": -0.45, \"y\": 0, \"xref\": \"x1\", \"yref\": \"y1\", \"align\": \"left\", \"xanchor\": \"left\", \"font\": {\"color\": \"#ffffff\"}, \"showarrow\": false}, {\"text\": \"<b>Value</b>\", \"x\": 0.55, \"y\": 0, \"xref\": \"x1\", \"yref\": \"y1\", \"align\": \"left\", \"xanchor\": \"left\", \"font\": {\"color\": \"#ffffff\"}, \"showarrow\": false}, {\"text\": \"Precision\", \"x\": -0.45, \"y\": 1, \"xref\": \"x1\", \"yref\": \"y1\", \"align\": \"left\", \"xanchor\": \"left\", \"font\": {\"color\": \"#000000\"}, \"showarrow\": false}, {\"text\": \"0.71\", \"x\": 0.55, \"y\": 1, \"xref\": \"x1\", \"yref\": \"y1\", \"align\": \"left\", \"xanchor\": \"left\", \"font\": {\"color\": \"#000000\"}, \"showarrow\": false}, {\"text\": \"Recall\", \"x\": -0.45, \"y\": 2, \"xref\": \"x1\", \"yref\": \"y1\", \"align\": \"left\", \"xanchor\": \"left\", \"font\": {\"color\": \"#000000\"}, \"showarrow\": false}, {\"text\": \"0.62\", \"x\": 0.55, \"y\": 2, \"xref\": \"x1\", \"yref\": \"y1\", \"align\": \"left\", \"xanchor\": \"left\", \"font\": {\"color\": \"#000000\"}, \"showarrow\": false}, {\"text\": \"F1 score\", \"x\": -0.45, \"y\": 3, \"xref\": \"x1\", \"yref\": \"y1\", \"align\": \"left\", \"xanchor\": \"left\", \"font\": {\"color\": \"#000000\"}, \"showarrow\": false}, {\"text\": \"0.67\", \"x\": 0.55, \"y\": 3, \"xref\": \"x1\", \"yref\": \"y1\", \"align\": \"left\", \"xanchor\": \"left\", \"font\": {\"color\": \"#000000\"}, \"showarrow\": false}, {\"text\": \"ROC AUC\", \"x\": -0.45, \"y\": 4, \"xref\": \"x1\", \"yref\": \"y1\", \"align\": \"left\", \"xanchor\": \"left\", \"font\": {\"color\": \"#000000\"}, \"showarrow\": false}, {\"text\": \"0.69\", \"x\": 0.55, \"y\": 4, \"xref\": \"x1\", \"yref\": \"y1\", \"align\": \"left\", \"xanchor\": \"left\", \"font\": {\"color\": \"#000000\"}, \"showarrow\": false}], \"height\": 200, \"margin\": {\"t\": 0, \"b\": 0, \"r\": 0, \"l\": 0}, \"yaxis\": {\"autorange\": \"reversed\", \"zeroline\": false, \"gridwidth\": 2, \"ticks\": \"\", \"dtick\": 1, \"tick0\": 0.5, \"showticklabels\": false}, \"xaxis\": {\"zeroline\": false, \"gridwidth\": 2, \"ticks\": \"\", \"dtick\": 1, \"tick0\": -0.5, \"showticklabels\": false}, \"font\": {\"size\": 14}}, {\"showLink\": true, \"linkText\": \"Export to plot.ly\"})});</script>"
      ],
      "text/vnd.plotly.v1+html": [
       "<div id=\"6acc1deb-e424-4d1c-9889-98ee3ee9e9e0\" style=\"height: 200px; width: 100%;\" class=\"plotly-graph-div\"></div><script type=\"text/javascript\">require([\"plotly\"], function(Plotly) { window.PLOTLYENV=window.PLOTLYENV || {};window.PLOTLYENV.BASE_URL=\"https://plot.ly\";Plotly.newPlot(\"6acc1deb-e424-4d1c-9889-98ee3ee9e9e0\", [{\"type\": \"heatmap\", \"z\": [[0, 0], [0.5, 0.5], [1, 1], [0.5, 0.5], [1, 1]], \"opacity\": 0.75, \"colorscale\": [[0, \"#00083e\"], [0.5, \"#ededee\"], [1, \"#ffffff\"]], \"showscale\": false, \"hoverinfo\": \"none\"}], {\"annotations\": [{\"text\": \"<b>Metric</b>\", \"x\": -0.45, \"y\": 0, \"xref\": \"x1\", \"yref\": \"y1\", \"align\": \"left\", \"xanchor\": \"left\", \"font\": {\"color\": \"#ffffff\"}, \"showarrow\": false}, {\"text\": \"<b>Value</b>\", \"x\": 0.55, \"y\": 0, \"xref\": \"x1\", \"yref\": \"y1\", \"align\": \"left\", \"xanchor\": \"left\", \"font\": {\"color\": \"#ffffff\"}, \"showarrow\": false}, {\"text\": \"Precision\", \"x\": -0.45, \"y\": 1, \"xref\": \"x1\", \"yref\": \"y1\", \"align\": \"left\", \"xanchor\": \"left\", \"font\": {\"color\": \"#000000\"}, \"showarrow\": false}, {\"text\": \"0.71\", \"x\": 0.55, \"y\": 1, \"xref\": \"x1\", \"yref\": \"y1\", \"align\": \"left\", \"xanchor\": \"left\", \"font\": {\"color\": \"#000000\"}, \"showarrow\": false}, {\"text\": \"Recall\", \"x\": -0.45, \"y\": 2, \"xref\": \"x1\", \"yref\": \"y1\", \"align\": \"left\", \"xanchor\": \"left\", \"font\": {\"color\": \"#000000\"}, \"showarrow\": false}, {\"text\": \"0.62\", \"x\": 0.55, \"y\": 2, \"xref\": \"x1\", \"yref\": \"y1\", \"align\": \"left\", \"xanchor\": \"left\", \"font\": {\"color\": \"#000000\"}, \"showarrow\": false}, {\"text\": \"F1 score\", \"x\": -0.45, \"y\": 3, \"xref\": \"x1\", \"yref\": \"y1\", \"align\": \"left\", \"xanchor\": \"left\", \"font\": {\"color\": \"#000000\"}, \"showarrow\": false}, {\"text\": \"0.67\", \"x\": 0.55, \"y\": 3, \"xref\": \"x1\", \"yref\": \"y1\", \"align\": \"left\", \"xanchor\": \"left\", \"font\": {\"color\": \"#000000\"}, \"showarrow\": false}, {\"text\": \"ROC AUC\", \"x\": -0.45, \"y\": 4, \"xref\": \"x1\", \"yref\": \"y1\", \"align\": \"left\", \"xanchor\": \"left\", \"font\": {\"color\": \"#000000\"}, \"showarrow\": false}, {\"text\": \"0.69\", \"x\": 0.55, \"y\": 4, \"xref\": \"x1\", \"yref\": \"y1\", \"align\": \"left\", \"xanchor\": \"left\", \"font\": {\"color\": \"#000000\"}, \"showarrow\": false}], \"height\": 200, \"margin\": {\"t\": 0, \"b\": 0, \"r\": 0, \"l\": 0}, \"yaxis\": {\"autorange\": \"reversed\", \"zeroline\": false, \"gridwidth\": 2, \"ticks\": \"\", \"dtick\": 1, \"tick0\": 0.5, \"showticklabels\": false}, \"xaxis\": {\"zeroline\": false, \"gridwidth\": 2, \"ticks\": \"\", \"dtick\": 1, \"tick0\": -0.5, \"showticklabels\": false}, \"font\": {\"size\": 14}}, {\"showLink\": true, \"linkText\": \"Export to plot.ly\"})});</script>"
      ]
     },
     "metadata": {},
     "output_type": "display_data"
    }
   ],
   "source": [
    "table = table_classification_report(y_true=y_test, y_pred=y_pred)\n",
    "\n",
    "py.iplot(table, filename='fatigue/clf_report')"
   ]
  },
  {
   "cell_type": "markdown",
   "metadata": {},
   "source": [
    "## 7. Summary"
   ]
  },
  {
   "cell_type": "code",
   "execution_count": null,
   "metadata": {},
   "outputs": [],
   "source": []
  }
 ],
 "metadata": {
  "kernelspec": {
   "display_name": "fatigue",
   "language": "python",
   "name": "fatigue"
  },
  "language_info": {
   "codemirror_mode": {
    "name": "ipython",
    "version": 3
   },
   "file_extension": ".py",
   "mimetype": "text/x-python",
   "name": "python",
   "nbconvert_exporter": "python",
   "pygments_lexer": "ipython3",
   "version": "3.6.4"
  },
  "toc": {
   "nav_menu": {},
   "number_sections": false,
   "sideBar": true,
   "skip_h1_title": true,
   "title_cell": "Table of Contents",
   "title_sidebar": "Contents",
   "toc_cell": true,
   "toc_position": {
    "height": "calc(100% - 180px)",
    "left": "10px",
    "top": "150px",
    "width": "384px"
   },
   "toc_section_display": true,
   "toc_window_display": true
  }
 },
 "nbformat": 4,
 "nbformat_minor": 2
}
