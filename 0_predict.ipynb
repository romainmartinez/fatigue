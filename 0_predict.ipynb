{
 "cells": [
  {
   "cell_type": "markdown",
   "metadata": {
    "toc": true
   },
   "source": [
    "<h1>Table of Contents<span class=\"tocSkip\"></span></h1>\n",
    "<div class=\"toc\"><ul class=\"toc-item\"><li><span><a href=\"#1.-Setup\" data-toc-modified-id=\"1.-Setup-1\">1. Setup</a></span></li><li><span><a href=\"#2.-Get-data\" data-toc-modified-id=\"2.-Get-data-2\">2. Get data</a></span><ul class=\"toc-item\"><li><span><a href=\"#2.a.-Create-feature-matrix\" data-toc-modified-id=\"2.a.-Create-feature-matrix-2.1\">2.a. Create feature matrix</a></span></li><li><span><a href=\"#2.b.-Create-label-vector\" data-toc-modified-id=\"2.b.-Create-label-vector-2.2\">2.b. Create label vector</a></span></li><li><span><a href=\"#2.c.-Create-report\" data-toc-modified-id=\"2.c.-Create-report-2.3\">2.c. Create report</a></span></li><li><span><a href=\"#2.d.-Split-data-&amp;-shuffle\" data-toc-modified-id=\"2.d.-Split-data-&amp;-shuffle-2.4\">2.d. Split data &amp; shuffle</a></span></li></ul></li><li><span><a href=\"#2.-Pipeline\" data-toc-modified-id=\"2.-Pipeline-3\">2. Pipeline</a></span><ul class=\"toc-item\"><li><span><a href=\"#2.a.-Metrics-wrap-up\" data-toc-modified-id=\"2.a.-Metrics-wrap-up-3.1\">2.a. Metrics wrap up</a></span><ul class=\"toc-item\"><li><span><a href=\"#2.a.1.-Confusion-matrix-metrics\" data-toc-modified-id=\"2.a.1.-Confusion-matrix-metrics-3.1.1\">2.a.1. Confusion matrix metrics</a></span><ul class=\"toc-item\"><li><span><a href=\"#True-negative-(TN)\" data-toc-modified-id=\"True-negative-(TN)-3.1.1.1\">True negative (TN)</a></span></li><li><span><a href=\"#False-negative-(FN)\" data-toc-modified-id=\"False-negative-(FN)-3.1.1.2\">False negative (FN)</a></span></li><li><span><a href=\"#True-positive-(TP)\" data-toc-modified-id=\"True-positive-(TP)-3.1.1.3\">True positive (TP)</a></span></li><li><span><a href=\"#False-positive-(FP)\" data-toc-modified-id=\"False-positive-(FP)-3.1.1.4\">False positive (FP)</a></span></li></ul></li><li><span><a href=\"#2.a.2.-Metrics\" data-toc-modified-id=\"2.a.2.-Metrics-3.1.2\">2.a.2. Metrics</a></span><ul class=\"toc-item\"><li><span><a href=\"#Precision\" data-toc-modified-id=\"Precision-3.1.2.1\">Precision</a></span></li><li><span><a href=\"#Recall-or-True-Positive-Rate-(TPR)\" data-toc-modified-id=\"Recall-or-True-Positive-Rate-(TPR)-3.1.2.2\">Recall or True Positive Rate (TPR)</a></span></li><li><span><a href=\"#False-Positive-Rate-(FPR)\" data-toc-modified-id=\"False-Positive-Rate-(FPR)-3.1.2.3\">False Positive Rate (FPR)</a></span></li><li><span><a href=\"#Receiver-Operating-Characteristic-curve-(ROC)\" data-toc-modified-id=\"Receiver-Operating-Characteristic-curve-(ROC)-3.1.2.4\">Receiver Operating Characteristic curve (ROC)</a></span></li><li><span><a href=\"#In-our-case\" data-toc-modified-id=\"In-our-case-3.1.2.5\">In our case</a></span></li></ul></li></ul></li><li><span><a href=\"#2.b.-Pipeline-creation\" data-toc-modified-id=\"2.b.-Pipeline-creation-3.2\">2.b. Pipeline creation</a></span></li></ul></li><li><span><a href=\"#4.-Optimization\" data-toc-modified-id=\"4.-Optimization-4\">4. Optimization</a></span></li><li><span><a href=\"#4.1.-Ensemble-learning\" data-toc-modified-id=\"4.1.-Ensemble-learning-5\">4.1. Ensemble learning</a></span></li><li><span><a href=\"#4.2.-Grid-Search\" data-toc-modified-id=\"4.2.-Grid-Search-6\">4.2. Grid Search</a></span><ul class=\"toc-item\"><li><span><a href=\"#4.a.-Gradient-boosting\" data-toc-modified-id=\"4.a.-Gradient-boosting-6.1\">4.a. Gradient boosting</a></span></li><li><span><a href=\"#4.b.-XGBoost\" data-toc-modified-id=\"4.b.-XGBoost-6.2\">4.b. XGBoost</a></span></li><li><span><a href=\"#4.c.-Ensemble-learning\" data-toc-modified-id=\"4.c.-Ensemble-learning-6.3\">4.c. Ensemble learning</a></span></li></ul></li><li><span><a href=\"#5.-Diagnostic\" data-toc-modified-id=\"5.-Diagnostic-7\">5. Diagnostic</a></span><ul class=\"toc-item\"><li><span><a href=\"#5.a.-Feature-importances\" data-toc-modified-id=\"5.a.-Feature-importances-7.1\">5.a. Feature importances</a></span></li><li><span><a href=\"#5.b.-Learning-curves\" data-toc-modified-id=\"5.b.-Learning-curves-7.2\">5.b. Learning curves</a></span></li><li><span><a href=\"#5.c.-ROC-curves\" data-toc-modified-id=\"5.c.-ROC-curves-7.3\">5.c. ROC curves</a></span></li><li><span><a href=\"#5.d.-Precision-recall-vs-threshold\" data-toc-modified-id=\"5.d.-Precision-recall-vs-threshold-7.4\">5.d. Precision-recall vs threshold</a></span></li><li><span><a href=\"#5.e.-Confusion-matrix\" data-toc-modified-id=\"5.e.-Confusion-matrix-7.5\">5.e. Confusion matrix</a></span></li></ul></li><li><span><a href=\"#6.-Evaluation\" data-toc-modified-id=\"6.-Evaluation-8\">6. Evaluation</a></span><ul class=\"toc-item\"><li><span><a href=\"#6.a.-Confusion-matrix\" data-toc-modified-id=\"6.a.-Confusion-matrix-8.1\">6.a. Confusion matrix</a></span></li><li><span><a href=\"#6.b.-Classification-scalar-metrics\" data-toc-modified-id=\"6.b.-Classification-scalar-metrics-8.2\">6.b. Classification scalar metrics</a></span></li></ul></li><li><span><a href=\"#7.-Summary\" data-toc-modified-id=\"7.-Summary-9\">7. Summary</a></span></li></ul></div>"
   ]
  },
  {
   "cell_type": "markdown",
   "metadata": {},
   "source": [
    "# Project Fatigue\n",
    "- GitHub [link](https://github.com/romainmartinez/fatigue)\n",
    "- Plotly [link](https://plot.ly/organize/romainmartinez:97)"
   ]
  },
  {
   "cell_type": "markdown",
   "metadata": {},
   "source": [
    "## 1. Setup"
   ]
  },
  {
   "cell_type": "code",
   "execution_count": 1,
   "metadata": {
    "run_control": {
     "marked": false
    }
   },
   "outputs": [
    {
     "data": {
      "text/html": [
       "<script>requirejs.config({paths: { 'plotly': ['https://cdn.plot.ly/plotly-latest.min']},});if(!window.Plotly) {{require(['plotly'],function(plotly) {window.Plotly=plotly;});}}</script>"
      ],
      "text/vnd.plotly.v1+html": [
       "<script>requirejs.config({paths: { 'plotly': ['https://cdn.plot.ly/plotly-latest.min']},});if(!window.Plotly) {{require(['plotly'],function(plotly) {window.Plotly=plotly;});}}</script>"
      ]
     },
     "metadata": {},
     "output_type": "display_data"
    }
   ],
   "source": [
    "# Common imports\n",
    "import scipy.io as sio\n",
    "import numpy as np\n",
    "import warnings\n",
    "import os\n",
    "\n",
    "# Figures\n",
    "OFFLINE = True\n",
    "if OFFLINE:\n",
    "    import plotly.offline as py\n",
    "    py.init_notebook_mode(connected=True)\n",
    "else:\n",
    "    import plotly.plotly as py\n",
    "import plotly.graph_objs as go\n",
    "import plotly.figure_factory as ff\n",
    "base_layout = go.Layout(hovermode='closest', font=dict(size=14))\n",
    "\n",
    "# to make this notebook's output stable across runs\n",
    "RANDOM_SEED = 42\n",
    "np.random.seed(RANDOM_SEED)\n",
    "\n",
    "# path\n",
    "from pathlib import Path\n",
    "PROJECT_PATH = Path('./')\n",
    "DATA_PATH = PROJECT_PATH / 'data'\n",
    "MODEL_PATH = PROJECT_PATH / 'model'"
   ]
  },
  {
   "cell_type": "markdown",
   "metadata": {},
   "source": [
    "## 2. Get data"
   ]
  },
  {
   "cell_type": "code",
   "execution_count": 2,
   "metadata": {
    "run_control": {
     "marked": false
    }
   },
   "outputs": [],
   "source": [
    "DATA_FILE = 'DatabaseRPT.mat'\n",
    "mat = sio.loadmat(DATA_PATH / DATA_FILE)['DataBaseRPT'][0, 0]"
   ]
  },
  {
   "cell_type": "markdown",
   "metadata": {},
   "source": [
    "- label\n",
    "    - `Y` (1, 162): 1 = prefatigue, 2 = fatigue\n",
    "\n",
    "- used features\n",
    "    - `AllX` (24, 162): 24 (6 DoF x 4 variables) x 162 (81 participants x 2 time points).\n",
    "    - `CAssignAll` (1, 24): AllX column assignment\n",
    "\n",
    "    - `Sex` (1, 162)\n",
    "    - `Endurance` (1, 162)\n",
    "\n",
    "- not used\n",
    "    - `BestX` (7, 162): 7 (variables with SRM>0.8) x 162 (81 participants x 2 time points) matrix. Contains data only for the most responsive variables (SRM>0.8).\n",
    "    - `CAssignBest` (1, 7): BestX column assignment.\n",
    "    - `Age` (1, 162): too much NaN.\n",
    "    - `Height` (1, 162): too much NaN.\n",
    "    - `Weight` (1, 162) Too much NaN.\n",
    "    - `SubjectKey` (1, 162): useless.\n",
    "    - `SID` (1, 162): useless."
   ]
  },
  {
   "cell_type": "markdown",
   "metadata": {},
   "source": [
    "### 2.a. Create feature matrix"
   ]
  },
  {
   "cell_type": "code",
   "execution_count": 3,
   "metadata": {},
   "outputs": [],
   "source": [
    "def get_high_srm_cols(X):\n",
    "    srm_idx = np.array([\n",
    "        False, False, False, False, False, False, False, False, True, False,\n",
    "        False, False, True, True, True, True, False, True, False, False, True,\n",
    "        False, False, False\n",
    "    ])\n",
    "    return X[:, srm_idx]"
   ]
  },
  {
   "cell_type": "code",
   "execution_count": 4,
   "metadata": {
    "run_control": {
     "marked": false
    }
   },
   "outputs": [],
   "source": [
    "col_names = [i[0] for i in mat['CAssignAll'].flatten()]\n",
    "# find variable with SRM > .8\n",
    "srm_names = np.array([i[0] for i in mat['CAssignBest'].flatten()])\n",
    "srm_idx = np.in1d(col_names, srm_names)\n",
    "\n",
    "# add `AllX`\n",
    "X = mat['AllX'].T\n",
    "\n",
    "col_names = np.array(col_names)"
   ]
  },
  {
   "cell_type": "markdown",
   "metadata": {},
   "source": [
    "### 2.b. Create label vector"
   ]
  },
  {
   "cell_type": "code",
   "execution_count": 5,
   "metadata": {
    "run_control": {
     "marked": false
    }
   },
   "outputs": [],
   "source": [
    "from sklearn.preprocessing import LabelBinarizer\n",
    "y = mat['Y'].T\n",
    "y = LabelBinarizer().fit_transform(y)"
   ]
  },
  {
   "cell_type": "markdown",
   "metadata": {},
   "source": [
    "### 2.c. Create report"
   ]
  },
  {
   "cell_type": "code",
   "execution_count": 6,
   "metadata": {
    "run_control": {
     "marked": false
    }
   },
   "outputs": [],
   "source": [
    "import pandas as pd\n",
    "\n",
    "# create dataframe\n",
    "df = pd.DataFrame(X, columns=col_names)\n",
    "df['fatigue (label)'] = y\n",
    "\n",
    "# generate pandas report\n",
    "REPORT_FILENAME = PROJECT_PATH / 'pandas_report.html'\n",
    "if not REPORT_FILENAME.is_file():\n",
    "    import pandas_profiling\n",
    "    report = pandas_profiling.ProfileReport(df)\n",
    "    report.to_file('./pandas_report.html')"
   ]
  },
  {
   "cell_type": "markdown",
   "metadata": {},
   "source": [
    "### 2.d. Split data & shuffle"
   ]
  },
  {
   "cell_type": "code",
   "execution_count": 7,
   "metadata": {
    "run_control": {
     "marked": false
    }
   },
   "outputs": [],
   "source": [
    "# split data & shuffle\n",
    "from sklearn.model_selection import train_test_split\n",
    "\n",
    "X_train, X_test, y_train, y_test = train_test_split(\n",
    "    X, y, test_size=0.2, random_state=RANDOM_SEED)"
   ]
  },
  {
   "cell_type": "code",
   "execution_count": 8,
   "metadata": {
    "run_control": {
     "marked": false
    }
   },
   "outputs": [
    {
     "data": {
      "text/html": [
       "<div>\n",
       "<style scoped>\n",
       "    .dataframe tbody tr th:only-of-type {\n",
       "        vertical-align: middle;\n",
       "    }\n",
       "\n",
       "    .dataframe tbody tr th {\n",
       "        vertical-align: top;\n",
       "    }\n",
       "\n",
       "    .dataframe thead th {\n",
       "        text-align: right;\n",
       "    }\n",
       "</style>\n",
       "<table border=\"1\" class=\"dataframe\">\n",
       "  <thead>\n",
       "    <tr style=\"text-align: right;\">\n",
       "      <th></th>\n",
       "      <th>AveElbFlexMean</th>\n",
       "      <th>ROMElbFlexMean</th>\n",
       "      <th>AveElbFlexSD</th>\n",
       "      <th>ROMElbFlexSD</th>\n",
       "      <th>AveShPlaneMean</th>\n",
       "      <th>ROMShPlaneMean</th>\n",
       "      <th>AveShPlaneSD</th>\n",
       "      <th>ROMShPlaneSD</th>\n",
       "      <th>AveShEleMean</th>\n",
       "      <th>ROMShEleMean</th>\n",
       "      <th>...</th>\n",
       "      <th>ROMTrXSD</th>\n",
       "      <th>AveTrYMean</th>\n",
       "      <th>ROMTrYMean</th>\n",
       "      <th>AveTrYSD</th>\n",
       "      <th>ROMTrYSD</th>\n",
       "      <th>AveTrZMean</th>\n",
       "      <th>ROMTrZMean</th>\n",
       "      <th>AveTrZSD</th>\n",
       "      <th>ROMTrZSD</th>\n",
       "      <th>fatigue (label)</th>\n",
       "    </tr>\n",
       "  </thead>\n",
       "  <tbody>\n",
       "    <tr>\n",
       "      <th>0</th>\n",
       "      <td>105.983144</td>\n",
       "      <td>63.339618</td>\n",
       "      <td>2.219401</td>\n",
       "      <td>1.794134</td>\n",
       "      <td>23.518597</td>\n",
       "      <td>13.624799</td>\n",
       "      <td>1.338393</td>\n",
       "      <td>2.357813</td>\n",
       "      <td>80.274017</td>\n",
       "      <td>2.942674</td>\n",
       "      <td>...</td>\n",
       "      <td>0.321233</td>\n",
       "      <td>16.382423</td>\n",
       "      <td>13.629558</td>\n",
       "      <td>1.112671</td>\n",
       "      <td>1.977798</td>\n",
       "      <td>-0.550047</td>\n",
       "      <td>2.671822</td>\n",
       "      <td>0.228494</td>\n",
       "      <td>0.711787</td>\n",
       "      <td>0</td>\n",
       "    </tr>\n",
       "    <tr>\n",
       "      <th>1</th>\n",
       "      <td>106.166216</td>\n",
       "      <td>61.875226</td>\n",
       "      <td>2.239310</td>\n",
       "      <td>2.548458</td>\n",
       "      <td>22.851141</td>\n",
       "      <td>11.726534</td>\n",
       "      <td>1.182490</td>\n",
       "      <td>1.401127</td>\n",
       "      <td>77.897777</td>\n",
       "      <td>4.062635</td>\n",
       "      <td>...</td>\n",
       "      <td>0.617063</td>\n",
       "      <td>16.041630</td>\n",
       "      <td>15.078508</td>\n",
       "      <td>0.910697</td>\n",
       "      <td>1.003788</td>\n",
       "      <td>-0.208865</td>\n",
       "      <td>1.242553</td>\n",
       "      <td>0.541000</td>\n",
       "      <td>0.496108</td>\n",
       "      <td>1</td>\n",
       "    </tr>\n",
       "    <tr>\n",
       "      <th>2</th>\n",
       "      <td>100.914284</td>\n",
       "      <td>60.930029</td>\n",
       "      <td>1.482458</td>\n",
       "      <td>1.167593</td>\n",
       "      <td>27.289316</td>\n",
       "      <td>12.291697</td>\n",
       "      <td>1.223189</td>\n",
       "      <td>2.452705</td>\n",
       "      <td>83.932823</td>\n",
       "      <td>2.886935</td>\n",
       "      <td>...</td>\n",
       "      <td>0.327905</td>\n",
       "      <td>15.039772</td>\n",
       "      <td>14.311074</td>\n",
       "      <td>0.979720</td>\n",
       "      <td>2.070705</td>\n",
       "      <td>0.096174</td>\n",
       "      <td>0.934767</td>\n",
       "      <td>0.488540</td>\n",
       "      <td>0.317386</td>\n",
       "      <td>0</td>\n",
       "    </tr>\n",
       "    <tr>\n",
       "      <th>3</th>\n",
       "      <td>105.066549</td>\n",
       "      <td>59.524098</td>\n",
       "      <td>2.364182</td>\n",
       "      <td>1.849991</td>\n",
       "      <td>23.083816</td>\n",
       "      <td>7.519415</td>\n",
       "      <td>1.510000</td>\n",
       "      <td>3.503819</td>\n",
       "      <td>78.701025</td>\n",
       "      <td>2.997990</td>\n",
       "      <td>...</td>\n",
       "      <td>0.487730</td>\n",
       "      <td>16.070120</td>\n",
       "      <td>16.178023</td>\n",
       "      <td>1.418294</td>\n",
       "      <td>3.521951</td>\n",
       "      <td>-0.544067</td>\n",
       "      <td>1.885480</td>\n",
       "      <td>0.610577</td>\n",
       "      <td>0.851287</td>\n",
       "      <td>1</td>\n",
       "    </tr>\n",
       "    <tr>\n",
       "      <th>4</th>\n",
       "      <td>93.259333</td>\n",
       "      <td>81.531138</td>\n",
       "      <td>2.610755</td>\n",
       "      <td>3.632922</td>\n",
       "      <td>42.387152</td>\n",
       "      <td>27.789377</td>\n",
       "      <td>1.605530</td>\n",
       "      <td>2.027628</td>\n",
       "      <td>71.280986</td>\n",
       "      <td>8.000008</td>\n",
       "      <td>...</td>\n",
       "      <td>0.483336</td>\n",
       "      <td>8.908385</td>\n",
       "      <td>8.815273</td>\n",
       "      <td>0.709582</td>\n",
       "      <td>1.250228</td>\n",
       "      <td>-0.123442</td>\n",
       "      <td>1.065910</td>\n",
       "      <td>0.415764</td>\n",
       "      <td>0.404298</td>\n",
       "      <td>0</td>\n",
       "    </tr>\n",
       "  </tbody>\n",
       "</table>\n",
       "<p>5 rows × 25 columns</p>\n",
       "</div>"
      ],
      "text/plain": [
       "   AveElbFlexMean  ROMElbFlexMean  AveElbFlexSD  ROMElbFlexSD  AveShPlaneMean  \\\n",
       "0      105.983144       63.339618      2.219401      1.794134       23.518597   \n",
       "1      106.166216       61.875226      2.239310      2.548458       22.851141   \n",
       "2      100.914284       60.930029      1.482458      1.167593       27.289316   \n",
       "3      105.066549       59.524098      2.364182      1.849991       23.083816   \n",
       "4       93.259333       81.531138      2.610755      3.632922       42.387152   \n",
       "\n",
       "   ROMShPlaneMean  AveShPlaneSD  ROMShPlaneSD  AveShEleMean  ROMShEleMean  \\\n",
       "0       13.624799      1.338393      2.357813     80.274017      2.942674   \n",
       "1       11.726534      1.182490      1.401127     77.897777      4.062635   \n",
       "2       12.291697      1.223189      2.452705     83.932823      2.886935   \n",
       "3        7.519415      1.510000      3.503819     78.701025      2.997990   \n",
       "4       27.789377      1.605530      2.027628     71.280986      8.000008   \n",
       "\n",
       "        ...         ROMTrXSD  AveTrYMean  ROMTrYMean  AveTrYSD  ROMTrYSD  \\\n",
       "0       ...         0.321233   16.382423   13.629558  1.112671  1.977798   \n",
       "1       ...         0.617063   16.041630   15.078508  0.910697  1.003788   \n",
       "2       ...         0.327905   15.039772   14.311074  0.979720  2.070705   \n",
       "3       ...         0.487730   16.070120   16.178023  1.418294  3.521951   \n",
       "4       ...         0.483336    8.908385    8.815273  0.709582  1.250228   \n",
       "\n",
       "   AveTrZMean  ROMTrZMean  AveTrZSD  ROMTrZSD  fatigue (label)  \n",
       "0   -0.550047    2.671822  0.228494  0.711787                0  \n",
       "1   -0.208865    1.242553  0.541000  0.496108                1  \n",
       "2    0.096174    0.934767  0.488540  0.317386                0  \n",
       "3   -0.544067    1.885480  0.610577  0.851287                1  \n",
       "4   -0.123442    1.065910  0.415764  0.404298                0  \n",
       "\n",
       "[5 rows x 25 columns]"
      ]
     },
     "execution_count": 8,
     "metadata": {},
     "output_type": "execute_result"
    }
   ],
   "source": [
    "df.head()"
   ]
  },
  {
   "cell_type": "markdown",
   "metadata": {},
   "source": [
    "## 2. Pipeline"
   ]
  },
  {
   "cell_type": "markdown",
   "metadata": {},
   "source": [
    "### 2.a. Metrics wrap up\n",
    "\n",
    "#### 2.a.1. Confusion matrix metrics\n",
    "\n",
    "| Predicted | Real: 1 | Real: 0 |\n",
    "|-----------|---------|---------|\n",
    "|    1      |  TP     |    FP   |\n",
    "|    0      |  FN     |    TN   |\n",
    "\n",
    "##### True negative (TN)\n",
    "We *correctly* predict that the class is *negative*.\n",
    "\n",
    "##### False negative (FN)\n",
    "We *incorrectly* predict that the class is *negative*.\n",
    "\n",
    "##### True positive (TP)\n",
    "We *correctly* predict that the class is *positive*.\n",
    "\n",
    "##### False positive (FP)\n",
    "We *incorrectly* predict that the class is *positive*.\n",
    "\n",
    "#### 2.a.2. Metrics\n",
    "\n",
    "##### Precision\n",
    "$$\\frac{TP}{\\text{n}^o \\text{predicted positives}} = \\frac{TP}{TP + FP}$$\n",
    "\n",
    "- high precision = less _false positive_\n",
    "- _example_: getting $0.8$ precision means that when it claims to detect a label, it is right $80$% of the time\n",
    "\n",
    "##### Recall or True Positive Rate (TPR)\n",
    "$$\\frac{TP}{\\text{n}^o \\text{actual positives}} = \\frac{TP}{TP + FN}$$\n",
    "\n",
    "- high recall = less _false negative_\n",
    "- _example_: getting $0.8$ recall means that it detect $80$% of the label\n",
    "\n",
    "##### False Positive Rate (FPR)\n",
    "$$\\frac{FP}{\\text{n}^o \\text{actual negatives}} = \\frac{FP}{FP + TN}$$\n",
    "\n",
    "- high FPR = more _negative data points missclassified_\n",
    "- proportion of negative data points that are mistakenly considered as positive, with respect to all negative data points\n",
    "\n",
    "##### Receiver Operating Characteristic curve (ROC)\n",
    "Compute _TPR_ and _FPR_ for many different threshold and plot FPR vs. TPR\n",
    "\n",
    "##### In our case\n",
    "We want to optimize our algorithm for the area Under the ROC curve ([wiki](https://en.wikipedia.org/wiki/Receiver_operating_characteristic#Area_under_the_curve), [stackexchange](https://stats.stackexchange.com/a/132832))."
   ]
  },
  {
   "cell_type": "markdown",
   "metadata": {},
   "source": [
    "### 2.b. Pipeline creation"
   ]
  },
  {
   "cell_type": "code",
   "execution_count": 9,
   "metadata": {
    "run_control": {
     "marked": false
    }
   },
   "outputs": [],
   "source": [
    "def get_high_srm_cols(X, srm_idx=srm_idx):\n",
    "    return X[:, srm_idx]"
   ]
  },
  {
   "cell_type": "code",
   "execution_count": 10,
   "metadata": {},
   "outputs": [],
   "source": [
    "from sklearn.base import BaseEstimator, TransformerMixin\n",
    "\n",
    "\n",
    "class CompoundVariable(BaseEstimator, TransformerMixin):\n",
    "    def __init__(self):\n",
    "        pass\n",
    "    \n",
    "    def fit(self, X, y):\n",
    "        self.mu = np.mean(X, axis=0)\n",
    "        self.sigma = np.std(X, axis=0, ddof=1)\n",
    "        self.revert = X[y.ravel() == 0, :].mean(axis=0) > X[y.ravel() == 1, :].mean(axis=0)\n",
    "        return self\n",
    "    \n",
    "    def transform(self, X):\n",
    "        X_copy = X.copy()\n",
    "        # zscore\n",
    "        z = (X_copy - self.mu) / self.sigma\n",
    "        # Revert the z scores for variables whose values decrease with fatigue\n",
    "        z[:, self.revert] = z[:, self.revert] * -1\n",
    "        X_copy = np.c_[X_copy, np.sum(z, axis=1)]\n",
    "        return X_copy"
   ]
  },
  {
   "cell_type": "code",
   "execution_count": 11,
   "metadata": {
    "run_control": {
     "marked": false
    }
   },
   "outputs": [],
   "source": [
    "from sklearn.pipeline import Pipeline\n",
    "from sklearn.preprocessing import FunctionTransformer\n",
    "\n",
    "from sklearn.preprocessing import StandardScaler\n",
    "from sklearn.preprocessing import PolynomialFeatures\n",
    "\n",
    "\n",
    "pipeline_preprocessing = Pipeline([\n",
    "    ('selecthighsrm', FunctionTransformer(get_high_srm_cols, validate=False)),\n",
    "    ('compoundvariable', CompoundVariable()),\n",
    "    ('scale', StandardScaler()),\n",
    "    ('polyfeatures', PolynomialFeatures(degree=2))\n",
    "])"
   ]
  },
  {
   "cell_type": "code",
   "execution_count": 12,
   "metadata": {
    "run_control": {
     "marked": false
    }
   },
   "outputs": [],
   "source": [
    "from sklearn.model_selection import GridSearchCV\n",
    "import pprint\n",
    "\n",
    "\n",
    "class GridSearchWrapper:\n",
    "    def __init__(self, base_pipeline, model, param_grid, scoring):\n",
    "        self.base_pipeline = base_pipeline\n",
    "        self.model = model\n",
    "        self.param_grid = param_grid\n",
    "        self.scoring = scoring\n",
    "    \n",
    "    def fit(self, X, y):\n",
    "        pipeline = Pipeline([\n",
    "            ('preprocessing', self.base_pipeline),\n",
    "            ('classifier', self.model)\n",
    "        ])\n",
    "        \n",
    "        self.grid_search = GridSearchCV(pipeline,\n",
    "                                        self.param_grid,\n",
    "                                        scoring=self.scoring,\n",
    "                                        cv=5,\n",
    "                                        n_jobs=-1,\n",
    "                                        verbose=1)\n",
    "        self.grid_search.fit(X, y)\n",
    "    \n",
    "    def print_scores(self):\n",
    "        print(f'best score ({self.scoring}): {self.grid_search.best_score_:.3f}')\n",
    "        print('\\nbest params:')\n",
    "        pprint.pprint(self.grid_search.best_params_)\n",
    "        \n",
    "    def save(self, path, name):\n",
    "        joblib.dump(self.grid_search.best_estimator_, path / f'{self.grid_search.best_score_:.3f}_{name}.pkl')"
   ]
  },
  {
   "cell_type": "code",
   "execution_count": 13,
   "metadata": {
    "run_control": {
     "marked": false
    }
   },
   "outputs": [],
   "source": [
    "# param_grid = {\n",
    "#     'preprocessing__selecthighsrm': [None, FunctionTransformer(get_high_srm_cols, validate=False)],\n",
    "#     'preprocessing__compoundvariable': [None, CompoundVariable()],\n",
    "#     'preprocessing__polyfeatures': [None, PolynomialFeatures(degree=2)],\n",
    "#     'preprocessing__scale': [None, StandardScaler()]\n",
    "# }\n",
    "\n",
    "param_grid = {\n",
    "    'preprocessing__selecthighsrm': [None, FunctionTransformer(get_high_srm_cols, validate=False)],\n",
    "    'preprocessing__compoundvariable': [CompoundVariable()],\n",
    "    'preprocessing__polyfeatures': [None],\n",
    "    'preprocessing__scale': [None, StandardScaler()]\n",
    "}\n",
    "\n",
    "scoring = 'roc_auc'\n",
    "model = {}"
   ]
  },
  {
   "cell_type": "markdown",
   "metadata": {},
   "source": [
    "## 4. Optimization"
   ]
  },
  {
   "cell_type": "code",
   "execution_count": 14,
   "metadata": {},
   "outputs": [],
   "source": [
    "from sklearn.externals import joblib\n",
    "OPT_PATH = PROJECT_PATH / 'opt'"
   ]
  },
  {
   "cell_type": "markdown",
   "metadata": {},
   "source": [
    "### 4.a. Gradient boosting"
   ]
  },
  {
   "cell_type": "code",
   "execution_count": 15,
   "metadata": {
    "run_control": {
     "marked": false
    }
   },
   "outputs": [
    {
     "name": "stdout",
     "output_type": "stream",
     "text": [
      "Fitting 5 folds for each of 4 candidates, totalling 20 fits\n"
     ]
    },
    {
     "name": "stderr",
     "output_type": "stream",
     "text": [
      "[Parallel(n_jobs=-1)]: Done   5 out of  20 | elapsed:    0.1s remaining:    0.3s\n",
      "[Parallel(n_jobs=-1)]: Done  20 out of  20 | elapsed:    0.3s finished\n"
     ]
    }
   ],
   "source": [
    "from sklearn.ensemble import GradientBoostingClassifier\n",
    "\n",
    "grad_param = {\n",
    "    'learning_rate': 0.001,\n",
    "    'max_depth': 1,\n",
    "    'max_features': 0.75,\n",
    "    'min_samples_leaf': 7,\n",
    "    'min_samples_split': 16,\n",
    "    'n_estimators': 100,\n",
    "    'subsample': 0.3,\n",
    "    'random_state': RANDOM_SEED\n",
    "}\n",
    "\n",
    "wrapper = GridSearchWrapper(\n",
    "    base_pipeline=pipeline_preprocessing,\n",
    "    model=GradientBoostingClassifier(**grad_param),\n",
    "    param_grid=param_grid,\n",
    "    scoring=scoring)\n",
    "\n",
    "wrapper.fit(X_train, y_train.ravel())"
   ]
  },
  {
   "cell_type": "code",
   "execution_count": 16,
   "metadata": {
    "run_control": {
     "marked": false
    }
   },
   "outputs": [
    {
     "name": "stdout",
     "output_type": "stream",
     "text": [
      "best score (roc_auc): 0.911\n",
      "\n",
      "best params:\n",
      "{'preprocessing__compoundvariable': CompoundVariable(),\n",
      " 'preprocessing__polyfeatures': None,\n",
      " 'preprocessing__scale': None,\n",
      " 'preprocessing__selecthighsrm': FunctionTransformer(accept_sparse=False,\n",
      "          func=<function get_high_srm_cols at 0x7f3b186009d8>,\n",
      "          inv_kw_args=None, inverse_func=None, kw_args=None,\n",
      "          pass_y='deprecated', validate=False)}\n"
     ]
    }
   ],
   "source": [
    "wrapper.print_scores()\n",
    "model['gradboost'] = wrapper.grid_search.best_estimator_\n",
    "wrapper.save(path=OPT_PATH, name='gradient-boosting')"
   ]
  },
  {
   "cell_type": "markdown",
   "metadata": {},
   "source": [
    "### 4.b. XGBoost"
   ]
  },
  {
   "cell_type": "code",
   "execution_count": 17,
   "metadata": {
    "run_control": {
     "marked": false
    }
   },
   "outputs": [
    {
     "name": "stdout",
     "output_type": "stream",
     "text": [
      "Fitting 5 folds for each of 4 candidates, totalling 20 fits\n"
     ]
    },
    {
     "name": "stderr",
     "output_type": "stream",
     "text": [
      "[Parallel(n_jobs=-1)]: Done   5 out of  20 | elapsed:    0.1s remaining:    0.3s\n",
      "[Parallel(n_jobs=-1)]: Done  20 out of  20 | elapsed:    0.3s finished\n"
     ]
    }
   ],
   "source": [
    "from xgboost import XGBClassifier\n",
    "\n",
    "xgboost_param = {\n",
    "    'learning_rate': 0.06,\n",
    "    'max_depth': 4,\n",
    "    'max_features': 0.75,\n",
    "    'min_samples_leaf': 7,\n",
    "    'min_samples_split': 16,\n",
    "    'min_child_weight': 1,\n",
    "    'colsample_bytree': 0.7,\n",
    "    'n_estimators': 120,\n",
    "    'subsample': 0.9,\n",
    "    'reg_lambda': 0.7,\n",
    "    'reg_alpha': 0.5,\n",
    "    'gamma': 0.2,\n",
    "    'random_state': RANDOM_SEED,\n",
    "    'silent': False\n",
    "}\n",
    "\n",
    "warnings.simplefilter('ignore')\n",
    "wrapper = GridSearchWrapper(\n",
    "    base_pipeline=pipeline_preprocessing,\n",
    "    model=XGBClassifier(**xgboost_param),\n",
    "    param_grid=param_grid,\n",
    "    scoring=scoring)\n",
    "\n",
    "wrapper.fit(X_train, y_train.ravel())\n",
    "warnings.simplefilter('default')"
   ]
  },
  {
   "cell_type": "code",
   "execution_count": 18,
   "metadata": {
    "run_control": {
     "marked": false
    }
   },
   "outputs": [
    {
     "name": "stdout",
     "output_type": "stream",
     "text": [
      "best score (roc_auc): 0.897\n",
      "\n",
      "best params:\n",
      "{'preprocessing__compoundvariable': CompoundVariable(),\n",
      " 'preprocessing__polyfeatures': None,\n",
      " 'preprocessing__scale': None,\n",
      " 'preprocessing__selecthighsrm': FunctionTransformer(accept_sparse=False,\n",
      "          func=<function get_high_srm_cols at 0x7f3b186009d8>,\n",
      "          inv_kw_args=None, inverse_func=None, kw_args=None,\n",
      "          pass_y='deprecated', validate=False)}\n"
     ]
    }
   ],
   "source": [
    "wrapper.print_scores()\n",
    "model['xgboost'] = wrapper.grid_search.best_estimator_\n",
    "wrapper.save(path=OPT_PATH, name='xgboost')"
   ]
  },
  {
   "cell_type": "markdown",
   "metadata": {},
   "source": [
    "### 4.c. Ensemble learning"
   ]
  },
  {
   "cell_type": "code",
   "execution_count": 19,
   "metadata": {},
   "outputs": [
    {
     "name": "stdout",
     "output_type": "stream",
     "text": [
      "Fitting 5 folds for each of 4 candidates, totalling 20 fits\n"
     ]
    },
    {
     "name": "stderr",
     "output_type": "stream",
     "text": [
      "/home/romain/.local/share/virtualenvs/fatigue-WgHAVgza/lib/python3.6/importlib/_bootstrap.py:219: ImportWarning:\n",
      "\n",
      "can't resolve package from __spec__ or __package__, falling back on __name__ and __path__\n",
      "\n",
      "[Parallel(n_jobs=-1)]: Done  20 out of  20 | elapsed:    1.3s finished\n"
     ]
    }
   ],
   "source": [
    "from sklearn.linear_model import LogisticRegression\n",
    "from sklearn.naive_bayes import GaussianNB\n",
    "from sklearn.ensemble import GradientBoostingClassifier, RandomForestClassifier, AdaBoostClassifier\n",
    "from sklearn.ensemble import VotingClassifier\n",
    "from xgboost import XGBClassifier\n",
    "\n",
    "# classifiers = [('lr', LogisticRegression(random_state=RANDOM_SEED)),\n",
    "#                ('naive', GaussianNB()),\n",
    "# #                ('forest', RandomForestClassifier(random_state=RANDOM_SEED)),\n",
    "#                ('gradient', GradientBoostingClassifier(random_state=RANDOM_SEED)),\n",
    "# #                ('xgboost', XGBClassifier(random_state=RANDOM_SEED))\n",
    "#                ('adaboost', AdaBoostClassifier(n_estimators=100))\n",
    "#               ]\n",
    "\n",
    "from sklearn.linear_model import LogisticRegression\n",
    "from sklearn.neighbors import KNeighborsClassifier\n",
    "\n",
    "classifiers = [\n",
    "    ('logistic', LogisticRegression(random_state=RANDOM_SEED)),\n",
    "    ('neighbors', KNeighborsClassifier()),\n",
    "    ('naive', GaussianNB()),\n",
    "    ('random-forest', RandomForestClassifier(n_estimators=160, max_features=0.5, oob_score=True, random_state=RANDOM_SEED)),\n",
    "    ('gradient-boost', GradientBoostingClassifier(**grad_param)),\n",
    "    ('xgboost', XGBClassifier(**xgboost_param))\n",
    "]\n",
    "\n",
    "clf = VotingClassifier(\n",
    "    estimators=classifiers, voting='soft', weights=[1, 1, 1, 5, 2, 2])\n",
    "\n",
    "warnings.simplefilter('ignore')\n",
    "wrapper = GridSearchWrapper(\n",
    "    base_pipeline=pipeline_preprocessing,\n",
    "    model=clf,\n",
    "    param_grid=param_grid,\n",
    "    scoring=scoring)\n",
    "\n",
    "wrapper.fit(X_train, y_train.ravel())\n",
    "warnings.simplefilter('default')"
   ]
  },
  {
   "cell_type": "code",
   "execution_count": 20,
   "metadata": {},
   "outputs": [
    {
     "name": "stdout",
     "output_type": "stream",
     "text": [
      "best score (roc_auc): 0.891\n",
      "\n",
      "best params:\n",
      "{'preprocessing__compoundvariable': CompoundVariable(),\n",
      " 'preprocessing__polyfeatures': None,\n",
      " 'preprocessing__scale': None,\n",
      " 'preprocessing__selecthighsrm': FunctionTransformer(accept_sparse=False,\n",
      "          func=<function get_high_srm_cols at 0x7f3b186009d8>,\n",
      "          inv_kw_args=None, inverse_func=None, kw_args=None,\n",
      "          pass_y='deprecated', validate=False)}\n"
     ]
    }
   ],
   "source": [
    "wrapper.print_scores()\n",
    "model['ensemble'] = wrapper.grid_search.best_estimator_\n",
    "wrapper.save(path=OPT_PATH, name='ensemble')"
   ]
  },
  {
   "cell_type": "markdown",
   "metadata": {},
   "source": [
    "## 5. Diagnostic"
   ]
  },
  {
   "cell_type": "code",
   "execution_count": 21,
   "metadata": {},
   "outputs": [],
   "source": [
    "from sklearn.model_selection import cross_val_predict\n",
    "\n",
    "# final_model = model['gradboost']\n",
    "# final_model = model['xgboost']\n",
    "final_model = model['ensemble']\n",
    "\n",
    "warnings.simplefilter('ignore')\n",
    "cv_predict_proba = cross_val_predict(\n",
    "    final_model, X_train, y_train.ravel(), cv=5, method='predict_proba')\n",
    "\n",
    "cv_predict = cross_val_predict(\n",
    "    final_model, X_train, y_train.ravel(), cv=5, method='predict')\n",
    "warnings.simplefilter('default')"
   ]
  },
  {
   "cell_type": "markdown",
   "metadata": {},
   "source": [
    "### 5.a. Feature importances"
   ]
  },
  {
   "cell_type": "code",
   "execution_count": 22,
   "metadata": {},
   "outputs": [],
   "source": [
    "def plot_feature_importances(importances, col_names):\n",
    "    # sort feature\n",
    "    indices = np.argsort(importances)\n",
    "\n",
    "    trace = go.Bar(\n",
    "        x=importances[indices],\n",
    "        y=col_names[indices],\n",
    "        marker=dict(color='red'),\n",
    "        orientation='h',\n",
    "        opacity=0.5)\n",
    "\n",
    "    layout = base_layout.copy()\n",
    "    layout.update(\n",
    "        dict(\n",
    "            title='Feature importances',\n",
    "            xaxis=dict(\n",
    "                title='Feature importances (%)', showline=True, linewidth=1.5),\n",
    "            yaxis=dict(showline=True, linewidth=1.5)))\n",
    "\n",
    "    # adjust y axis\n",
    "    layout['yaxis'].update(nticks=importances.shape[0])\n",
    "    layout.update(margin=go.Margin(t=80, b=80, l=150, r=80, pad=0))\n",
    "\n",
    "    fig = dict(data=[trace], layout=layout)\n",
    "    return fig"
   ]
  },
  {
   "cell_type": "code",
   "execution_count": 23,
   "metadata": {},
   "outputs": [
    {
     "ename": "AttributeError",
     "evalue": "'VotingClassifier' object has no attribute 'feature_importances_'",
     "output_type": "error",
     "traceback": [
      "\u001b[0;31m---------------------------------------------------------------------------\u001b[0m",
      "\u001b[0;31mAttributeError\u001b[0m                            Traceback (most recent call last)",
      "\u001b[0;32m<ipython-input-23-b9bdb0a28973>\u001b[0m in \u001b[0;36m<module>\u001b[0;34m()\u001b[0m\n\u001b[1;32m      2\u001b[0m \u001b[0mfeature_names\u001b[0m \u001b[0;34m=\u001b[0m \u001b[0mnp\u001b[0m\u001b[0;34m.\u001b[0m\u001b[0mappend\u001b[0m\u001b[0;34m(\u001b[0m\u001b[0mfeature_names\u001b[0m\u001b[0;34m,\u001b[0m \u001b[0;34m'compound'\u001b[0m\u001b[0;34m)\u001b[0m\u001b[0;34m\u001b[0m\u001b[0m\n\u001b[1;32m      3\u001b[0m \u001b[0;34m\u001b[0m\u001b[0m\n\u001b[0;32m----> 4\u001b[0;31m \u001b[0mimportances\u001b[0m \u001b[0;34m=\u001b[0m \u001b[0mfinal_model\u001b[0m\u001b[0;34m.\u001b[0m\u001b[0mnamed_steps\u001b[0m\u001b[0;34m[\u001b[0m\u001b[0;34m'classifier'\u001b[0m\u001b[0;34m]\u001b[0m\u001b[0;34m.\u001b[0m\u001b[0mfeature_importances_\u001b[0m\u001b[0;34m\u001b[0m\u001b[0m\n\u001b[0m\u001b[1;32m      5\u001b[0m \u001b[0;34m\u001b[0m\u001b[0m\n\u001b[1;32m      6\u001b[0m \u001b[0mf\u001b[0m \u001b[0;34m=\u001b[0m \u001b[0mplot_feature_importances\u001b[0m\u001b[0;34m(\u001b[0m\u001b[0mimportances\u001b[0m\u001b[0;34m,\u001b[0m \u001b[0mfeature_names\u001b[0m\u001b[0;34m)\u001b[0m\u001b[0;34m\u001b[0m\u001b[0m\n",
      "\u001b[0;31mAttributeError\u001b[0m: 'VotingClassifier' object has no attribute 'feature_importances_'"
     ]
    }
   ],
   "source": [
    "feature_names = col_names.copy()\n",
    "feature_names = np.append(feature_names, 'compound')\n",
    "\n",
    "importances = final_model.named_steps['classifier'].feature_importances_\n",
    "\n",
    "f = plot_feature_importances(importances, feature_names)\n",
    "py.iplot(f, filename='fatigue/feature_importances')"
   ]
  },
  {
   "cell_type": "markdown",
   "metadata": {},
   "source": [
    "### 5.b. Learning curves"
   ]
  },
  {
   "cell_type": "code",
   "execution_count": 24,
   "metadata": {},
   "outputs": [],
   "source": [
    "from sklearn.model_selection import learning_curve\n",
    "\n",
    "\n",
    "def plot_learning_curve(\n",
    "        estimator,\n",
    "        X,\n",
    "        y,\n",
    "        scoring='roc_auc',\n",
    "        cv=None,\n",
    "        n_jobs=1,\n",
    "        train_sizes=np.linspace(.1, 1.0, 5),\n",
    "):\n",
    "    warnings.simplefilter('ignore')  # ignore scikit-learn warnings\n",
    "    train_sizes, train_scores, test_scores = learning_curve(\n",
    "        estimator,\n",
    "        X,\n",
    "        y,\n",
    "        scoring=scoring,\n",
    "        cv=cv,\n",
    "        n_jobs=n_jobs,\n",
    "        train_sizes=train_sizes)\n",
    "    warnings.simplefilter('default')\n",
    "\n",
    "    train_scores_mean = np.mean(train_scores, axis=1)\n",
    "    train_scores_std = np.std(train_scores, axis=1)\n",
    "\n",
    "    test_scores_mean = np.mean(test_scores, axis=1)\n",
    "    test_scores_std = np.std(test_scores, axis=1)\n",
    "\n",
    "    trace = []\n",
    "\n",
    "    # training mean\n",
    "    trace.append(\n",
    "        go.Scatter(\n",
    "            x=train_sizes,\n",
    "            y=train_scores_mean,\n",
    "            marker=dict(color='red'),\n",
    "            name='Training score'))\n",
    "\n",
    "    # training std\n",
    "    trace.append(\n",
    "        go.Scatter(\n",
    "            x=train_sizes,\n",
    "            y=train_scores_mean + train_scores_std,\n",
    "            mode='lines',\n",
    "            line=dict(color='red', width=1),\n",
    "            showlegend=False))\n",
    "\n",
    "    trace.append(\n",
    "        go.Scatter(\n",
    "            x=train_sizes,\n",
    "            y=train_scores_mean - train_scores_std,\n",
    "            mode='lines',\n",
    "            line=dict(color='red', width=1),\n",
    "            fill='tonexty',\n",
    "            showlegend=False))\n",
    "\n",
    "    # test mean\n",
    "    trace.append(\n",
    "        go.Scatter(\n",
    "            x=train_sizes,\n",
    "            y=test_scores_mean,\n",
    "            marker=dict(color='green'),\n",
    "            name='Cross-validation score'))\n",
    "\n",
    "    # test std\n",
    "    trace.append(\n",
    "        go.Scatter(\n",
    "            x=train_sizes,\n",
    "            y=test_scores_mean + test_scores_std,\n",
    "            mode='lines',\n",
    "            line=dict(color='green', width=1),\n",
    "            showlegend=False))\n",
    "\n",
    "    trace.append(\n",
    "        go.Scatter(\n",
    "            x=train_sizes,\n",
    "            y=test_scores_mean - test_scores_std,\n",
    "            mode='lines',\n",
    "            line=dict(color='green', width=1),\n",
    "            fill='tonexty',\n",
    "            showlegend=False))\n",
    "\n",
    "    data = [itrace for itrace in trace]\n",
    "    layout = base_layout.copy()\n",
    "    layout.update(\n",
    "        dict(\n",
    "            title='Learning curves',\n",
    "            xaxis=dict(\n",
    "                title='Training examples', showline=True, linewidth=1.5),\n",
    "            yaxis=dict(title='Score (ROC AUC)', showline=True, linewidth=1.5)))\n",
    "    fig = dict(data=data, layout=layout)\n",
    "    return fig"
   ]
  },
  {
   "cell_type": "code",
   "execution_count": 25,
   "metadata": {},
   "outputs": [
    {
     "data": {
      "application/vnd.plotly.v1+json": {
       "data": [
        {
         "marker": {
          "color": "red"
         },
         "name": "Training score",
         "type": "scatter",
         "x": [
          10,
          20,
          30,
          41,
          51,
          61,
          72,
          82,
          92,
          103
         ],
         "y": [
          1,
          1,
          0.9955233785822022,
          0.9975196078431372,
          0.9984401031067698,
          0.9974137690266722,
          0.9976794530045305,
          0.9973809523809525,
          0.9976325757575758,
          0.9978129713423831
         ]
        },
        {
         "line": {
          "color": "red",
          "width": 1
         },
         "mode": "lines",
         "showlegend": false,
         "type": "scatter",
         "x": [
          10,
          20,
          30,
          41,
          51,
          61,
          72,
          82,
          92,
          103
         ],
         "y": [
          1,
          1,
          0.9983854396471128,
          0.9990699299562362,
          0.9994163727281471,
          0.9991595117911044,
          0.9993758439841474,
          0.9990896071540962,
          0.9988672731828036,
          0.9991060654750741
         ]
        },
        {
         "fill": "tonexty",
         "line": {
          "color": "red",
          "width": 1
         },
         "mode": "lines",
         "showlegend": false,
         "type": "scatter",
         "x": [
          10,
          20,
          30,
          41,
          51,
          61,
          72,
          82,
          92,
          103
         ],
         "y": [
          1,
          1,
          0.9926613175172916,
          0.9959692857300382,
          0.9974638334853925,
          0.99566802626224,
          0.9959830620249137,
          0.9956722976078087,
          0.996397878332348,
          0.9965198772096922
         ]
        },
        {
         "marker": {
          "color": "green"
         },
         "name": "Cross-validation score",
         "type": "scatter",
         "x": [
          10,
          20,
          30,
          41,
          51,
          61,
          72,
          82,
          92,
          103
         ],
         "y": [
          0.8425049309664694,
          0.8547337278106509,
          0.8586785009861935,
          0.8724852071005916,
          0.8819526627218934,
          0.8772189349112427,
          0.8785996055226825,
          0.8880670611439843,
          0.880966469428008,
          0.8878698224852071
         ]
        },
        {
         "line": {
          "color": "green",
          "width": 1
         },
         "mode": "lines",
         "showlegend": false,
         "type": "scatter",
         "x": [
          10,
          20,
          30,
          41,
          51,
          61,
          72,
          82,
          92,
          103
         ],
         "y": [
          0.9245498119942892,
          0.9224095854551861,
          0.9388964601248782,
          0.9493877988198816,
          0.9555993170779449,
          0.9434144738472003,
          0.9366363896067518,
          0.9425866950209654,
          0.9454755732466871,
          0.9458489305811074
         ]
        },
        {
         "fill": "tonexty",
         "line": {
          "color": "green",
          "width": 1
         },
         "mode": "lines",
         "showlegend": false,
         "type": "scatter",
         "x": [
          10,
          20,
          30,
          41,
          51,
          61,
          72,
          82,
          92,
          103
         ],
         "y": [
          0.7604600499386496,
          0.7870578701661157,
          0.7784605418475088,
          0.7955826153813017,
          0.808306008365842,
          0.811023395975285,
          0.8205628214386131,
          0.8335474272670031,
          0.816457365609329,
          0.8298907143893067
         ]
        }
       ],
       "layout": {
        "font": {
         "size": 14
        },
        "hovermode": "closest",
        "title": "Learning curves",
        "xaxis": {
         "linewidth": 1.5,
         "showline": true,
         "title": "Training examples"
        },
        "yaxis": {
         "linewidth": 1.5,
         "showline": true,
         "title": "Score (ROC AUC)"
        }
       }
      },
      "text/html": [
       "<div id=\"8afc20a4-995e-4391-a020-526979d56e00\" style=\"height: 525px; width: 100%;\" class=\"plotly-graph-div\"></div><script type=\"text/javascript\">require([\"plotly\"], function(Plotly) { window.PLOTLYENV=window.PLOTLYENV || {};window.PLOTLYENV.BASE_URL=\"https://plot.ly\";Plotly.newPlot(\"8afc20a4-995e-4391-a020-526979d56e00\", [{\"type\": \"scatter\", \"x\": [10, 20, 30, 41, 51, 61, 72, 82, 92, 103], \"y\": [1.0, 1.0, 0.9955233785822022, 0.9975196078431372, 0.9984401031067698, 0.9974137690266722, 0.9976794530045305, 0.9973809523809525, 0.9976325757575758, 0.9978129713423831], \"marker\": {\"color\": \"red\"}, \"name\": \"Training score\"}, {\"type\": \"scatter\", \"x\": [10, 20, 30, 41, 51, 61, 72, 82, 92, 103], \"y\": [1.0, 1.0, 0.9983854396471128, 0.9990699299562362, 0.9994163727281471, 0.9991595117911044, 0.9993758439841474, 0.9990896071540962, 0.9988672731828036, 0.9991060654750741], \"mode\": \"lines\", \"line\": {\"color\": \"red\", \"width\": 1}, \"showlegend\": false}, {\"type\": \"scatter\", \"x\": [10, 20, 30, 41, 51, 61, 72, 82, 92, 103], \"y\": [1.0, 1.0, 0.9926613175172916, 0.9959692857300382, 0.9974638334853925, 0.99566802626224, 0.9959830620249137, 0.9956722976078087, 0.996397878332348, 0.9965198772096922], \"mode\": \"lines\", \"line\": {\"color\": \"red\", \"width\": 1}, \"fill\": \"tonexty\", \"showlegend\": false}, {\"type\": \"scatter\", \"x\": [10, 20, 30, 41, 51, 61, 72, 82, 92, 103], \"y\": [0.8425049309664694, 0.8547337278106509, 0.8586785009861935, 0.8724852071005916, 0.8819526627218934, 0.8772189349112427, 0.8785996055226825, 0.8880670611439843, 0.880966469428008, 0.8878698224852071], \"marker\": {\"color\": \"green\"}, \"name\": \"Cross-validation score\"}, {\"type\": \"scatter\", \"x\": [10, 20, 30, 41, 51, 61, 72, 82, 92, 103], \"y\": [0.9245498119942892, 0.9224095854551861, 0.9388964601248782, 0.9493877988198816, 0.9555993170779449, 0.9434144738472003, 0.9366363896067518, 0.9425866950209654, 0.9454755732466871, 0.9458489305811074], \"mode\": \"lines\", \"line\": {\"color\": \"green\", \"width\": 1}, \"showlegend\": false}, {\"type\": \"scatter\", \"x\": [10, 20, 30, 41, 51, 61, 72, 82, 92, 103], \"y\": [0.7604600499386496, 0.7870578701661157, 0.7784605418475088, 0.7955826153813017, 0.808306008365842, 0.811023395975285, 0.8205628214386131, 0.8335474272670031, 0.816457365609329, 0.8298907143893067], \"mode\": \"lines\", \"line\": {\"color\": \"green\", \"width\": 1}, \"fill\": \"tonexty\", \"showlegend\": false}], {\"hovermode\": \"closest\", \"font\": {\"size\": 14}, \"title\": \"Learning curves\", \"xaxis\": {\"title\": \"Training examples\", \"showline\": true, \"linewidth\": 1.5}, \"yaxis\": {\"title\": \"Score (ROC AUC)\", \"showline\": true, \"linewidth\": 1.5}}, {\"showLink\": true, \"linkText\": \"Export to plot.ly\"})});</script>"
      ],
      "text/vnd.plotly.v1+html": [
       "<div id=\"8afc20a4-995e-4391-a020-526979d56e00\" style=\"height: 525px; width: 100%;\" class=\"plotly-graph-div\"></div><script type=\"text/javascript\">require([\"plotly\"], function(Plotly) { window.PLOTLYENV=window.PLOTLYENV || {};window.PLOTLYENV.BASE_URL=\"https://plot.ly\";Plotly.newPlot(\"8afc20a4-995e-4391-a020-526979d56e00\", [{\"type\": \"scatter\", \"x\": [10, 20, 30, 41, 51, 61, 72, 82, 92, 103], \"y\": [1.0, 1.0, 0.9955233785822022, 0.9975196078431372, 0.9984401031067698, 0.9974137690266722, 0.9976794530045305, 0.9973809523809525, 0.9976325757575758, 0.9978129713423831], \"marker\": {\"color\": \"red\"}, \"name\": \"Training score\"}, {\"type\": \"scatter\", \"x\": [10, 20, 30, 41, 51, 61, 72, 82, 92, 103], \"y\": [1.0, 1.0, 0.9983854396471128, 0.9990699299562362, 0.9994163727281471, 0.9991595117911044, 0.9993758439841474, 0.9990896071540962, 0.9988672731828036, 0.9991060654750741], \"mode\": \"lines\", \"line\": {\"color\": \"red\", \"width\": 1}, \"showlegend\": false}, {\"type\": \"scatter\", \"x\": [10, 20, 30, 41, 51, 61, 72, 82, 92, 103], \"y\": [1.0, 1.0, 0.9926613175172916, 0.9959692857300382, 0.9974638334853925, 0.99566802626224, 0.9959830620249137, 0.9956722976078087, 0.996397878332348, 0.9965198772096922], \"mode\": \"lines\", \"line\": {\"color\": \"red\", \"width\": 1}, \"fill\": \"tonexty\", \"showlegend\": false}, {\"type\": \"scatter\", \"x\": [10, 20, 30, 41, 51, 61, 72, 82, 92, 103], \"y\": [0.8425049309664694, 0.8547337278106509, 0.8586785009861935, 0.8724852071005916, 0.8819526627218934, 0.8772189349112427, 0.8785996055226825, 0.8880670611439843, 0.880966469428008, 0.8878698224852071], \"marker\": {\"color\": \"green\"}, \"name\": \"Cross-validation score\"}, {\"type\": \"scatter\", \"x\": [10, 20, 30, 41, 51, 61, 72, 82, 92, 103], \"y\": [0.9245498119942892, 0.9224095854551861, 0.9388964601248782, 0.9493877988198816, 0.9555993170779449, 0.9434144738472003, 0.9366363896067518, 0.9425866950209654, 0.9454755732466871, 0.9458489305811074], \"mode\": \"lines\", \"line\": {\"color\": \"green\", \"width\": 1}, \"showlegend\": false}, {\"type\": \"scatter\", \"x\": [10, 20, 30, 41, 51, 61, 72, 82, 92, 103], \"y\": [0.7604600499386496, 0.7870578701661157, 0.7784605418475088, 0.7955826153813017, 0.808306008365842, 0.811023395975285, 0.8205628214386131, 0.8335474272670031, 0.816457365609329, 0.8298907143893067], \"mode\": \"lines\", \"line\": {\"color\": \"green\", \"width\": 1}, \"fill\": \"tonexty\", \"showlegend\": false}], {\"hovermode\": \"closest\", \"font\": {\"size\": 14}, \"title\": \"Learning curves\", \"xaxis\": {\"title\": \"Training examples\", \"showline\": true, \"linewidth\": 1.5}, \"yaxis\": {\"title\": \"Score (ROC AUC)\", \"showline\": true, \"linewidth\": 1.5}}, {\"showLink\": true, \"linkText\": \"Export to plot.ly\"})});</script>"
      ]
     },
     "metadata": {},
     "output_type": "display_data"
    }
   ],
   "source": [
    "l = plot_learning_curve(\n",
    "    estimator=final_model,\n",
    "    X=X_train,\n",
    "    y=y_train.ravel(),\n",
    "    scoring=scoring,\n",
    "    cv=5,\n",
    "    train_sizes=np.linspace(.1, 1.0, 10))\n",
    "py.iplot(l, filename='fatigue/learning_curve')"
   ]
  },
  {
   "cell_type": "markdown",
   "metadata": {},
   "source": [
    "### 5.c. ROC curves"
   ]
  },
  {
   "cell_type": "code",
   "execution_count": 26,
   "metadata": {},
   "outputs": [],
   "source": [
    "from sklearn.metrics import roc_curve, roc_auc_score\n",
    "\n",
    "\n",
    "def plot_roc_curve(y_true, y_pred):\n",
    "    fpr, tpr, auc_thresholds = roc_curve(y_true, y_pred)\n",
    "    roc_auc = roc_auc_score(y_true, y_pred)\n",
    "\n",
    "    trace_roc = go.Scatter(\n",
    "        x=fpr,\n",
    "        y=tpr,\n",
    "        mode='lines',\n",
    "        line=dict(color='gray'),\n",
    "        name=f'ROC curve (AUC = {roc_auc:.2f})',\n",
    "        fill='tozeroy')\n",
    "\n",
    "    trace_random = go.Scatter(\n",
    "        x=[0, 1],\n",
    "        y=[0, 1],\n",
    "        mode='lines',\n",
    "        line=dict(color='black', dash='dash'),\n",
    "        name='Random')\n",
    "\n",
    "    layout = base_layout.copy()\n",
    "    layout.update(\n",
    "        dict(\n",
    "            title=\n",
    "            f'Receiver operating characteristic curve (roc auc = {roc_auc:.2f})',\n",
    "            xaxis=dict(\n",
    "                title='False positive rate', showline=True, linewidth=1.5),\n",
    "            yaxis=dict(\n",
    "                title='True positive rate',\n",
    "                showline=True,\n",
    "                linewidth=1.5,\n",
    "                zeroline=False)))\n",
    "    fig = dict(data=[trace_roc, trace_random], layout=layout)\n",
    "    return fig"
   ]
  },
  {
   "cell_type": "code",
   "execution_count": 27,
   "metadata": {},
   "outputs": [
    {
     "data": {
      "application/vnd.plotly.v1+json": {
       "data": [
        {
         "fill": "tozeroy",
         "line": {
          "color": "gray"
         },
         "mode": "lines",
         "name": "ROC curve (AUC = 0.88)",
         "type": "scatter",
         "x": [
          0,
          0,
          0.015625,
          0.015625,
          0.03125,
          0.03125,
          0.046875,
          0.046875,
          0.0625,
          0.0625,
          0.078125,
          0.078125,
          0.09375,
          0.09375,
          0.109375,
          0.109375,
          0.125,
          0.125,
          0.15625,
          0.15625,
          0.203125,
          0.203125,
          0.234375,
          0.234375,
          0.28125,
          0.28125,
          0.296875,
          0.296875,
          0.578125,
          0.578125,
          0.640625,
          0.640625,
          0.8125,
          0.8125,
          0.890625,
          0.890625,
          0.96875,
          0.96875,
          1
         ],
         "y": [
          0.015384615384615385,
          0.4461538461538462,
          0.4461538461538462,
          0.46153846153846156,
          0.46153846153846156,
          0.5230769230769231,
          0.5230769230769231,
          0.5692307692307692,
          0.5692307692307692,
          0.6,
          0.6,
          0.6923076923076923,
          0.6923076923076923,
          0.7230769230769231,
          0.7230769230769231,
          0.7846153846153846,
          0.7846153846153846,
          0.8153846153846154,
          0.8153846153846154,
          0.8307692307692308,
          0.8307692307692308,
          0.8615384615384616,
          0.8615384615384616,
          0.8769230769230769,
          0.8769230769230769,
          0.8923076923076924,
          0.8923076923076924,
          0.9076923076923077,
          0.9076923076923077,
          0.9230769230769231,
          0.9230769230769231,
          0.9538461538461539,
          0.9538461538461539,
          0.9692307692307692,
          0.9692307692307692,
          0.9846153846153847,
          0.9846153846153847,
          1,
          1
         ]
        },
        {
         "line": {
          "color": "black",
          "dash": "dash"
         },
         "mode": "lines",
         "name": "Random",
         "type": "scatter",
         "x": [
          0,
          1
         ],
         "y": [
          0,
          1
         ]
        }
       ],
       "layout": {
        "font": {
         "size": 14
        },
        "hovermode": "closest",
        "title": "Receiver operating characteristic curve (roc auc = 0.88)",
        "xaxis": {
         "linewidth": 1.5,
         "showline": true,
         "title": "False positive rate"
        },
        "yaxis": {
         "linewidth": 1.5,
         "showline": true,
         "title": "True positive rate",
         "zeroline": false
        }
       }
      },
      "text/html": [
       "<div id=\"b30a589e-6316-439f-9ba9-ba70e42193f6\" style=\"height: 525px; width: 100%;\" class=\"plotly-graph-div\"></div><script type=\"text/javascript\">require([\"plotly\"], function(Plotly) { window.PLOTLYENV=window.PLOTLYENV || {};window.PLOTLYENV.BASE_URL=\"https://plot.ly\";Plotly.newPlot(\"b30a589e-6316-439f-9ba9-ba70e42193f6\", [{\"type\": \"scatter\", \"x\": [0.0, 0.0, 0.015625, 0.015625, 0.03125, 0.03125, 0.046875, 0.046875, 0.0625, 0.0625, 0.078125, 0.078125, 0.09375, 0.09375, 0.109375, 0.109375, 0.125, 0.125, 0.15625, 0.15625, 0.203125, 0.203125, 0.234375, 0.234375, 0.28125, 0.28125, 0.296875, 0.296875, 0.578125, 0.578125, 0.640625, 0.640625, 0.8125, 0.8125, 0.890625, 0.890625, 0.96875, 0.96875, 1.0], \"y\": [0.015384615384615385, 0.4461538461538462, 0.4461538461538462, 0.46153846153846156, 0.46153846153846156, 0.5230769230769231, 0.5230769230769231, 0.5692307692307692, 0.5692307692307692, 0.6, 0.6, 0.6923076923076923, 0.6923076923076923, 0.7230769230769231, 0.7230769230769231, 0.7846153846153846, 0.7846153846153846, 0.8153846153846154, 0.8153846153846154, 0.8307692307692308, 0.8307692307692308, 0.8615384615384616, 0.8615384615384616, 0.8769230769230769, 0.8769230769230769, 0.8923076923076924, 0.8923076923076924, 0.9076923076923077, 0.9076923076923077, 0.9230769230769231, 0.9230769230769231, 0.9538461538461539, 0.9538461538461539, 0.9692307692307692, 0.9692307692307692, 0.9846153846153847, 0.9846153846153847, 1.0, 1.0], \"mode\": \"lines\", \"line\": {\"color\": \"gray\"}, \"name\": \"ROC curve (AUC = 0.88)\", \"fill\": \"tozeroy\"}, {\"type\": \"scatter\", \"x\": [0, 1], \"y\": [0, 1], \"mode\": \"lines\", \"line\": {\"color\": \"black\", \"dash\": \"dash\"}, \"name\": \"Random\"}], {\"hovermode\": \"closest\", \"font\": {\"size\": 14}, \"title\": \"Receiver operating characteristic curve (roc auc = 0.88)\", \"xaxis\": {\"title\": \"False positive rate\", \"showline\": true, \"linewidth\": 1.5}, \"yaxis\": {\"title\": \"True positive rate\", \"showline\": true, \"linewidth\": 1.5, \"zeroline\": false}}, {\"showLink\": true, \"linkText\": \"Export to plot.ly\"})});</script>"
      ],
      "text/vnd.plotly.v1+html": [
       "<div id=\"b30a589e-6316-439f-9ba9-ba70e42193f6\" style=\"height: 525px; width: 100%;\" class=\"plotly-graph-div\"></div><script type=\"text/javascript\">require([\"plotly\"], function(Plotly) { window.PLOTLYENV=window.PLOTLYENV || {};window.PLOTLYENV.BASE_URL=\"https://plot.ly\";Plotly.newPlot(\"b30a589e-6316-439f-9ba9-ba70e42193f6\", [{\"type\": \"scatter\", \"x\": [0.0, 0.0, 0.015625, 0.015625, 0.03125, 0.03125, 0.046875, 0.046875, 0.0625, 0.0625, 0.078125, 0.078125, 0.09375, 0.09375, 0.109375, 0.109375, 0.125, 0.125, 0.15625, 0.15625, 0.203125, 0.203125, 0.234375, 0.234375, 0.28125, 0.28125, 0.296875, 0.296875, 0.578125, 0.578125, 0.640625, 0.640625, 0.8125, 0.8125, 0.890625, 0.890625, 0.96875, 0.96875, 1.0], \"y\": [0.015384615384615385, 0.4461538461538462, 0.4461538461538462, 0.46153846153846156, 0.46153846153846156, 0.5230769230769231, 0.5230769230769231, 0.5692307692307692, 0.5692307692307692, 0.6, 0.6, 0.6923076923076923, 0.6923076923076923, 0.7230769230769231, 0.7230769230769231, 0.7846153846153846, 0.7846153846153846, 0.8153846153846154, 0.8153846153846154, 0.8307692307692308, 0.8307692307692308, 0.8615384615384616, 0.8615384615384616, 0.8769230769230769, 0.8769230769230769, 0.8923076923076924, 0.8923076923076924, 0.9076923076923077, 0.9076923076923077, 0.9230769230769231, 0.9230769230769231, 0.9538461538461539, 0.9538461538461539, 0.9692307692307692, 0.9692307692307692, 0.9846153846153847, 0.9846153846153847, 1.0, 1.0], \"mode\": \"lines\", \"line\": {\"color\": \"gray\"}, \"name\": \"ROC curve (AUC = 0.88)\", \"fill\": \"tozeroy\"}, {\"type\": \"scatter\", \"x\": [0, 1], \"y\": [0, 1], \"mode\": \"lines\", \"line\": {\"color\": \"black\", \"dash\": \"dash\"}, \"name\": \"Random\"}], {\"hovermode\": \"closest\", \"font\": {\"size\": 14}, \"title\": \"Receiver operating characteristic curve (roc auc = 0.88)\", \"xaxis\": {\"title\": \"False positive rate\", \"showline\": true, \"linewidth\": 1.5}, \"yaxis\": {\"title\": \"True positive rate\", \"showline\": true, \"linewidth\": 1.5, \"zeroline\": false}}, {\"showLink\": true, \"linkText\": \"Export to plot.ly\"})});</script>"
      ]
     },
     "metadata": {},
     "output_type": "display_data"
    }
   ],
   "source": [
    "r = plot_roc_curve(y_train, cv_predict_proba[:, 1])\n",
    "py.iplot(r, filename='fatigue/roc_curve')"
   ]
  },
  {
   "cell_type": "markdown",
   "metadata": {},
   "source": [
    "### 5.d. Precision-recall vs threshold"
   ]
  },
  {
   "cell_type": "code",
   "execution_count": 28,
   "metadata": {},
   "outputs": [],
   "source": [
    "from sklearn.metrics import precision_recall_curve\n",
    "\n",
    "\n",
    "def precision_recall_vs_threshold(y_true, y_pred):\n",
    "    precision, recall, thresholds = precision_recall_curve(y_true, y_pred)\n",
    "\n",
    "    trace_precision = go.Scatter(\n",
    "        x=thresholds,\n",
    "        y=precision[:-1],\n",
    "        mode='lines',\n",
    "        line=dict(color='blue'),\n",
    "        name='Precision')\n",
    "\n",
    "    trace_recall = go.Scatter(\n",
    "        x=thresholds,\n",
    "        y=recall[:-1],\n",
    "        mode='lines',\n",
    "        line=dict(color='green'),\n",
    "        name='Recall')\n",
    "\n",
    "    layout = base_layout.copy()\n",
    "    layout.update(\n",
    "        dict(\n",
    "            title=\n",
    "            'Precision and recall scores as a function of the decision threshold',\n",
    "            xaxis=dict(\n",
    "                title='Decision threshold', showline=True, linewidth=1.5),\n",
    "            yaxis=dict(title='Score', showline=True, linewidth=1.5)))\n",
    "    fig = dict(data=[trace_precision, trace_recall], layout=layout)\n",
    "    return fig"
   ]
  },
  {
   "cell_type": "code",
   "execution_count": 29,
   "metadata": {},
   "outputs": [
    {
     "data": {
      "application/vnd.plotly.v1+json": {
       "data": [
        {
         "line": {
          "color": "blue"
         },
         "mode": "lines",
         "name": "Precision",
         "type": "scatter",
         "x": [
          0.10703373113449087,
          0.10962507975750964,
          0.11723338019249617,
          0.12057663273044751,
          0.1208222602131979,
          0.12411350158174263,
          0.1261032847153963,
          0.13041100974329,
          0.1344122286143852,
          0.1366171535019359,
          0.14024099049809832,
          0.14030875979058077,
          0.14162054472677243,
          0.1468406064625131,
          0.1487856365242561,
          0.14979694252796982,
          0.15090932634913842,
          0.15100502336520086,
          0.1529072745319802,
          0.15443148825858163,
          0.1563186218079646,
          0.1683280140527443,
          0.16906492671352405,
          0.17264842491377017,
          0.17383973300507885,
          0.17517172650811266,
          0.17901976836404787,
          0.17992004115993396,
          0.18610002288584152,
          0.19434153384181188,
          0.1982958109179005,
          0.19962176951041655,
          0.20225371576533413,
          0.20236298163817226,
          0.20450171846513457,
          0.21036837833298663,
          0.22026887197572462,
          0.22519942995580808,
          0.2361542779794219,
          0.23797932859805657,
          0.24305493853604707,
          0.24353113174137306,
          0.2770622468095733,
          0.28182857556479046,
          0.2837095568332622,
          0.2891380407751663,
          0.297293753962482,
          0.308758170234382,
          0.31500967619184467,
          0.31646540026630904,
          0.320035304632478,
          0.320374973052028,
          0.323911003207397,
          0.33081293854394156,
          0.3388024445102758,
          0.34105676563059667,
          0.353211121862892,
          0.3613349988000789,
          0.3816991004179611,
          0.3834977551591556,
          0.40953652773702975,
          0.42897035462353417,
          0.4650255614033414,
          0.48247757212647535,
          0.4936590196751324,
          0.549915744005616,
          0.5509400336922062,
          0.5533514865060735,
          0.5802759054677936,
          0.5925551190328819,
          0.5973682206719997,
          0.6135019003513497,
          0.6176275485079961,
          0.6177569540273385,
          0.6197782996814004,
          0.6300970101915028,
          0.6306286589209932,
          0.6945442200424092,
          0.7011274885340811,
          0.7017031033448515,
          0.7067401825423111,
          0.7192067469742547,
          0.7284585713648942,
          0.7293041017378158,
          0.7341778344513176,
          0.7342964138809939,
          0.7345534921026049,
          0.7433232508338626,
          0.771639853574483,
          0.7725899364855331,
          0.7828576722820685,
          0.7855044225405207,
          0.7908880445630734,
          0.793660610917443,
          0.7975619796356875,
          0.80838021663877,
          0.8207017363922962,
          0.8331729107567671,
          0.8455015075222415,
          0.8522431838283885,
          0.8603499468355956,
          0.8624381173652923,
          0.8634379442991245,
          0.8689550424854975,
          0.8706968413837828,
          0.8738981861090954,
          0.8763739581270805,
          0.8781615924671993,
          0.878255312882692,
          0.880032165886341,
          0.8812677235882839,
          0.8857869977998835,
          0.8880191949627904,
          0.8922476404547841,
          0.8960746391133533,
          0.8997054655996669,
          0.9054837876599279,
          0.9057257026527589,
          0.9128379047350227,
          0.9130006303370853,
          0.9169485901008061,
          0.9177142200570519,
          0.9188748899504566,
          0.9192944553098741,
          0.9201999980524321,
          0.9215180566086975,
          0.9215281526333974
         ],
         "y": [
          0.5118110236220472,
          0.5079365079365079,
          0.512,
          0.5161290322580645,
          0.5203252032520326,
          0.5245901639344263,
          0.5289256198347108,
          0.525,
          0.5294117647058824,
          0.5338983050847458,
          0.5384615384615384,
          0.5431034482758621,
          0.5478260869565217,
          0.543859649122807,
          0.5486725663716814,
          0.5535714285714286,
          0.5585585585585585,
          0.5636363636363636,
          0.5688073394495413,
          0.5740740740740741,
          0.5794392523364486,
          0.5849056603773585,
          0.5904761904761905,
          0.5961538461538461,
          0.6019417475728155,
          0.5980392156862745,
          0.594059405940594,
          0.6,
          0.6060606060606061,
          0.6122448979591837,
          0.6185567010309279,
          0.6145833333333334,
          0.6210526315789474,
          0.6276595744680851,
          0.6344086021505376,
          0.6413043478260869,
          0.6483516483516484,
          0.6555555555555556,
          0.6629213483146067,
          0.6704545454545454,
          0.6781609195402298,
          0.686046511627907,
          0.6941176470588235,
          0.7023809523809523,
          0.7108433734939759,
          0.7195121951219512,
          0.7283950617283951,
          0.7375,
          0.7468354430379747,
          0.7564102564102564,
          0.7532467532467533,
          0.7631578947368421,
          0.76,
          0.7702702702702703,
          0.7808219178082192,
          0.7916666666666666,
          0.7887323943661971,
          0.8,
          0.8115942028985508,
          0.8088235294117647,
          0.8059701492537313,
          0.8181818181818182,
          0.8307692307692308,
          0.84375,
          0.8412698412698413,
          0.8548387096774194,
          0.8688524590163934,
          0.8666666666666667,
          0.864406779661017,
          0.8793103448275862,
          0.8771929824561403,
          0.875,
          0.8727272727272727,
          0.8703703703703703,
          0.8867924528301887,
          0.8846153846153846,
          0.8823529411764706,
          0.9,
          0.8979591836734694,
          0.8958333333333334,
          0.8936170212765957,
          0.8913043478260869,
          0.8888888888888888,
          0.8863636363636364,
          0.9069767441860465,
          0.9047619047619048,
          0.9024390243902439,
          0.925,
          0.9230769230769231,
          0.9210526315789473,
          0.918918918918919,
          0.9444444444444444,
          0.9428571428571428,
          0.9411764705882353,
          0.9393939393939394,
          0.9375,
          0.967741935483871,
          0.9666666666666667,
          1,
          1,
          1,
          1,
          1,
          1,
          1,
          1,
          1,
          1,
          1,
          1,
          1,
          1,
          1,
          1,
          1,
          1,
          1,
          1,
          1,
          1,
          1,
          1,
          1,
          1,
          1,
          1,
          1
         ]
        },
        {
         "line": {
          "color": "green"
         },
         "mode": "lines",
         "name": "Recall",
         "type": "scatter",
         "x": [
          0.10703373113449087,
          0.10962507975750964,
          0.11723338019249617,
          0.12057663273044751,
          0.1208222602131979,
          0.12411350158174263,
          0.1261032847153963,
          0.13041100974329,
          0.1344122286143852,
          0.1366171535019359,
          0.14024099049809832,
          0.14030875979058077,
          0.14162054472677243,
          0.1468406064625131,
          0.1487856365242561,
          0.14979694252796982,
          0.15090932634913842,
          0.15100502336520086,
          0.1529072745319802,
          0.15443148825858163,
          0.1563186218079646,
          0.1683280140527443,
          0.16906492671352405,
          0.17264842491377017,
          0.17383973300507885,
          0.17517172650811266,
          0.17901976836404787,
          0.17992004115993396,
          0.18610002288584152,
          0.19434153384181188,
          0.1982958109179005,
          0.19962176951041655,
          0.20225371576533413,
          0.20236298163817226,
          0.20450171846513457,
          0.21036837833298663,
          0.22026887197572462,
          0.22519942995580808,
          0.2361542779794219,
          0.23797932859805657,
          0.24305493853604707,
          0.24353113174137306,
          0.2770622468095733,
          0.28182857556479046,
          0.2837095568332622,
          0.2891380407751663,
          0.297293753962482,
          0.308758170234382,
          0.31500967619184467,
          0.31646540026630904,
          0.320035304632478,
          0.320374973052028,
          0.323911003207397,
          0.33081293854394156,
          0.3388024445102758,
          0.34105676563059667,
          0.353211121862892,
          0.3613349988000789,
          0.3816991004179611,
          0.3834977551591556,
          0.40953652773702975,
          0.42897035462353417,
          0.4650255614033414,
          0.48247757212647535,
          0.4936590196751324,
          0.549915744005616,
          0.5509400336922062,
          0.5533514865060735,
          0.5802759054677936,
          0.5925551190328819,
          0.5973682206719997,
          0.6135019003513497,
          0.6176275485079961,
          0.6177569540273385,
          0.6197782996814004,
          0.6300970101915028,
          0.6306286589209932,
          0.6945442200424092,
          0.7011274885340811,
          0.7017031033448515,
          0.7067401825423111,
          0.7192067469742547,
          0.7284585713648942,
          0.7293041017378158,
          0.7341778344513176,
          0.7342964138809939,
          0.7345534921026049,
          0.7433232508338626,
          0.771639853574483,
          0.7725899364855331,
          0.7828576722820685,
          0.7855044225405207,
          0.7908880445630734,
          0.793660610917443,
          0.7975619796356875,
          0.80838021663877,
          0.8207017363922962,
          0.8331729107567671,
          0.8455015075222415,
          0.8522431838283885,
          0.8603499468355956,
          0.8624381173652923,
          0.8634379442991245,
          0.8689550424854975,
          0.8706968413837828,
          0.8738981861090954,
          0.8763739581270805,
          0.8781615924671993,
          0.878255312882692,
          0.880032165886341,
          0.8812677235882839,
          0.8857869977998835,
          0.8880191949627904,
          0.8922476404547841,
          0.8960746391133533,
          0.8997054655996669,
          0.9054837876599279,
          0.9057257026527589,
          0.9128379047350227,
          0.9130006303370853,
          0.9169485901008061,
          0.9177142200570519,
          0.9188748899504566,
          0.9192944553098741,
          0.9201999980524321,
          0.9215180566086975,
          0.9215281526333974
         ],
         "y": [
          1,
          0.9846153846153847,
          0.9846153846153847,
          0.9846153846153847,
          0.9846153846153847,
          0.9846153846153847,
          0.9846153846153847,
          0.9692307692307692,
          0.9692307692307692,
          0.9692307692307692,
          0.9692307692307692,
          0.9692307692307692,
          0.9692307692307692,
          0.9538461538461539,
          0.9538461538461539,
          0.9538461538461539,
          0.9538461538461539,
          0.9538461538461539,
          0.9538461538461539,
          0.9538461538461539,
          0.9538461538461539,
          0.9538461538461539,
          0.9538461538461539,
          0.9538461538461539,
          0.9538461538461539,
          0.9384615384615385,
          0.9230769230769231,
          0.9230769230769231,
          0.9230769230769231,
          0.9230769230769231,
          0.9230769230769231,
          0.9076923076923077,
          0.9076923076923077,
          0.9076923076923077,
          0.9076923076923077,
          0.9076923076923077,
          0.9076923076923077,
          0.9076923076923077,
          0.9076923076923077,
          0.9076923076923077,
          0.9076923076923077,
          0.9076923076923077,
          0.9076923076923077,
          0.9076923076923077,
          0.9076923076923077,
          0.9076923076923077,
          0.9076923076923077,
          0.9076923076923077,
          0.9076923076923077,
          0.9076923076923077,
          0.8923076923076924,
          0.8923076923076924,
          0.8769230769230769,
          0.8769230769230769,
          0.8769230769230769,
          0.8769230769230769,
          0.8615384615384616,
          0.8615384615384616,
          0.8615384615384616,
          0.8461538461538461,
          0.8307692307692308,
          0.8307692307692308,
          0.8307692307692308,
          0.8307692307692308,
          0.8153846153846154,
          0.8153846153846154,
          0.8153846153846154,
          0.8,
          0.7846153846153846,
          0.7846153846153846,
          0.7692307692307693,
          0.7538461538461538,
          0.7384615384615385,
          0.7230769230769231,
          0.7230769230769231,
          0.7076923076923077,
          0.6923076923076923,
          0.6923076923076923,
          0.676923076923077,
          0.6615384615384615,
          0.6461538461538462,
          0.6307692307692307,
          0.6153846153846154,
          0.6,
          0.6,
          0.5846153846153846,
          0.5692307692307692,
          0.5692307692307692,
          0.5538461538461539,
          0.5384615384615384,
          0.5230769230769231,
          0.5230769230769231,
          0.5076923076923077,
          0.49230769230769234,
          0.47692307692307695,
          0.46153846153846156,
          0.46153846153846156,
          0.4461538461538462,
          0.4461538461538462,
          0.4307692307692308,
          0.4153846153846154,
          0.4,
          0.38461538461538464,
          0.36923076923076925,
          0.35384615384615387,
          0.3384615384615385,
          0.3230769230769231,
          0.3076923076923077,
          0.2923076923076923,
          0.27692307692307694,
          0.26153846153846155,
          0.24615384615384617,
          0.23076923076923078,
          0.2153846153846154,
          0.2,
          0.18461538461538463,
          0.16923076923076924,
          0.15384615384615385,
          0.13846153846153847,
          0.12307692307692308,
          0.1076923076923077,
          0.09230769230769231,
          0.07692307692307693,
          0.06153846153846154,
          0.046153846153846156,
          0.03076923076923077,
          0.015384615384615385
         ]
        }
       ],
       "layout": {
        "font": {
         "size": 14
        },
        "hovermode": "closest",
        "title": "Precision and recall scores as a function of the decision threshold",
        "xaxis": {
         "linewidth": 1.5,
         "showline": true,
         "title": "Decision threshold"
        },
        "yaxis": {
         "linewidth": 1.5,
         "showline": true,
         "title": "Score"
        }
       }
      },
      "text/html": [
       "<div id=\"d878f538-3983-4afd-9e0d-b2609c640da5\" style=\"height: 525px; width: 100%;\" class=\"plotly-graph-div\"></div><script type=\"text/javascript\">require([\"plotly\"], function(Plotly) { window.PLOTLYENV=window.PLOTLYENV || {};window.PLOTLYENV.BASE_URL=\"https://plot.ly\";Plotly.newPlot(\"d878f538-3983-4afd-9e0d-b2609c640da5\", [{\"type\": \"scatter\", \"x\": [0.10703373113449087, 0.10962507975750964, 0.11723338019249617, 0.12057663273044751, 0.1208222602131979, 0.12411350158174263, 0.1261032847153963, 0.13041100974329, 0.1344122286143852, 0.1366171535019359, 0.14024099049809832, 0.14030875979058077, 0.14162054472677243, 0.1468406064625131, 0.1487856365242561, 0.14979694252796982, 0.15090932634913842, 0.15100502336520086, 0.1529072745319802, 0.15443148825858163, 0.1563186218079646, 0.1683280140527443, 0.16906492671352405, 0.17264842491377017, 0.17383973300507885, 0.17517172650811266, 0.17901976836404787, 0.17992004115993396, 0.18610002288584152, 0.19434153384181188, 0.1982958109179005, 0.19962176951041655, 0.20225371576533413, 0.20236298163817226, 0.20450171846513457, 0.21036837833298663, 0.22026887197572462, 0.22519942995580808, 0.2361542779794219, 0.23797932859805657, 0.24305493853604707, 0.24353113174137306, 0.2770622468095733, 0.28182857556479046, 0.2837095568332622, 0.2891380407751663, 0.297293753962482, 0.308758170234382, 0.31500967619184467, 0.31646540026630904, 0.320035304632478, 0.320374973052028, 0.323911003207397, 0.33081293854394156, 0.3388024445102758, 0.34105676563059667, 0.353211121862892, 0.3613349988000789, 0.3816991004179611, 0.3834977551591556, 0.40953652773702975, 0.42897035462353417, 0.4650255614033414, 0.48247757212647535, 0.4936590196751324, 0.549915744005616, 0.5509400336922062, 0.5533514865060735, 0.5802759054677936, 0.5925551190328819, 0.5973682206719997, 0.6135019003513497, 0.6176275485079961, 0.6177569540273385, 0.6197782996814004, 0.6300970101915028, 0.6306286589209932, 0.6945442200424092, 0.7011274885340811, 0.7017031033448515, 0.7067401825423111, 0.7192067469742547, 0.7284585713648942, 0.7293041017378158, 0.7341778344513176, 0.7342964138809939, 0.7345534921026049, 0.7433232508338626, 0.771639853574483, 0.7725899364855331, 0.7828576722820685, 0.7855044225405207, 0.7908880445630734, 0.793660610917443, 0.7975619796356875, 0.80838021663877, 0.8207017363922962, 0.8331729107567671, 0.8455015075222415, 0.8522431838283885, 0.8603499468355956, 0.8624381173652923, 0.8634379442991245, 0.8689550424854975, 0.8706968413837828, 0.8738981861090954, 0.8763739581270805, 0.8781615924671993, 0.878255312882692, 0.880032165886341, 0.8812677235882839, 0.8857869977998835, 0.8880191949627904, 0.8922476404547841, 0.8960746391133533, 0.8997054655996669, 0.9054837876599279, 0.9057257026527589, 0.9128379047350227, 0.9130006303370853, 0.9169485901008061, 0.9177142200570519, 0.9188748899504566, 0.9192944553098741, 0.9201999980524321, 0.9215180566086975, 0.9215281526333974], \"y\": [0.5118110236220472, 0.5079365079365079, 0.512, 0.5161290322580645, 0.5203252032520326, 0.5245901639344263, 0.5289256198347108, 0.525, 0.5294117647058824, 0.5338983050847458, 0.5384615384615384, 0.5431034482758621, 0.5478260869565217, 0.543859649122807, 0.5486725663716814, 0.5535714285714286, 0.5585585585585585, 0.5636363636363636, 0.5688073394495413, 0.5740740740740741, 0.5794392523364486, 0.5849056603773585, 0.5904761904761905, 0.5961538461538461, 0.6019417475728155, 0.5980392156862745, 0.594059405940594, 0.6, 0.6060606060606061, 0.6122448979591837, 0.6185567010309279, 0.6145833333333334, 0.6210526315789474, 0.6276595744680851, 0.6344086021505376, 0.6413043478260869, 0.6483516483516484, 0.6555555555555556, 0.6629213483146067, 0.6704545454545454, 0.6781609195402298, 0.686046511627907, 0.6941176470588235, 0.7023809523809523, 0.7108433734939759, 0.7195121951219512, 0.7283950617283951, 0.7375, 0.7468354430379747, 0.7564102564102564, 0.7532467532467533, 0.7631578947368421, 0.76, 0.7702702702702703, 0.7808219178082192, 0.7916666666666666, 0.7887323943661971, 0.8, 0.8115942028985508, 0.8088235294117647, 0.8059701492537313, 0.8181818181818182, 0.8307692307692308, 0.84375, 0.8412698412698413, 0.8548387096774194, 0.8688524590163934, 0.8666666666666667, 0.864406779661017, 0.8793103448275862, 0.8771929824561403, 0.875, 0.8727272727272727, 0.8703703703703703, 0.8867924528301887, 0.8846153846153846, 0.8823529411764706, 0.9, 0.8979591836734694, 0.8958333333333334, 0.8936170212765957, 0.8913043478260869, 0.8888888888888888, 0.8863636363636364, 0.9069767441860465, 0.9047619047619048, 0.9024390243902439, 0.925, 0.9230769230769231, 0.9210526315789473, 0.918918918918919, 0.9444444444444444, 0.9428571428571428, 0.9411764705882353, 0.9393939393939394, 0.9375, 0.967741935483871, 0.9666666666666667, 1.0, 1.0, 1.0, 1.0, 1.0, 1.0, 1.0, 1.0, 1.0, 1.0, 1.0, 1.0, 1.0, 1.0, 1.0, 1.0, 1.0, 1.0, 1.0, 1.0, 1.0, 1.0, 1.0, 1.0, 1.0, 1.0, 1.0, 1.0, 1.0], \"mode\": \"lines\", \"line\": {\"color\": \"blue\"}, \"name\": \"Precision\"}, {\"type\": \"scatter\", \"x\": [0.10703373113449087, 0.10962507975750964, 0.11723338019249617, 0.12057663273044751, 0.1208222602131979, 0.12411350158174263, 0.1261032847153963, 0.13041100974329, 0.1344122286143852, 0.1366171535019359, 0.14024099049809832, 0.14030875979058077, 0.14162054472677243, 0.1468406064625131, 0.1487856365242561, 0.14979694252796982, 0.15090932634913842, 0.15100502336520086, 0.1529072745319802, 0.15443148825858163, 0.1563186218079646, 0.1683280140527443, 0.16906492671352405, 0.17264842491377017, 0.17383973300507885, 0.17517172650811266, 0.17901976836404787, 0.17992004115993396, 0.18610002288584152, 0.19434153384181188, 0.1982958109179005, 0.19962176951041655, 0.20225371576533413, 0.20236298163817226, 0.20450171846513457, 0.21036837833298663, 0.22026887197572462, 0.22519942995580808, 0.2361542779794219, 0.23797932859805657, 0.24305493853604707, 0.24353113174137306, 0.2770622468095733, 0.28182857556479046, 0.2837095568332622, 0.2891380407751663, 0.297293753962482, 0.308758170234382, 0.31500967619184467, 0.31646540026630904, 0.320035304632478, 0.320374973052028, 0.323911003207397, 0.33081293854394156, 0.3388024445102758, 0.34105676563059667, 0.353211121862892, 0.3613349988000789, 0.3816991004179611, 0.3834977551591556, 0.40953652773702975, 0.42897035462353417, 0.4650255614033414, 0.48247757212647535, 0.4936590196751324, 0.549915744005616, 0.5509400336922062, 0.5533514865060735, 0.5802759054677936, 0.5925551190328819, 0.5973682206719997, 0.6135019003513497, 0.6176275485079961, 0.6177569540273385, 0.6197782996814004, 0.6300970101915028, 0.6306286589209932, 0.6945442200424092, 0.7011274885340811, 0.7017031033448515, 0.7067401825423111, 0.7192067469742547, 0.7284585713648942, 0.7293041017378158, 0.7341778344513176, 0.7342964138809939, 0.7345534921026049, 0.7433232508338626, 0.771639853574483, 0.7725899364855331, 0.7828576722820685, 0.7855044225405207, 0.7908880445630734, 0.793660610917443, 0.7975619796356875, 0.80838021663877, 0.8207017363922962, 0.8331729107567671, 0.8455015075222415, 0.8522431838283885, 0.8603499468355956, 0.8624381173652923, 0.8634379442991245, 0.8689550424854975, 0.8706968413837828, 0.8738981861090954, 0.8763739581270805, 0.8781615924671993, 0.878255312882692, 0.880032165886341, 0.8812677235882839, 0.8857869977998835, 0.8880191949627904, 0.8922476404547841, 0.8960746391133533, 0.8997054655996669, 0.9054837876599279, 0.9057257026527589, 0.9128379047350227, 0.9130006303370853, 0.9169485901008061, 0.9177142200570519, 0.9188748899504566, 0.9192944553098741, 0.9201999980524321, 0.9215180566086975, 0.9215281526333974], \"y\": [1.0, 0.9846153846153847, 0.9846153846153847, 0.9846153846153847, 0.9846153846153847, 0.9846153846153847, 0.9846153846153847, 0.9692307692307692, 0.9692307692307692, 0.9692307692307692, 0.9692307692307692, 0.9692307692307692, 0.9692307692307692, 0.9538461538461539, 0.9538461538461539, 0.9538461538461539, 0.9538461538461539, 0.9538461538461539, 0.9538461538461539, 0.9538461538461539, 0.9538461538461539, 0.9538461538461539, 0.9538461538461539, 0.9538461538461539, 0.9538461538461539, 0.9384615384615385, 0.9230769230769231, 0.9230769230769231, 0.9230769230769231, 0.9230769230769231, 0.9230769230769231, 0.9076923076923077, 0.9076923076923077, 0.9076923076923077, 0.9076923076923077, 0.9076923076923077, 0.9076923076923077, 0.9076923076923077, 0.9076923076923077, 0.9076923076923077, 0.9076923076923077, 0.9076923076923077, 0.9076923076923077, 0.9076923076923077, 0.9076923076923077, 0.9076923076923077, 0.9076923076923077, 0.9076923076923077, 0.9076923076923077, 0.9076923076923077, 0.8923076923076924, 0.8923076923076924, 0.8769230769230769, 0.8769230769230769, 0.8769230769230769, 0.8769230769230769, 0.8615384615384616, 0.8615384615384616, 0.8615384615384616, 0.8461538461538461, 0.8307692307692308, 0.8307692307692308, 0.8307692307692308, 0.8307692307692308, 0.8153846153846154, 0.8153846153846154, 0.8153846153846154, 0.8, 0.7846153846153846, 0.7846153846153846, 0.7692307692307693, 0.7538461538461538, 0.7384615384615385, 0.7230769230769231, 0.7230769230769231, 0.7076923076923077, 0.6923076923076923, 0.6923076923076923, 0.676923076923077, 0.6615384615384615, 0.6461538461538462, 0.6307692307692307, 0.6153846153846154, 0.6, 0.6, 0.5846153846153846, 0.5692307692307692, 0.5692307692307692, 0.5538461538461539, 0.5384615384615384, 0.5230769230769231, 0.5230769230769231, 0.5076923076923077, 0.49230769230769234, 0.47692307692307695, 0.46153846153846156, 0.46153846153846156, 0.4461538461538462, 0.4461538461538462, 0.4307692307692308, 0.4153846153846154, 0.4, 0.38461538461538464, 0.36923076923076925, 0.35384615384615387, 0.3384615384615385, 0.3230769230769231, 0.3076923076923077, 0.2923076923076923, 0.27692307692307694, 0.26153846153846155, 0.24615384615384617, 0.23076923076923078, 0.2153846153846154, 0.2, 0.18461538461538463, 0.16923076923076924, 0.15384615384615385, 0.13846153846153847, 0.12307692307692308, 0.1076923076923077, 0.09230769230769231, 0.07692307692307693, 0.06153846153846154, 0.046153846153846156, 0.03076923076923077, 0.015384615384615385], \"mode\": \"lines\", \"line\": {\"color\": \"green\"}, \"name\": \"Recall\"}], {\"hovermode\": \"closest\", \"font\": {\"size\": 14}, \"title\": \"Precision and recall scores as a function of the decision threshold\", \"xaxis\": {\"title\": \"Decision threshold\", \"showline\": true, \"linewidth\": 1.5}, \"yaxis\": {\"title\": \"Score\", \"showline\": true, \"linewidth\": 1.5}}, {\"showLink\": true, \"linkText\": \"Export to plot.ly\"})});</script>"
      ],
      "text/vnd.plotly.v1+html": [
       "<div id=\"d878f538-3983-4afd-9e0d-b2609c640da5\" style=\"height: 525px; width: 100%;\" class=\"plotly-graph-div\"></div><script type=\"text/javascript\">require([\"plotly\"], function(Plotly) { window.PLOTLYENV=window.PLOTLYENV || {};window.PLOTLYENV.BASE_URL=\"https://plot.ly\";Plotly.newPlot(\"d878f538-3983-4afd-9e0d-b2609c640da5\", [{\"type\": \"scatter\", \"x\": [0.10703373113449087, 0.10962507975750964, 0.11723338019249617, 0.12057663273044751, 0.1208222602131979, 0.12411350158174263, 0.1261032847153963, 0.13041100974329, 0.1344122286143852, 0.1366171535019359, 0.14024099049809832, 0.14030875979058077, 0.14162054472677243, 0.1468406064625131, 0.1487856365242561, 0.14979694252796982, 0.15090932634913842, 0.15100502336520086, 0.1529072745319802, 0.15443148825858163, 0.1563186218079646, 0.1683280140527443, 0.16906492671352405, 0.17264842491377017, 0.17383973300507885, 0.17517172650811266, 0.17901976836404787, 0.17992004115993396, 0.18610002288584152, 0.19434153384181188, 0.1982958109179005, 0.19962176951041655, 0.20225371576533413, 0.20236298163817226, 0.20450171846513457, 0.21036837833298663, 0.22026887197572462, 0.22519942995580808, 0.2361542779794219, 0.23797932859805657, 0.24305493853604707, 0.24353113174137306, 0.2770622468095733, 0.28182857556479046, 0.2837095568332622, 0.2891380407751663, 0.297293753962482, 0.308758170234382, 0.31500967619184467, 0.31646540026630904, 0.320035304632478, 0.320374973052028, 0.323911003207397, 0.33081293854394156, 0.3388024445102758, 0.34105676563059667, 0.353211121862892, 0.3613349988000789, 0.3816991004179611, 0.3834977551591556, 0.40953652773702975, 0.42897035462353417, 0.4650255614033414, 0.48247757212647535, 0.4936590196751324, 0.549915744005616, 0.5509400336922062, 0.5533514865060735, 0.5802759054677936, 0.5925551190328819, 0.5973682206719997, 0.6135019003513497, 0.6176275485079961, 0.6177569540273385, 0.6197782996814004, 0.6300970101915028, 0.6306286589209932, 0.6945442200424092, 0.7011274885340811, 0.7017031033448515, 0.7067401825423111, 0.7192067469742547, 0.7284585713648942, 0.7293041017378158, 0.7341778344513176, 0.7342964138809939, 0.7345534921026049, 0.7433232508338626, 0.771639853574483, 0.7725899364855331, 0.7828576722820685, 0.7855044225405207, 0.7908880445630734, 0.793660610917443, 0.7975619796356875, 0.80838021663877, 0.8207017363922962, 0.8331729107567671, 0.8455015075222415, 0.8522431838283885, 0.8603499468355956, 0.8624381173652923, 0.8634379442991245, 0.8689550424854975, 0.8706968413837828, 0.8738981861090954, 0.8763739581270805, 0.8781615924671993, 0.878255312882692, 0.880032165886341, 0.8812677235882839, 0.8857869977998835, 0.8880191949627904, 0.8922476404547841, 0.8960746391133533, 0.8997054655996669, 0.9054837876599279, 0.9057257026527589, 0.9128379047350227, 0.9130006303370853, 0.9169485901008061, 0.9177142200570519, 0.9188748899504566, 0.9192944553098741, 0.9201999980524321, 0.9215180566086975, 0.9215281526333974], \"y\": [0.5118110236220472, 0.5079365079365079, 0.512, 0.5161290322580645, 0.5203252032520326, 0.5245901639344263, 0.5289256198347108, 0.525, 0.5294117647058824, 0.5338983050847458, 0.5384615384615384, 0.5431034482758621, 0.5478260869565217, 0.543859649122807, 0.5486725663716814, 0.5535714285714286, 0.5585585585585585, 0.5636363636363636, 0.5688073394495413, 0.5740740740740741, 0.5794392523364486, 0.5849056603773585, 0.5904761904761905, 0.5961538461538461, 0.6019417475728155, 0.5980392156862745, 0.594059405940594, 0.6, 0.6060606060606061, 0.6122448979591837, 0.6185567010309279, 0.6145833333333334, 0.6210526315789474, 0.6276595744680851, 0.6344086021505376, 0.6413043478260869, 0.6483516483516484, 0.6555555555555556, 0.6629213483146067, 0.6704545454545454, 0.6781609195402298, 0.686046511627907, 0.6941176470588235, 0.7023809523809523, 0.7108433734939759, 0.7195121951219512, 0.7283950617283951, 0.7375, 0.7468354430379747, 0.7564102564102564, 0.7532467532467533, 0.7631578947368421, 0.76, 0.7702702702702703, 0.7808219178082192, 0.7916666666666666, 0.7887323943661971, 0.8, 0.8115942028985508, 0.8088235294117647, 0.8059701492537313, 0.8181818181818182, 0.8307692307692308, 0.84375, 0.8412698412698413, 0.8548387096774194, 0.8688524590163934, 0.8666666666666667, 0.864406779661017, 0.8793103448275862, 0.8771929824561403, 0.875, 0.8727272727272727, 0.8703703703703703, 0.8867924528301887, 0.8846153846153846, 0.8823529411764706, 0.9, 0.8979591836734694, 0.8958333333333334, 0.8936170212765957, 0.8913043478260869, 0.8888888888888888, 0.8863636363636364, 0.9069767441860465, 0.9047619047619048, 0.9024390243902439, 0.925, 0.9230769230769231, 0.9210526315789473, 0.918918918918919, 0.9444444444444444, 0.9428571428571428, 0.9411764705882353, 0.9393939393939394, 0.9375, 0.967741935483871, 0.9666666666666667, 1.0, 1.0, 1.0, 1.0, 1.0, 1.0, 1.0, 1.0, 1.0, 1.0, 1.0, 1.0, 1.0, 1.0, 1.0, 1.0, 1.0, 1.0, 1.0, 1.0, 1.0, 1.0, 1.0, 1.0, 1.0, 1.0, 1.0, 1.0, 1.0], \"mode\": \"lines\", \"line\": {\"color\": \"blue\"}, \"name\": \"Precision\"}, {\"type\": \"scatter\", \"x\": [0.10703373113449087, 0.10962507975750964, 0.11723338019249617, 0.12057663273044751, 0.1208222602131979, 0.12411350158174263, 0.1261032847153963, 0.13041100974329, 0.1344122286143852, 0.1366171535019359, 0.14024099049809832, 0.14030875979058077, 0.14162054472677243, 0.1468406064625131, 0.1487856365242561, 0.14979694252796982, 0.15090932634913842, 0.15100502336520086, 0.1529072745319802, 0.15443148825858163, 0.1563186218079646, 0.1683280140527443, 0.16906492671352405, 0.17264842491377017, 0.17383973300507885, 0.17517172650811266, 0.17901976836404787, 0.17992004115993396, 0.18610002288584152, 0.19434153384181188, 0.1982958109179005, 0.19962176951041655, 0.20225371576533413, 0.20236298163817226, 0.20450171846513457, 0.21036837833298663, 0.22026887197572462, 0.22519942995580808, 0.2361542779794219, 0.23797932859805657, 0.24305493853604707, 0.24353113174137306, 0.2770622468095733, 0.28182857556479046, 0.2837095568332622, 0.2891380407751663, 0.297293753962482, 0.308758170234382, 0.31500967619184467, 0.31646540026630904, 0.320035304632478, 0.320374973052028, 0.323911003207397, 0.33081293854394156, 0.3388024445102758, 0.34105676563059667, 0.353211121862892, 0.3613349988000789, 0.3816991004179611, 0.3834977551591556, 0.40953652773702975, 0.42897035462353417, 0.4650255614033414, 0.48247757212647535, 0.4936590196751324, 0.549915744005616, 0.5509400336922062, 0.5533514865060735, 0.5802759054677936, 0.5925551190328819, 0.5973682206719997, 0.6135019003513497, 0.6176275485079961, 0.6177569540273385, 0.6197782996814004, 0.6300970101915028, 0.6306286589209932, 0.6945442200424092, 0.7011274885340811, 0.7017031033448515, 0.7067401825423111, 0.7192067469742547, 0.7284585713648942, 0.7293041017378158, 0.7341778344513176, 0.7342964138809939, 0.7345534921026049, 0.7433232508338626, 0.771639853574483, 0.7725899364855331, 0.7828576722820685, 0.7855044225405207, 0.7908880445630734, 0.793660610917443, 0.7975619796356875, 0.80838021663877, 0.8207017363922962, 0.8331729107567671, 0.8455015075222415, 0.8522431838283885, 0.8603499468355956, 0.8624381173652923, 0.8634379442991245, 0.8689550424854975, 0.8706968413837828, 0.8738981861090954, 0.8763739581270805, 0.8781615924671993, 0.878255312882692, 0.880032165886341, 0.8812677235882839, 0.8857869977998835, 0.8880191949627904, 0.8922476404547841, 0.8960746391133533, 0.8997054655996669, 0.9054837876599279, 0.9057257026527589, 0.9128379047350227, 0.9130006303370853, 0.9169485901008061, 0.9177142200570519, 0.9188748899504566, 0.9192944553098741, 0.9201999980524321, 0.9215180566086975, 0.9215281526333974], \"y\": [1.0, 0.9846153846153847, 0.9846153846153847, 0.9846153846153847, 0.9846153846153847, 0.9846153846153847, 0.9846153846153847, 0.9692307692307692, 0.9692307692307692, 0.9692307692307692, 0.9692307692307692, 0.9692307692307692, 0.9692307692307692, 0.9538461538461539, 0.9538461538461539, 0.9538461538461539, 0.9538461538461539, 0.9538461538461539, 0.9538461538461539, 0.9538461538461539, 0.9538461538461539, 0.9538461538461539, 0.9538461538461539, 0.9538461538461539, 0.9538461538461539, 0.9384615384615385, 0.9230769230769231, 0.9230769230769231, 0.9230769230769231, 0.9230769230769231, 0.9230769230769231, 0.9076923076923077, 0.9076923076923077, 0.9076923076923077, 0.9076923076923077, 0.9076923076923077, 0.9076923076923077, 0.9076923076923077, 0.9076923076923077, 0.9076923076923077, 0.9076923076923077, 0.9076923076923077, 0.9076923076923077, 0.9076923076923077, 0.9076923076923077, 0.9076923076923077, 0.9076923076923077, 0.9076923076923077, 0.9076923076923077, 0.9076923076923077, 0.8923076923076924, 0.8923076923076924, 0.8769230769230769, 0.8769230769230769, 0.8769230769230769, 0.8769230769230769, 0.8615384615384616, 0.8615384615384616, 0.8615384615384616, 0.8461538461538461, 0.8307692307692308, 0.8307692307692308, 0.8307692307692308, 0.8307692307692308, 0.8153846153846154, 0.8153846153846154, 0.8153846153846154, 0.8, 0.7846153846153846, 0.7846153846153846, 0.7692307692307693, 0.7538461538461538, 0.7384615384615385, 0.7230769230769231, 0.7230769230769231, 0.7076923076923077, 0.6923076923076923, 0.6923076923076923, 0.676923076923077, 0.6615384615384615, 0.6461538461538462, 0.6307692307692307, 0.6153846153846154, 0.6, 0.6, 0.5846153846153846, 0.5692307692307692, 0.5692307692307692, 0.5538461538461539, 0.5384615384615384, 0.5230769230769231, 0.5230769230769231, 0.5076923076923077, 0.49230769230769234, 0.47692307692307695, 0.46153846153846156, 0.46153846153846156, 0.4461538461538462, 0.4461538461538462, 0.4307692307692308, 0.4153846153846154, 0.4, 0.38461538461538464, 0.36923076923076925, 0.35384615384615387, 0.3384615384615385, 0.3230769230769231, 0.3076923076923077, 0.2923076923076923, 0.27692307692307694, 0.26153846153846155, 0.24615384615384617, 0.23076923076923078, 0.2153846153846154, 0.2, 0.18461538461538463, 0.16923076923076924, 0.15384615384615385, 0.13846153846153847, 0.12307692307692308, 0.1076923076923077, 0.09230769230769231, 0.07692307692307693, 0.06153846153846154, 0.046153846153846156, 0.03076923076923077, 0.015384615384615385], \"mode\": \"lines\", \"line\": {\"color\": \"green\"}, \"name\": \"Recall\"}], {\"hovermode\": \"closest\", \"font\": {\"size\": 14}, \"title\": \"Precision and recall scores as a function of the decision threshold\", \"xaxis\": {\"title\": \"Decision threshold\", \"showline\": true, \"linewidth\": 1.5}, \"yaxis\": {\"title\": \"Score\", \"showline\": true, \"linewidth\": 1.5}}, {\"showLink\": true, \"linkText\": \"Export to plot.ly\"})});</script>"
      ]
     },
     "metadata": {},
     "output_type": "display_data"
    }
   ],
   "source": [
    "t = precision_recall_vs_threshold(\n",
    "    y_true=y_train, y_pred=cv_predict_proba[:, 1])\n",
    "py.iplot(t, filename='fatigue/precision_recall_vs_threshold')"
   ]
  },
  {
   "cell_type": "markdown",
   "metadata": {},
   "source": [
    "### 5.e. Confusion matrix"
   ]
  },
  {
   "cell_type": "code",
   "execution_count": 30,
   "metadata": {},
   "outputs": [],
   "source": [
    "from sklearn.metrics import confusion_matrix\n",
    "\n",
    "\n",
    "def plot_confusion_matrix(y_true, y_pred, in_percentage=True):\n",
    "    cm = confusion_matrix(y_true, y_pred)\n",
    "    if in_percentage:\n",
    "        cm = cm.astype('float') / cm.sum(axis=1)[:, np.newaxis] * 100\n",
    "\n",
    "    colorscale = [[0, '#2d3436'], [1, '#dfe6e9']]\n",
    "\n",
    "    fig = ff.create_annotated_heatmap(\n",
    "        z=cm.astype(int),\n",
    "        x=['True', 'False'],\n",
    "        y=['True', 'False'],\n",
    "        showscale=True,\n",
    "        zmin=0,\n",
    "        zmax=100,\n",
    "        colorscale=colorscale,\n",
    "        colorbar=dict(title='Percentage', titleside='right'))\n",
    "\n",
    "    fig['layout'].update(base_layout)\n",
    "    fig['layout'].update(\n",
    "        dict(\n",
    "            title='confusion matrix',\n",
    "            xaxis=dict(title='Predicted values', side='bottom'),\n",
    "            yaxis=dict(title='True values', autorange='reversed')))\n",
    "\n",
    "    return fig"
   ]
  },
  {
   "cell_type": "code",
   "execution_count": 31,
   "metadata": {},
   "outputs": [
    {
     "data": {
      "application/vnd.plotly.v1+json": {
       "data": [
        {
         "colorbar": {
          "title": "Percentage",
          "titleside": "right"
         },
         "colorscale": [
          [
           0,
           "#2d3436"
          ],
          [
           1,
           "#dfe6e9"
          ]
         ],
         "showscale": true,
         "type": "heatmap",
         "x": [
          "True",
          "False"
         ],
         "y": [
          "True",
          "False"
         ],
         "z": [
          [
           85,
           14
          ],
          [
           18,
           81
          ]
         ],
         "zmax": 100,
         "zmin": 0
        }
       ],
       "layout": {
        "annotations": [
         {
          "font": {
           "color": "#000000"
          },
          "showarrow": false,
          "text": "85",
          "x": "True",
          "xref": "x1",
          "y": "True",
          "yref": "y1"
         },
         {
          "font": {
           "color": "#FFFFFF"
          },
          "showarrow": false,
          "text": "14",
          "x": "False",
          "xref": "x1",
          "y": "True",
          "yref": "y1"
         },
         {
          "font": {
           "color": "#FFFFFF"
          },
          "showarrow": false,
          "text": "18",
          "x": "True",
          "xref": "x1",
          "y": "False",
          "yref": "y1"
         },
         {
          "font": {
           "color": "#000000"
          },
          "showarrow": false,
          "text": "81",
          "x": "False",
          "xref": "x1",
          "y": "False",
          "yref": "y1"
         }
        ],
        "font": {
         "size": 14
        },
        "hovermode": "closest",
        "title": "confusion matrix",
        "xaxis": {
         "dtick": 1,
         "gridcolor": "rgb(0, 0, 0)",
         "side": "bottom",
         "ticks": "",
         "title": "Predicted values"
        },
        "yaxis": {
         "autorange": "reversed",
         "dtick": 1,
         "ticks": "",
         "ticksuffix": "  ",
         "title": "True values"
        }
       }
      },
      "text/html": [
       "<div id=\"efc0cd39-05fa-4373-adf5-5251c089fa3d\" style=\"height: 525px; width: 100%;\" class=\"plotly-graph-div\"></div><script type=\"text/javascript\">require([\"plotly\"], function(Plotly) { window.PLOTLYENV=window.PLOTLYENV || {};window.PLOTLYENV.BASE_URL=\"https://plot.ly\";Plotly.newPlot(\"efc0cd39-05fa-4373-adf5-5251c089fa3d\", [{\"type\": \"heatmap\", \"z\": [[85, 14], [18, 81]], \"x\": [\"True\", \"False\"], \"y\": [\"True\", \"False\"], \"colorscale\": [[0, \"#2d3436\"], [1, \"#dfe6e9\"]], \"showscale\": true, \"zmin\": 0, \"zmax\": 100, \"colorbar\": {\"title\": \"Percentage\", \"titleside\": \"right\"}}], {\"annotations\": [{\"text\": \"85\", \"x\": \"True\", \"y\": \"True\", \"xref\": \"x1\", \"yref\": \"y1\", \"font\": {\"color\": \"#000000\"}, \"showarrow\": false}, {\"text\": \"14\", \"x\": \"False\", \"y\": \"True\", \"xref\": \"x1\", \"yref\": \"y1\", \"font\": {\"color\": \"#FFFFFF\"}, \"showarrow\": false}, {\"text\": \"18\", \"x\": \"True\", \"y\": \"False\", \"xref\": \"x1\", \"yref\": \"y1\", \"font\": {\"color\": \"#FFFFFF\"}, \"showarrow\": false}, {\"text\": \"81\", \"x\": \"False\", \"y\": \"False\", \"xref\": \"x1\", \"yref\": \"y1\", \"font\": {\"color\": \"#000000\"}, \"showarrow\": false}], \"xaxis\": {\"ticks\": \"\", \"dtick\": 1, \"side\": \"bottom\", \"gridcolor\": \"rgb(0, 0, 0)\", \"title\": \"Predicted values\"}, \"yaxis\": {\"ticks\": \"\", \"dtick\": 1, \"ticksuffix\": \"  \", \"title\": \"True values\", \"autorange\": \"reversed\"}, \"hovermode\": \"closest\", \"font\": {\"size\": 14}, \"title\": \"confusion matrix\"}, {\"showLink\": true, \"linkText\": \"Export to plot.ly\"})});</script>"
      ],
      "text/vnd.plotly.v1+html": [
       "<div id=\"efc0cd39-05fa-4373-adf5-5251c089fa3d\" style=\"height: 525px; width: 100%;\" class=\"plotly-graph-div\"></div><script type=\"text/javascript\">require([\"plotly\"], function(Plotly) { window.PLOTLYENV=window.PLOTLYENV || {};window.PLOTLYENV.BASE_URL=\"https://plot.ly\";Plotly.newPlot(\"efc0cd39-05fa-4373-adf5-5251c089fa3d\", [{\"type\": \"heatmap\", \"z\": [[85, 14], [18, 81]], \"x\": [\"True\", \"False\"], \"y\": [\"True\", \"False\"], \"colorscale\": [[0, \"#2d3436\"], [1, \"#dfe6e9\"]], \"showscale\": true, \"zmin\": 0, \"zmax\": 100, \"colorbar\": {\"title\": \"Percentage\", \"titleside\": \"right\"}}], {\"annotations\": [{\"text\": \"85\", \"x\": \"True\", \"y\": \"True\", \"xref\": \"x1\", \"yref\": \"y1\", \"font\": {\"color\": \"#000000\"}, \"showarrow\": false}, {\"text\": \"14\", \"x\": \"False\", \"y\": \"True\", \"xref\": \"x1\", \"yref\": \"y1\", \"font\": {\"color\": \"#FFFFFF\"}, \"showarrow\": false}, {\"text\": \"18\", \"x\": \"True\", \"y\": \"False\", \"xref\": \"x1\", \"yref\": \"y1\", \"font\": {\"color\": \"#FFFFFF\"}, \"showarrow\": false}, {\"text\": \"81\", \"x\": \"False\", \"y\": \"False\", \"xref\": \"x1\", \"yref\": \"y1\", \"font\": {\"color\": \"#000000\"}, \"showarrow\": false}], \"xaxis\": {\"ticks\": \"\", \"dtick\": 1, \"side\": \"bottom\", \"gridcolor\": \"rgb(0, 0, 0)\", \"title\": \"Predicted values\"}, \"yaxis\": {\"ticks\": \"\", \"dtick\": 1, \"ticksuffix\": \"  \", \"title\": \"True values\", \"autorange\": \"reversed\"}, \"hovermode\": \"closest\", \"font\": {\"size\": 14}, \"title\": \"confusion matrix\"}, {\"showLink\": true, \"linkText\": \"Export to plot.ly\"})});</script>"
      ]
     },
     "metadata": {},
     "output_type": "display_data"
    }
   ],
   "source": [
    "m = plot_confusion_matrix(y_true=y_train, y_pred=cv_predict)\n",
    "py.iplot(m, filename='fatigue/confusion_matrix_train')"
   ]
  },
  {
   "cell_type": "markdown",
   "metadata": {},
   "source": [
    "## 6. Evaluation"
   ]
  },
  {
   "cell_type": "code",
   "execution_count": 32,
   "metadata": {},
   "outputs": [],
   "source": [
    "warnings.simplefilter('ignore')\n",
    "y_pred = final_model.predict(X_test)\n",
    "warnings.simplefilter('default')"
   ]
  },
  {
   "cell_type": "markdown",
   "metadata": {},
   "source": [
    "### 6.a. Confusion matrix"
   ]
  },
  {
   "cell_type": "code",
   "execution_count": 33,
   "metadata": {},
   "outputs": [
    {
     "data": {
      "application/vnd.plotly.v1+json": {
       "data": [
        {
         "colorbar": {
          "title": "Percentage",
          "titleside": "right"
         },
         "colorscale": [
          [
           0,
           "#2d3436"
          ],
          [
           1,
           "#dfe6e9"
          ]
         ],
         "showscale": true,
         "type": "heatmap",
         "x": [
          "True",
          "False"
         ],
         "y": [
          "True",
          "False"
         ],
         "z": [
          [
           76,
           23
          ],
          [
           12,
           87
          ]
         ],
         "zmax": 100,
         "zmin": 0
        }
       ],
       "layout": {
        "annotations": [
         {
          "font": {
           "color": "#000000"
          },
          "showarrow": false,
          "text": "76",
          "x": "True",
          "xref": "x1",
          "y": "True",
          "yref": "y1"
         },
         {
          "font": {
           "color": "#FFFFFF"
          },
          "showarrow": false,
          "text": "23",
          "x": "False",
          "xref": "x1",
          "y": "True",
          "yref": "y1"
         },
         {
          "font": {
           "color": "#FFFFFF"
          },
          "showarrow": false,
          "text": "12",
          "x": "True",
          "xref": "x1",
          "y": "False",
          "yref": "y1"
         },
         {
          "font": {
           "color": "#000000"
          },
          "showarrow": false,
          "text": "87",
          "x": "False",
          "xref": "x1",
          "y": "False",
          "yref": "y1"
         }
        ],
        "font": {
         "size": 14
        },
        "hovermode": "closest",
        "title": "confusion matrix",
        "xaxis": {
         "dtick": 1,
         "gridcolor": "rgb(0, 0, 0)",
         "side": "bottom",
         "ticks": "",
         "title": "Predicted values"
        },
        "yaxis": {
         "autorange": "reversed",
         "dtick": 1,
         "ticks": "",
         "ticksuffix": "  ",
         "title": "True values"
        }
       }
      },
      "text/html": [
       "<div id=\"8d634eea-ed6a-49ca-af27-b44df58187a7\" style=\"height: 525px; width: 100%;\" class=\"plotly-graph-div\"></div><script type=\"text/javascript\">require([\"plotly\"], function(Plotly) { window.PLOTLYENV=window.PLOTLYENV || {};window.PLOTLYENV.BASE_URL=\"https://plot.ly\";Plotly.newPlot(\"8d634eea-ed6a-49ca-af27-b44df58187a7\", [{\"type\": \"heatmap\", \"z\": [[76, 23], [12, 87]], \"x\": [\"True\", \"False\"], \"y\": [\"True\", \"False\"], \"colorscale\": [[0, \"#2d3436\"], [1, \"#dfe6e9\"]], \"showscale\": true, \"zmin\": 0, \"zmax\": 100, \"colorbar\": {\"title\": \"Percentage\", \"titleside\": \"right\"}}], {\"annotations\": [{\"text\": \"76\", \"x\": \"True\", \"y\": \"True\", \"xref\": \"x1\", \"yref\": \"y1\", \"font\": {\"color\": \"#000000\"}, \"showarrow\": false}, {\"text\": \"23\", \"x\": \"False\", \"y\": \"True\", \"xref\": \"x1\", \"yref\": \"y1\", \"font\": {\"color\": \"#FFFFFF\"}, \"showarrow\": false}, {\"text\": \"12\", \"x\": \"True\", \"y\": \"False\", \"xref\": \"x1\", \"yref\": \"y1\", \"font\": {\"color\": \"#FFFFFF\"}, \"showarrow\": false}, {\"text\": \"87\", \"x\": \"False\", \"y\": \"False\", \"xref\": \"x1\", \"yref\": \"y1\", \"font\": {\"color\": \"#000000\"}, \"showarrow\": false}], \"xaxis\": {\"ticks\": \"\", \"dtick\": 1, \"side\": \"bottom\", \"gridcolor\": \"rgb(0, 0, 0)\", \"title\": \"Predicted values\"}, \"yaxis\": {\"ticks\": \"\", \"dtick\": 1, \"ticksuffix\": \"  \", \"title\": \"True values\", \"autorange\": \"reversed\"}, \"hovermode\": \"closest\", \"font\": {\"size\": 14}, \"title\": \"confusion matrix\"}, {\"showLink\": true, \"linkText\": \"Export to plot.ly\"})});</script>"
      ],
      "text/vnd.plotly.v1+html": [
       "<div id=\"8d634eea-ed6a-49ca-af27-b44df58187a7\" style=\"height: 525px; width: 100%;\" class=\"plotly-graph-div\"></div><script type=\"text/javascript\">require([\"plotly\"], function(Plotly) { window.PLOTLYENV=window.PLOTLYENV || {};window.PLOTLYENV.BASE_URL=\"https://plot.ly\";Plotly.newPlot(\"8d634eea-ed6a-49ca-af27-b44df58187a7\", [{\"type\": \"heatmap\", \"z\": [[76, 23], [12, 87]], \"x\": [\"True\", \"False\"], \"y\": [\"True\", \"False\"], \"colorscale\": [[0, \"#2d3436\"], [1, \"#dfe6e9\"]], \"showscale\": true, \"zmin\": 0, \"zmax\": 100, \"colorbar\": {\"title\": \"Percentage\", \"titleside\": \"right\"}}], {\"annotations\": [{\"text\": \"76\", \"x\": \"True\", \"y\": \"True\", \"xref\": \"x1\", \"yref\": \"y1\", \"font\": {\"color\": \"#000000\"}, \"showarrow\": false}, {\"text\": \"23\", \"x\": \"False\", \"y\": \"True\", \"xref\": \"x1\", \"yref\": \"y1\", \"font\": {\"color\": \"#FFFFFF\"}, \"showarrow\": false}, {\"text\": \"12\", \"x\": \"True\", \"y\": \"False\", \"xref\": \"x1\", \"yref\": \"y1\", \"font\": {\"color\": \"#FFFFFF\"}, \"showarrow\": false}, {\"text\": \"87\", \"x\": \"False\", \"y\": \"False\", \"xref\": \"x1\", \"yref\": \"y1\", \"font\": {\"color\": \"#000000\"}, \"showarrow\": false}], \"xaxis\": {\"ticks\": \"\", \"dtick\": 1, \"side\": \"bottom\", \"gridcolor\": \"rgb(0, 0, 0)\", \"title\": \"Predicted values\"}, \"yaxis\": {\"ticks\": \"\", \"dtick\": 1, \"ticksuffix\": \"  \", \"title\": \"True values\", \"autorange\": \"reversed\"}, \"hovermode\": \"closest\", \"font\": {\"size\": 14}, \"title\": \"confusion matrix\"}, {\"showLink\": true, \"linkText\": \"Export to plot.ly\"})});</script>"
      ]
     },
     "metadata": {},
     "output_type": "display_data"
    }
   ],
   "source": [
    "m = plot_confusion_matrix(y_true=y_test, y_pred=y_pred)\n",
    "py.iplot(m, filename='fatigue/confusion_matrix_test')"
   ]
  },
  {
   "cell_type": "markdown",
   "metadata": {},
   "source": [
    "### 6.b. Classification scalar metrics"
   ]
  },
  {
   "cell_type": "code",
   "execution_count": 179,
   "metadata": {},
   "outputs": [],
   "source": [
    "from sklearn.metrics import precision_score, recall_score, f1_score\n",
    "\n",
    "\n",
    "def table_classification_report(y_true, y_pred):\n",
    "    precision = precision_score(y_true, y_pred)\n",
    "    recall = recall_score(y_true, y_pred)\n",
    "    f1 = f1_score(y_true, y_pred)\n",
    "    roc_auc = roc_auc_score(y_true, y_pred)\n",
    "    \n",
    "    data_matrix = [['Metric', 'Value'],\n",
    "                   ['Precision', f'{precision:.2f}'],\n",
    "                   ['Recall', f'{recall:.2f}'],\n",
    "                   ['F1 score', f'{f1:.2f}'],\n",
    "                   ['ROC AUC', f'{roc_auc:.2f}']]\n",
    "\n",
    "    table = ff.create_table(data_matrix)\n",
    "    table['layout'].update(font=dict(size=14))\n",
    "    return table"
   ]
  },
  {
   "cell_type": "code",
   "execution_count": 180,
   "metadata": {},
   "outputs": [
    {
     "data": {
      "application/vnd.plotly.v1+json": {
       "data": [
        {
         "colorscale": [
          [
           0,
           "#00083e"
          ],
          [
           0.5,
           "#ededee"
          ],
          [
           1,
           "#ffffff"
          ]
         ],
         "hoverinfo": "none",
         "opacity": 0.75,
         "showscale": false,
         "type": "heatmap",
         "z": [
          [
           0,
           0
          ],
          [
           0.5,
           0.5
          ],
          [
           1,
           1
          ],
          [
           0.5,
           0.5
          ],
          [
           1,
           1
          ]
         ]
        }
       ],
       "layout": {
        "annotations": [
         {
          "align": "left",
          "font": {
           "color": "#ffffff"
          },
          "showarrow": false,
          "text": "<b>Metric</b>",
          "x": -0.45,
          "xanchor": "left",
          "xref": "x1",
          "y": 0,
          "yref": "y1"
         },
         {
          "align": "left",
          "font": {
           "color": "#ffffff"
          },
          "showarrow": false,
          "text": "<b>Value</b>",
          "x": 0.55,
          "xanchor": "left",
          "xref": "x1",
          "y": 0,
          "yref": "y1"
         },
         {
          "align": "left",
          "font": {
           "color": "#000000"
          },
          "showarrow": false,
          "text": "Precision",
          "x": -0.45,
          "xanchor": "left",
          "xref": "x1",
          "y": 1,
          "yref": "y1"
         },
         {
          "align": "left",
          "font": {
           "color": "#000000"
          },
          "showarrow": false,
          "text": "0.74",
          "x": 0.55,
          "xanchor": "left",
          "xref": "x1",
          "y": 1,
          "yref": "y1"
         },
         {
          "align": "left",
          "font": {
           "color": "#000000"
          },
          "showarrow": false,
          "text": "Recall",
          "x": -0.45,
          "xanchor": "left",
          "xref": "x1",
          "y": 2,
          "yref": "y1"
         },
         {
          "align": "left",
          "font": {
           "color": "#000000"
          },
          "showarrow": false,
          "text": "0.88",
          "x": 0.55,
          "xanchor": "left",
          "xref": "x1",
          "y": 2,
          "yref": "y1"
         },
         {
          "align": "left",
          "font": {
           "color": "#000000"
          },
          "showarrow": false,
          "text": "F1 score",
          "x": -0.45,
          "xanchor": "left",
          "xref": "x1",
          "y": 3,
          "yref": "y1"
         },
         {
          "align": "left",
          "font": {
           "color": "#000000"
          },
          "showarrow": false,
          "text": "0.80",
          "x": 0.55,
          "xanchor": "left",
          "xref": "x1",
          "y": 3,
          "yref": "y1"
         },
         {
          "align": "left",
          "font": {
           "color": "#000000"
          },
          "showarrow": false,
          "text": "ROC AUC",
          "x": -0.45,
          "xanchor": "left",
          "xref": "x1",
          "y": 4,
          "yref": "y1"
         },
         {
          "align": "left",
          "font": {
           "color": "#000000"
          },
          "showarrow": false,
          "text": "0.79",
          "x": 0.55,
          "xanchor": "left",
          "xref": "x1",
          "y": 4,
          "yref": "y1"
         }
        ],
        "font": {
         "size": 14
        },
        "height": 200,
        "margin": {
         "b": 0,
         "l": 0,
         "r": 0,
         "t": 0
        },
        "xaxis": {
         "dtick": 1,
         "gridwidth": 2,
         "showticklabels": false,
         "tick0": -0.5,
         "ticks": "",
         "zeroline": false
        },
        "yaxis": {
         "autorange": "reversed",
         "dtick": 1,
         "gridwidth": 2,
         "showticklabels": false,
         "tick0": 0.5,
         "ticks": "",
         "zeroline": false
        }
       }
      },
      "text/html": [
       "<div id=\"e3243e07-b64c-43b5-bc2f-ec0f350b6e2d\" style=\"height: 200px; width: 100%;\" class=\"plotly-graph-div\"></div><script type=\"text/javascript\">require([\"plotly\"], function(Plotly) { window.PLOTLYENV=window.PLOTLYENV || {};window.PLOTLYENV.BASE_URL=\"https://plot.ly\";Plotly.newPlot(\"e3243e07-b64c-43b5-bc2f-ec0f350b6e2d\", [{\"type\": \"heatmap\", \"z\": [[0, 0], [0.5, 0.5], [1, 1], [0.5, 0.5], [1, 1]], \"opacity\": 0.75, \"colorscale\": [[0, \"#00083e\"], [0.5, \"#ededee\"], [1, \"#ffffff\"]], \"showscale\": false, \"hoverinfo\": \"none\"}], {\"annotations\": [{\"text\": \"<b>Metric</b>\", \"x\": -0.45, \"y\": 0, \"xref\": \"x1\", \"yref\": \"y1\", \"align\": \"left\", \"xanchor\": \"left\", \"font\": {\"color\": \"#ffffff\"}, \"showarrow\": false}, {\"text\": \"<b>Value</b>\", \"x\": 0.55, \"y\": 0, \"xref\": \"x1\", \"yref\": \"y1\", \"align\": \"left\", \"xanchor\": \"left\", \"font\": {\"color\": \"#ffffff\"}, \"showarrow\": false}, {\"text\": \"Precision\", \"x\": -0.45, \"y\": 1, \"xref\": \"x1\", \"yref\": \"y1\", \"align\": \"left\", \"xanchor\": \"left\", \"font\": {\"color\": \"#000000\"}, \"showarrow\": false}, {\"text\": \"0.74\", \"x\": 0.55, \"y\": 1, \"xref\": \"x1\", \"yref\": \"y1\", \"align\": \"left\", \"xanchor\": \"left\", \"font\": {\"color\": \"#000000\"}, \"showarrow\": false}, {\"text\": \"Recall\", \"x\": -0.45, \"y\": 2, \"xref\": \"x1\", \"yref\": \"y1\", \"align\": \"left\", \"xanchor\": \"left\", \"font\": {\"color\": \"#000000\"}, \"showarrow\": false}, {\"text\": \"0.88\", \"x\": 0.55, \"y\": 2, \"xref\": \"x1\", \"yref\": \"y1\", \"align\": \"left\", \"xanchor\": \"left\", \"font\": {\"color\": \"#000000\"}, \"showarrow\": false}, {\"text\": \"F1 score\", \"x\": -0.45, \"y\": 3, \"xref\": \"x1\", \"yref\": \"y1\", \"align\": \"left\", \"xanchor\": \"left\", \"font\": {\"color\": \"#000000\"}, \"showarrow\": false}, {\"text\": \"0.80\", \"x\": 0.55, \"y\": 3, \"xref\": \"x1\", \"yref\": \"y1\", \"align\": \"left\", \"xanchor\": \"left\", \"font\": {\"color\": \"#000000\"}, \"showarrow\": false}, {\"text\": \"ROC AUC\", \"x\": -0.45, \"y\": 4, \"xref\": \"x1\", \"yref\": \"y1\", \"align\": \"left\", \"xanchor\": \"left\", \"font\": {\"color\": \"#000000\"}, \"showarrow\": false}, {\"text\": \"0.79\", \"x\": 0.55, \"y\": 4, \"xref\": \"x1\", \"yref\": \"y1\", \"align\": \"left\", \"xanchor\": \"left\", \"font\": {\"color\": \"#000000\"}, \"showarrow\": false}], \"height\": 200, \"margin\": {\"t\": 0, \"b\": 0, \"r\": 0, \"l\": 0}, \"yaxis\": {\"autorange\": \"reversed\", \"zeroline\": false, \"gridwidth\": 2, \"ticks\": \"\", \"dtick\": 1, \"tick0\": 0.5, \"showticklabels\": false}, \"xaxis\": {\"zeroline\": false, \"gridwidth\": 2, \"ticks\": \"\", \"dtick\": 1, \"tick0\": -0.5, \"showticklabels\": false}, \"font\": {\"size\": 14}}, {\"showLink\": true, \"linkText\": \"Export to plot.ly\"})});</script>"
      ],
      "text/vnd.plotly.v1+html": [
       "<div id=\"e3243e07-b64c-43b5-bc2f-ec0f350b6e2d\" style=\"height: 200px; width: 100%;\" class=\"plotly-graph-div\"></div><script type=\"text/javascript\">require([\"plotly\"], function(Plotly) { window.PLOTLYENV=window.PLOTLYENV || {};window.PLOTLYENV.BASE_URL=\"https://plot.ly\";Plotly.newPlot(\"e3243e07-b64c-43b5-bc2f-ec0f350b6e2d\", [{\"type\": \"heatmap\", \"z\": [[0, 0], [0.5, 0.5], [1, 1], [0.5, 0.5], [1, 1]], \"opacity\": 0.75, \"colorscale\": [[0, \"#00083e\"], [0.5, \"#ededee\"], [1, \"#ffffff\"]], \"showscale\": false, \"hoverinfo\": \"none\"}], {\"annotations\": [{\"text\": \"<b>Metric</b>\", \"x\": -0.45, \"y\": 0, \"xref\": \"x1\", \"yref\": \"y1\", \"align\": \"left\", \"xanchor\": \"left\", \"font\": {\"color\": \"#ffffff\"}, \"showarrow\": false}, {\"text\": \"<b>Value</b>\", \"x\": 0.55, \"y\": 0, \"xref\": \"x1\", \"yref\": \"y1\", \"align\": \"left\", \"xanchor\": \"left\", \"font\": {\"color\": \"#ffffff\"}, \"showarrow\": false}, {\"text\": \"Precision\", \"x\": -0.45, \"y\": 1, \"xref\": \"x1\", \"yref\": \"y1\", \"align\": \"left\", \"xanchor\": \"left\", \"font\": {\"color\": \"#000000\"}, \"showarrow\": false}, {\"text\": \"0.74\", \"x\": 0.55, \"y\": 1, \"xref\": \"x1\", \"yref\": \"y1\", \"align\": \"left\", \"xanchor\": \"left\", \"font\": {\"color\": \"#000000\"}, \"showarrow\": false}, {\"text\": \"Recall\", \"x\": -0.45, \"y\": 2, \"xref\": \"x1\", \"yref\": \"y1\", \"align\": \"left\", \"xanchor\": \"left\", \"font\": {\"color\": \"#000000\"}, \"showarrow\": false}, {\"text\": \"0.88\", \"x\": 0.55, \"y\": 2, \"xref\": \"x1\", \"yref\": \"y1\", \"align\": \"left\", \"xanchor\": \"left\", \"font\": {\"color\": \"#000000\"}, \"showarrow\": false}, {\"text\": \"F1 score\", \"x\": -0.45, \"y\": 3, \"xref\": \"x1\", \"yref\": \"y1\", \"align\": \"left\", \"xanchor\": \"left\", \"font\": {\"color\": \"#000000\"}, \"showarrow\": false}, {\"text\": \"0.80\", \"x\": 0.55, \"y\": 3, \"xref\": \"x1\", \"yref\": \"y1\", \"align\": \"left\", \"xanchor\": \"left\", \"font\": {\"color\": \"#000000\"}, \"showarrow\": false}, {\"text\": \"ROC AUC\", \"x\": -0.45, \"y\": 4, \"xref\": \"x1\", \"yref\": \"y1\", \"align\": \"left\", \"xanchor\": \"left\", \"font\": {\"color\": \"#000000\"}, \"showarrow\": false}, {\"text\": \"0.79\", \"x\": 0.55, \"y\": 4, \"xref\": \"x1\", \"yref\": \"y1\", \"align\": \"left\", \"xanchor\": \"left\", \"font\": {\"color\": \"#000000\"}, \"showarrow\": false}], \"height\": 200, \"margin\": {\"t\": 0, \"b\": 0, \"r\": 0, \"l\": 0}, \"yaxis\": {\"autorange\": \"reversed\", \"zeroline\": false, \"gridwidth\": 2, \"ticks\": \"\", \"dtick\": 1, \"tick0\": 0.5, \"showticklabels\": false}, \"xaxis\": {\"zeroline\": false, \"gridwidth\": 2, \"ticks\": \"\", \"dtick\": 1, \"tick0\": -0.5, \"showticklabels\": false}, \"font\": {\"size\": 14}}, {\"showLink\": true, \"linkText\": \"Export to plot.ly\"})});</script>"
      ]
     },
     "metadata": {},
     "output_type": "display_data"
    }
   ],
   "source": [
    "table = table_classification_report(y_true=y_test, y_pred=y_pred)\n",
    "\n",
    "py.iplot(table, filename='fatigue/clf_report')"
   ]
  },
  {
   "cell_type": "markdown",
   "metadata": {},
   "source": [
    "## 7. Summary"
   ]
  }
 ],
 "metadata": {
  "kernelspec": {
   "display_name": "fatigue",
   "language": "python",
   "name": "fatigue"
  },
  "language_info": {
   "codemirror_mode": {
    "name": "ipython",
    "version": 3
   },
   "file_extension": ".py",
   "mimetype": "text/x-python",
   "name": "python",
   "nbconvert_exporter": "python",
   "pygments_lexer": "ipython3",
   "version": "3.6.4"
  },
  "toc": {
   "nav_menu": {},
   "number_sections": false,
   "sideBar": true,
   "skip_h1_title": true,
   "title_cell": "Table of Contents",
   "title_sidebar": "Contents",
   "toc_cell": true,
   "toc_position": {
    "height": "calc(100% - 180px)",
    "left": "10px",
    "top": "150px",
    "width": "242px"
   },
   "toc_section_display": true,
   "toc_window_display": true
  }
 },
 "nbformat": 4,
 "nbformat_minor": 2
}
