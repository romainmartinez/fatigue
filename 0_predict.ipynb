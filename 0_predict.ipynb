{
 "cells": [
  {
   "cell_type": "markdown",
   "metadata": {
    "toc": true
   },
   "source": [
    "<h1>Table of Contents<span class=\"tocSkip\"></span></h1>\n",
    "<div class=\"toc\"><ul class=\"toc-item\"><li><span><a href=\"#Todos\" data-toc-modified-id=\"Todos-1\">Todos</a></span></li><li><span><a href=\"#1.-Setup\" data-toc-modified-id=\"1.-Setup-2\">1. Setup</a></span></li><li><span><a href=\"#2.-Get-data\" data-toc-modified-id=\"2.-Get-data-3\">2. Get data</a></span><ul class=\"toc-item\"><li><span><a href=\"#2.a.-Create-feature-matrix\" data-toc-modified-id=\"2.a.-Create-feature-matrix-3.1\">2.a. Create feature matrix</a></span></li><li><span><a href=\"#2.b.-Create-label-vector\" data-toc-modified-id=\"2.b.-Create-label-vector-3.2\">2.b. Create label vector</a></span></li><li><span><a href=\"#2.c.-Create-report\" data-toc-modified-id=\"2.c.-Create-report-3.3\">2.c. Create report</a></span></li><li><span><a href=\"#2.d.-Split-data-&amp;-shuffle\" data-toc-modified-id=\"2.d.-Split-data-&amp;-shuffle-3.4\">2.d. Split data &amp; shuffle</a></span></li></ul></li><li><span><a href=\"#2.-Pipeline\" data-toc-modified-id=\"2.-Pipeline-4\">2. Pipeline</a></span><ul class=\"toc-item\"><li><span><a href=\"#2.a.-Metrics-wrap-up\" data-toc-modified-id=\"2.a.-Metrics-wrap-up-4.1\">2.a. Metrics wrap up</a></span><ul class=\"toc-item\"><li><span><a href=\"#2.a.1.-Confusion-matrix-metrics\" data-toc-modified-id=\"2.a.1.-Confusion-matrix-metrics-4.1.1\">2.a.1. Confusion matrix metrics</a></span><ul class=\"toc-item\"><li><span><a href=\"#True-negative-(TN)\" data-toc-modified-id=\"True-negative-(TN)-4.1.1.1\">True negative (TN)</a></span></li><li><span><a href=\"#False-negative-(FN)\" data-toc-modified-id=\"False-negative-(FN)-4.1.1.2\">False negative (FN)</a></span></li><li><span><a href=\"#True-positive-(TP)\" data-toc-modified-id=\"True-positive-(TP)-4.1.1.3\">True positive (TP)</a></span></li><li><span><a href=\"#False-positive-(FP)\" data-toc-modified-id=\"False-positive-(FP)-4.1.1.4\">False positive (FP)</a></span></li></ul></li><li><span><a href=\"#2.a.2.-Metrics\" data-toc-modified-id=\"2.a.2.-Metrics-4.1.2\">2.a.2. Metrics</a></span><ul class=\"toc-item\"><li><span><a href=\"#Precision\" data-toc-modified-id=\"Precision-4.1.2.1\">Precision</a></span></li><li><span><a href=\"#Recall-or-True-Positive-Rate-(TPR)\" data-toc-modified-id=\"Recall-or-True-Positive-Rate-(TPR)-4.1.2.2\">Recall or True Positive Rate (TPR)</a></span></li><li><span><a href=\"#False-Positive-Rate-(FPR)\" data-toc-modified-id=\"False-Positive-Rate-(FPR)-4.1.2.3\">False Positive Rate (FPR)</a></span></li><li><span><a href=\"#Receiver-Operating-Characteristic-curve-(ROC)\" data-toc-modified-id=\"Receiver-Operating-Characteristic-curve-(ROC)-4.1.2.4\">Receiver Operating Characteristic curve (ROC)</a></span></li><li><span><a href=\"#In-our-case\" data-toc-modified-id=\"In-our-case-4.1.2.5\">In our case</a></span></li></ul></li></ul></li><li><span><a href=\"#2.b.-Pipeline-creation\" data-toc-modified-id=\"2.b.-Pipeline-creation-4.2\">2.b. Pipeline creation</a></span></li></ul></li><li><span><a href=\"#4.-Optimization\" data-toc-modified-id=\"4.-Optimization-5\">4. Optimization</a></span><ul class=\"toc-item\"><li><span><a href=\"#4.a.-Gradient-boosting\" data-toc-modified-id=\"4.a.-Gradient-boosting-5.1\">4.a. Gradient boosting</a></span></li><li><span><a href=\"#4.b.-XGBoost\" data-toc-modified-id=\"4.b.-XGBoost-5.2\">4.b. XGBoost</a></span></li></ul></li><li><span><a href=\"#4.c.-Ensemble-learning\" data-toc-modified-id=\"4.c.-Ensemble-learning-6\">4.c. Ensemble learning</a></span></li><li><span><a href=\"#5.-Diagnostic\" data-toc-modified-id=\"5.-Diagnostic-7\">5. Diagnostic</a></span><ul class=\"toc-item\"><li><span><a href=\"#5.a.-Feature-importances\" data-toc-modified-id=\"5.a.-Feature-importances-7.1\">5.a. Feature importances</a></span></li><li><span><a href=\"#5.b.-Learning-curves\" data-toc-modified-id=\"5.b.-Learning-curves-7.2\">5.b. Learning curves</a></span></li><li><span><a href=\"#5.c.-ROC-curves\" data-toc-modified-id=\"5.c.-ROC-curves-7.3\">5.c. ROC curves</a></span></li><li><span><a href=\"#5.d.-Precision-recall-vs-threshold\" data-toc-modified-id=\"5.d.-Precision-recall-vs-threshold-7.4\">5.d. Precision-recall vs threshold</a></span></li><li><span><a href=\"#5.e.-Confusion-matrix\" data-toc-modified-id=\"5.e.-Confusion-matrix-7.5\">5.e. Confusion matrix</a></span></li></ul></li><li><span><a href=\"#6.-Evaluation\" data-toc-modified-id=\"6.-Evaluation-8\">6. Evaluation</a></span><ul class=\"toc-item\"><li><span><a href=\"#6.a.-Confusion-matrix\" data-toc-modified-id=\"6.a.-Confusion-matrix-8.1\">6.a. Confusion matrix</a></span></li><li><span><a href=\"#6.b.-Classification-scalar-metrics\" data-toc-modified-id=\"6.b.-Classification-scalar-metrics-8.2\">6.b. Classification scalar metrics</a></span></li></ul></li><li><span><a href=\"#7.-Summary\" data-toc-modified-id=\"7.-Summary-9\">7. Summary</a></span></li></ul></div>"
   ]
  },
  {
   "cell_type": "markdown",
   "metadata": {},
   "source": [
    "# Project Fatigue\n",
    "- GitHub [link](https://github.com/romainmartinez/fatigue)\n",
    "- Plotly [link](https://plot.ly/organize/romainmartinez:97)"
   ]
  },
  {
   "cell_type": "markdown",
   "metadata": {},
   "source": [
    "## Todos\n",
    "- ensemble methods"
   ]
  },
  {
   "cell_type": "markdown",
   "metadata": {},
   "source": [
    "## 1. Setup"
   ]
  },
  {
   "cell_type": "code",
   "execution_count": 1,
   "metadata": {
    "run_control": {
     "marked": false
    }
   },
   "outputs": [
    {
     "data": {
      "text/html": [
       "<script>requirejs.config({paths: { 'plotly': ['https://cdn.plot.ly/plotly-latest.min']},});if(!window.Plotly) {{require(['plotly'],function(plotly) {window.Plotly=plotly;});}}</script>"
      ],
      "text/vnd.plotly.v1+html": [
       "<script>requirejs.config({paths: { 'plotly': ['https://cdn.plot.ly/plotly-latest.min']},});if(!window.Plotly) {{require(['plotly'],function(plotly) {window.Plotly=plotly;});}}</script>"
      ]
     },
     "metadata": {},
     "output_type": "display_data"
    }
   ],
   "source": [
    "# Common imports\n",
    "import scipy.io as sio\n",
    "import numpy as np\n",
    "import warnings\n",
    "import os\n",
    "\n",
    "# Figures\n",
    "OFFLINE = True\n",
    "if OFFLINE:\n",
    "    import plotly.offline as py\n",
    "    py.init_notebook_mode(connected=True)\n",
    "else:\n",
    "    import plotly.plotly as py\n",
    "import plotly.graph_objs as go\n",
    "import plotly.figure_factory as ff\n",
    "base_layout = go.Layout(hovermode='closest', font=dict(size=14))\n",
    "\n",
    "# to make this notebook's output stable across runs\n",
    "RANDOM_SEED = 42\n",
    "np.random.seed(RANDOM_SEED)"
   ]
  },
  {
   "cell_type": "markdown",
   "metadata": {},
   "source": [
    "## 2. Get data"
   ]
  },
  {
   "cell_type": "code",
   "execution_count": 2,
   "metadata": {
    "run_control": {
     "marked": false
    }
   },
   "outputs": [],
   "source": [
    "DATA_PATH = os.path.join('.', 'data/')\n",
    "DATA_FILE = 'DatabaseRPT.mat'\n",
    "mat = sio.loadmat(os.path.join(DATA_PATH, DATA_FILE))['DataBaseRPT'][0, 0]"
   ]
  },
  {
   "cell_type": "markdown",
   "metadata": {},
   "source": [
    "- label\n",
    "    - `Y` (1, 162): 1 = prefatigue, 2 = fatigue\n",
    "\n",
    "- used features\n",
    "    - `AllX` (24, 162): 24 (6 DoF x 4 variables) x 162 (81 participants x 2 time points).\n",
    "    - `CAssignAll` (1, 24): AllX column assignment\n",
    "\n",
    "    - `Sex` (1, 162)\n",
    "    - `Endurance` (1, 162)\n",
    "\n",
    "- not used\n",
    "    - `BestX` (7, 162): 7 (variables with SRM>0.8) x 162 (81 participants x 2 time points) matrix. Contains data only for the most responsive variables (SRM>0.8).\n",
    "    - `CAssignBest` (1, 7): BestX column assignment.\n",
    "    - `Age` (1, 162): too much NaN.\n",
    "    - `Height` (1, 162): too much NaN.\n",
    "    - `Weight` (1, 162) Too much NaN.\n",
    "    - `SubjectKey` (1, 162): useless.\n",
    "    - `SID` (1, 162): useless."
   ]
  },
  {
   "cell_type": "markdown",
   "metadata": {},
   "source": [
    "### 2.a. Create feature matrix"
   ]
  },
  {
   "cell_type": "code",
   "execution_count": 3,
   "metadata": {
    "run_control": {
     "marked": false
    }
   },
   "outputs": [],
   "source": [
    "col_names = [i[0] for i in mat['CAssignAll'].flatten()]\n",
    "# find variable with SRM > .8\n",
    "srm_names = np.array([i[0] for i in mat['CAssignBest'].flatten()])\n",
    "srm_idx = np.in1d(col_names, srm_names)\n",
    "\n",
    "# add `AllX`\n",
    "X = mat['AllX'].T\n",
    "\n",
    "SEX = False\n",
    "if SEX:\n",
    "    # add `Sex`\n",
    "    X = np.c_[X, mat['Sex'].T]\n",
    "    col_names.append('Sex')\n",
    "\n",
    "SUM_ZSCORE = True\n",
    "if SUM_ZSCORE:\n",
    "    # add sum of zscore\n",
    "    from sklearn.preprocessing import StandardScaler\n",
    "    sum_zscore_all = StandardScaler().fit_transform(X).sum(axis=1)\n",
    "    sum_zscore_srm = StandardScaler().fit_transform(X)[:, srm_idx].sum(axis=1)\n",
    "    X = np.c_[X, sum_zscore_all, sum_zscore_srm]\n",
    "    col_names.extend(['sum_zscore_all', 'sum_zscore_srm'])\n",
    "    srm_idx = np.append(srm_idx, [False, False])\n",
    "\n",
    "col_names = np.array(col_names)"
   ]
  },
  {
   "cell_type": "markdown",
   "metadata": {},
   "source": [
    "### 2.b. Create label vector"
   ]
  },
  {
   "cell_type": "code",
   "execution_count": 4,
   "metadata": {
    "run_control": {
     "marked": false
    }
   },
   "outputs": [],
   "source": [
    "from sklearn.preprocessing import LabelBinarizer\n",
    "y = mat['Y'].T\n",
    "y = LabelBinarizer().fit_transform(y)"
   ]
  },
  {
   "cell_type": "markdown",
   "metadata": {},
   "source": [
    "### 2.c. Create report"
   ]
  },
  {
   "cell_type": "code",
   "execution_count": 5,
   "metadata": {
    "run_control": {
     "marked": false
    }
   },
   "outputs": [],
   "source": [
    "import os.path\n",
    "import pandas as pd\n",
    "\n",
    "# create dataframe\n",
    "df = pd.DataFrame(X, columns=col_names)\n",
    "df['fatigue (label)'] = y\n",
    "\n",
    "# generate pandas report\n",
    "REPORT_FILENAME = './pandas_report.html'\n",
    "if not os.path.isfile(REPORT_FILENAME):\n",
    "    import pandas_profiling\n",
    "    report = pandas_profiling.ProfileReport(df)\n",
    "    report.to_file('./pandas_report.html')"
   ]
  },
  {
   "cell_type": "markdown",
   "metadata": {},
   "source": [
    "### 2.d. Split data & shuffle"
   ]
  },
  {
   "cell_type": "code",
   "execution_count": 6,
   "metadata": {
    "run_control": {
     "marked": false
    }
   },
   "outputs": [],
   "source": [
    "# split data & shuffle\n",
    "from sklearn.model_selection import train_test_split\n",
    "\n",
    "X_train, X_test, y_train, y_test = train_test_split(\n",
    "    X, y, test_size=0.2, random_state=RANDOM_SEED)"
   ]
  },
  {
   "cell_type": "code",
   "execution_count": 7,
   "metadata": {
    "run_control": {
     "marked": false
    }
   },
   "outputs": [
    {
     "data": {
      "text/html": [
       "<div>\n",
       "<style scoped>\n",
       "    .dataframe tbody tr th:only-of-type {\n",
       "        vertical-align: middle;\n",
       "    }\n",
       "\n",
       "    .dataframe tbody tr th {\n",
       "        vertical-align: top;\n",
       "    }\n",
       "\n",
       "    .dataframe thead th {\n",
       "        text-align: right;\n",
       "    }\n",
       "</style>\n",
       "<table border=\"1\" class=\"dataframe\">\n",
       "  <thead>\n",
       "    <tr style=\"text-align: right;\">\n",
       "      <th></th>\n",
       "      <th>AveElbFlexMean</th>\n",
       "      <th>ROMElbFlexMean</th>\n",
       "      <th>AveElbFlexSD</th>\n",
       "      <th>ROMElbFlexSD</th>\n",
       "      <th>AveShPlaneMean</th>\n",
       "      <th>ROMShPlaneMean</th>\n",
       "      <th>AveShPlaneSD</th>\n",
       "      <th>ROMShPlaneSD</th>\n",
       "      <th>AveShEleMean</th>\n",
       "      <th>ROMShEleMean</th>\n",
       "      <th>...</th>\n",
       "      <th>ROMTrYMean</th>\n",
       "      <th>AveTrYSD</th>\n",
       "      <th>ROMTrYSD</th>\n",
       "      <th>AveTrZMean</th>\n",
       "      <th>ROMTrZMean</th>\n",
       "      <th>AveTrZSD</th>\n",
       "      <th>ROMTrZSD</th>\n",
       "      <th>sum_zscore_all</th>\n",
       "      <th>sum_zscore_srm</th>\n",
       "      <th>fatigue (label)</th>\n",
       "    </tr>\n",
       "  </thead>\n",
       "  <tbody>\n",
       "    <tr>\n",
       "      <th>0</th>\n",
       "      <td>105.983144</td>\n",
       "      <td>63.339618</td>\n",
       "      <td>2.219401</td>\n",
       "      <td>1.794134</td>\n",
       "      <td>23.518597</td>\n",
       "      <td>13.624799</td>\n",
       "      <td>1.338393</td>\n",
       "      <td>2.357813</td>\n",
       "      <td>80.274017</td>\n",
       "      <td>2.942674</td>\n",
       "      <td>...</td>\n",
       "      <td>13.629558</td>\n",
       "      <td>1.112671</td>\n",
       "      <td>1.977798</td>\n",
       "      <td>-0.550047</td>\n",
       "      <td>2.671822</td>\n",
       "      <td>0.228494</td>\n",
       "      <td>0.711787</td>\n",
       "      <td>-10.074628</td>\n",
       "      <td>-2.583470</td>\n",
       "      <td>0</td>\n",
       "    </tr>\n",
       "    <tr>\n",
       "      <th>1</th>\n",
       "      <td>106.166216</td>\n",
       "      <td>61.875226</td>\n",
       "      <td>2.239310</td>\n",
       "      <td>2.548458</td>\n",
       "      <td>22.851141</td>\n",
       "      <td>11.726534</td>\n",
       "      <td>1.182490</td>\n",
       "      <td>1.401127</td>\n",
       "      <td>77.897777</td>\n",
       "      <td>4.062635</td>\n",
       "      <td>...</td>\n",
       "      <td>15.078508</td>\n",
       "      <td>0.910697</td>\n",
       "      <td>1.003788</td>\n",
       "      <td>-0.208865</td>\n",
       "      <td>1.242553</td>\n",
       "      <td>0.541000</td>\n",
       "      <td>0.496108</td>\n",
       "      <td>-10.663077</td>\n",
       "      <td>-1.027980</td>\n",
       "      <td>1</td>\n",
       "    </tr>\n",
       "    <tr>\n",
       "      <th>2</th>\n",
       "      <td>100.914284</td>\n",
       "      <td>60.930029</td>\n",
       "      <td>1.482458</td>\n",
       "      <td>1.167593</td>\n",
       "      <td>27.289316</td>\n",
       "      <td>12.291697</td>\n",
       "      <td>1.223189</td>\n",
       "      <td>2.452705</td>\n",
       "      <td>83.932823</td>\n",
       "      <td>2.886935</td>\n",
       "      <td>...</td>\n",
       "      <td>14.311074</td>\n",
       "      <td>0.979720</td>\n",
       "      <td>2.070705</td>\n",
       "      <td>0.096174</td>\n",
       "      <td>0.934767</td>\n",
       "      <td>0.488540</td>\n",
       "      <td>0.317386</td>\n",
       "      <td>-12.833948</td>\n",
       "      <td>-1.552097</td>\n",
       "      <td>0</td>\n",
       "    </tr>\n",
       "    <tr>\n",
       "      <th>3</th>\n",
       "      <td>105.066549</td>\n",
       "      <td>59.524098</td>\n",
       "      <td>2.364182</td>\n",
       "      <td>1.849991</td>\n",
       "      <td>23.083816</td>\n",
       "      <td>7.519415</td>\n",
       "      <td>1.510000</td>\n",
       "      <td>3.503819</td>\n",
       "      <td>78.701025</td>\n",
       "      <td>2.997990</td>\n",
       "      <td>...</td>\n",
       "      <td>16.178023</td>\n",
       "      <td>1.418294</td>\n",
       "      <td>3.521951</td>\n",
       "      <td>-0.544067</td>\n",
       "      <td>1.885480</td>\n",
       "      <td>0.610577</td>\n",
       "      <td>0.851287</td>\n",
       "      <td>-5.036257</td>\n",
       "      <td>-1.688547</td>\n",
       "      <td>1</td>\n",
       "    </tr>\n",
       "    <tr>\n",
       "      <th>4</th>\n",
       "      <td>93.259333</td>\n",
       "      <td>81.531138</td>\n",
       "      <td>2.610755</td>\n",
       "      <td>3.632922</td>\n",
       "      <td>42.387152</td>\n",
       "      <td>27.789377</td>\n",
       "      <td>1.605530</td>\n",
       "      <td>2.027628</td>\n",
       "      <td>71.280986</td>\n",
       "      <td>8.000008</td>\n",
       "      <td>...</td>\n",
       "      <td>8.815273</td>\n",
       "      <td>0.709582</td>\n",
       "      <td>1.250228</td>\n",
       "      <td>-0.123442</td>\n",
       "      <td>1.065910</td>\n",
       "      <td>0.415764</td>\n",
       "      <td>0.404298</td>\n",
       "      <td>-1.780486</td>\n",
       "      <td>-3.241088</td>\n",
       "      <td>0</td>\n",
       "    </tr>\n",
       "  </tbody>\n",
       "</table>\n",
       "<p>5 rows × 27 columns</p>\n",
       "</div>"
      ],
      "text/plain": [
       "   AveElbFlexMean  ROMElbFlexMean  AveElbFlexSD  ROMElbFlexSD  AveShPlaneMean  \\\n",
       "0      105.983144       63.339618      2.219401      1.794134       23.518597   \n",
       "1      106.166216       61.875226      2.239310      2.548458       22.851141   \n",
       "2      100.914284       60.930029      1.482458      1.167593       27.289316   \n",
       "3      105.066549       59.524098      2.364182      1.849991       23.083816   \n",
       "4       93.259333       81.531138      2.610755      3.632922       42.387152   \n",
       "\n",
       "   ROMShPlaneMean  AveShPlaneSD  ROMShPlaneSD  AveShEleMean  ROMShEleMean  \\\n",
       "0       13.624799      1.338393      2.357813     80.274017      2.942674   \n",
       "1       11.726534      1.182490      1.401127     77.897777      4.062635   \n",
       "2       12.291697      1.223189      2.452705     83.932823      2.886935   \n",
       "3        7.519415      1.510000      3.503819     78.701025      2.997990   \n",
       "4       27.789377      1.605530      2.027628     71.280986      8.000008   \n",
       "\n",
       "        ...         ROMTrYMean  AveTrYSD  ROMTrYSD  AveTrZMean  ROMTrZMean  \\\n",
       "0       ...          13.629558  1.112671  1.977798   -0.550047    2.671822   \n",
       "1       ...          15.078508  0.910697  1.003788   -0.208865    1.242553   \n",
       "2       ...          14.311074  0.979720  2.070705    0.096174    0.934767   \n",
       "3       ...          16.178023  1.418294  3.521951   -0.544067    1.885480   \n",
       "4       ...           8.815273  0.709582  1.250228   -0.123442    1.065910   \n",
       "\n",
       "   AveTrZSD  ROMTrZSD  sum_zscore_all  sum_zscore_srm  fatigue (label)  \n",
       "0  0.228494  0.711787      -10.074628       -2.583470                0  \n",
       "1  0.541000  0.496108      -10.663077       -1.027980                1  \n",
       "2  0.488540  0.317386      -12.833948       -1.552097                0  \n",
       "3  0.610577  0.851287       -5.036257       -1.688547                1  \n",
       "4  0.415764  0.404298       -1.780486       -3.241088                0  \n",
       "\n",
       "[5 rows x 27 columns]"
      ]
     },
     "execution_count": 7,
     "metadata": {},
     "output_type": "execute_result"
    }
   ],
   "source": [
    "df.head()"
   ]
  },
  {
   "cell_type": "markdown",
   "metadata": {},
   "source": [
    "## 2. Pipeline"
   ]
  },
  {
   "cell_type": "markdown",
   "metadata": {},
   "source": [
    "### 2.a. Metrics wrap up\n",
    "\n",
    "#### 2.a.1. Confusion matrix metrics\n",
    "\n",
    "| Predicted | Real: 1 | Real: 0 |\n",
    "|-----------|---------|---------|\n",
    "|    1      |  TP     |    FP   |\n",
    "|    0      |  FN     |    TN   |\n",
    "\n",
    "##### True negative (TN)\n",
    "We *correctly* predict that the class is *negative*.\n",
    "\n",
    "##### False negative (FN)\n",
    "We *incorrectly* predict that the class is *negative*.\n",
    "\n",
    "##### True positive (TP)\n",
    "We *correctly* predict that the class is *positive*.\n",
    "\n",
    "##### False positive (FP)\n",
    "We *incorrectly* predict that the class is *positive*.\n",
    "\n",
    "#### 2.a.2. Metrics\n",
    "\n",
    "##### Precision\n",
    "$$\\frac{TP}{\\text{n}^o \\text{predicted positives}} = \\frac{TP}{TP + FP}$$\n",
    "\n",
    "- high precision = less _false positive_\n",
    "- _example_: getting $0.8$ precision means that when it claims to detect a label, it is right $80$% of the time\n",
    "\n",
    "##### Recall or True Positive Rate (TPR)\n",
    "$$\\frac{TP}{\\text{n}^o \\text{actual positives}} = \\frac{TP}{TP + FN}$$\n",
    "\n",
    "- high recall = less _false negative_\n",
    "- _example_: getting $0.8$ recall means that it detect $80$% of the label\n",
    "\n",
    "##### False Positive Rate (FPR)\n",
    "$$\\frac{FP}{\\text{n}^o \\text{actual negatives}} = \\frac{FP}{FP + TN}$$\n",
    "\n",
    "- high FPR = more _negative data points missclassified_\n",
    "- proportion of negative data points that are mistakenly considered as positive, with respect to all negative data points\n",
    "\n",
    "##### Receiver Operating Characteristic curve (ROC)\n",
    "Compute _TPR_ and _FPR_ for many different threshold and plot FPR vs. TPR\n",
    "\n",
    "##### In our case\n",
    "We want to optimize our algorithm for the area Under the ROC curve ([wiki](https://en.wikipedia.org/wiki/Receiver_operating_characteristic#Area_under_the_curve), [stackexchange](https://stats.stackexchange.com/a/132832))."
   ]
  },
  {
   "cell_type": "markdown",
   "metadata": {},
   "source": [
    "### 2.b. Pipeline creation"
   ]
  },
  {
   "cell_type": "code",
   "execution_count": 8,
   "metadata": {
    "run_control": {
     "marked": false
    }
   },
   "outputs": [],
   "source": [
    "def get_categorical_cols(X):\n",
    "    return X[:, col_names == 'Sex']\n",
    "\n",
    "\n",
    "def get_numerical_cols(X):\n",
    "    return X[:, col_names != 'Sex']\n",
    "\n",
    "\n",
    "def get_high_srm_cols(X, srm_idx=srm_idx):\n",
    "    return X[:, srm_idx]"
   ]
  },
  {
   "cell_type": "code",
   "execution_count": 9,
   "metadata": {
    "run_control": {
     "marked": false
    }
   },
   "outputs": [],
   "source": [
    "from sklearn.pipeline import Pipeline, FeatureUnion\n",
    "from sklearn.preprocessing import FunctionTransformer\n",
    "\n",
    "# categorical\n",
    "from sklearn.preprocessing import OneHotEncoder\n",
    "\n",
    "# numerical\n",
    "from sklearn.preprocessing import StandardScaler\n",
    "from sklearn.decomposition import PCA\n",
    "from sklearn.preprocessing import PolynomialFeatures\n",
    "\n",
    "pipeline_categorical = Pipeline([\n",
    "    ('selector', FunctionTransformer(get_categorical_cols, validate=False)),\n",
    "    ('encoder', OneHotEncoder(sparse=False))\n",
    "])\n",
    "\n",
    "pipeline_numerical = Pipeline([\n",
    "    ('selector', FunctionTransformer(get_numerical_cols, validate=False)),\n",
    "    ('selecthighsrm', FunctionTransformer(get_high_srm_cols, validate=False)),\n",
    "    ('scale', StandardScaler()),\n",
    "    ('polyfeatures', PolynomialFeatures(degree=2))\n",
    "])\n",
    "\n",
    "if SEX:\n",
    "    pipeline_preprocessing = FeatureUnion([\n",
    "        ('categorical', pipeline_categorical),\n",
    "        ('numerical', pipeline_numerical)\n",
    "    ])\n",
    "else:\n",
    "    pipeline_preprocessing = FeatureUnion([\n",
    "        ('numerical', pipeline_numerical)\n",
    "    ])"
   ]
  },
  {
   "cell_type": "code",
   "execution_count": 10,
   "metadata": {
    "run_control": {
     "marked": false
    }
   },
   "outputs": [],
   "source": [
    "from sklearn.model_selection import GridSearchCV\n",
    "import pprint\n",
    "\n",
    "\n",
    "class GridSearchWrapper:\n",
    "    def __init__(self, base_pipeline, model, param_grid, scoring):\n",
    "        self.base_pipeline = base_pipeline\n",
    "        self.model = model\n",
    "        self.param_grid = param_grid\n",
    "        self.scoring = scoring\n",
    "    \n",
    "    def fit(self, X, y):\n",
    "        pipeline = Pipeline([\n",
    "            ('preprocessing', self.base_pipeline),\n",
    "            ('pca', PCA(n_components=0.99, svd_solver='full')),\n",
    "            ('classifier', self.model)\n",
    "        ])\n",
    "        \n",
    "        self.grid_search = GridSearchCV(pipeline,\n",
    "                                        self.param_grid,\n",
    "                                        scoring=self.scoring,\n",
    "                                        cv=5,\n",
    "                                        n_jobs=-1,\n",
    "                                        verbose=1)\n",
    "        self.grid_search.fit(X, y)\n",
    "    \n",
    "    def print_scores(self):\n",
    "        print(f'best score ({self.scoring}): {self.grid_search.best_score_:.3f}')\n",
    "        print('\\nbest params:')\n",
    "        pprint.pprint(self.grid_search.best_params_)"
   ]
  },
  {
   "cell_type": "code",
   "execution_count": 11,
   "metadata": {
    "run_control": {
     "marked": false
    }
   },
   "outputs": [],
   "source": [
    "# wide\n",
    "# param_grid = {\n",
    "#     'preprocessing__numerical__selecthighsrm': [None, FunctionTransformer(get_high_srm_cols, validate=False)],\n",
    "#     'preprocessing__numerical__polyfeatures': [None, PolynomialFeatures(degree=1), PolynomialFeatures(degree=2),\n",
    "#                                                PolynomialFeatures(degree=3)],\n",
    "#     'preprocessing__numerical__scale': [None, StandardScaler()],\n",
    "#     'pca': [None, PCA(n_components=0.99, svd_solver='full')]\n",
    "# }\n",
    "\n",
    "# selected\n",
    "param_grid = {\n",
    "    'preprocessing__numerical__selecthighsrm': [None, FunctionTransformer(get_high_srm_cols, validate=False)],\n",
    "    'preprocessing__numerical__polyfeatures': [None],\n",
    "    'preprocessing__numerical__scale': [None, StandardScaler()],\n",
    "    'pca': [None]\n",
    "}\n",
    "\n",
    "scoring = 'roc_auc'\n",
    "model = {}"
   ]
  },
  {
   "cell_type": "markdown",
   "metadata": {},
   "source": [
    "## 4. Optimization"
   ]
  },
  {
   "cell_type": "markdown",
   "metadata": {},
   "source": [
    "### 4.a. Gradient boosting"
   ]
  },
  {
   "cell_type": "code",
   "execution_count": 12,
   "metadata": {
    "run_control": {
     "marked": false
    }
   },
   "outputs": [
    {
     "name": "stdout",
     "output_type": "stream",
     "text": [
      "Fitting 5 folds for each of 4 candidates, totalling 20 fits\n"
     ]
    },
    {
     "name": "stderr",
     "output_type": "stream",
     "text": [
      "[Parallel(n_jobs=-1)]: Done   5 out of  20 | elapsed:    0.1s remaining:    0.3s\n",
      "[Parallel(n_jobs=-1)]: Done  20 out of  20 | elapsed:    0.3s finished\n"
     ]
    }
   ],
   "source": [
    "from sklearn.ensemble import GradientBoostingClassifier\n",
    "\n",
    "grad_param = {\n",
    "    'learning_rate': 0.001,\n",
    "    'max_depth': 1,\n",
    "    'max_features': 0.75,\n",
    "    'min_samples_leaf': 7,\n",
    "    'min_samples_split': 16,\n",
    "    'n_estimators': 100,\n",
    "    'subsample': 0.3,\n",
    "    'random_state': RANDOM_SEED\n",
    "}\n",
    "\n",
    "wrapper = GridSearchWrapper(\n",
    "    base_pipeline=pipeline_preprocessing,\n",
    "    model=GradientBoostingClassifier(**grad_param),\n",
    "    param_grid=param_grid,\n",
    "    scoring=scoring)\n",
    "\n",
    "wrapper.fit(X_train, y_train.ravel())"
   ]
  },
  {
   "cell_type": "code",
   "execution_count": 13,
   "metadata": {
    "run_control": {
     "marked": false
    }
   },
   "outputs": [
    {
     "name": "stdout",
     "output_type": "stream",
     "text": [
      "best score (roc_auc): 0.916\n",
      "\n",
      "best params:\n",
      "{'pca': None,\n",
      " 'preprocessing__numerical__polyfeatures': None,\n",
      " 'preprocessing__numerical__scale': None,\n",
      " 'preprocessing__numerical__selecthighsrm': None}\n"
     ]
    }
   ],
   "source": [
    "wrapper.print_scores()\n",
    "model['gradboost'] = wrapper.grid_search.best_estimator_"
   ]
  },
  {
   "cell_type": "markdown",
   "metadata": {},
   "source": [
    "### 4.b. XGBoost"
   ]
  },
  {
   "cell_type": "markdown",
   "metadata": {},
   "source": [
    "https://jessesw.com/XG-Boost/"
   ]
  },
  {
   "cell_type": "code",
   "execution_count": 14,
   "metadata": {
    "run_control": {
     "marked": false
    }
   },
   "outputs": [
    {
     "name": "stdout",
     "output_type": "stream",
     "text": [
      "Fitting 5 folds for each of 4 candidates, totalling 20 fits\n"
     ]
    },
    {
     "name": "stderr",
     "output_type": "stream",
     "text": [
      "[Parallel(n_jobs=-1)]: Done   5 out of  20 | elapsed:    0.1s remaining:    0.3s\n",
      "[Parallel(n_jobs=-1)]: Done  20 out of  20 | elapsed:    0.2s finished\n"
     ]
    }
   ],
   "source": [
    "from xgboost import XGBClassifier\n",
    "\n",
    "xgboost_param = {\n",
    "    'learning_rate': 0.06,\n",
    "    'max_depth': 4,\n",
    "    'max_features': 0.75,\n",
    "    'min_samples_leaf': 7,\n",
    "    'min_samples_split': 16,\n",
    "    'min_child_weight': 1,\n",
    "    'colsample_bytree': 0.7,\n",
    "    'n_estimators': 120,\n",
    "    'subsample': 0.9,\n",
    "    'reg_lambda': 0.7,\n",
    "    'reg_alpha': 0.5,\n",
    "    'gamma': 0.2,\n",
    "    'random_state': RANDOM_SEED,\n",
    "    'silent': False\n",
    "}\n",
    "\n",
    "warnings.simplefilter('ignore')\n",
    "wrapper = GridSearchWrapper(\n",
    "    base_pipeline=pipeline_preprocessing,\n",
    "    model=XGBClassifier(**xgboost_param),\n",
    "    param_grid=param_grid,\n",
    "    scoring=scoring)\n",
    "\n",
    "wrapper.fit(X_train, y_train.ravel())\n",
    "warnings.simplefilter('default')"
   ]
  },
  {
   "cell_type": "code",
   "execution_count": 15,
   "metadata": {
    "run_control": {
     "marked": false
    }
   },
   "outputs": [
    {
     "name": "stdout",
     "output_type": "stream",
     "text": [
      "best score (roc_auc): 0.891\n",
      "\n",
      "best params:\n",
      "{'pca': None,\n",
      " 'preprocessing__numerical__polyfeatures': None,\n",
      " 'preprocessing__numerical__scale': None,\n",
      " 'preprocessing__numerical__selecthighsrm': None}\n"
     ]
    }
   ],
   "source": [
    "wrapper.print_scores()\n",
    "model['xgboost'] = wrapper.grid_search.best_estimator_"
   ]
  },
  {
   "cell_type": "markdown",
   "metadata": {},
   "source": [
    "## 4.c. Ensemble learning"
   ]
  },
  {
   "cell_type": "code",
   "execution_count": 16,
   "metadata": {},
   "outputs": [
    {
     "name": "stdout",
     "output_type": "stream",
     "text": [
      "Fitting 5 folds for each of 4 candidates, totalling 20 fits\n"
     ]
    },
    {
     "name": "stderr",
     "output_type": "stream",
     "text": [
      "[Parallel(n_jobs=-1)]: Done   5 out of  20 | elapsed:    0.2s remaining:    0.6s\n",
      "[Parallel(n_jobs=-1)]: Done  20 out of  20 | elapsed:    0.4s finished\n"
     ]
    }
   ],
   "source": [
    "from sklearn.linear_model import LogisticRegression\n",
    "from sklearn.naive_bayes import GaussianNB\n",
    "from sklearn.ensemble import GradientBoostingClassifier, RandomForestClassifier, VotingClassifier\n",
    "from xgboost import XGBClassifier\n",
    "\n",
    "clf = VotingClassifier(\n",
    "    estimators=[\n",
    "        ('lr', LogisticRegression(random_state=RANDOM_SEED)),\n",
    "        ('naive', GaussianNB()),\n",
    "        ('forest', RandomForestClassifier(random_state=RANDOM_SEED)),\n",
    "        ('gradient',  GradientBoostingClassifier(**grad_param)),\n",
    "        ('xgboost',  XGBClassifier(**xgboost_param))\n",
    "    ], voting='soft', weights=[1, 1, 2, 3, 3])\n",
    "\n",
    "warnings.simplefilter('ignore')\n",
    "wrapper = GridSearchWrapper(\n",
    "    base_pipeline=pipeline_preprocessing,\n",
    "    model=clf,\n",
    "    param_grid=param_grid,\n",
    "    scoring=scoring)\n",
    "\n",
    "wrapper.fit(X_train, y_train.ravel())\n",
    "warnings.simplefilter('default')"
   ]
  },
  {
   "cell_type": "code",
   "execution_count": 17,
   "metadata": {},
   "outputs": [
    {
     "name": "stdout",
     "output_type": "stream",
     "text": [
      "best score (roc_auc): 0.878\n",
      "\n",
      "best params:\n",
      "{'pca': None,\n",
      " 'preprocessing__numerical__polyfeatures': None,\n",
      " 'preprocessing__numerical__scale': None,\n",
      " 'preprocessing__numerical__selecthighsrm': None}\n"
     ]
    }
   ],
   "source": [
    "wrapper.print_scores()\n",
    "model['xgboost'] = wrapper.grid_search.best_estimator_"
   ]
  },
  {
   "cell_type": "markdown",
   "metadata": {},
   "source": [
    "## 5. Diagnostic"
   ]
  },
  {
   "cell_type": "code",
   "execution_count": 18,
   "metadata": {},
   "outputs": [],
   "source": [
    "from sklearn.model_selection import cross_val_predict\n",
    "\n",
    "# final_model = model['gradboost']\n",
    "final_model = model['xgboost']\n",
    "\n",
    "warnings.simplefilter('ignore')\n",
    "cv_predict_proba = cross_val_predict(\n",
    "    final_model, X_train, y_train.ravel(), cv=5, method='predict_proba')\n",
    "\n",
    "cv_predict = cross_val_predict(\n",
    "    final_model, X_train, y_train.ravel(), cv=5, method='predict')\n",
    "warnings.simplefilter('default')"
   ]
  },
  {
   "cell_type": "markdown",
   "metadata": {},
   "source": [
    "### 5.a. Feature importances"
   ]
  },
  {
   "cell_type": "code",
   "execution_count": 19,
   "metadata": {},
   "outputs": [],
   "source": [
    "def plot_feature_importances(importances, col_names):\n",
    "    # sort feature\n",
    "    indices = np.argsort(importances)\n",
    "\n",
    "    trace = go.Bar(\n",
    "        x=importances[indices],\n",
    "        y=col_names[indices],\n",
    "        marker=dict(color='red'),\n",
    "        orientation='h',\n",
    "        opacity=0.5)\n",
    "\n",
    "    layout = base_layout.copy()\n",
    "    layout.update(\n",
    "        dict(\n",
    "            title='Feature importances',\n",
    "            xaxis=dict(\n",
    "                title='Feature importances (%)', showline=True, linewidth=1.5),\n",
    "            yaxis=dict(showline=True, linewidth=1.5)))\n",
    "\n",
    "    # adjust y axis\n",
    "    layout['yaxis'].update(nticks=importances.shape[0])\n",
    "    layout.update(margin=go.Margin(t=80, b=80, l=150, r=80, pad=0))\n",
    "\n",
    "    fig = dict(data=[trace], layout=layout)\n",
    "    return fig"
   ]
  },
  {
   "cell_type": "code",
   "execution_count": 20,
   "metadata": {},
   "outputs": [
    {
     "ename": "AttributeError",
     "evalue": "'VotingClassifier' object has no attribute 'feature_importances_'",
     "output_type": "error",
     "traceback": [
      "\u001b[0;31m---------------------------------------------------------------------------\u001b[0m",
      "\u001b[0;31mAttributeError\u001b[0m                            Traceback (most recent call last)",
      "\u001b[0;32m<ipython-input-20-5ee2a258e830>\u001b[0m in \u001b[0;36m<module>\u001b[0;34m()\u001b[0m\n\u001b[1;32m      5\u001b[0m     \u001b[0mfeature_names\u001b[0m \u001b[0;34m=\u001b[0m \u001b[0mnp\u001b[0m\u001b[0;34m.\u001b[0m\u001b[0mappend\u001b[0m\u001b[0;34m(\u001b[0m\u001b[0mcol_names\u001b[0m\u001b[0;34m,\u001b[0m \u001b[0;34m'Sex_1'\u001b[0m\u001b[0;34m)\u001b[0m\u001b[0;34m\u001b[0m\u001b[0m\n\u001b[1;32m      6\u001b[0m \u001b[0;34m\u001b[0m\u001b[0m\n\u001b[0;32m----> 7\u001b[0;31m \u001b[0mimportances\u001b[0m \u001b[0;34m=\u001b[0m \u001b[0mfinal_model\u001b[0m\u001b[0;34m.\u001b[0m\u001b[0mnamed_steps\u001b[0m\u001b[0;34m[\u001b[0m\u001b[0;34m'classifier'\u001b[0m\u001b[0;34m]\u001b[0m\u001b[0;34m.\u001b[0m\u001b[0mfeature_importances_\u001b[0m \u001b[0;34m*\u001b[0m \u001b[0;36m100\u001b[0m\u001b[0;34m\u001b[0m\u001b[0m\n\u001b[0m\u001b[1;32m      8\u001b[0m \u001b[0;34m\u001b[0m\u001b[0m\n\u001b[1;32m      9\u001b[0m \u001b[0mf\u001b[0m \u001b[0;34m=\u001b[0m \u001b[0mplot_feature_importances\u001b[0m\u001b[0;34m(\u001b[0m\u001b[0mimportances\u001b[0m\u001b[0;34m,\u001b[0m \u001b[0mcol_names\u001b[0m\u001b[0;34m)\u001b[0m\u001b[0;34m\u001b[0m\u001b[0m\n",
      "\u001b[0;31mAttributeError\u001b[0m: 'VotingClassifier' object has no attribute 'feature_importances_'"
     ]
    }
   ],
   "source": [
    "# update col_names given one hot encoding\n",
    "if SEX:\n",
    "    feature_names = col_names.copy()\n",
    "    feature_names[-1] = 'Sex_0'\n",
    "    feature_names = np.append(col_names, 'Sex_1')\n",
    "\n",
    "importances = final_model.named_steps['classifier'].feature_importances_ * 100\n",
    "\n",
    "f = plot_feature_importances(importances, col_names)\n",
    "py.iplot(f, filename='fatigue/feature_importances')"
   ]
  },
  {
   "cell_type": "markdown",
   "metadata": {},
   "source": [
    "### 5.b. Learning curves"
   ]
  },
  {
   "cell_type": "code",
   "execution_count": 21,
   "metadata": {},
   "outputs": [],
   "source": [
    "from sklearn.model_selection import learning_curve\n",
    "\n",
    "\n",
    "def plot_learning_curve(\n",
    "        estimator,\n",
    "        X,\n",
    "        y,\n",
    "        scoring='roc_auc',\n",
    "        cv=None,\n",
    "        n_jobs=1,\n",
    "        train_sizes=np.linspace(.1, 1.0, 5),\n",
    "):\n",
    "    warnings.simplefilter('ignore')  # ignore scikit-learn warnings\n",
    "    train_sizes, train_scores, test_scores = learning_curve(\n",
    "        estimator,\n",
    "        X,\n",
    "        y,\n",
    "        scoring=scoring,\n",
    "        cv=cv,\n",
    "        n_jobs=n_jobs,\n",
    "        train_sizes=train_sizes)\n",
    "    warnings.simplefilter('default')\n",
    "\n",
    "    train_scores_mean = np.mean(train_scores, axis=1)\n",
    "    train_scores_std = np.std(train_scores, axis=1)\n",
    "\n",
    "    test_scores_mean = np.mean(test_scores, axis=1)\n",
    "    test_scores_std = np.std(test_scores, axis=1)\n",
    "\n",
    "    trace = []\n",
    "\n",
    "    # training mean\n",
    "    trace.append(\n",
    "        go.Scatter(\n",
    "            x=train_sizes,\n",
    "            y=train_scores_mean,\n",
    "            marker=dict(color='red'),\n",
    "            name='Training score'))\n",
    "\n",
    "    # training std\n",
    "    trace.append(\n",
    "        go.Scatter(\n",
    "            x=train_sizes,\n",
    "            y=train_scores_mean + train_scores_std,\n",
    "            mode='lines',\n",
    "            line=dict(color='red', width=1),\n",
    "            showlegend=False))\n",
    "\n",
    "    trace.append(\n",
    "        go.Scatter(\n",
    "            x=train_sizes,\n",
    "            y=train_scores_mean - train_scores_std,\n",
    "            mode='lines',\n",
    "            line=dict(color='red', width=1),\n",
    "            fill='tonexty',\n",
    "            showlegend=False))\n",
    "\n",
    "    # test mean\n",
    "    trace.append(\n",
    "        go.Scatter(\n",
    "            x=train_sizes,\n",
    "            y=test_scores_mean,\n",
    "            marker=dict(color='green'),\n",
    "            name='Cross-validation score'))\n",
    "\n",
    "    # test std\n",
    "    trace.append(\n",
    "        go.Scatter(\n",
    "            x=train_sizes,\n",
    "            y=test_scores_mean + test_scores_std,\n",
    "            mode='lines',\n",
    "            line=dict(color='green', width=1),\n",
    "            showlegend=False))\n",
    "\n",
    "    trace.append(\n",
    "        go.Scatter(\n",
    "            x=train_sizes,\n",
    "            y=test_scores_mean - test_scores_std,\n",
    "            mode='lines',\n",
    "            line=dict(color='green', width=1),\n",
    "            fill='tonexty',\n",
    "            showlegend=False))\n",
    "\n",
    "    data = [itrace for itrace in trace]\n",
    "    layout = base_layout.copy()\n",
    "    layout.update(\n",
    "        dict(\n",
    "            title='Learning curves',\n",
    "            xaxis=dict(\n",
    "                title='Training examples', showline=True, linewidth=1.5),\n",
    "            yaxis=dict(title='Score (ROC AUC)', showline=True, linewidth=1.5)))\n",
    "    fig = dict(data=data, layout=layout)\n",
    "    return fig"
   ]
  },
  {
   "cell_type": "code",
   "execution_count": 22,
   "metadata": {},
   "outputs": [
    {
     "data": {
      "application/vnd.plotly.v1+json": {
       "data": [
        {
         "marker": {
          "color": "red"
         },
         "name": "Training score",
         "type": "scatter",
         "x": [
          10,
          20,
          30,
          41,
          51,
          61,
          72,
          82,
          92,
          103
         ],
         "y": [
          1,
          1,
          1,
          0.9995098039215687,
          0.9993836657169991,
          0.9984890378438767,
          0.9987623271214602,
          0.9989285714285714,
          0.9990530303030305,
          0.9992458521870287
         ]
        },
        {
         "line": {
          "color": "red",
          "width": 1
         },
         "mode": "lines",
         "showlegend": false,
         "type": "scatter",
         "x": [
          10,
          20,
          30,
          41,
          51,
          61,
          72,
          82,
          92,
          103
         ],
         "y": [
          1,
          1,
          1,
          1.0004901960784314,
          1.000138519462618,
          0.9997821684109387,
          0.9991423835048032,
          0.9995117832720912,
          0.9993524884147889,
          0.9997228171433135
         ]
        },
        {
         "fill": "tonexty",
         "line": {
          "color": "red",
          "width": 1
         },
         "mode": "lines",
         "showlegend": false,
         "type": "scatter",
         "x": [
          10,
          20,
          30,
          41,
          51,
          61,
          72,
          82,
          92,
          103
         ],
         "y": [
          1,
          1,
          1,
          0.998529411764706,
          0.9986288119713802,
          0.9971959072768146,
          0.9983822707381171,
          0.9983453595850516,
          0.9987535721912721,
          0.9987688872307439
         ]
        },
        {
         "marker": {
          "color": "green"
         },
         "name": "Cross-validation score",
         "type": "scatter",
         "x": [
          10,
          20,
          30,
          41,
          51,
          61,
          72,
          82,
          92,
          103
         ],
         "y": [
          0.7798816568047338,
          0.8485207100591717,
          0.8494082840236686,
          0.8489151873767258,
          0.8611439842209073,
          0.8639053254437868,
          0.8761341222879684,
          0.8640039447731753,
          0.8696252465483235,
          0.8738658777120314
         ]
        },
        {
         "line": {
          "color": "green",
          "width": 1
         },
         "mode": "lines",
         "showlegend": false,
         "type": "scatter",
         "x": [
          10,
          20,
          30,
          41,
          51,
          61,
          72,
          82,
          92,
          103
         ],
         "y": [
          0.8976554348366839,
          0.9172820783258413,
          0.9022700844567785,
          0.9236225678078969,
          0.9179624134268272,
          0.925965020601784,
          0.9540111785197052,
          0.9242121559326824,
          0.9203903546016605,
          0.9319428669370491
         ]
        },
        {
         "fill": "tonexty",
         "line": {
          "color": "green",
          "width": 1
         },
         "mode": "lines",
         "showlegend": false,
         "type": "scatter",
         "x": [
          10,
          20,
          30,
          41,
          51,
          61,
          72,
          82,
          92,
          103
         ],
         "y": [
          0.6621078787727837,
          0.7797593417925022,
          0.7965464835905588,
          0.7742078069455547,
          0.8043255550149875,
          0.8018456302857897,
          0.7982570660562316,
          0.8037957336136683,
          0.8188601384949865,
          0.8157888884870137
         ]
        }
       ],
       "layout": {
        "font": {
         "size": 14
        },
        "hovermode": "closest",
        "title": "Learning curves",
        "xaxis": {
         "linewidth": 1.5,
         "showline": true,
         "title": "Training examples"
        },
        "yaxis": {
         "linewidth": 1.5,
         "showline": true,
         "title": "Score (ROC AUC)"
        }
       }
      },
      "text/html": [
       "<div id=\"5adbbfc6-01fe-4f48-8906-474aeb6c75d5\" style=\"height: 525px; width: 100%;\" class=\"plotly-graph-div\"></div><script type=\"text/javascript\">require([\"plotly\"], function(Plotly) { window.PLOTLYENV=window.PLOTLYENV || {};window.PLOTLYENV.BASE_URL=\"https://plot.ly\";Plotly.newPlot(\"5adbbfc6-01fe-4f48-8906-474aeb6c75d5\", [{\"type\": \"scatter\", \"x\": [10, 20, 30, 41, 51, 61, 72, 82, 92, 103], \"y\": [1.0, 1.0, 1.0, 0.9995098039215687, 0.9993836657169991, 0.9984890378438767, 0.9987623271214602, 0.9989285714285714, 0.9990530303030305, 0.9992458521870287], \"marker\": {\"color\": \"red\"}, \"name\": \"Training score\"}, {\"type\": \"scatter\", \"x\": [10, 20, 30, 41, 51, 61, 72, 82, 92, 103], \"y\": [1.0, 1.0, 1.0, 1.0004901960784314, 1.000138519462618, 0.9997821684109387, 0.9991423835048032, 0.9995117832720912, 0.9993524884147889, 0.9997228171433135], \"mode\": \"lines\", \"line\": {\"color\": \"red\", \"width\": 1}, \"showlegend\": false}, {\"type\": \"scatter\", \"x\": [10, 20, 30, 41, 51, 61, 72, 82, 92, 103], \"y\": [1.0, 1.0, 1.0, 0.998529411764706, 0.9986288119713802, 0.9971959072768146, 0.9983822707381171, 0.9983453595850516, 0.9987535721912721, 0.9987688872307439], \"mode\": \"lines\", \"line\": {\"color\": \"red\", \"width\": 1}, \"fill\": \"tonexty\", \"showlegend\": false}, {\"type\": \"scatter\", \"x\": [10, 20, 30, 41, 51, 61, 72, 82, 92, 103], \"y\": [0.7798816568047338, 0.8485207100591717, 0.8494082840236686, 0.8489151873767258, 0.8611439842209073, 0.8639053254437868, 0.8761341222879684, 0.8640039447731753, 0.8696252465483235, 0.8738658777120314], \"marker\": {\"color\": \"green\"}, \"name\": \"Cross-validation score\"}, {\"type\": \"scatter\", \"x\": [10, 20, 30, 41, 51, 61, 72, 82, 92, 103], \"y\": [0.8976554348366839, 0.9172820783258413, 0.9022700844567785, 0.9236225678078969, 0.9179624134268272, 0.925965020601784, 0.9540111785197052, 0.9242121559326824, 0.9203903546016605, 0.9319428669370491], \"mode\": \"lines\", \"line\": {\"color\": \"green\", \"width\": 1}, \"showlegend\": false}, {\"type\": \"scatter\", \"x\": [10, 20, 30, 41, 51, 61, 72, 82, 92, 103], \"y\": [0.6621078787727837, 0.7797593417925022, 0.7965464835905588, 0.7742078069455547, 0.8043255550149875, 0.8018456302857897, 0.7982570660562316, 0.8037957336136683, 0.8188601384949865, 0.8157888884870137], \"mode\": \"lines\", \"line\": {\"color\": \"green\", \"width\": 1}, \"fill\": \"tonexty\", \"showlegend\": false}], {\"hovermode\": \"closest\", \"font\": {\"size\": 14}, \"title\": \"Learning curves\", \"xaxis\": {\"title\": \"Training examples\", \"showline\": true, \"linewidth\": 1.5}, \"yaxis\": {\"title\": \"Score (ROC AUC)\", \"showline\": true, \"linewidth\": 1.5}}, {\"showLink\": true, \"linkText\": \"Export to plot.ly\"})});</script>"
      ],
      "text/vnd.plotly.v1+html": [
       "<div id=\"5adbbfc6-01fe-4f48-8906-474aeb6c75d5\" style=\"height: 525px; width: 100%;\" class=\"plotly-graph-div\"></div><script type=\"text/javascript\">require([\"plotly\"], function(Plotly) { window.PLOTLYENV=window.PLOTLYENV || {};window.PLOTLYENV.BASE_URL=\"https://plot.ly\";Plotly.newPlot(\"5adbbfc6-01fe-4f48-8906-474aeb6c75d5\", [{\"type\": \"scatter\", \"x\": [10, 20, 30, 41, 51, 61, 72, 82, 92, 103], \"y\": [1.0, 1.0, 1.0, 0.9995098039215687, 0.9993836657169991, 0.9984890378438767, 0.9987623271214602, 0.9989285714285714, 0.9990530303030305, 0.9992458521870287], \"marker\": {\"color\": \"red\"}, \"name\": \"Training score\"}, {\"type\": \"scatter\", \"x\": [10, 20, 30, 41, 51, 61, 72, 82, 92, 103], \"y\": [1.0, 1.0, 1.0, 1.0004901960784314, 1.000138519462618, 0.9997821684109387, 0.9991423835048032, 0.9995117832720912, 0.9993524884147889, 0.9997228171433135], \"mode\": \"lines\", \"line\": {\"color\": \"red\", \"width\": 1}, \"showlegend\": false}, {\"type\": \"scatter\", \"x\": [10, 20, 30, 41, 51, 61, 72, 82, 92, 103], \"y\": [1.0, 1.0, 1.0, 0.998529411764706, 0.9986288119713802, 0.9971959072768146, 0.9983822707381171, 0.9983453595850516, 0.9987535721912721, 0.9987688872307439], \"mode\": \"lines\", \"line\": {\"color\": \"red\", \"width\": 1}, \"fill\": \"tonexty\", \"showlegend\": false}, {\"type\": \"scatter\", \"x\": [10, 20, 30, 41, 51, 61, 72, 82, 92, 103], \"y\": [0.7798816568047338, 0.8485207100591717, 0.8494082840236686, 0.8489151873767258, 0.8611439842209073, 0.8639053254437868, 0.8761341222879684, 0.8640039447731753, 0.8696252465483235, 0.8738658777120314], \"marker\": {\"color\": \"green\"}, \"name\": \"Cross-validation score\"}, {\"type\": \"scatter\", \"x\": [10, 20, 30, 41, 51, 61, 72, 82, 92, 103], \"y\": [0.8976554348366839, 0.9172820783258413, 0.9022700844567785, 0.9236225678078969, 0.9179624134268272, 0.925965020601784, 0.9540111785197052, 0.9242121559326824, 0.9203903546016605, 0.9319428669370491], \"mode\": \"lines\", \"line\": {\"color\": \"green\", \"width\": 1}, \"showlegend\": false}, {\"type\": \"scatter\", \"x\": [10, 20, 30, 41, 51, 61, 72, 82, 92, 103], \"y\": [0.6621078787727837, 0.7797593417925022, 0.7965464835905588, 0.7742078069455547, 0.8043255550149875, 0.8018456302857897, 0.7982570660562316, 0.8037957336136683, 0.8188601384949865, 0.8157888884870137], \"mode\": \"lines\", \"line\": {\"color\": \"green\", \"width\": 1}, \"fill\": \"tonexty\", \"showlegend\": false}], {\"hovermode\": \"closest\", \"font\": {\"size\": 14}, \"title\": \"Learning curves\", \"xaxis\": {\"title\": \"Training examples\", \"showline\": true, \"linewidth\": 1.5}, \"yaxis\": {\"title\": \"Score (ROC AUC)\", \"showline\": true, \"linewidth\": 1.5}}, {\"showLink\": true, \"linkText\": \"Export to plot.ly\"})});</script>"
      ]
     },
     "metadata": {},
     "output_type": "display_data"
    }
   ],
   "source": [
    "l = plot_learning_curve(\n",
    "    estimator=final_model,\n",
    "    X=X_train,\n",
    "    y=y_train.ravel(),\n",
    "    scoring=scoring,\n",
    "    cv=5,\n",
    "    train_sizes=np.linspace(.1, 1.0, 10))\n",
    "py.iplot(l, filename='fatigue/learning_curve')"
   ]
  },
  {
   "cell_type": "markdown",
   "metadata": {},
   "source": [
    "### 5.c. ROC curves"
   ]
  },
  {
   "cell_type": "code",
   "execution_count": 23,
   "metadata": {},
   "outputs": [],
   "source": [
    "from sklearn.metrics import roc_curve, roc_auc_score\n",
    "\n",
    "\n",
    "def plot_roc_curve(y_true, y_pred):\n",
    "    fpr, tpr, auc_thresholds = roc_curve(y_true, y_pred)\n",
    "    roc_auc = roc_auc_score(y_true, y_pred)\n",
    "\n",
    "    trace_roc = go.Scatter(\n",
    "        x=fpr,\n",
    "        y=tpr,\n",
    "        mode='lines',\n",
    "        line=dict(color='gray'),\n",
    "        name=f'ROC curve (AUC = {roc_auc:.2f})',\n",
    "        fill='tozeroy')\n",
    "\n",
    "    trace_random = go.Scatter(\n",
    "        x=[0, 1],\n",
    "        y=[0, 1],\n",
    "        mode='lines',\n",
    "        line=dict(color='black', dash='dash'),\n",
    "        name='Random')\n",
    "\n",
    "    layout = base_layout.copy()\n",
    "    layout.update(\n",
    "        dict(\n",
    "            title=\n",
    "            f'Receiver operating characteristic curve (roc auc = {roc_auc:.2f})',\n",
    "            xaxis=dict(\n",
    "                title='False positive rate', showline=True, linewidth=1.5),\n",
    "            yaxis=dict(\n",
    "                title='True positive rate',\n",
    "                showline=True,\n",
    "                linewidth=1.5,\n",
    "                zeroline=False)))\n",
    "    fig = dict(data=[trace_roc, trace_random], layout=layout)\n",
    "    return fig"
   ]
  },
  {
   "cell_type": "code",
   "execution_count": 24,
   "metadata": {},
   "outputs": [
    {
     "data": {
      "application/vnd.plotly.v1+json": {
       "data": [
        {
         "fill": "tozeroy",
         "line": {
          "color": "gray"
         },
         "mode": "lines",
         "name": "ROC curve (AUC = 0.87)",
         "type": "scatter",
         "x": [
          0,
          0,
          0.03125,
          0.03125,
          0.046875,
          0.046875,
          0.0625,
          0.0625,
          0.078125,
          0.078125,
          0.09375,
          0.09375,
          0.109375,
          0.109375,
          0.203125,
          0.203125,
          0.21875,
          0.21875,
          0.234375,
          0.234375,
          0.265625,
          0.265625,
          0.296875,
          0.296875,
          0.5,
          0.5,
          0.578125,
          0.578125,
          0.953125,
          0.953125,
          1,
          1
         ],
         "y": [
          0.015384615384615385,
          0.49230769230769234,
          0.49230769230769234,
          0.5538461538461539,
          0.5538461538461539,
          0.6153846153846154,
          0.6153846153846154,
          0.6307692307692307,
          0.6307692307692307,
          0.6461538461538462,
          0.6461538461538462,
          0.676923076923077,
          0.676923076923077,
          0.7538461538461538,
          0.7538461538461538,
          0.7692307692307693,
          0.7692307692307693,
          0.8,
          0.8,
          0.8461538461538461,
          0.8461538461538461,
          0.8923076923076924,
          0.8923076923076924,
          0.9076923076923077,
          0.9076923076923077,
          0.9384615384615385,
          0.9384615384615385,
          0.9538461538461539,
          0.9538461538461539,
          0.9692307692307692,
          0.9692307692307692,
          1
         ]
        },
        {
         "line": {
          "color": "black",
          "dash": "dash"
         },
         "mode": "lines",
         "name": "Random",
         "type": "scatter",
         "x": [
          0,
          1
         ],
         "y": [
          0,
          1
         ]
        }
       ],
       "layout": {
        "font": {
         "size": 14
        },
        "hovermode": "closest",
        "title": "Receiver operating characteristic curve (roc auc = 0.87)",
        "xaxis": {
         "linewidth": 1.5,
         "showline": true,
         "title": "False positive rate"
        },
        "yaxis": {
         "linewidth": 1.5,
         "showline": true,
         "title": "True positive rate",
         "zeroline": false
        }
       }
      },
      "text/html": [
       "<div id=\"3d694d4b-d730-4728-b8f1-8ea3cbb22ba9\" style=\"height: 525px; width: 100%;\" class=\"plotly-graph-div\"></div><script type=\"text/javascript\">require([\"plotly\"], function(Plotly) { window.PLOTLYENV=window.PLOTLYENV || {};window.PLOTLYENV.BASE_URL=\"https://plot.ly\";Plotly.newPlot(\"3d694d4b-d730-4728-b8f1-8ea3cbb22ba9\", [{\"type\": \"scatter\", \"x\": [0.0, 0.0, 0.03125, 0.03125, 0.046875, 0.046875, 0.0625, 0.0625, 0.078125, 0.078125, 0.09375, 0.09375, 0.109375, 0.109375, 0.203125, 0.203125, 0.21875, 0.21875, 0.234375, 0.234375, 0.265625, 0.265625, 0.296875, 0.296875, 0.5, 0.5, 0.578125, 0.578125, 0.953125, 0.953125, 1.0, 1.0], \"y\": [0.015384615384615385, 0.49230769230769234, 0.49230769230769234, 0.5538461538461539, 0.5538461538461539, 0.6153846153846154, 0.6153846153846154, 0.6307692307692307, 0.6307692307692307, 0.6461538461538462, 0.6461538461538462, 0.676923076923077, 0.676923076923077, 0.7538461538461538, 0.7538461538461538, 0.7692307692307693, 0.7692307692307693, 0.8, 0.8, 0.8461538461538461, 0.8461538461538461, 0.8923076923076924, 0.8923076923076924, 0.9076923076923077, 0.9076923076923077, 0.9384615384615385, 0.9384615384615385, 0.9538461538461539, 0.9538461538461539, 0.9692307692307692, 0.9692307692307692, 1.0], \"mode\": \"lines\", \"line\": {\"color\": \"gray\"}, \"name\": \"ROC curve (AUC = 0.87)\", \"fill\": \"tozeroy\"}, {\"type\": \"scatter\", \"x\": [0, 1], \"y\": [0, 1], \"mode\": \"lines\", \"line\": {\"color\": \"black\", \"dash\": \"dash\"}, \"name\": \"Random\"}], {\"hovermode\": \"closest\", \"font\": {\"size\": 14}, \"title\": \"Receiver operating characteristic curve (roc auc = 0.87)\", \"xaxis\": {\"title\": \"False positive rate\", \"showline\": true, \"linewidth\": 1.5}, \"yaxis\": {\"title\": \"True positive rate\", \"showline\": true, \"linewidth\": 1.5, \"zeroline\": false}}, {\"showLink\": true, \"linkText\": \"Export to plot.ly\"})});</script>"
      ],
      "text/vnd.plotly.v1+html": [
       "<div id=\"3d694d4b-d730-4728-b8f1-8ea3cbb22ba9\" style=\"height: 525px; width: 100%;\" class=\"plotly-graph-div\"></div><script type=\"text/javascript\">require([\"plotly\"], function(Plotly) { window.PLOTLYENV=window.PLOTLYENV || {};window.PLOTLYENV.BASE_URL=\"https://plot.ly\";Plotly.newPlot(\"3d694d4b-d730-4728-b8f1-8ea3cbb22ba9\", [{\"type\": \"scatter\", \"x\": [0.0, 0.0, 0.03125, 0.03125, 0.046875, 0.046875, 0.0625, 0.0625, 0.078125, 0.078125, 0.09375, 0.09375, 0.109375, 0.109375, 0.203125, 0.203125, 0.21875, 0.21875, 0.234375, 0.234375, 0.265625, 0.265625, 0.296875, 0.296875, 0.5, 0.5, 0.578125, 0.578125, 0.953125, 0.953125, 1.0, 1.0], \"y\": [0.015384615384615385, 0.49230769230769234, 0.49230769230769234, 0.5538461538461539, 0.5538461538461539, 0.6153846153846154, 0.6153846153846154, 0.6307692307692307, 0.6307692307692307, 0.6461538461538462, 0.6461538461538462, 0.676923076923077, 0.676923076923077, 0.7538461538461538, 0.7538461538461538, 0.7692307692307693, 0.7692307692307693, 0.8, 0.8, 0.8461538461538461, 0.8461538461538461, 0.8923076923076924, 0.8923076923076924, 0.9076923076923077, 0.9076923076923077, 0.9384615384615385, 0.9384615384615385, 0.9538461538461539, 0.9538461538461539, 0.9692307692307692, 0.9692307692307692, 1.0], \"mode\": \"lines\", \"line\": {\"color\": \"gray\"}, \"name\": \"ROC curve (AUC = 0.87)\", \"fill\": \"tozeroy\"}, {\"type\": \"scatter\", \"x\": [0, 1], \"y\": [0, 1], \"mode\": \"lines\", \"line\": {\"color\": \"black\", \"dash\": \"dash\"}, \"name\": \"Random\"}], {\"hovermode\": \"closest\", \"font\": {\"size\": 14}, \"title\": \"Receiver operating characteristic curve (roc auc = 0.87)\", \"xaxis\": {\"title\": \"False positive rate\", \"showline\": true, \"linewidth\": 1.5}, \"yaxis\": {\"title\": \"True positive rate\", \"showline\": true, \"linewidth\": 1.5, \"zeroline\": false}}, {\"showLink\": true, \"linkText\": \"Export to plot.ly\"})});</script>"
      ]
     },
     "metadata": {},
     "output_type": "display_data"
    }
   ],
   "source": [
    "r = plot_roc_curve(y_train, cv_predict_proba[:, 1])\n",
    "py.iplot(r, filename='fatigue/roc_curve')"
   ]
  },
  {
   "cell_type": "markdown",
   "metadata": {},
   "source": [
    "### 5.d. Precision-recall vs threshold"
   ]
  },
  {
   "cell_type": "code",
   "execution_count": 25,
   "metadata": {},
   "outputs": [],
   "source": [
    "from sklearn.metrics import precision_recall_curve\n",
    "\n",
    "\n",
    "def precision_recall_vs_threshold(y_true, y_pred):\n",
    "    precision, recall, thresholds = precision_recall_curve(y_true, y_pred)\n",
    "\n",
    "    trace_precision = go.Scatter(\n",
    "        x=thresholds,\n",
    "        y=precision[:-1],\n",
    "        mode='lines',\n",
    "        line=dict(color='blue'),\n",
    "        name='Precision')\n",
    "\n",
    "    trace_recall = go.Scatter(\n",
    "        x=thresholds,\n",
    "        y=recall[:-1],\n",
    "        mode='lines',\n",
    "        line=dict(color='green'),\n",
    "        name='Recall')\n",
    "\n",
    "    layout = base_layout.copy()\n",
    "    layout.update(\n",
    "        dict(\n",
    "            title=\n",
    "            'Precision and recall scores as a function of the decision threshold',\n",
    "            xaxis=dict(\n",
    "                title='Decision threshold', showline=True, linewidth=1.5),\n",
    "            yaxis=dict(title='Score', showline=True, linewidth=1.5)))\n",
    "    fig = dict(data=[trace_precision, trace_recall], layout=layout)\n",
    "    return fig"
   ]
  },
  {
   "cell_type": "code",
   "execution_count": 26,
   "metadata": {},
   "outputs": [
    {
     "data": {
      "application/vnd.plotly.v1+json": {
       "data": [
        {
         "line": {
          "color": "blue"
         },
         "mode": "lines",
         "name": "Precision",
         "type": "scatter",
         "x": [
          0.15778877383788614,
          0.16602490065821796,
          0.16945426135611644,
          0.16961480898442557,
          0.1748794199125312,
          0.1749800813490589,
          0.1819021382642288,
          0.18234070762620877,
          0.18362299113022845,
          0.1865389026695396,
          0.18948310439891297,
          0.19269396689693366,
          0.19371480392128593,
          0.1947208818401376,
          0.198716084407382,
          0.19914945713492935,
          0.1993600826779614,
          0.20055840742800032,
          0.20423519156087377,
          0.20662306064556396,
          0.20710478441812943,
          0.20860727897783668,
          0.2123876505362011,
          0.21569968642567483,
          0.21928433681019585,
          0.2211459372692895,
          0.22774185366161132,
          0.2278312260499856,
          0.2361627102872415,
          0.23656396958594614,
          0.2391042789545482,
          0.24159546378380367,
          0.24684208678036362,
          0.2481614005544041,
          0.2548949234261932,
          0.255362960709332,
          0.271103585697147,
          0.272793123925866,
          0.2730769454705683,
          0.2738247333947365,
          0.27962042974792967,
          0.28119155614672586,
          0.28403557067539964,
          0.2840772355044547,
          0.2977068827187612,
          0.30232832967016793,
          0.31077256372015805,
          0.3315920376644012,
          0.35637956766052226,
          0.35910601468268866,
          0.36604989629629736,
          0.3678665027358498,
          0.3723624198898177,
          0.3822094148317091,
          0.39124665017867855,
          0.43023703538612035,
          0.4340717906273566,
          0.43681089154369257,
          0.43995919913791504,
          0.44690504696795835,
          0.4582349994510085,
          0.45985532973549487,
          0.4650528801303139,
          0.4676084738943402,
          0.47232361546141305,
          0.49164764545211026,
          0.5077218718688734,
          0.5109624061524727,
          0.5311034185450477,
          0.5653845424646747,
          0.5666077553227306,
          0.5677902605708545,
          0.5698932752594017,
          0.5770383632232559,
          0.5875220487819253,
          0.590317290292055,
          0.5938215281275236,
          0.5963611572551922,
          0.6057502081582922,
          0.6150673291299458,
          0.6154716367712926,
          0.6210935301497511,
          0.6265715777587519,
          0.6292643322504434,
          0.6319401814788005,
          0.6385023650270852,
          0.6549694915036826,
          0.6592793065611801,
          0.6658966272852445,
          0.6823501939628454,
          0.700914977338415,
          0.7094386429585703,
          0.7104968572672192,
          0.7151967262034999,
          0.7225079911256189,
          0.7237862555160287,
          0.7343978055192464,
          0.7473735504455662,
          0.752664843154385,
          0.7536790922376821,
          0.7567868511761231,
          0.7640853900603579,
          0.7655139515445052,
          0.7684277157441939,
          0.7817968423099175,
          0.7825263119532962,
          0.7926666347809851,
          0.7934279819571646,
          0.7960085875737414,
          0.8013753486863953,
          0.809841980452607,
          0.8174401119019657,
          0.820355783144227,
          0.8288050235519254,
          0.8319041281071812,
          0.8330087417745865,
          0.8341651629925504,
          0.837717804118569,
          0.840872773361194,
          0.8459569729532574,
          0.8495730933203255,
          0.8513802631224472,
          0.8554528520427024,
          0.8558414586102827,
          0.855894959775048,
          0.8569732162846504,
          0.8571100794356772,
          0.8582636265563236,
          0.858633290229414
         ],
         "y": [
          0.5038759689922481,
          0.5,
          0.49606299212598426,
          0.5,
          0.504,
          0.5080645161290323,
          0.5040650406504065,
          0.5081967213114754,
          0.512396694214876,
          0.5166666666666667,
          0.5210084033613446,
          0.5254237288135594,
          0.5299145299145299,
          0.5344827586206896,
          0.5391304347826087,
          0.543859649122807,
          0.5486725663716814,
          0.5535714285714286,
          0.5585585585585585,
          0.5636363636363636,
          0.5688073394495413,
          0.5740740740740741,
          0.5794392523364486,
          0.5849056603773585,
          0.5904761904761905,
          0.5961538461538461,
          0.6019417475728155,
          0.6078431372549019,
          0.6138613861386139,
          0.62,
          0.6262626262626263,
          0.6224489795918368,
          0.6288659793814433,
          0.6354166666666666,
          0.6421052631578947,
          0.648936170212766,
          0.6559139784946236,
          0.6521739130434783,
          0.6483516483516484,
          0.6555555555555556,
          0.6629213483146067,
          0.6704545454545454,
          0.6781609195402298,
          0.686046511627907,
          0.6941176470588235,
          0.7023809523809523,
          0.7108433734939759,
          0.7195121951219512,
          0.7283950617283951,
          0.7375,
          0.7468354430379747,
          0.7564102564102564,
          0.7532467532467533,
          0.7631578947368421,
          0.7733333333333333,
          0.7702702702702703,
          0.7671232876712328,
          0.7638888888888888,
          0.7746478873239436,
          0.7857142857142857,
          0.782608695652174,
          0.7794117647058824,
          0.7761194029850746,
          0.7878787878787878,
          0.7846153846153846,
          0.78125,
          0.7936507936507936,
          0.7903225806451613,
          0.8032786885245902,
          0.8166666666666667,
          0.8305084745762712,
          0.8448275862068966,
          0.8596491228070176,
          0.875,
          0.8727272727272727,
          0.8703703703703703,
          0.8679245283018868,
          0.8653846153846154,
          0.8627450980392157,
          0.88,
          0.8775510204081632,
          0.875,
          0.8936170212765957,
          0.8913043478260869,
          0.9111111111111111,
          0.9090909090909091,
          0.9302325581395349,
          0.9285714285714286,
          0.926829268292683,
          0.925,
          0.9230769230769231,
          0.9473684210526315,
          0.9459459459459459,
          0.9444444444444444,
          0.9428571428571428,
          0.9411764705882353,
          0.9696969696969697,
          1,
          1,
          1,
          1,
          1,
          1,
          1,
          1,
          1,
          1,
          1,
          1,
          1,
          1,
          1,
          1,
          1,
          1,
          1,
          1,
          1,
          1,
          1,
          1,
          1,
          1,
          1,
          1,
          1,
          1,
          1,
          1
         ]
        },
        {
         "line": {
          "color": "green"
         },
         "mode": "lines",
         "name": "Recall",
         "type": "scatter",
         "x": [
          0.15778877383788614,
          0.16602490065821796,
          0.16945426135611644,
          0.16961480898442557,
          0.1748794199125312,
          0.1749800813490589,
          0.1819021382642288,
          0.18234070762620877,
          0.18362299113022845,
          0.1865389026695396,
          0.18948310439891297,
          0.19269396689693366,
          0.19371480392128593,
          0.1947208818401376,
          0.198716084407382,
          0.19914945713492935,
          0.1993600826779614,
          0.20055840742800032,
          0.20423519156087377,
          0.20662306064556396,
          0.20710478441812943,
          0.20860727897783668,
          0.2123876505362011,
          0.21569968642567483,
          0.21928433681019585,
          0.2211459372692895,
          0.22774185366161132,
          0.2278312260499856,
          0.2361627102872415,
          0.23656396958594614,
          0.2391042789545482,
          0.24159546378380367,
          0.24684208678036362,
          0.2481614005544041,
          0.2548949234261932,
          0.255362960709332,
          0.271103585697147,
          0.272793123925866,
          0.2730769454705683,
          0.2738247333947365,
          0.27962042974792967,
          0.28119155614672586,
          0.28403557067539964,
          0.2840772355044547,
          0.2977068827187612,
          0.30232832967016793,
          0.31077256372015805,
          0.3315920376644012,
          0.35637956766052226,
          0.35910601468268866,
          0.36604989629629736,
          0.3678665027358498,
          0.3723624198898177,
          0.3822094148317091,
          0.39124665017867855,
          0.43023703538612035,
          0.4340717906273566,
          0.43681089154369257,
          0.43995919913791504,
          0.44690504696795835,
          0.4582349994510085,
          0.45985532973549487,
          0.4650528801303139,
          0.4676084738943402,
          0.47232361546141305,
          0.49164764545211026,
          0.5077218718688734,
          0.5109624061524727,
          0.5311034185450477,
          0.5653845424646747,
          0.5666077553227306,
          0.5677902605708545,
          0.5698932752594017,
          0.5770383632232559,
          0.5875220487819253,
          0.590317290292055,
          0.5938215281275236,
          0.5963611572551922,
          0.6057502081582922,
          0.6150673291299458,
          0.6154716367712926,
          0.6210935301497511,
          0.6265715777587519,
          0.6292643322504434,
          0.6319401814788005,
          0.6385023650270852,
          0.6549694915036826,
          0.6592793065611801,
          0.6658966272852445,
          0.6823501939628454,
          0.700914977338415,
          0.7094386429585703,
          0.7104968572672192,
          0.7151967262034999,
          0.7225079911256189,
          0.7237862555160287,
          0.7343978055192464,
          0.7473735504455662,
          0.752664843154385,
          0.7536790922376821,
          0.7567868511761231,
          0.7640853900603579,
          0.7655139515445052,
          0.7684277157441939,
          0.7817968423099175,
          0.7825263119532962,
          0.7926666347809851,
          0.7934279819571646,
          0.7960085875737414,
          0.8013753486863953,
          0.809841980452607,
          0.8174401119019657,
          0.820355783144227,
          0.8288050235519254,
          0.8319041281071812,
          0.8330087417745865,
          0.8341651629925504,
          0.837717804118569,
          0.840872773361194,
          0.8459569729532574,
          0.8495730933203255,
          0.8513802631224472,
          0.8554528520427024,
          0.8558414586102827,
          0.855894959775048,
          0.8569732162846504,
          0.8571100794356772,
          0.8582636265563236,
          0.858633290229414
         ],
         "y": [
          1,
          0.9846153846153847,
          0.9692307692307692,
          0.9692307692307692,
          0.9692307692307692,
          0.9692307692307692,
          0.9538461538461539,
          0.9538461538461539,
          0.9538461538461539,
          0.9538461538461539,
          0.9538461538461539,
          0.9538461538461539,
          0.9538461538461539,
          0.9538461538461539,
          0.9538461538461539,
          0.9538461538461539,
          0.9538461538461539,
          0.9538461538461539,
          0.9538461538461539,
          0.9538461538461539,
          0.9538461538461539,
          0.9538461538461539,
          0.9538461538461539,
          0.9538461538461539,
          0.9538461538461539,
          0.9538461538461539,
          0.9538461538461539,
          0.9538461538461539,
          0.9538461538461539,
          0.9538461538461539,
          0.9538461538461539,
          0.9384615384615385,
          0.9384615384615385,
          0.9384615384615385,
          0.9384615384615385,
          0.9384615384615385,
          0.9384615384615385,
          0.9230769230769231,
          0.9076923076923077,
          0.9076923076923077,
          0.9076923076923077,
          0.9076923076923077,
          0.9076923076923077,
          0.9076923076923077,
          0.9076923076923077,
          0.9076923076923077,
          0.9076923076923077,
          0.9076923076923077,
          0.9076923076923077,
          0.9076923076923077,
          0.9076923076923077,
          0.9076923076923077,
          0.8923076923076924,
          0.8923076923076924,
          0.8923076923076924,
          0.8769230769230769,
          0.8615384615384616,
          0.8461538461538461,
          0.8461538461538461,
          0.8461538461538461,
          0.8307692307692308,
          0.8153846153846154,
          0.8,
          0.8,
          0.7846153846153846,
          0.7692307692307693,
          0.7692307692307693,
          0.7538461538461538,
          0.7538461538461538,
          0.7538461538461538,
          0.7538461538461538,
          0.7538461538461538,
          0.7538461538461538,
          0.7538461538461538,
          0.7384615384615385,
          0.7230769230769231,
          0.7076923076923077,
          0.6923076923076923,
          0.676923076923077,
          0.676923076923077,
          0.6615384615384615,
          0.6461538461538462,
          0.6461538461538462,
          0.6307692307692307,
          0.6307692307692307,
          0.6153846153846154,
          0.6153846153846154,
          0.6,
          0.5846153846153846,
          0.5692307692307692,
          0.5538461538461539,
          0.5538461538461539,
          0.5384615384615384,
          0.5230769230769231,
          0.5076923076923077,
          0.49230769230769234,
          0.49230769230769234,
          0.49230769230769234,
          0.47692307692307695,
          0.46153846153846156,
          0.4461538461538462,
          0.4307692307692308,
          0.4153846153846154,
          0.4,
          0.38461538461538464,
          0.36923076923076925,
          0.35384615384615387,
          0.3384615384615385,
          0.3230769230769231,
          0.3076923076923077,
          0.2923076923076923,
          0.27692307692307694,
          0.26153846153846155,
          0.24615384615384617,
          0.23076923076923078,
          0.2153846153846154,
          0.2,
          0.18461538461538463,
          0.16923076923076924,
          0.15384615384615385,
          0.13846153846153847,
          0.12307692307692308,
          0.1076923076923077,
          0.09230769230769231,
          0.07692307692307693,
          0.06153846153846154,
          0.046153846153846156,
          0.03076923076923077,
          0.015384615384615385
         ]
        }
       ],
       "layout": {
        "font": {
         "size": 14
        },
        "hovermode": "closest",
        "title": "Precision and recall scores as a function of the decision threshold",
        "xaxis": {
         "linewidth": 1.5,
         "showline": true,
         "title": "Decision threshold"
        },
        "yaxis": {
         "linewidth": 1.5,
         "showline": true,
         "title": "Score"
        }
       }
      },
      "text/html": [
       "<div id=\"b6e4008b-5352-4888-8813-f085a72ec525\" style=\"height: 525px; width: 100%;\" class=\"plotly-graph-div\"></div><script type=\"text/javascript\">require([\"plotly\"], function(Plotly) { window.PLOTLYENV=window.PLOTLYENV || {};window.PLOTLYENV.BASE_URL=\"https://plot.ly\";Plotly.newPlot(\"b6e4008b-5352-4888-8813-f085a72ec525\", [{\"type\": \"scatter\", \"x\": [0.15778877383788614, 0.16602490065821796, 0.16945426135611644, 0.16961480898442557, 0.1748794199125312, 0.1749800813490589, 0.1819021382642288, 0.18234070762620877, 0.18362299113022845, 0.1865389026695396, 0.18948310439891297, 0.19269396689693366, 0.19371480392128593, 0.1947208818401376, 0.198716084407382, 0.19914945713492935, 0.1993600826779614, 0.20055840742800032, 0.20423519156087377, 0.20662306064556396, 0.20710478441812943, 0.20860727897783668, 0.2123876505362011, 0.21569968642567483, 0.21928433681019585, 0.2211459372692895, 0.22774185366161132, 0.2278312260499856, 0.2361627102872415, 0.23656396958594614, 0.2391042789545482, 0.24159546378380367, 0.24684208678036362, 0.2481614005544041, 0.2548949234261932, 0.255362960709332, 0.271103585697147, 0.272793123925866, 0.2730769454705683, 0.2738247333947365, 0.27962042974792967, 0.28119155614672586, 0.28403557067539964, 0.2840772355044547, 0.2977068827187612, 0.30232832967016793, 0.31077256372015805, 0.3315920376644012, 0.35637956766052226, 0.35910601468268866, 0.36604989629629736, 0.3678665027358498, 0.3723624198898177, 0.3822094148317091, 0.39124665017867855, 0.43023703538612035, 0.4340717906273566, 0.43681089154369257, 0.43995919913791504, 0.44690504696795835, 0.4582349994510085, 0.45985532973549487, 0.4650528801303139, 0.4676084738943402, 0.47232361546141305, 0.49164764545211026, 0.5077218718688734, 0.5109624061524727, 0.5311034185450477, 0.5653845424646747, 0.5666077553227306, 0.5677902605708545, 0.5698932752594017, 0.5770383632232559, 0.5875220487819253, 0.590317290292055, 0.5938215281275236, 0.5963611572551922, 0.6057502081582922, 0.6150673291299458, 0.6154716367712926, 0.6210935301497511, 0.6265715777587519, 0.6292643322504434, 0.6319401814788005, 0.6385023650270852, 0.6549694915036826, 0.6592793065611801, 0.6658966272852445, 0.6823501939628454, 0.700914977338415, 0.7094386429585703, 0.7104968572672192, 0.7151967262034999, 0.7225079911256189, 0.7237862555160287, 0.7343978055192464, 0.7473735504455662, 0.752664843154385, 0.7536790922376821, 0.7567868511761231, 0.7640853900603579, 0.7655139515445052, 0.7684277157441939, 0.7817968423099175, 0.7825263119532962, 0.7926666347809851, 0.7934279819571646, 0.7960085875737414, 0.8013753486863953, 0.809841980452607, 0.8174401119019657, 0.820355783144227, 0.8288050235519254, 0.8319041281071812, 0.8330087417745865, 0.8341651629925504, 0.837717804118569, 0.840872773361194, 0.8459569729532574, 0.8495730933203255, 0.8513802631224472, 0.8554528520427024, 0.8558414586102827, 0.855894959775048, 0.8569732162846504, 0.8571100794356772, 0.8582636265563236, 0.858633290229414], \"y\": [0.5038759689922481, 0.5, 0.49606299212598426, 0.5, 0.504, 0.5080645161290323, 0.5040650406504065, 0.5081967213114754, 0.512396694214876, 0.5166666666666667, 0.5210084033613446, 0.5254237288135594, 0.5299145299145299, 0.5344827586206896, 0.5391304347826087, 0.543859649122807, 0.5486725663716814, 0.5535714285714286, 0.5585585585585585, 0.5636363636363636, 0.5688073394495413, 0.5740740740740741, 0.5794392523364486, 0.5849056603773585, 0.5904761904761905, 0.5961538461538461, 0.6019417475728155, 0.6078431372549019, 0.6138613861386139, 0.62, 0.6262626262626263, 0.6224489795918368, 0.6288659793814433, 0.6354166666666666, 0.6421052631578947, 0.648936170212766, 0.6559139784946236, 0.6521739130434783, 0.6483516483516484, 0.6555555555555556, 0.6629213483146067, 0.6704545454545454, 0.6781609195402298, 0.686046511627907, 0.6941176470588235, 0.7023809523809523, 0.7108433734939759, 0.7195121951219512, 0.7283950617283951, 0.7375, 0.7468354430379747, 0.7564102564102564, 0.7532467532467533, 0.7631578947368421, 0.7733333333333333, 0.7702702702702703, 0.7671232876712328, 0.7638888888888888, 0.7746478873239436, 0.7857142857142857, 0.782608695652174, 0.7794117647058824, 0.7761194029850746, 0.7878787878787878, 0.7846153846153846, 0.78125, 0.7936507936507936, 0.7903225806451613, 0.8032786885245902, 0.8166666666666667, 0.8305084745762712, 0.8448275862068966, 0.8596491228070176, 0.875, 0.8727272727272727, 0.8703703703703703, 0.8679245283018868, 0.8653846153846154, 0.8627450980392157, 0.88, 0.8775510204081632, 0.875, 0.8936170212765957, 0.8913043478260869, 0.9111111111111111, 0.9090909090909091, 0.9302325581395349, 0.9285714285714286, 0.926829268292683, 0.925, 0.9230769230769231, 0.9473684210526315, 0.9459459459459459, 0.9444444444444444, 0.9428571428571428, 0.9411764705882353, 0.9696969696969697, 1.0, 1.0, 1.0, 1.0, 1.0, 1.0, 1.0, 1.0, 1.0, 1.0, 1.0, 1.0, 1.0, 1.0, 1.0, 1.0, 1.0, 1.0, 1.0, 1.0, 1.0, 1.0, 1.0, 1.0, 1.0, 1.0, 1.0, 1.0, 1.0, 1.0, 1.0, 1.0], \"mode\": \"lines\", \"line\": {\"color\": \"blue\"}, \"name\": \"Precision\"}, {\"type\": \"scatter\", \"x\": [0.15778877383788614, 0.16602490065821796, 0.16945426135611644, 0.16961480898442557, 0.1748794199125312, 0.1749800813490589, 0.1819021382642288, 0.18234070762620877, 0.18362299113022845, 0.1865389026695396, 0.18948310439891297, 0.19269396689693366, 0.19371480392128593, 0.1947208818401376, 0.198716084407382, 0.19914945713492935, 0.1993600826779614, 0.20055840742800032, 0.20423519156087377, 0.20662306064556396, 0.20710478441812943, 0.20860727897783668, 0.2123876505362011, 0.21569968642567483, 0.21928433681019585, 0.2211459372692895, 0.22774185366161132, 0.2278312260499856, 0.2361627102872415, 0.23656396958594614, 0.2391042789545482, 0.24159546378380367, 0.24684208678036362, 0.2481614005544041, 0.2548949234261932, 0.255362960709332, 0.271103585697147, 0.272793123925866, 0.2730769454705683, 0.2738247333947365, 0.27962042974792967, 0.28119155614672586, 0.28403557067539964, 0.2840772355044547, 0.2977068827187612, 0.30232832967016793, 0.31077256372015805, 0.3315920376644012, 0.35637956766052226, 0.35910601468268866, 0.36604989629629736, 0.3678665027358498, 0.3723624198898177, 0.3822094148317091, 0.39124665017867855, 0.43023703538612035, 0.4340717906273566, 0.43681089154369257, 0.43995919913791504, 0.44690504696795835, 0.4582349994510085, 0.45985532973549487, 0.4650528801303139, 0.4676084738943402, 0.47232361546141305, 0.49164764545211026, 0.5077218718688734, 0.5109624061524727, 0.5311034185450477, 0.5653845424646747, 0.5666077553227306, 0.5677902605708545, 0.5698932752594017, 0.5770383632232559, 0.5875220487819253, 0.590317290292055, 0.5938215281275236, 0.5963611572551922, 0.6057502081582922, 0.6150673291299458, 0.6154716367712926, 0.6210935301497511, 0.6265715777587519, 0.6292643322504434, 0.6319401814788005, 0.6385023650270852, 0.6549694915036826, 0.6592793065611801, 0.6658966272852445, 0.6823501939628454, 0.700914977338415, 0.7094386429585703, 0.7104968572672192, 0.7151967262034999, 0.7225079911256189, 0.7237862555160287, 0.7343978055192464, 0.7473735504455662, 0.752664843154385, 0.7536790922376821, 0.7567868511761231, 0.7640853900603579, 0.7655139515445052, 0.7684277157441939, 0.7817968423099175, 0.7825263119532962, 0.7926666347809851, 0.7934279819571646, 0.7960085875737414, 0.8013753486863953, 0.809841980452607, 0.8174401119019657, 0.820355783144227, 0.8288050235519254, 0.8319041281071812, 0.8330087417745865, 0.8341651629925504, 0.837717804118569, 0.840872773361194, 0.8459569729532574, 0.8495730933203255, 0.8513802631224472, 0.8554528520427024, 0.8558414586102827, 0.855894959775048, 0.8569732162846504, 0.8571100794356772, 0.8582636265563236, 0.858633290229414], \"y\": [1.0, 0.9846153846153847, 0.9692307692307692, 0.9692307692307692, 0.9692307692307692, 0.9692307692307692, 0.9538461538461539, 0.9538461538461539, 0.9538461538461539, 0.9538461538461539, 0.9538461538461539, 0.9538461538461539, 0.9538461538461539, 0.9538461538461539, 0.9538461538461539, 0.9538461538461539, 0.9538461538461539, 0.9538461538461539, 0.9538461538461539, 0.9538461538461539, 0.9538461538461539, 0.9538461538461539, 0.9538461538461539, 0.9538461538461539, 0.9538461538461539, 0.9538461538461539, 0.9538461538461539, 0.9538461538461539, 0.9538461538461539, 0.9538461538461539, 0.9538461538461539, 0.9384615384615385, 0.9384615384615385, 0.9384615384615385, 0.9384615384615385, 0.9384615384615385, 0.9384615384615385, 0.9230769230769231, 0.9076923076923077, 0.9076923076923077, 0.9076923076923077, 0.9076923076923077, 0.9076923076923077, 0.9076923076923077, 0.9076923076923077, 0.9076923076923077, 0.9076923076923077, 0.9076923076923077, 0.9076923076923077, 0.9076923076923077, 0.9076923076923077, 0.9076923076923077, 0.8923076923076924, 0.8923076923076924, 0.8923076923076924, 0.8769230769230769, 0.8615384615384616, 0.8461538461538461, 0.8461538461538461, 0.8461538461538461, 0.8307692307692308, 0.8153846153846154, 0.8, 0.8, 0.7846153846153846, 0.7692307692307693, 0.7692307692307693, 0.7538461538461538, 0.7538461538461538, 0.7538461538461538, 0.7538461538461538, 0.7538461538461538, 0.7538461538461538, 0.7538461538461538, 0.7384615384615385, 0.7230769230769231, 0.7076923076923077, 0.6923076923076923, 0.676923076923077, 0.676923076923077, 0.6615384615384615, 0.6461538461538462, 0.6461538461538462, 0.6307692307692307, 0.6307692307692307, 0.6153846153846154, 0.6153846153846154, 0.6, 0.5846153846153846, 0.5692307692307692, 0.5538461538461539, 0.5538461538461539, 0.5384615384615384, 0.5230769230769231, 0.5076923076923077, 0.49230769230769234, 0.49230769230769234, 0.49230769230769234, 0.47692307692307695, 0.46153846153846156, 0.4461538461538462, 0.4307692307692308, 0.4153846153846154, 0.4, 0.38461538461538464, 0.36923076923076925, 0.35384615384615387, 0.3384615384615385, 0.3230769230769231, 0.3076923076923077, 0.2923076923076923, 0.27692307692307694, 0.26153846153846155, 0.24615384615384617, 0.23076923076923078, 0.2153846153846154, 0.2, 0.18461538461538463, 0.16923076923076924, 0.15384615384615385, 0.13846153846153847, 0.12307692307692308, 0.1076923076923077, 0.09230769230769231, 0.07692307692307693, 0.06153846153846154, 0.046153846153846156, 0.03076923076923077, 0.015384615384615385], \"mode\": \"lines\", \"line\": {\"color\": \"green\"}, \"name\": \"Recall\"}], {\"hovermode\": \"closest\", \"font\": {\"size\": 14}, \"title\": \"Precision and recall scores as a function of the decision threshold\", \"xaxis\": {\"title\": \"Decision threshold\", \"showline\": true, \"linewidth\": 1.5}, \"yaxis\": {\"title\": \"Score\", \"showline\": true, \"linewidth\": 1.5}}, {\"showLink\": true, \"linkText\": \"Export to plot.ly\"})});</script>"
      ],
      "text/vnd.plotly.v1+html": [
       "<div id=\"b6e4008b-5352-4888-8813-f085a72ec525\" style=\"height: 525px; width: 100%;\" class=\"plotly-graph-div\"></div><script type=\"text/javascript\">require([\"plotly\"], function(Plotly) { window.PLOTLYENV=window.PLOTLYENV || {};window.PLOTLYENV.BASE_URL=\"https://plot.ly\";Plotly.newPlot(\"b6e4008b-5352-4888-8813-f085a72ec525\", [{\"type\": \"scatter\", \"x\": [0.15778877383788614, 0.16602490065821796, 0.16945426135611644, 0.16961480898442557, 0.1748794199125312, 0.1749800813490589, 0.1819021382642288, 0.18234070762620877, 0.18362299113022845, 0.1865389026695396, 0.18948310439891297, 0.19269396689693366, 0.19371480392128593, 0.1947208818401376, 0.198716084407382, 0.19914945713492935, 0.1993600826779614, 0.20055840742800032, 0.20423519156087377, 0.20662306064556396, 0.20710478441812943, 0.20860727897783668, 0.2123876505362011, 0.21569968642567483, 0.21928433681019585, 0.2211459372692895, 0.22774185366161132, 0.2278312260499856, 0.2361627102872415, 0.23656396958594614, 0.2391042789545482, 0.24159546378380367, 0.24684208678036362, 0.2481614005544041, 0.2548949234261932, 0.255362960709332, 0.271103585697147, 0.272793123925866, 0.2730769454705683, 0.2738247333947365, 0.27962042974792967, 0.28119155614672586, 0.28403557067539964, 0.2840772355044547, 0.2977068827187612, 0.30232832967016793, 0.31077256372015805, 0.3315920376644012, 0.35637956766052226, 0.35910601468268866, 0.36604989629629736, 0.3678665027358498, 0.3723624198898177, 0.3822094148317091, 0.39124665017867855, 0.43023703538612035, 0.4340717906273566, 0.43681089154369257, 0.43995919913791504, 0.44690504696795835, 0.4582349994510085, 0.45985532973549487, 0.4650528801303139, 0.4676084738943402, 0.47232361546141305, 0.49164764545211026, 0.5077218718688734, 0.5109624061524727, 0.5311034185450477, 0.5653845424646747, 0.5666077553227306, 0.5677902605708545, 0.5698932752594017, 0.5770383632232559, 0.5875220487819253, 0.590317290292055, 0.5938215281275236, 0.5963611572551922, 0.6057502081582922, 0.6150673291299458, 0.6154716367712926, 0.6210935301497511, 0.6265715777587519, 0.6292643322504434, 0.6319401814788005, 0.6385023650270852, 0.6549694915036826, 0.6592793065611801, 0.6658966272852445, 0.6823501939628454, 0.700914977338415, 0.7094386429585703, 0.7104968572672192, 0.7151967262034999, 0.7225079911256189, 0.7237862555160287, 0.7343978055192464, 0.7473735504455662, 0.752664843154385, 0.7536790922376821, 0.7567868511761231, 0.7640853900603579, 0.7655139515445052, 0.7684277157441939, 0.7817968423099175, 0.7825263119532962, 0.7926666347809851, 0.7934279819571646, 0.7960085875737414, 0.8013753486863953, 0.809841980452607, 0.8174401119019657, 0.820355783144227, 0.8288050235519254, 0.8319041281071812, 0.8330087417745865, 0.8341651629925504, 0.837717804118569, 0.840872773361194, 0.8459569729532574, 0.8495730933203255, 0.8513802631224472, 0.8554528520427024, 0.8558414586102827, 0.855894959775048, 0.8569732162846504, 0.8571100794356772, 0.8582636265563236, 0.858633290229414], \"y\": [0.5038759689922481, 0.5, 0.49606299212598426, 0.5, 0.504, 0.5080645161290323, 0.5040650406504065, 0.5081967213114754, 0.512396694214876, 0.5166666666666667, 0.5210084033613446, 0.5254237288135594, 0.5299145299145299, 0.5344827586206896, 0.5391304347826087, 0.543859649122807, 0.5486725663716814, 0.5535714285714286, 0.5585585585585585, 0.5636363636363636, 0.5688073394495413, 0.5740740740740741, 0.5794392523364486, 0.5849056603773585, 0.5904761904761905, 0.5961538461538461, 0.6019417475728155, 0.6078431372549019, 0.6138613861386139, 0.62, 0.6262626262626263, 0.6224489795918368, 0.6288659793814433, 0.6354166666666666, 0.6421052631578947, 0.648936170212766, 0.6559139784946236, 0.6521739130434783, 0.6483516483516484, 0.6555555555555556, 0.6629213483146067, 0.6704545454545454, 0.6781609195402298, 0.686046511627907, 0.6941176470588235, 0.7023809523809523, 0.7108433734939759, 0.7195121951219512, 0.7283950617283951, 0.7375, 0.7468354430379747, 0.7564102564102564, 0.7532467532467533, 0.7631578947368421, 0.7733333333333333, 0.7702702702702703, 0.7671232876712328, 0.7638888888888888, 0.7746478873239436, 0.7857142857142857, 0.782608695652174, 0.7794117647058824, 0.7761194029850746, 0.7878787878787878, 0.7846153846153846, 0.78125, 0.7936507936507936, 0.7903225806451613, 0.8032786885245902, 0.8166666666666667, 0.8305084745762712, 0.8448275862068966, 0.8596491228070176, 0.875, 0.8727272727272727, 0.8703703703703703, 0.8679245283018868, 0.8653846153846154, 0.8627450980392157, 0.88, 0.8775510204081632, 0.875, 0.8936170212765957, 0.8913043478260869, 0.9111111111111111, 0.9090909090909091, 0.9302325581395349, 0.9285714285714286, 0.926829268292683, 0.925, 0.9230769230769231, 0.9473684210526315, 0.9459459459459459, 0.9444444444444444, 0.9428571428571428, 0.9411764705882353, 0.9696969696969697, 1.0, 1.0, 1.0, 1.0, 1.0, 1.0, 1.0, 1.0, 1.0, 1.0, 1.0, 1.0, 1.0, 1.0, 1.0, 1.0, 1.0, 1.0, 1.0, 1.0, 1.0, 1.0, 1.0, 1.0, 1.0, 1.0, 1.0, 1.0, 1.0, 1.0, 1.0, 1.0], \"mode\": \"lines\", \"line\": {\"color\": \"blue\"}, \"name\": \"Precision\"}, {\"type\": \"scatter\", \"x\": [0.15778877383788614, 0.16602490065821796, 0.16945426135611644, 0.16961480898442557, 0.1748794199125312, 0.1749800813490589, 0.1819021382642288, 0.18234070762620877, 0.18362299113022845, 0.1865389026695396, 0.18948310439891297, 0.19269396689693366, 0.19371480392128593, 0.1947208818401376, 0.198716084407382, 0.19914945713492935, 0.1993600826779614, 0.20055840742800032, 0.20423519156087377, 0.20662306064556396, 0.20710478441812943, 0.20860727897783668, 0.2123876505362011, 0.21569968642567483, 0.21928433681019585, 0.2211459372692895, 0.22774185366161132, 0.2278312260499856, 0.2361627102872415, 0.23656396958594614, 0.2391042789545482, 0.24159546378380367, 0.24684208678036362, 0.2481614005544041, 0.2548949234261932, 0.255362960709332, 0.271103585697147, 0.272793123925866, 0.2730769454705683, 0.2738247333947365, 0.27962042974792967, 0.28119155614672586, 0.28403557067539964, 0.2840772355044547, 0.2977068827187612, 0.30232832967016793, 0.31077256372015805, 0.3315920376644012, 0.35637956766052226, 0.35910601468268866, 0.36604989629629736, 0.3678665027358498, 0.3723624198898177, 0.3822094148317091, 0.39124665017867855, 0.43023703538612035, 0.4340717906273566, 0.43681089154369257, 0.43995919913791504, 0.44690504696795835, 0.4582349994510085, 0.45985532973549487, 0.4650528801303139, 0.4676084738943402, 0.47232361546141305, 0.49164764545211026, 0.5077218718688734, 0.5109624061524727, 0.5311034185450477, 0.5653845424646747, 0.5666077553227306, 0.5677902605708545, 0.5698932752594017, 0.5770383632232559, 0.5875220487819253, 0.590317290292055, 0.5938215281275236, 0.5963611572551922, 0.6057502081582922, 0.6150673291299458, 0.6154716367712926, 0.6210935301497511, 0.6265715777587519, 0.6292643322504434, 0.6319401814788005, 0.6385023650270852, 0.6549694915036826, 0.6592793065611801, 0.6658966272852445, 0.6823501939628454, 0.700914977338415, 0.7094386429585703, 0.7104968572672192, 0.7151967262034999, 0.7225079911256189, 0.7237862555160287, 0.7343978055192464, 0.7473735504455662, 0.752664843154385, 0.7536790922376821, 0.7567868511761231, 0.7640853900603579, 0.7655139515445052, 0.7684277157441939, 0.7817968423099175, 0.7825263119532962, 0.7926666347809851, 0.7934279819571646, 0.7960085875737414, 0.8013753486863953, 0.809841980452607, 0.8174401119019657, 0.820355783144227, 0.8288050235519254, 0.8319041281071812, 0.8330087417745865, 0.8341651629925504, 0.837717804118569, 0.840872773361194, 0.8459569729532574, 0.8495730933203255, 0.8513802631224472, 0.8554528520427024, 0.8558414586102827, 0.855894959775048, 0.8569732162846504, 0.8571100794356772, 0.8582636265563236, 0.858633290229414], \"y\": [1.0, 0.9846153846153847, 0.9692307692307692, 0.9692307692307692, 0.9692307692307692, 0.9692307692307692, 0.9538461538461539, 0.9538461538461539, 0.9538461538461539, 0.9538461538461539, 0.9538461538461539, 0.9538461538461539, 0.9538461538461539, 0.9538461538461539, 0.9538461538461539, 0.9538461538461539, 0.9538461538461539, 0.9538461538461539, 0.9538461538461539, 0.9538461538461539, 0.9538461538461539, 0.9538461538461539, 0.9538461538461539, 0.9538461538461539, 0.9538461538461539, 0.9538461538461539, 0.9538461538461539, 0.9538461538461539, 0.9538461538461539, 0.9538461538461539, 0.9538461538461539, 0.9384615384615385, 0.9384615384615385, 0.9384615384615385, 0.9384615384615385, 0.9384615384615385, 0.9384615384615385, 0.9230769230769231, 0.9076923076923077, 0.9076923076923077, 0.9076923076923077, 0.9076923076923077, 0.9076923076923077, 0.9076923076923077, 0.9076923076923077, 0.9076923076923077, 0.9076923076923077, 0.9076923076923077, 0.9076923076923077, 0.9076923076923077, 0.9076923076923077, 0.9076923076923077, 0.8923076923076924, 0.8923076923076924, 0.8923076923076924, 0.8769230769230769, 0.8615384615384616, 0.8461538461538461, 0.8461538461538461, 0.8461538461538461, 0.8307692307692308, 0.8153846153846154, 0.8, 0.8, 0.7846153846153846, 0.7692307692307693, 0.7692307692307693, 0.7538461538461538, 0.7538461538461538, 0.7538461538461538, 0.7538461538461538, 0.7538461538461538, 0.7538461538461538, 0.7538461538461538, 0.7384615384615385, 0.7230769230769231, 0.7076923076923077, 0.6923076923076923, 0.676923076923077, 0.676923076923077, 0.6615384615384615, 0.6461538461538462, 0.6461538461538462, 0.6307692307692307, 0.6307692307692307, 0.6153846153846154, 0.6153846153846154, 0.6, 0.5846153846153846, 0.5692307692307692, 0.5538461538461539, 0.5538461538461539, 0.5384615384615384, 0.5230769230769231, 0.5076923076923077, 0.49230769230769234, 0.49230769230769234, 0.49230769230769234, 0.47692307692307695, 0.46153846153846156, 0.4461538461538462, 0.4307692307692308, 0.4153846153846154, 0.4, 0.38461538461538464, 0.36923076923076925, 0.35384615384615387, 0.3384615384615385, 0.3230769230769231, 0.3076923076923077, 0.2923076923076923, 0.27692307692307694, 0.26153846153846155, 0.24615384615384617, 0.23076923076923078, 0.2153846153846154, 0.2, 0.18461538461538463, 0.16923076923076924, 0.15384615384615385, 0.13846153846153847, 0.12307692307692308, 0.1076923076923077, 0.09230769230769231, 0.07692307692307693, 0.06153846153846154, 0.046153846153846156, 0.03076923076923077, 0.015384615384615385], \"mode\": \"lines\", \"line\": {\"color\": \"green\"}, \"name\": \"Recall\"}], {\"hovermode\": \"closest\", \"font\": {\"size\": 14}, \"title\": \"Precision and recall scores as a function of the decision threshold\", \"xaxis\": {\"title\": \"Decision threshold\", \"showline\": true, \"linewidth\": 1.5}, \"yaxis\": {\"title\": \"Score\", \"showline\": true, \"linewidth\": 1.5}}, {\"showLink\": true, \"linkText\": \"Export to plot.ly\"})});</script>"
      ]
     },
     "metadata": {},
     "output_type": "display_data"
    }
   ],
   "source": [
    "t = precision_recall_vs_threshold(\n",
    "    y_true=y_train, y_pred=cv_predict_proba[:, 1])\n",
    "py.iplot(t, filename='fatigue/precision_recall_vs_threshold')"
   ]
  },
  {
   "cell_type": "markdown",
   "metadata": {},
   "source": [
    "### 5.e. Confusion matrix"
   ]
  },
  {
   "cell_type": "code",
   "execution_count": 27,
   "metadata": {},
   "outputs": [],
   "source": [
    "from sklearn.metrics import confusion_matrix\n",
    "\n",
    "\n",
    "def plot_confusion_matrix(y_true, y_pred, in_percentage=True):\n",
    "    cm = confusion_matrix(y_true, y_pred)\n",
    "    if in_percentage:\n",
    "        cm = cm.astype('float') / cm.sum(axis=1)[:, np.newaxis] * 100\n",
    "\n",
    "    colorscale = [[0, '#2d3436'], [1, '#dfe6e9']]\n",
    "\n",
    "    fig = ff.create_annotated_heatmap(\n",
    "        z=cm.astype(int),\n",
    "        x=['True', 'False'],\n",
    "        y=['True', 'False'],\n",
    "        showscale=True,\n",
    "        zmin=0,\n",
    "        zmax=100,\n",
    "        colorscale=colorscale,\n",
    "        colorbar=dict(title='Percentage', titleside='right'))\n",
    "\n",
    "    fig['layout'].update(base_layout)\n",
    "    fig['layout'].update(\n",
    "        dict(\n",
    "            title='confusion matrix',\n",
    "            xaxis=dict(title='Predicted values', side='bottom'),\n",
    "            yaxis=dict(title='True values', autorange='reversed')))\n",
    "\n",
    "    return fig"
   ]
  },
  {
   "cell_type": "code",
   "execution_count": 28,
   "metadata": {},
   "outputs": [
    {
     "data": {
      "application/vnd.plotly.v1+json": {
       "data": [
        {
         "colorbar": {
          "title": "Percentage",
          "titleside": "right"
         },
         "colorscale": [
          [
           0,
           "#2d3436"
          ],
          [
           1,
           "#dfe6e9"
          ]
         ],
         "showscale": true,
         "type": "heatmap",
         "x": [
          "True",
          "False"
         ],
         "y": [
          "True",
          "False"
         ],
         "z": [
          [
           79,
           20
          ],
          [
           23,
           76
          ]
         ],
         "zmax": 100,
         "zmin": 0
        }
       ],
       "layout": {
        "annotations": [
         {
          "font": {
           "color": "#000000"
          },
          "showarrow": false,
          "text": "79",
          "x": "True",
          "xref": "x1",
          "y": "True",
          "yref": "y1"
         },
         {
          "font": {
           "color": "#FFFFFF"
          },
          "showarrow": false,
          "text": "20",
          "x": "False",
          "xref": "x1",
          "y": "True",
          "yref": "y1"
         },
         {
          "font": {
           "color": "#FFFFFF"
          },
          "showarrow": false,
          "text": "23",
          "x": "True",
          "xref": "x1",
          "y": "False",
          "yref": "y1"
         },
         {
          "font": {
           "color": "#000000"
          },
          "showarrow": false,
          "text": "76",
          "x": "False",
          "xref": "x1",
          "y": "False",
          "yref": "y1"
         }
        ],
        "font": {
         "size": 14
        },
        "hovermode": "closest",
        "title": "confusion matrix",
        "xaxis": {
         "dtick": 1,
         "gridcolor": "rgb(0, 0, 0)",
         "side": "bottom",
         "ticks": "",
         "title": "Predicted values"
        },
        "yaxis": {
         "autorange": "reversed",
         "dtick": 1,
         "ticks": "",
         "ticksuffix": "  ",
         "title": "True values"
        }
       }
      },
      "text/html": [
       "<div id=\"6bb25ac5-61c1-4c6b-8da1-33784f68df0d\" style=\"height: 525px; width: 100%;\" class=\"plotly-graph-div\"></div><script type=\"text/javascript\">require([\"plotly\"], function(Plotly) { window.PLOTLYENV=window.PLOTLYENV || {};window.PLOTLYENV.BASE_URL=\"https://plot.ly\";Plotly.newPlot(\"6bb25ac5-61c1-4c6b-8da1-33784f68df0d\", [{\"type\": \"heatmap\", \"z\": [[79, 20], [23, 76]], \"x\": [\"True\", \"False\"], \"y\": [\"True\", \"False\"], \"colorscale\": [[0, \"#2d3436\"], [1, \"#dfe6e9\"]], \"showscale\": true, \"zmin\": 0, \"zmax\": 100, \"colorbar\": {\"title\": \"Percentage\", \"titleside\": \"right\"}}], {\"annotations\": [{\"text\": \"79\", \"x\": \"True\", \"y\": \"True\", \"xref\": \"x1\", \"yref\": \"y1\", \"font\": {\"color\": \"#000000\"}, \"showarrow\": false}, {\"text\": \"20\", \"x\": \"False\", \"y\": \"True\", \"xref\": \"x1\", \"yref\": \"y1\", \"font\": {\"color\": \"#FFFFFF\"}, \"showarrow\": false}, {\"text\": \"23\", \"x\": \"True\", \"y\": \"False\", \"xref\": \"x1\", \"yref\": \"y1\", \"font\": {\"color\": \"#FFFFFF\"}, \"showarrow\": false}, {\"text\": \"76\", \"x\": \"False\", \"y\": \"False\", \"xref\": \"x1\", \"yref\": \"y1\", \"font\": {\"color\": \"#000000\"}, \"showarrow\": false}], \"xaxis\": {\"ticks\": \"\", \"dtick\": 1, \"side\": \"bottom\", \"gridcolor\": \"rgb(0, 0, 0)\", \"title\": \"Predicted values\"}, \"yaxis\": {\"ticks\": \"\", \"dtick\": 1, \"ticksuffix\": \"  \", \"title\": \"True values\", \"autorange\": \"reversed\"}, \"hovermode\": \"closest\", \"font\": {\"size\": 14}, \"title\": \"confusion matrix\"}, {\"showLink\": true, \"linkText\": \"Export to plot.ly\"})});</script>"
      ],
      "text/vnd.plotly.v1+html": [
       "<div id=\"6bb25ac5-61c1-4c6b-8da1-33784f68df0d\" style=\"height: 525px; width: 100%;\" class=\"plotly-graph-div\"></div><script type=\"text/javascript\">require([\"plotly\"], function(Plotly) { window.PLOTLYENV=window.PLOTLYENV || {};window.PLOTLYENV.BASE_URL=\"https://plot.ly\";Plotly.newPlot(\"6bb25ac5-61c1-4c6b-8da1-33784f68df0d\", [{\"type\": \"heatmap\", \"z\": [[79, 20], [23, 76]], \"x\": [\"True\", \"False\"], \"y\": [\"True\", \"False\"], \"colorscale\": [[0, \"#2d3436\"], [1, \"#dfe6e9\"]], \"showscale\": true, \"zmin\": 0, \"zmax\": 100, \"colorbar\": {\"title\": \"Percentage\", \"titleside\": \"right\"}}], {\"annotations\": [{\"text\": \"79\", \"x\": \"True\", \"y\": \"True\", \"xref\": \"x1\", \"yref\": \"y1\", \"font\": {\"color\": \"#000000\"}, \"showarrow\": false}, {\"text\": \"20\", \"x\": \"False\", \"y\": \"True\", \"xref\": \"x1\", \"yref\": \"y1\", \"font\": {\"color\": \"#FFFFFF\"}, \"showarrow\": false}, {\"text\": \"23\", \"x\": \"True\", \"y\": \"False\", \"xref\": \"x1\", \"yref\": \"y1\", \"font\": {\"color\": \"#FFFFFF\"}, \"showarrow\": false}, {\"text\": \"76\", \"x\": \"False\", \"y\": \"False\", \"xref\": \"x1\", \"yref\": \"y1\", \"font\": {\"color\": \"#000000\"}, \"showarrow\": false}], \"xaxis\": {\"ticks\": \"\", \"dtick\": 1, \"side\": \"bottom\", \"gridcolor\": \"rgb(0, 0, 0)\", \"title\": \"Predicted values\"}, \"yaxis\": {\"ticks\": \"\", \"dtick\": 1, \"ticksuffix\": \"  \", \"title\": \"True values\", \"autorange\": \"reversed\"}, \"hovermode\": \"closest\", \"font\": {\"size\": 14}, \"title\": \"confusion matrix\"}, {\"showLink\": true, \"linkText\": \"Export to plot.ly\"})});</script>"
      ]
     },
     "metadata": {},
     "output_type": "display_data"
    }
   ],
   "source": [
    "m = plot_confusion_matrix(y_true=y_train, y_pred=cv_predict)\n",
    "py.iplot(m, filename='fatigue/confusion_matrix_train')"
   ]
  },
  {
   "cell_type": "markdown",
   "metadata": {},
   "source": [
    "## 6. Evaluation"
   ]
  },
  {
   "cell_type": "code",
   "execution_count": 29,
   "metadata": {},
   "outputs": [],
   "source": [
    "warnings.simplefilter('ignore')\n",
    "y_pred = final_model.predict(X_test)\n",
    "warnings.simplefilter('default')"
   ]
  },
  {
   "cell_type": "markdown",
   "metadata": {},
   "source": [
    "### 6.a. Confusion matrix"
   ]
  },
  {
   "cell_type": "code",
   "execution_count": 30,
   "metadata": {},
   "outputs": [
    {
     "data": {
      "application/vnd.plotly.v1+json": {
       "data": [
        {
         "colorbar": {
          "title": "Percentage",
          "titleside": "right"
         },
         "colorscale": [
          [
           0,
           "#2d3436"
          ],
          [
           1,
           "#dfe6e9"
          ]
         ],
         "showscale": true,
         "type": "heatmap",
         "x": [
          "True",
          "False"
         ],
         "y": [
          "True",
          "False"
         ],
         "z": [
          [
           64,
           35
          ],
          [
           12,
           87
          ]
         ],
         "zmax": 100,
         "zmin": 0
        }
       ],
       "layout": {
        "annotations": [
         {
          "font": {
           "color": "#000000"
          },
          "showarrow": false,
          "text": "64",
          "x": "True",
          "xref": "x1",
          "y": "True",
          "yref": "y1"
         },
         {
          "font": {
           "color": "#FFFFFF"
          },
          "showarrow": false,
          "text": "35",
          "x": "False",
          "xref": "x1",
          "y": "True",
          "yref": "y1"
         },
         {
          "font": {
           "color": "#FFFFFF"
          },
          "showarrow": false,
          "text": "12",
          "x": "True",
          "xref": "x1",
          "y": "False",
          "yref": "y1"
         },
         {
          "font": {
           "color": "#000000"
          },
          "showarrow": false,
          "text": "87",
          "x": "False",
          "xref": "x1",
          "y": "False",
          "yref": "y1"
         }
        ],
        "font": {
         "size": 14
        },
        "hovermode": "closest",
        "title": "confusion matrix",
        "xaxis": {
         "dtick": 1,
         "gridcolor": "rgb(0, 0, 0)",
         "side": "bottom",
         "ticks": "",
         "title": "Predicted values"
        },
        "yaxis": {
         "autorange": "reversed",
         "dtick": 1,
         "ticks": "",
         "ticksuffix": "  ",
         "title": "True values"
        }
       }
      },
      "text/html": [
       "<div id=\"7a17bf47-0425-448f-990d-108876aa4ab4\" style=\"height: 525px; width: 100%;\" class=\"plotly-graph-div\"></div><script type=\"text/javascript\">require([\"plotly\"], function(Plotly) { window.PLOTLYENV=window.PLOTLYENV || {};window.PLOTLYENV.BASE_URL=\"https://plot.ly\";Plotly.newPlot(\"7a17bf47-0425-448f-990d-108876aa4ab4\", [{\"type\": \"heatmap\", \"z\": [[64, 35], [12, 87]], \"x\": [\"True\", \"False\"], \"y\": [\"True\", \"False\"], \"colorscale\": [[0, \"#2d3436\"], [1, \"#dfe6e9\"]], \"showscale\": true, \"zmin\": 0, \"zmax\": 100, \"colorbar\": {\"title\": \"Percentage\", \"titleside\": \"right\"}}], {\"annotations\": [{\"text\": \"64\", \"x\": \"True\", \"y\": \"True\", \"xref\": \"x1\", \"yref\": \"y1\", \"font\": {\"color\": \"#000000\"}, \"showarrow\": false}, {\"text\": \"35\", \"x\": \"False\", \"y\": \"True\", \"xref\": \"x1\", \"yref\": \"y1\", \"font\": {\"color\": \"#FFFFFF\"}, \"showarrow\": false}, {\"text\": \"12\", \"x\": \"True\", \"y\": \"False\", \"xref\": \"x1\", \"yref\": \"y1\", \"font\": {\"color\": \"#FFFFFF\"}, \"showarrow\": false}, {\"text\": \"87\", \"x\": \"False\", \"y\": \"False\", \"xref\": \"x1\", \"yref\": \"y1\", \"font\": {\"color\": \"#000000\"}, \"showarrow\": false}], \"xaxis\": {\"ticks\": \"\", \"dtick\": 1, \"side\": \"bottom\", \"gridcolor\": \"rgb(0, 0, 0)\", \"title\": \"Predicted values\"}, \"yaxis\": {\"ticks\": \"\", \"dtick\": 1, \"ticksuffix\": \"  \", \"title\": \"True values\", \"autorange\": \"reversed\"}, \"hovermode\": \"closest\", \"font\": {\"size\": 14}, \"title\": \"confusion matrix\"}, {\"showLink\": true, \"linkText\": \"Export to plot.ly\"})});</script>"
      ],
      "text/vnd.plotly.v1+html": [
       "<div id=\"7a17bf47-0425-448f-990d-108876aa4ab4\" style=\"height: 525px; width: 100%;\" class=\"plotly-graph-div\"></div><script type=\"text/javascript\">require([\"plotly\"], function(Plotly) { window.PLOTLYENV=window.PLOTLYENV || {};window.PLOTLYENV.BASE_URL=\"https://plot.ly\";Plotly.newPlot(\"7a17bf47-0425-448f-990d-108876aa4ab4\", [{\"type\": \"heatmap\", \"z\": [[64, 35], [12, 87]], \"x\": [\"True\", \"False\"], \"y\": [\"True\", \"False\"], \"colorscale\": [[0, \"#2d3436\"], [1, \"#dfe6e9\"]], \"showscale\": true, \"zmin\": 0, \"zmax\": 100, \"colorbar\": {\"title\": \"Percentage\", \"titleside\": \"right\"}}], {\"annotations\": [{\"text\": \"64\", \"x\": \"True\", \"y\": \"True\", \"xref\": \"x1\", \"yref\": \"y1\", \"font\": {\"color\": \"#000000\"}, \"showarrow\": false}, {\"text\": \"35\", \"x\": \"False\", \"y\": \"True\", \"xref\": \"x1\", \"yref\": \"y1\", \"font\": {\"color\": \"#FFFFFF\"}, \"showarrow\": false}, {\"text\": \"12\", \"x\": \"True\", \"y\": \"False\", \"xref\": \"x1\", \"yref\": \"y1\", \"font\": {\"color\": \"#FFFFFF\"}, \"showarrow\": false}, {\"text\": \"87\", \"x\": \"False\", \"y\": \"False\", \"xref\": \"x1\", \"yref\": \"y1\", \"font\": {\"color\": \"#000000\"}, \"showarrow\": false}], \"xaxis\": {\"ticks\": \"\", \"dtick\": 1, \"side\": \"bottom\", \"gridcolor\": \"rgb(0, 0, 0)\", \"title\": \"Predicted values\"}, \"yaxis\": {\"ticks\": \"\", \"dtick\": 1, \"ticksuffix\": \"  \", \"title\": \"True values\", \"autorange\": \"reversed\"}, \"hovermode\": \"closest\", \"font\": {\"size\": 14}, \"title\": \"confusion matrix\"}, {\"showLink\": true, \"linkText\": \"Export to plot.ly\"})});</script>"
      ]
     },
     "metadata": {},
     "output_type": "display_data"
    }
   ],
   "source": [
    "m = plot_confusion_matrix(y_true=y_test, y_pred=y_pred)\n",
    "py.iplot(m, filename='fatigue/confusion_matrix_test')"
   ]
  },
  {
   "cell_type": "markdown",
   "metadata": {},
   "source": [
    "### 6.b. Classification scalar metrics"
   ]
  },
  {
   "cell_type": "code",
   "execution_count": 31,
   "metadata": {},
   "outputs": [],
   "source": [
    "from sklearn.metrics import precision_score, recall_score, f1_score\n",
    "\n",
    "\n",
    "def table_classification_report(y_true, y_pred):\n",
    "    precision = precision_score(y_true, y_pred)\n",
    "    recall = recall_score(y_true, y_pred)\n",
    "    f1 = f1_score(y_true, y_pred)\n",
    "    roc_auc = roc_auc_score(y_true, y_pred)\n",
    "    \n",
    "    data_matrix = [['Metric', 'Value'],\n",
    "                   ['Precision', f'{precision:.2f}'],\n",
    "                   ['Recall', f'{recall:.2f}'],\n",
    "                   ['F1 score', f'{f1:.2f}'],\n",
    "                   ['ROC AUC', f'{roc_auc:.2f}']]\n",
    "\n",
    "    table = ff.create_table(data_matrix)\n",
    "    table['layout'].update(font=dict(size=14))\n",
    "    return table"
   ]
  },
  {
   "cell_type": "code",
   "execution_count": 32,
   "metadata": {},
   "outputs": [
    {
     "data": {
      "application/vnd.plotly.v1+json": {
       "data": [
        {
         "colorscale": [
          [
           0,
           "#00083e"
          ],
          [
           0.5,
           "#ededee"
          ],
          [
           1,
           "#ffffff"
          ]
         ],
         "hoverinfo": "none",
         "opacity": 0.75,
         "showscale": false,
         "type": "heatmap",
         "z": [
          [
           0,
           0
          ],
          [
           0.5,
           0.5
          ],
          [
           1,
           1
          ],
          [
           0.5,
           0.5
          ],
          [
           1,
           1
          ]
         ]
        }
       ],
       "layout": {
        "annotations": [
         {
          "align": "left",
          "font": {
           "color": "#ffffff"
          },
          "showarrow": false,
          "text": "<b>Metric</b>",
          "x": -0.45,
          "xanchor": "left",
          "xref": "x1",
          "y": 0,
          "yref": "y1"
         },
         {
          "align": "left",
          "font": {
           "color": "#ffffff"
          },
          "showarrow": false,
          "text": "<b>Value</b>",
          "x": 0.55,
          "xanchor": "left",
          "xref": "x1",
          "y": 0,
          "yref": "y1"
         },
         {
          "align": "left",
          "font": {
           "color": "#000000"
          },
          "showarrow": false,
          "text": "Precision",
          "x": -0.45,
          "xanchor": "left",
          "xref": "x1",
          "y": 1,
          "yref": "y1"
         },
         {
          "align": "left",
          "font": {
           "color": "#000000"
          },
          "showarrow": false,
          "text": "0.70",
          "x": 0.55,
          "xanchor": "left",
          "xref": "x1",
          "y": 1,
          "yref": "y1"
         },
         {
          "align": "left",
          "font": {
           "color": "#000000"
          },
          "showarrow": false,
          "text": "Recall",
          "x": -0.45,
          "xanchor": "left",
          "xref": "x1",
          "y": 2,
          "yref": "y1"
         },
         {
          "align": "left",
          "font": {
           "color": "#000000"
          },
          "showarrow": false,
          "text": "0.88",
          "x": 0.55,
          "xanchor": "left",
          "xref": "x1",
          "y": 2,
          "yref": "y1"
         },
         {
          "align": "left",
          "font": {
           "color": "#000000"
          },
          "showarrow": false,
          "text": "F1 score",
          "x": -0.45,
          "xanchor": "left",
          "xref": "x1",
          "y": 3,
          "yref": "y1"
         },
         {
          "align": "left",
          "font": {
           "color": "#000000"
          },
          "showarrow": false,
          "text": "0.78",
          "x": 0.55,
          "xanchor": "left",
          "xref": "x1",
          "y": 3,
          "yref": "y1"
         },
         {
          "align": "left",
          "font": {
           "color": "#000000"
          },
          "showarrow": false,
          "text": "ROC AUC",
          "x": -0.45,
          "xanchor": "left",
          "xref": "x1",
          "y": 4,
          "yref": "y1"
         },
         {
          "align": "left",
          "font": {
           "color": "#000000"
          },
          "showarrow": false,
          "text": "0.76",
          "x": 0.55,
          "xanchor": "left",
          "xref": "x1",
          "y": 4,
          "yref": "y1"
         }
        ],
        "font": {
         "size": 14
        },
        "height": 200,
        "margin": {
         "b": 0,
         "l": 0,
         "r": 0,
         "t": 0
        },
        "xaxis": {
         "dtick": 1,
         "gridwidth": 2,
         "showticklabels": false,
         "tick0": -0.5,
         "ticks": "",
         "zeroline": false
        },
        "yaxis": {
         "autorange": "reversed",
         "dtick": 1,
         "gridwidth": 2,
         "showticklabels": false,
         "tick0": 0.5,
         "ticks": "",
         "zeroline": false
        }
       }
      },
      "text/html": [
       "<div id=\"902dbb31-f8d3-4438-aac7-486102419064\" style=\"height: 200px; width: 100%;\" class=\"plotly-graph-div\"></div><script type=\"text/javascript\">require([\"plotly\"], function(Plotly) { window.PLOTLYENV=window.PLOTLYENV || {};window.PLOTLYENV.BASE_URL=\"https://plot.ly\";Plotly.newPlot(\"902dbb31-f8d3-4438-aac7-486102419064\", [{\"type\": \"heatmap\", \"z\": [[0, 0], [0.5, 0.5], [1, 1], [0.5, 0.5], [1, 1]], \"opacity\": 0.75, \"colorscale\": [[0, \"#00083e\"], [0.5, \"#ededee\"], [1, \"#ffffff\"]], \"showscale\": false, \"hoverinfo\": \"none\"}], {\"annotations\": [{\"text\": \"<b>Metric</b>\", \"x\": -0.45, \"y\": 0, \"xref\": \"x1\", \"yref\": \"y1\", \"align\": \"left\", \"xanchor\": \"left\", \"font\": {\"color\": \"#ffffff\"}, \"showarrow\": false}, {\"text\": \"<b>Value</b>\", \"x\": 0.55, \"y\": 0, \"xref\": \"x1\", \"yref\": \"y1\", \"align\": \"left\", \"xanchor\": \"left\", \"font\": {\"color\": \"#ffffff\"}, \"showarrow\": false}, {\"text\": \"Precision\", \"x\": -0.45, \"y\": 1, \"xref\": \"x1\", \"yref\": \"y1\", \"align\": \"left\", \"xanchor\": \"left\", \"font\": {\"color\": \"#000000\"}, \"showarrow\": false}, {\"text\": \"0.70\", \"x\": 0.55, \"y\": 1, \"xref\": \"x1\", \"yref\": \"y1\", \"align\": \"left\", \"xanchor\": \"left\", \"font\": {\"color\": \"#000000\"}, \"showarrow\": false}, {\"text\": \"Recall\", \"x\": -0.45, \"y\": 2, \"xref\": \"x1\", \"yref\": \"y1\", \"align\": \"left\", \"xanchor\": \"left\", \"font\": {\"color\": \"#000000\"}, \"showarrow\": false}, {\"text\": \"0.88\", \"x\": 0.55, \"y\": 2, \"xref\": \"x1\", \"yref\": \"y1\", \"align\": \"left\", \"xanchor\": \"left\", \"font\": {\"color\": \"#000000\"}, \"showarrow\": false}, {\"text\": \"F1 score\", \"x\": -0.45, \"y\": 3, \"xref\": \"x1\", \"yref\": \"y1\", \"align\": \"left\", \"xanchor\": \"left\", \"font\": {\"color\": \"#000000\"}, \"showarrow\": false}, {\"text\": \"0.78\", \"x\": 0.55, \"y\": 3, \"xref\": \"x1\", \"yref\": \"y1\", \"align\": \"left\", \"xanchor\": \"left\", \"font\": {\"color\": \"#000000\"}, \"showarrow\": false}, {\"text\": \"ROC AUC\", \"x\": -0.45, \"y\": 4, \"xref\": \"x1\", \"yref\": \"y1\", \"align\": \"left\", \"xanchor\": \"left\", \"font\": {\"color\": \"#000000\"}, \"showarrow\": false}, {\"text\": \"0.76\", \"x\": 0.55, \"y\": 4, \"xref\": \"x1\", \"yref\": \"y1\", \"align\": \"left\", \"xanchor\": \"left\", \"font\": {\"color\": \"#000000\"}, \"showarrow\": false}], \"height\": 200, \"margin\": {\"t\": 0, \"b\": 0, \"r\": 0, \"l\": 0}, \"yaxis\": {\"autorange\": \"reversed\", \"zeroline\": false, \"gridwidth\": 2, \"ticks\": \"\", \"dtick\": 1, \"tick0\": 0.5, \"showticklabels\": false}, \"xaxis\": {\"zeroline\": false, \"gridwidth\": 2, \"ticks\": \"\", \"dtick\": 1, \"tick0\": -0.5, \"showticklabels\": false}, \"font\": {\"size\": 14}}, {\"showLink\": true, \"linkText\": \"Export to plot.ly\"})});</script>"
      ],
      "text/vnd.plotly.v1+html": [
       "<div id=\"902dbb31-f8d3-4438-aac7-486102419064\" style=\"height: 200px; width: 100%;\" class=\"plotly-graph-div\"></div><script type=\"text/javascript\">require([\"plotly\"], function(Plotly) { window.PLOTLYENV=window.PLOTLYENV || {};window.PLOTLYENV.BASE_URL=\"https://plot.ly\";Plotly.newPlot(\"902dbb31-f8d3-4438-aac7-486102419064\", [{\"type\": \"heatmap\", \"z\": [[0, 0], [0.5, 0.5], [1, 1], [0.5, 0.5], [1, 1]], \"opacity\": 0.75, \"colorscale\": [[0, \"#00083e\"], [0.5, \"#ededee\"], [1, \"#ffffff\"]], \"showscale\": false, \"hoverinfo\": \"none\"}], {\"annotations\": [{\"text\": \"<b>Metric</b>\", \"x\": -0.45, \"y\": 0, \"xref\": \"x1\", \"yref\": \"y1\", \"align\": \"left\", \"xanchor\": \"left\", \"font\": {\"color\": \"#ffffff\"}, \"showarrow\": false}, {\"text\": \"<b>Value</b>\", \"x\": 0.55, \"y\": 0, \"xref\": \"x1\", \"yref\": \"y1\", \"align\": \"left\", \"xanchor\": \"left\", \"font\": {\"color\": \"#ffffff\"}, \"showarrow\": false}, {\"text\": \"Precision\", \"x\": -0.45, \"y\": 1, \"xref\": \"x1\", \"yref\": \"y1\", \"align\": \"left\", \"xanchor\": \"left\", \"font\": {\"color\": \"#000000\"}, \"showarrow\": false}, {\"text\": \"0.70\", \"x\": 0.55, \"y\": 1, \"xref\": \"x1\", \"yref\": \"y1\", \"align\": \"left\", \"xanchor\": \"left\", \"font\": {\"color\": \"#000000\"}, \"showarrow\": false}, {\"text\": \"Recall\", \"x\": -0.45, \"y\": 2, \"xref\": \"x1\", \"yref\": \"y1\", \"align\": \"left\", \"xanchor\": \"left\", \"font\": {\"color\": \"#000000\"}, \"showarrow\": false}, {\"text\": \"0.88\", \"x\": 0.55, \"y\": 2, \"xref\": \"x1\", \"yref\": \"y1\", \"align\": \"left\", \"xanchor\": \"left\", \"font\": {\"color\": \"#000000\"}, \"showarrow\": false}, {\"text\": \"F1 score\", \"x\": -0.45, \"y\": 3, \"xref\": \"x1\", \"yref\": \"y1\", \"align\": \"left\", \"xanchor\": \"left\", \"font\": {\"color\": \"#000000\"}, \"showarrow\": false}, {\"text\": \"0.78\", \"x\": 0.55, \"y\": 3, \"xref\": \"x1\", \"yref\": \"y1\", \"align\": \"left\", \"xanchor\": \"left\", \"font\": {\"color\": \"#000000\"}, \"showarrow\": false}, {\"text\": \"ROC AUC\", \"x\": -0.45, \"y\": 4, \"xref\": \"x1\", \"yref\": \"y1\", \"align\": \"left\", \"xanchor\": \"left\", \"font\": {\"color\": \"#000000\"}, \"showarrow\": false}, {\"text\": \"0.76\", \"x\": 0.55, \"y\": 4, \"xref\": \"x1\", \"yref\": \"y1\", \"align\": \"left\", \"xanchor\": \"left\", \"font\": {\"color\": \"#000000\"}, \"showarrow\": false}], \"height\": 200, \"margin\": {\"t\": 0, \"b\": 0, \"r\": 0, \"l\": 0}, \"yaxis\": {\"autorange\": \"reversed\", \"zeroline\": false, \"gridwidth\": 2, \"ticks\": \"\", \"dtick\": 1, \"tick0\": 0.5, \"showticklabels\": false}, \"xaxis\": {\"zeroline\": false, \"gridwidth\": 2, \"ticks\": \"\", \"dtick\": 1, \"tick0\": -0.5, \"showticklabels\": false}, \"font\": {\"size\": 14}}, {\"showLink\": true, \"linkText\": \"Export to plot.ly\"})});</script>"
      ]
     },
     "metadata": {},
     "output_type": "display_data"
    }
   ],
   "source": [
    "table = table_classification_report(y_true=y_test, y_pred=y_pred)\n",
    "\n",
    "py.iplot(table, filename='fatigue/clf_report')"
   ]
  },
  {
   "cell_type": "markdown",
   "metadata": {},
   "source": [
    "## 7. Summary"
   ]
  },
  {
   "cell_type": "code",
   "execution_count": null,
   "metadata": {},
   "outputs": [],
   "source": []
  },
  {
   "cell_type": "code",
   "execution_count": null,
   "metadata": {},
   "outputs": [],
   "source": []
  },
  {
   "cell_type": "code",
   "execution_count": null,
   "metadata": {},
   "outputs": [],
   "source": []
  },
  {
   "cell_type": "code",
   "execution_count": null,
   "metadata": {},
   "outputs": [],
   "source": []
  },
  {
   "cell_type": "code",
   "execution_count": null,
   "metadata": {},
   "outputs": [],
   "source": []
  }
 ],
 "metadata": {
  "kernelspec": {
   "display_name": "fatigue",
   "language": "python",
   "name": "fatigue"
  },
  "language_info": {
   "codemirror_mode": {
    "name": "ipython",
    "version": 3
   },
   "file_extension": ".py",
   "mimetype": "text/x-python",
   "name": "python",
   "nbconvert_exporter": "python",
   "pygments_lexer": "ipython3",
   "version": "3.6.4"
  },
  "toc": {
   "nav_menu": {},
   "number_sections": false,
   "sideBar": true,
   "skip_h1_title": true,
   "title_cell": "Table of Contents",
   "title_sidebar": "Contents",
   "toc_cell": true,
   "toc_position": {
    "height": "calc(100% - 180px)",
    "left": "10px",
    "top": "150px",
    "width": "272px"
   },
   "toc_section_display": true,
   "toc_window_display": true
  }
 },
 "nbformat": 4,
 "nbformat_minor": 2
}
